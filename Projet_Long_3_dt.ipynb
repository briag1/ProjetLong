{
  "cells": [
    {
      "cell_type": "markdown",
      "metadata": {
        "id": "view-in-github",
        "colab_type": "text"
      },
      "source": [
        "<a href=\"https://colab.research.google.com/github/briag1/ProjetLong/blob/main/Projet_Long_3_dt.ipynb\" target=\"_parent\"><img src=\"https://colab.research.google.com/assets/colab-badge.svg\" alt=\"Open In Colab\"/></a>"
      ]
    },
    {
      "cell_type": "code",
      "source": [
        "import torch\n",
        "# @title device\n",
        "def get_device():\n",
        "  if torch.cuda.is_available():\n",
        "      device = torch.device(\"cuda\")\n",
        "      print(\"CUDA is available. Using GPU.\")\n",
        "  else:\n",
        "      device = torch.device(\"cpu\")\n",
        "      print(\"CUDA is not available. Using CPU.\")\n",
        "  return device\n",
        "device=get_device()"
      ],
      "metadata": {
        "colab": {
          "base_uri": "https://localhost:8080/"
        },
        "id": "U1ZV8IJFGT9T",
        "outputId": "687eae70-eace-4e25-ca4d-da2d3020f910"
      },
      "execution_count": 1,
      "outputs": [
        {
          "output_type": "stream",
          "name": "stdout",
          "text": [
            "CUDA is not available. Using CPU.\n"
          ]
        }
      ]
    },
    {
      "cell_type": "markdown",
      "metadata": {
        "id": "IV_LSRYqGMO2"
      },
      "source": [
        "# Preprocessing"
      ]
    },
    {
      "cell_type": "code",
      "execution_count": 1,
      "metadata": {
        "id": "qh5nnjRIFe0h"
      },
      "outputs": [],
      "source": [
        "# @title code\n",
        "from os import makedirs\n",
        "import torch\n",
        "import math\n",
        "import os\n",
        "import string\n",
        "import shutil\n",
        "import subprocess\n",
        "import pandas as pd\n",
        "import numpy as np\n",
        "import pandas as pd\n",
        "\n",
        "def get_x(value):\n",
        "\n",
        "    if isinstance(value, str):\n",
        "        return float(value.split(\"/\")[0])\n",
        "    elif isinstance(value, float):\n",
        "        return value\n",
        "\n",
        "def get_y(value):\n",
        "\n",
        "    if isinstance(value, str):\n",
        "        return float(value.split(\"/\")[1])\n",
        "    elif isinstance(value, float):\n",
        "        return value\n",
        "\n",
        "def read_dataframe(name):\n",
        "  if not os.path.exists(name+\".pkl\"):\n",
        "    print(\"reading dataframe: \"+name+\".xlsx\")\n",
        "    df=pd.read_excel(name+\".xlsx\")\n",
        "    df.to_pickle(name+\".pkl\")\n",
        "  else:\n",
        "    print(\"using already read daframe\")\n",
        "\n",
        "def get_vocab(poses,vocab):\n",
        "  for pos in poses:\n",
        "    if pos not in vocab and not any(isinstance(n, float) and math.isnan(n) for n in pos):\n",
        "        vocab[pos]=len(vocab)+1\n",
        "  return vocab\n",
        "\n",
        "def get_fix_time_encoding(df):\n",
        "\n",
        "  df['month_sin'] = np.sin(2 * np.pi * df[\"start time\"].dt.month / 12)\n",
        "  df['month_cos'] = np.cos(2 * np.pi * df[\"start time\"].dt.month / 12)\n",
        "\n",
        "  df['day_sin'] = np.sin(2 * np.pi * df[\"start time\"].dt.day / 31)\n",
        "  df['day_cos'] = np.cos(2 * np.pi * df[\"start time\"].dt.day / 31)\n",
        "\n",
        "  df['hour_sin'] = np.sin(2 * np.pi * df[\"start time\"].dt.hour / 24)\n",
        "  df['hour_cos'] = np.cos(2 * np.pi * df[\"start time\"].dt.hour / 24)\n",
        "\n",
        "  df['minute_sin'] = np.sin(2 * np.pi * df[\"start time\"].dt.minute / 60)\n",
        "  df['minute_cos'] = np.cos(2 * np.pi * df[\"start time\"].dt.minute / 60)\n",
        "\n",
        "  df['second_sin'] = np.sin(2 * np.pi * df[\"start time\"].dt.second / 60)\n",
        "  df['second_cos'] = np.cos(2 * np.pi * df[\"start time\"].dt.second / 60)\n",
        "def get_time_data(df):\n",
        "  df['month'] =  df[\"start time\"].dt.month\n",
        "  df['day'] =  df[\"start time\"].dt.day\n",
        "  df['hour'] =  df[\"start time\"].dt.hour\n",
        "  df['minute'] = df[\"start time\"].dt.minute\n",
        "  df['second'] = df[\"start time\"].dt.second\n",
        "  return df\n",
        "\n",
        "\n",
        "def tokenize_pos(pos,vocab):\n",
        "\n",
        "  if math.isnan(pos[0]) and math.isnan(pos[1]):\n",
        "    return len(vocab)\n",
        "  else:\n",
        "    return vocab[pos]\n",
        "\n",
        "def get_coordinates(df,input_position,full_dataset):\n",
        "\n",
        "  if full_dataset:\n",
        "    df['x'] = df['latitude']\n",
        "    df['y'] = df['longitude']\n",
        "  else:\n",
        "    df['x'] = df['location(latitude/lontitude)'].apply(get_x)\n",
        "    df['y'] = df['location(latitude/lontitude)'].apply(get_y)\n",
        "\n",
        "\n",
        "  if input_position:\n",
        "    df['x_normalised']=(df['x']-df['x'].mean())/(df['x'].std())\n",
        "    df['y_normalised']=(df['y']-df['y'].mean())/df['y'].std()\n",
        "\n",
        "  return df\n",
        "\n",
        "def get_joined_coordinates(df):\n",
        "\n",
        "  df['pos']= list(zip(df['x'],df['y']))\n",
        "  poses=df['pos'].unique()\n",
        "\n",
        "  return poses\n",
        "\n",
        "def get_col_to_keep_and_drop(fixed_time_encoding,input_position,full_dataset):\n",
        "  col_to_drop_in_df=['date', 'end time','pos']\n",
        "  col_to_drop_in_dict=['x','y', 'time_to_end', 'time_to_next','start time', 'user id']\n",
        "  col_to_add_to_dict=[]\n",
        "  col_in_input=[]\n",
        "  if not full_dataset:\n",
        "    col_to_drop_in_df+=['location(latitude/lontitude)']\n",
        "  else:\n",
        "    col_to_drop_in_df+=['latitude','longitude']\n",
        "  if fixed_time_encoding:\n",
        "    col_to_drop_in_df+=[]\n",
        "    col_to_drop_in_dict+=['month_sin', 'month_cos', 'day_sin', 'day_cos', 'hour_sin', 'hour_cos', 'minute_sin', 'minute_cos', 'second_sin', 'second_cos']\n",
        "    col_in_input+=['month_sin', 'month_cos', 'day_sin', 'day_cos', 'hour_sin', 'hour_cos', 'minute_sin', 'minute_cos', 'second_sin', 'second_cos']\n",
        "  else:\n",
        "    col_to_add_to_dict+=['month','day','hour','minute','second']\n",
        "  if input_position:\n",
        "    col_to_drop_in_dict += ['x_normalised', 'y_normalised']\n",
        "    col_in_input+=['x_normalised', 'y_normalised']\n",
        "  return col_to_drop_in_df,col_to_drop_in_dict,col_in_input,col_to_add_to_dict\n",
        "\n",
        "def process_user_data(df_user,vocab,col_in_input,col_to_drop_in_dict,col_to_add_to_dict,with_repeated_connections):\n",
        "  #get the time to next connection\n",
        "  df_user[\"time_to_next\"] =  df_user[\"start time\"].diff(-1).dt.total_seconds()\n",
        "  dict_user=df_user.to_dict('list')\n",
        "  #create input\n",
        "  dict_user[\"pos_id\"],dict_user[\"pos_id_target\"]=torch.tensor(dict_user[\"pos_id\"][:-1]),torch.tensor(dict_user[\"pos_id\"][1:])\n",
        "\n",
        "  if col_in_input:\n",
        "    dict_user[\"input\"]=torch.tensor([dict_user[col] for col in col_in_input]).T\n",
        "    dict_user[\"input\"]=dict_user[\"input\"][:-1]\n",
        "\n",
        "  if col_to_add_to_dict:\n",
        "    for col in col_to_add_to_dict:\n",
        "      dict_user[col]=torch.tensor(dict_user[col])\n",
        "      dict_user[col]=dict_user[col][:-1]\n",
        "\n",
        "  dict_user[\"time_target\"]=torch.tensor([dict_user[\"time_to_end\"],dict_user[\"time_to_next\"]]).T\n",
        "  dict_user[\"time_target\"]=dict_user[\"time_target\"][:-1]\n",
        "  for e in col_to_drop_in_dict:\n",
        "    dict_user.pop(e)\n",
        "\n",
        "  if not with_repeated_connections:\n",
        "    dict_user=combine_repeated_connections_in_sequence_user(dict_user)\n",
        "  return dict_user\n",
        "\n",
        "\n",
        "\n",
        "\n",
        "def combine_repeated_connections_in_sequence_user(dict_user):\n",
        "  index=0\n",
        "  for key in dict_user:\n",
        "    if dict_user[key].shape[0]!=dict_user[\"pos_id\"].shape[0]:\n",
        "      print(key)\n",
        "  #print(dict_user[\"pos_id\"],dict_user[\"pos_id_target\"])\n",
        "  while index < len(dict_user[\"pos_id\"])-1:\n",
        "    #print(dict_user[\"pos_id\"][index],dict_user[\"pos_id_target\"][index])\n",
        "    if dict_user[\"pos_id\"][index]==dict_user[\"pos_id_target\"][index]:\n",
        "      #print(\"equal\")\n",
        "      dict_user[\"pos_id_target\"][index]=dict_user[\"pos_id_target\"][index+1]\n",
        "      dict_user[\"time_target\"][index]=dict_user[\"time_target\"][index+1]\n",
        "      for key in dict_user:\n",
        "\n",
        "        dict_user[key]=torch.cat((dict_user[key][:index+1],dict_user[key][index+2:]))\n",
        "      #print()\n",
        "    else:\n",
        "      #print(\"different\")\n",
        "      index+=1\n",
        "\n",
        "\n",
        "  return dict_user\n",
        "\n",
        "\n",
        "def normalize_output(list_users):\n",
        "  #get means and stds\n",
        "  time_targets=torch.cat([dict_user[\"time_target\"] for dict_user in list_users],dim=0)\n",
        "  time_targets_mean=time_targets.mean(dim=0)\n",
        "  time_targets_std=time_targets.std(dim=0)\n",
        "  #normalize\n",
        "  for i in range(len(list_users)):\n",
        "    list_users[i][\"time_target\"]=(list_users[i][\"time_target\"]-time_targets_mean)/time_targets_std\n",
        "  return list_users\n",
        "\n",
        "\n",
        "\n",
        "def process_dataframe(name,vocab,fixed_time_encoding,input_position,full_dataset,with_repeated_connections,format=\".pkl\"):\n",
        "  df= pd.read_pickle(name+format)\n",
        "  df=df.sort_values('start time')\n",
        "  df=df.drop(['month'],axis=1)\n",
        "\n",
        "  df=get_coordinates(df,input_position,full_dataset)\n",
        "\n",
        "  poses=get_joined_coordinates(df)\n",
        "  vocab=get_vocab(poses,vocab)\n",
        "  df['pos_id'] = df['pos'].apply(lambda pos: tokenize_pos(pos,vocab))\n",
        "\n",
        "  df['time_to_end']=df['end time']-df['start time']\n",
        "  df['time_to_end']=df['time_to_end'].dt.total_seconds()\n",
        "  if fixed_time_encoding:\n",
        "    df=get_fix_time_encoding(df)\n",
        "  else:\n",
        "    df=get_time_data(df)\n",
        "\n",
        "  col_to_drop_in_df,col_to_drop_in_dict,col_in_input,col_to_add_to_dict=get_col_to_keep_and_drop(fixed_time_encoding,input_position,full_dataset)\n",
        "  df=df.drop(col_to_drop_in_df, axis=1)\n",
        "\n",
        "  df_user_group = df.groupby('user id')\n",
        "  list_users=[]\n",
        "  for user, df_user in df_user_group:\n",
        "    if len(df_user)>=2 and not df_user['x'].isnull().values.any():\n",
        "        list_users.append(process_user_data(df_user,vocab,col_in_input,col_to_drop_in_dict,col_to_add_to_dict,with_repeated_connections))\n",
        "  list_users=normalize_output(list_users)\n",
        "\n",
        "  return list_users,vocab\n",
        "\n",
        "def runcmd(cmd, verbose = False, *args, **kwargs):\n",
        "\n",
        "    process = subprocess.Popen(\n",
        "        cmd,\n",
        "        stdout = subprocess.PIPE,\n",
        "        stderr = subprocess.PIPE,\n",
        "        text = True,\n",
        "        shell = True\n",
        "    )\n",
        "    std_out, std_err = process.communicate()\n",
        "    if verbose:\n",
        "        print(std_out.strip(), std_err)\n",
        "    pass\n",
        "\n",
        "def get_raw_data(directory,src_directory,full_dataset):\n",
        "  if  full_dataset:\n",
        "    shutil.copytree(src_directory,directory)#telecomDataset6mont\n",
        "  else:\n",
        "    runcmd('wget http://sguangwang.com/dataset/telecom.zip', verbose = False)\n",
        "    runcmd('unzip /content/telecom.zip')\n",
        "\n",
        "def get_processed_dataset(load_dataset_path):\n",
        "  saved_list_user_path = os.path.join(load_dataset_path,\"list_users\")\n",
        "  saved_vocab_path = os.path.join(load_dataset_path,\"vocab\")\n",
        "  print(\"loading already preprocessed data: \")\n",
        "  print(saved_list_user_path)\n",
        "  print(saved_vocab_path)\n",
        "  list_users=torch.load(saved_list_user_path)\n",
        "  vocab=torch.load(saved_vocab_path)\n",
        "  return list_users,vocab\n",
        "\n",
        "def process_raw_data(src_directory_raw_data,directory_raw_data,fixed_time_encoding,input_position,full_dataset,with_repeated_connections):\n",
        "  list_users=[]\n",
        "  vocab={}\n",
        "  if not os.path.exists(directory_raw_data):\n",
        "    print('getting raw data at: '+src_directory_raw_data)\n",
        "    get_raw_data(directory_raw_data,src_directory_raw_data,full_dataset)\n",
        "  if full_dataset:\n",
        "    for name in os.listdir(directory_raw_data):\n",
        "      if not name.endswith(\".pkl\"):\n",
        "        complete_name=os.path.join(directory_raw_data,\".\".join(name.split(\".\")[:-1]))\n",
        "        print(\"processing dataframe: \"+complete_name)\n",
        "        read_dataframe(complete_name)\n",
        "        new_list_users,vocab= process_dataframe(complete_name,vocab,fixed_time_encoding=fixed_time_encoding,input_position=input_position,full_dataset=full_dataset,with_repeated_connections=with_repeated_connections)\n",
        "        list_users+=new_list_users\n",
        "  else:\n",
        "    complete_name = \"/content/dataset-telecom/data_6.1~6.30_\"\n",
        "    read_dataframe(complete_name)\n",
        "    list_users,vocab= process_dataframe(complete_name,vocab,fixed_time_encoding=fixed_time_encoding,input_position=input_position,full_dataset=full_dataset,with_repeated_connections=with_repeated_connections)\n",
        "\n",
        "  return list_users,vocab\n",
        "\n",
        "def split_long_sequences(list_users,max_sequence_length):\n",
        "  new_list_users=[]\n",
        "  for i in range(len(list_users)):\n",
        "    seq_length=list_users[i][\"input\"].shape[0]\n",
        "    if seq_length>=max_sequence_length:\n",
        "      nb_of_seq=seq_length//max_sequence_length\n",
        "      rest=seq_length%max_sequence_length\n",
        "      list_splitted_seq=nb_of_seq*[{}]\n",
        "      rest_splitted={}\n",
        "      for key in list_users[i]:\n",
        "        for j in range(nb_of_seq):\n",
        "          list_splitted_seq[j][key]=list_users[i][key][max_sequence_length*j:max_sequence_length*(j+1)]\n",
        "        if rest>2:\n",
        "          rest_splitted[key]= list_users[i][key][-rest:]\n",
        "      new_list_users=new_list_users+list_splitted_seq\n",
        "      if len(rest_splitted)>0:\n",
        "        new_list_users+=[rest_splitted]\n",
        "    else:\n",
        "      new_list_users.append(list_users[i])\n",
        "\n",
        "  return new_list_users\n",
        "\n",
        "\n",
        "\n",
        "def save_processed_data(list_users,vocab,path_to_save_dataset):\n",
        "    print(\"creating directory: \"+path_to_save_dataset)\n",
        "    os.makedirs(path_to_save_dataset,exist_ok=True)\n",
        "    print(\"saving processed data at: \")\n",
        "    save_list_user_path = os.path.join(path_to_save_dataset,\"list_users\")\n",
        "    save_vocab_path = os.path.join(path_to_save_dataset,\"vocab\")\n",
        "    print(save_list_user_path)\n",
        "    print(save_vocab_path)\n",
        "    torch.save(list_users,save_list_user_path)\n",
        "    torch.save(vocab,save_vocab_path)\n",
        "\n",
        "def get_processed_data(src_directory_raw_data,directory_raw_data,fixed_time_encoding,input_position,full_dataset,spliting_long_sequences,with_repeated_connections,max_sequence_length=100,min_sequence_length=3,save=False,path_to_save_dataset=\"/content/drive/MyDrive/telecomDataset6month\",download=False,load_dataset_path=\"/content/drive/MyDrive/telecomDataset6month\"):\n",
        "  if not download:\n",
        "    list_users,vocab = get_processed_dataset(load_dataset_path)\n",
        "  else:\n",
        "    list_users,vocab=process_raw_data(src_directory_raw_data,directory_raw_data,fixed_time_encoding,input_position,full_dataset,with_repeated_connections)\n",
        "  if spliting_long_sequences:\n",
        "    print(\"spliting sequences longuer than : \"+str(max_sequence_length)+ \" steps\")\n",
        "    list_users=split_long_sequences(list_users,max_sequence_length)\n",
        "  if save:\n",
        "    save_processed_data(list_users,vocab,path_to_save_dataset)\n",
        "  return list_users,vocab"
      ]
    },
    {
      "cell_type": "code",
      "execution_count": 3,
      "metadata": {
        "id": "sSRA1WX8UcsV"
      },
      "outputs": [],
      "source": [
        "# list_users,vocab=get_processed_data(src_directory_raw_data=\"drive/MyDrive/Shanghai-Telcome-Six-Months-DataSet\",\n",
        "#                                     directory_raw_data='/content/dataset-telecom-6month',\n",
        "#                                     fixed_time_encoding=False,\n",
        "#                                     input_position=True,\n",
        "#                                     full_dataset=False,\n",
        "#                                     spliting_long_sequences=False,\n",
        "#                                     with_repeated_connections=False,\n",
        "#                                     max_sequence_length=100,\n",
        "#                                     min_sequence_length=3,\n",
        "#                                     save=False,\n",
        "#                                     path_to_save_dataset=\"/content/drive/MyDrive/telecomDataset6month-splited-100-without-repeated-elements\",\n",
        "#                                     download=True,\n",
        "#                                     load_dataset_path=\"/content/drive/MyDrive/telecomDataset6month-splited-100-without-repeated-elements\",)\n"
      ]
    },
    {
      "cell_type": "code",
      "source": [
        "\n",
        "!unzip /home/archive.zip\n"
      ],
      "metadata": {
        "id": "swOpL-WiECVR",
        "outputId": "1ff70b75-9311-4e31-eb10-0d24604639e6",
        "colab": {
          "base_uri": "https://localhost:8080/"
        }
      },
      "execution_count": 25,
      "outputs": [
        {
          "output_type": "stream",
          "name": "stdout",
          "text": [
            "Archive:  /home/archive.zip\n",
            "  End-of-central-directory signature not found.  Either this file is not\n",
            "  a zipfile, or it constitutes one disk of a multi-part archive.  In the\n",
            "  latter case the central directory and zipfile comment will be found on\n",
            "  the last disk(s) of this archive.\n",
            "unzip:  cannot find zipfile directory in one of /home/archive.zip or\n",
            "        /home/archive.zip.zip, and cannot find /home/archive.zip.ZIP, period.\n"
          ]
        }
      ]
    },
    {
      "cell_type": "markdown",
      "source": [],
      "metadata": {
        "id": "SFqa2F6YwndZ"
      }
    },
    {
      "cell_type": "code",
      "source": [
        "vocab={}\n",
        "name_data = \"/content/data_9.169.30\"\n",
        "name_data2 = \"/content/data_9.19.15\"\n",
        "complete_name = name_data\n",
        "read_dataframe(name_data)\n"
      ],
      "metadata": {
        "id": "MTyCLcFRWPwG",
        "outputId": "f315fed9-7a1e-4e22-83cd-f2504b3702f0",
        "colab": {
          "base_uri": "https://localhost:8080/"
        }
      },
      "execution_count": 3,
      "outputs": [
        {
          "output_type": "stream",
          "name": "stdout",
          "text": [
            "using already read daframe\n"
          ]
        }
      ]
    },
    {
      "cell_type": "code",
      "source": [
        "directory_raw_data='/content/dataset-telecom-6month'\n",
        "fixed_time_encoding=False\n",
        "input_position=True\n",
        "full_dataset=True\n",
        "spliting_long_sequences=False\n",
        "with_repeated_connections=False\n",
        "max_sequence_length=100\n",
        "min_sequence_length=3\n",
        "save=False\n",
        "download=True\n",
        "load_dataset_path=\"/content/drive/MyDrive/telecomDataset6month-splited-100-without-repeated-elements\"\n",
        "path_to_save_dataset=\"/content/drive/MyDrive/telecomDataset6month-splited-100-without-repeated-elements\"\n",
        "list_users1,vocab= process_dataframe(complete_name,vocab,fixed_time_encoding=fixed_time_encoding,input_position=input_position,full_dataset=full_dataset,with_repeated_connections=with_repeated_connections)\n",
        "list_users2,vocab= process_dataframe(name_data2,vocab,fixed_time_encoding=fixed_time_encoding,input_position=input_position,full_dataset=full_dataset,with_repeated_connections=with_repeated_connections)\n",
        "list_users = list_users1 + list_users2"
      ],
      "metadata": {
        "id": "BWDWzCzXYvpG"
      },
      "execution_count": 4,
      "outputs": []
    },
    {
      "cell_type": "code",
      "source": [
        "def delete_data_less_than_nb_min(inputs, nb_min):\n",
        "    return [inp for inp in inputs if inp.shape[0]>=nb_min]\n",
        "\n",
        "\n",
        "def inputs_for_classification(list_users, pos_id=True, user_id=True, date_time=False, time_to_end=False, time_to_end_and_target=False, delete_data_less_nb_min=True, nb_min=5):\n",
        "    inputs=[]\n",
        "    pos_id_targets=[]\n",
        "    pos_ids=[]\n",
        "    time_targets=[]\n",
        "    if date_time:\n",
        "        month = []\n",
        "        day = []\n",
        "        hour = []\n",
        "        minute = []\n",
        "        second = []\n",
        "\n",
        "        for user in list_users:\n",
        "            inputs.append(user[\"input\"])\n",
        "            pos_id_targets.append(user[\"pos_id_target\"])\n",
        "            time_targets.append(user[\"time_target\"])\n",
        "            pos_ids.append(user[\"pos_id\"])\n",
        "            month.append(user[\"month\"])\n",
        "            day.append(user[\"day\"])\n",
        "            hour.append(user[\"hour\"])\n",
        "            minute.append(user[\"minute\"])\n",
        "            second.append(user[\"second\"])\n",
        "        # print(pos_ids)\n",
        "        # print(month)\n",
        "    else:\n",
        "        for user in list_users:\n",
        "          inputs.append(user[\"input\"])\n",
        "          pos_id_targets.append(user[\"pos_id_target\"])\n",
        "          time_targets.append(user[\"time_target\"])\n",
        "          pos_ids.append(user[\"pos_id\"])\n",
        "    # print(inputs[0].shape,pos_id_targets[0].shape,pos_ids[0].shape)\n",
        "\n",
        "    if delete_data_less_nb_min:\n",
        "        inputs=delete_data_less_than_nb_min(inputs,nb_min)\n",
        "        pos_id_targets=delete_data_less_than_nb_min(pos_id_targets,nb_min)\n",
        "        pos_ids=delete_data_less_than_nb_min(pos_ids,nb_min)\n",
        "        time_targets=delete_data_less_than_nb_min(time_targets,nb_min)\n",
        "        if date_time:\n",
        "            month=delete_data_less_than_nb_min(month,nb_min)\n",
        "            day=delete_data_less_than_nb_min(day,nb_min)\n",
        "            hour=delete_data_less_than_nb_min(hour,nb_min)\n",
        "            minute=delete_data_less_than_nb_min(minute,nb_min)\n",
        "            second=delete_data_less_than_nb_min(second,nb_min)\n",
        "\n",
        "\n",
        "    if pos_id:\n",
        "        inputs_with_pos_id=[]\n",
        "        for inp,pos in zip(inputs,pos_ids):\n",
        "            inputs_with_pos_id.append(torch.cat([inp, pos.unsqueeze(1)],dim=1))\n",
        "        inputs=inputs_with_pos_id\n",
        "    if date_time:\n",
        "        inputs_with_pos_id_and_date_time=[]\n",
        "        for i in range(len(inputs)):\n",
        "            inputs_with_pos_id_and_date_time.append(torch.cat([inputs[i], month[i].unsqueeze(1), day[i].unsqueeze(1), hour[i].unsqueeze(1), minute[i].unsqueeze(1), second[i].unsqueeze(1)],dim=1))\n",
        "        inputs=inputs_with_pos_id_and_date_time\n",
        "    if time_to_end:\n",
        "        time_to_end =  []\n",
        "        for i in range(len(time_targets)):\n",
        "            tmp = []\n",
        "            for j in range(len(time_targets[i])):\n",
        "                tmp.append(time_targets[i][j][0])\n",
        "            time_to_end.append(tmp)\n",
        "        time_to_end = [torch.tensor(time_to_end[i]) for i in range(len(time_to_end))]\n",
        "\n",
        "        inputs_with_pos_id_and_time_to_end=[]\n",
        "        for inp,pos in zip(inputs,time_to_end):\n",
        "            inputs_with_pos_id_and_time_to_end.append(torch.cat([inp, pos.unsqueeze(1)],dim=1))\n",
        "        inputs=inputs_with_pos_id_and_time_to_end\n",
        "    if time_to_end_and_target:\n",
        "        inputs_with_pos_id_and_time_target=[]\n",
        "        for inp,tim in zip(inputs,time_targets):\n",
        "            inputs_with_pos_id_and_time_target.append(torch.cat((inp, tim), dim=1))\n",
        "        inputs=inputs_with_pos_id_and_time_target\n",
        "    if user_id:\n",
        "        inputs_with_pos_id_user_id=[]\n",
        "        for idx,inp in enumerate(inputs):\n",
        "            inputs_with_pos_id_user_id.append(torch.cat([torch.tensor([idx]*inp.shape[0]).unsqueeze(1),inp],dim=1))\n",
        "        inputs=inputs_with_pos_id_user_id\n",
        "    return inputs,pos_id_targets\n",
        "\n",
        "def inputs_outputs_for_classification(data_entry, targets):\n",
        "  inputs = torch.cat(all_inputs,dim=0)\n",
        "  outputs = torch.cat(pos_id_targets,dim=0)\n",
        "  print(\"len of the dataset\")\n",
        "  print(len(inputs), len(outputs) )\n",
        "  return inputs, outputs\n",
        "\n",
        "def trouver_cle_par_valeur(dictionnaire, valeur_recherchee):\n",
        "    for cle, valeur in dictionnaire.items():\n",
        "        if valeur == valeur_recherchee:\n",
        "            return cle\n",
        "    return None\n",
        "\n",
        "def get_x_y_target_from_outputs(outputs, vocab):\n",
        "    print(outputs[1].item())\n",
        "    x_y = [trouver_cle_par_valeur(vocab, i.item()) for i in outputs]\n",
        "    return [torch.tensor(x_y[i]) for i in range(len(outputs))]\n",
        "\n",
        "def inputs_group_by_user(list_users):\n",
        "  inputs_for_group,pos_id_targets=inputs_for_classification(list_users, pos_id=True, user_id=True, time_to_end=False, time_to_end_and_target=False, delete_data_less_nb_min=True, nb_min=5)\n",
        "\n",
        "  #for each user_id, concatenate by columns the inputs\n",
        "  inputs_group_by_user_id=[]\n",
        "\n",
        "  for i in range(len(inputs_for_group)):\n",
        "    inp = torch.stack(tuple(inputs_for_group[i][j] for j in range(len(inputs_for_group[i]))), dim=1)\n",
        "    inputs_group_by_user_id.append(inp)\n",
        "\n",
        "  inputs_group = [inputs_group_by_user_id[i].numpy() for i in range(len(inputs_group_by_user_id))]\n",
        "  inputs_group = [inputs_group[i].tolist() for i in range(len(inputs_group))]\n",
        "\n",
        "  return inputs_group\n",
        "\n",
        "def group_inputs_by_number_connections_and_users_id(inputs_group, pas_group=5):\n",
        "  nb_connections=[]\n",
        "  for user in inputs_group:\n",
        "    nb_connections.append(len(user[0]))\n",
        "  #group users by number of connections\n",
        "  group = [i for i in range(0, max(nb_connections)+pas_group, pas_group)]\n",
        "  group_users = []\n",
        "  group_users_id = []\n",
        "  for i in range(len(group)-1):\n",
        "    tmp = []\n",
        "    tmp_id = []\n",
        "    for j in range(len(nb_connections)):\n",
        "      if nb_connections[j] >= group[i] and nb_connections[j] < group[i+1]:\n",
        "        tmp.append(nb_connections[j])\n",
        "        tmp_id.append(j)\n",
        "    group_users.append(tmp)\n",
        "    group_users_id.append(tmp_id)\n",
        "  return group_users_id, group_users\n"
      ],
      "metadata": {
        "id": "L4WiObfV-oQL"
      },
      "execution_count": 5,
      "outputs": []
    },
    {
      "cell_type": "code",
      "source": [
        "print(list_users[0])"
      ],
      "metadata": {
        "colab": {
          "base_uri": "https://localhost:8080/"
        },
        "id": "EVgwKJjuRdB4",
        "outputId": "72e5dccb-2a8d-4905-9625-e58595c47449"
      },
      "execution_count": null,
      "outputs": [
        {
          "output_type": "stream",
          "name": "stdout",
          "text": [
            "{'pos_id': tensor([ 528,  874,  237,  528,  580,  528,  237,  528, 1102,  237,  874]), 'month': tensor([6, 6, 6, 6, 6, 6, 6, 6, 6, 6, 6]), 'day': tensor([ 1,  1,  1,  1,  2,  4,  5,  6, 13, 14, 14]), 'hour': tensor([ 2,  3, 10, 11, 20, 23,  3, 14,  9, 15, 18]), 'minute': tensor([37,  1, 21, 18, 23,  1, 33,  1, 39, 54, 51]), 'second': tensor([ 7,  2, 56, 13,  1, 40, 15, 16, 58, 39, 32]), 'pos_id_target': tensor([ 874,  237,  528,  580,  528,  237,  528, 1102,  237,  874, 1157]), 'input': tensor([[-0.0264,  0.0821],\n",
            "        [-0.0368,  0.0794],\n",
            "        [-0.0306,  0.0776],\n",
            "        [-0.0264,  0.0821],\n",
            "        [-0.0320,  0.0835],\n",
            "        [-0.0264,  0.0821],\n",
            "        [-0.0306,  0.0776],\n",
            "        [-0.0264,  0.0821],\n",
            "        [-0.0260,  0.0766],\n",
            "        [-0.0306,  0.0776],\n",
            "        [-0.0368,  0.0794]]), 'time_target': tensor([[-0.2760,  0.2672],\n",
            "        [-0.6802, -0.0909],\n",
            "        [ 0.0460,  0.2394],\n",
            "        [-0.2387, -1.4165],\n",
            "        [-0.6762, -2.3213],\n",
            "        [-0.4034,  0.0545],\n",
            "        [-0.6181, -0.9830],\n",
            "        [-0.6331, -8.1427],\n",
            "        [-0.5198, -1.2704],\n",
            "        [-0.6887,  0.1368],\n",
            "        [-0.3630, -0.8243]])}\n"
          ]
        }
      ]
    },
    {
      "cell_type": "markdown",
      "source": [
        "# Plots"
      ],
      "metadata": {
        "id": "xQPyWItnFg1O"
      }
    },
    {
      "cell_type": "code",
      "source": [
        "from sklearn.cluster import KMeans\n",
        "import matplotlib.pyplot as plt\n",
        "import seaborn as sns\n",
        "import pandas as pd\n",
        "import numpy as np\n",
        "import torch\n",
        "\n",
        "def plot_nb_users_by_group_of_nuber_of_connections(list_users):\n",
        "  inputs_group = inputs_group_by_user(list_users)\n",
        "  group_users_id, group_users = group_inputs_by_number_connections_and_users_id(inputs_group)\n",
        "  #plot the number of users in each group\n",
        "  plt.bar([i for i in range(len(group_users))], [len(group_users[i]) for i in range(len(group_users))])\n",
        "  plt.xlabel(\"number of connections\")\n",
        "  plt.ylabel(\"number of users\")\n",
        "  plt.show()\n",
        "\n",
        "def plot_itinerary_users_by_pos_id(list_users, tab_user_id_plot = [444, 445, 446, 447], number_group_to_plot = 6 ):\n",
        "  inputs_group = inputs_group_by_user(list_users)\n",
        "  group_users_id, group_users = group_inputs_by_number_connections_and_users_id(inputs_group)\n",
        "  number_user_plot = len(tab_user_id_plot)\n",
        "\n",
        "  group_of_10 = [[list_users[i] for i in group_users_id[j]] for j in range(len(group_users_id))]\n",
        "\n",
        "  cmap = plt.cm.jet\n",
        "  norm = colors.Normalize(vmin=0, vmax=number_user_plot)\n",
        "  group_3 = [list_users[i] for i in tab_user_id_plot]\n",
        "\n",
        "  # plot the itinerary of 10 users in the dataset\n",
        "  fig, ax = plt.subplots()\n",
        "  for i in range(number_user_plot):\n",
        "      user = group_3[i]\n",
        "      # user = np.random.choice(group_of_10[number_group_to_plot])\n",
        "      pos_id = user[\"pos_id\"]\n",
        "      color = cmap(norm(i))\n",
        "      ax.plot([i for i in range(len(pos_id))], pos_id,  'x', color=color)\n",
        "  ax.set_xlabel('evolution')\n",
        "  ax.set_ylabel('pos_id')\n",
        "  ax.set_title('Itinerary of ' + str(number_user_plot)+ ' users in the dataset')\n",
        "  plt.show()\n",
        "\n",
        "def plot_itinerary_users_by_x_y(list_users, tab_user_id_plot = [444, 445, 446, 447], number_group_to_plot = 6 ):\n",
        "    inputs_group = inputs_group_by_user(list_users)\n",
        "    group_users_id, group_users = group_inputs_by_number_connections_and_users_id(inputs_group)\n",
        "    print(group_users_id)\n",
        "    number_user_plot = len(tab_user_id_plot)\n",
        "\n",
        "    cmap = plt.cm.jet\n",
        "    norm = colors.Normalize(vmin=0, vmax=number_user_plot)\n",
        "    group_3 = [list_users[i] for i in tab_user_id_plot]\n",
        "\n",
        "    # plot the itinerary of 10 users in the dataset\n",
        "    fig, ax = plt.subplots()\n",
        "    for i in range(number_user_plot):\n",
        "        user = group_3[i]\n",
        "        # user = np.random.choice(group_of_10[number_group_to_plot])\n",
        "        x = user['input'][:,0].numpy()\n",
        "        y = user['input'][:,1].numpy()\n",
        "        color = cmap(norm(i))\n",
        "        for i, txt in enumerate(range(1, len(x) + 1)):\n",
        "          plt.annotate(txt, (x[i], y[i]), textcoords=\"offset points\", xytext=(0,0), ha='center', color=color)\n",
        "\n",
        "        ax.plot(x, y,  'x', color=color)\n",
        "    ax.set_xlabel('x')\n",
        "    ax.set_ylabel('y')\n",
        "    ax.set_title('Itinerary of ' + str(number_user_plot)+ ' users in the dataset')\n",
        "    plt.show()\n",
        "\n",
        "def plot_pos_id_with_time_to_end_for_user(list_users, user_id):\n",
        "  inputs_with_pos_id_user_id, targets = inputs_for_classification(list_users, time_to_end=True)\n",
        "  tab_user_id = []\n",
        "  for t in range(len(inputs_with_pos_id_user_id)):\n",
        "      if inputs_with_pos_id_user_id[t][0][0].item() == user_id:\n",
        "          tab_user_id = inputs_with_pos_id_user_id[t]\n",
        "  tab_user_id = tab_user_id.numpy()\n",
        "  plt.bar([i for i in range(0, 2*len(tab_user_id), 2)],tab_user_id[:,3], width=tab_user_id[:,4])\n",
        "  plt.xlabel(\"number of connections with its time to end\")\n",
        "  plt.ylabel(\"pos_id\")\n",
        "  plt.title(\"pos_id with time_to_end for user \"+str(user_id))\n",
        "  plt.show()"
      ],
      "metadata": {
        "id": "s5skrqXLIBHv"
      },
      "execution_count": null,
      "outputs": []
    },
    {
      "cell_type": "code",
      "source": [
        "import matplotlib.pyplot as plt\n",
        "import matplotlib.colors as colors\n",
        "\n",
        "# plot_nb_users_by_group_of_nuber_of_connections(list_users)\n",
        "\n",
        "plot_itinerary_users_by_pos_id(list_users, tab_user_id_plot=[1184, 1198, 1206, 1210])\n",
        "plot_itinerary_users_by_x_y(list_users, tab_user_id_plot=[1184, 1198, 1206, 1210])\n",
        "\n",
        "# plot_pos_id_with_time_to_end_for_user(list_users, 123)\n",
        "# plot_pos_id_with_time_to_end_for_user(list_users,124)"
      ],
      "metadata": {
        "colab": {
          "base_uri": "https://localhost:8080/",
          "height": 999
        },
        "id": "LR9dxkt9AVNC",
        "outputId": "8cabe121-6dd1-4610-91dc-dcc89071c9cc"
      },
      "execution_count": null,
      "outputs": [
        {
          "output_type": "stream",
          "name": "stdout",
          "text": [
            "torch.Size([11, 2]) torch.Size([11]) torch.Size([11])\n"
          ]
        },
        {
          "output_type": "display_data",
          "data": {
            "text/plain": [
              "<Figure size 640x480 with 1 Axes>"
            ],
            "image/png": "[encoded data removed]"
          },
          "metadata": {}
        },
        {
          "output_type": "stream",
          "name": "stdout",
          "text": [
            "torch.Size([11, 2]) torch.Size([11]) torch.Size([11])\n",
            "[[], [10, 15, 30, 38, 40, 44, 46, 47, 49, 50, 55, 58, 65, 69, 70, 72, 74, 76, 81, 86, 99, 109, 111, 118, 120, 126, 128, 131, 135, 145, 148, 155, 158, 160, 162, 163, 179, 189, 192, 199, 200, 202, 205, 208, 210, 215, 216, 219, 223, 226, 227, 230, 234, 240, 244, 251, 252, 256, 259, 262, 265, 270, 278, 279, 284, 289, 294, 296, 304, 306, 308, 311, 314, 315, 317, 342, 351, 352, 354, 356, 357, 358, 363, 366, 367, 369, 387, 391, 400, 402, 403, 404, 406, 407, 413, 419, 421, 424, 426, 437, 440, 448, 460, 461, 486, 487, 499, 512, 526, 537, 538, 541, 548, 550, 555, 556, 558, 559, 565, 568, 570, 576, 578, 586, 588, 590, 598, 603, 611, 618, 619, 628, 631, 637, 638, 649, 652, 657, 662, 665, 675, 681, 693, 697, 700, 704, 708, 710, 712, 725, 727, 729, 730, 738, 739, 746, 750, 753, 754, 758, 761, 771, 778, 779, 786, 791, 792, 795, 798, 800, 803, 804, 805, 806, 809, 811, 817, 819, 828, 834, 840, 842, 844, 852, 853, 858, 863, 873, 874, 875, 877, 880, 888, 892, 899, 902, 905, 913, 919, 921, 925, 927, 928, 931, 936, 941, 946, 950, 953, 954, 955, 956, 963, 966, 968, 976, 978, 988, 993, 998, 1009, 1012, 1013, 1017, 1019, 1021, 1025, 1034, 1036, 1037, 1039, 1040, 1042, 1049, 1061, 1062, 1063, 1065, 1066, 1067, 1068, 1076, 1081, 1087, 1094, 1098, 1102, 1108, 1117, 1118, 1123, 1132, 1134, 1141, 1146, 1147, 1157, 1159, 1161, 1170, 1175, 1183, 1184, 1198, 1206, 1210, 1221, 1222, 1226, 1232, 1243, 1248, 1249, 1252, 1253, 1255, 1258, 1264, 1272, 1273, 1281, 1299, 1302, 1310, 1313, 1318, 1321, 1323, 1329, 1330, 1331, 1332, 1333, 1336, 1339, 1343, 1344, 1345, 1361, 1362, 1371, 1373, 1375, 1376, 1382, 1384, 1388, 1397, 1401, 1403, 1409, 1414, 1418, 1423, 1425, 1427, 1439, 1443, 1444, 1450, 1452, 1453, 1465, 1466, 1467, 1472, 1473, 1478, 1480, 1484, 1492, 1497, 1502, 1505, 1525, 1528, 1529, 1538, 1552, 1553], [0, 1, 5, 8, 12, 14, 27, 29, 31, 36, 68, 77, 90, 97, 103, 112, 116, 123, 127, 129, 137, 147, 149, 166, 167, 204, 207, 212, 214, 218, 220, 222, 247, 255, 268, 269, 273, 282, 290, 293, 313, 326, 328, 332, 335, 343, 345, 347, 349, 350, 353, 392, 405, 408, 427, 428, 438, 443, 449, 452, 457, 469, 477, 478, 480, 481, 483, 488, 489, 490, 491, 492, 493, 504, 505, 521, 533, 534, 539, 543, 545, 552, 561, 573, 575, 587, 589, 591, 592, 597, 602, 609, 612, 614, 615, 617, 620, 624, 627, 634, 641, 651, 653, 654, 664, 670, 671, 676, 677, 699, 722, 723, 731, 734, 735, 736, 740, 743, 748, 751, 765, 766, 774, 781, 789, 796, 799, 826, 827, 835, 843, 845, 850, 862, 867, 872, 894, 898, 903, 915, 917, 918, 933, 967, 973, 984, 985, 992, 999, 1000, 1002, 1004, 1005, 1007, 1008, 1014, 1015, 1016, 1022, 1026, 1027, 1044, 1046, 1052, 1064, 1072, 1073, 1086, 1088, 1091, 1106, 1112, 1120, 1131, 1135, 1138, 1140, 1156, 1165, 1167, 1194, 1196, 1199, 1202, 1212, 1230, 1231, 1242, 1244, 1245, 1250, 1262, 1263, 1277, 1278, 1300, 1314, 1315, 1317, 1340, 1349, 1351, 1354, 1357, 1364, 1367, 1378, 1385, 1387, 1392, 1398, 1407, 1408, 1411, 1429, 1431, 1438, 1454, 1457, 1461, 1481, 1486, 1501, 1503, 1504, 1509, 1516, 1518, 1543, 1547, 1551, 1555], [4, 43, 51, 54, 79, 91, 93, 95, 96, 100, 113, 115, 141, 142, 150, 153, 169, 182, 194, 206, 211, 225, 235, 236, 242, 249, 250, 258, 266, 271, 276, 286, 292, 301, 316, 319, 327, 329, 331, 338, 348, 355, 368, 374, 376, 378, 382, 389, 393, 401, 409, 453, 465, 466, 495, 503, 506, 509, 525, 529, 530, 547, 551, 584, 596, 601, 604, 610, 613, 626, 643, 674, 678, 685, 689, 696, 702, 703, 711, 715, 741, 768, 772, 783, 810, 832, 838, 857, 860, 866, 868, 869, 878, 879, 882, 890, 907, 911, 937, 951, 958, 986, 990, 991, 995, 1003, 1006, 1054, 1055, 1058, 1070, 1078, 1090, 1105, 1107, 1116, 1125, 1143, 1155, 1179, 1186, 1228, 1235, 1241, 1246, 1265, 1271, 1280, 1282, 1288, 1290, 1304, 1326, 1328, 1337, 1342, 1348, 1352, 1353, 1358, 1386, 1412, 1420, 1422, 1483, 1487, 1493, 1512, 1532], [13, 16, 23, 35, 37, 45, 52, 53, 59, 60, 82, 98, 108, 136, 143, 151, 164, 180, 181, 185, 238, 243, 253, 254, 277, 280, 281, 309, 322, 330, 339, 377, 379, 381, 395, 397, 429, 430, 445, 456, 473, 475, 485, 498, 544, 567, 599, 605, 639, 640, 656, 658, 663, 672, 673, 705, 773, 787, 797, 815, 820, 824, 831, 841, 870, 871, 883, 889, 896, 908, 962, 971, 975, 979, 994, 1010, 1018, 1031, 1035, 1047, 1048, 1059, 1082, 1093, 1115, 1144, 1150, 1160, 1163, 1187, 1197, 1205, 1211, 1219, 1220, 1225, 1251, 1267, 1283, 1316, 1334, 1360, 1370, 1372, 1374, 1390, 1404, 1419, 1432, 1433, 1458, 1460, 1462, 1464, 1474, 1489, 1490, 1494, 1500, 1510, 1519, 1520, 1533, 1535, 1554], [33, 56, 73, 78, 84, 89, 101, 140, 144, 152, 175, 184, 186, 190, 198, 229, 263, 264, 272, 303, 334, 359, 384, 390, 410, 412, 417, 434, 444, 450, 500, 553, 564, 582, 621, 633, 646, 650, 669, 687, 688, 692, 713, 714, 720, 724, 733, 745, 749, 755, 759, 777, 790, 851, 859, 861, 864, 886, 923, 929, 972, 1020, 1023, 1028, 1050, 1100, 1103, 1110, 1137, 1164, 1171, 1174, 1176, 1192, 1203, 1208, 1214, 1234, 1286, 1293, 1303, 1320, 1338, 1377, 1399, 1434, 1447, 1522, 1537, 1548, 1550], [64, 83, 134, 154, 171, 231, 233, 245, 287, 297, 324, 333, 340, 344, 371, 386, 396, 398, 422, 431, 458, 467, 479, 484, 496, 508, 522, 554, 560, 593, 625, 632, 644, 648, 684, 695, 717, 719, 728, 742, 769, 833, 855, 856, 885, 939, 942, 977, 1033, 1045, 1074, 1075, 1096, 1114, 1121, 1126, 1181, 1182, 1188, 1189, 1207, 1227, 1257, 1287, 1289, 1308, 1309, 1312, 1322, 1359, 1380, 1383, 1391, 1410, 1428, 1436, 1446, 1451, 1463, 1479, 1485, 1511, 1541, 1549, 1556], [24, 32, 41, 104, 124, 125, 177, 195, 209, 232, 298, 310, 383, 420, 441, 463, 482, 516, 532, 536, 557, 566, 594, 607, 690, 691, 718, 726, 737, 752, 775, 814, 830, 848, 897, 904, 912, 922, 932, 944, 949, 959, 982, 1051, 1092, 1101, 1104, 1154, 1173, 1200, 1209, 1218, 1236, 1237, 1259, 1276, 1284, 1285, 1292, 1294, 1296, 1297, 1365, 1381, 1389, 1406, 1435, 1440, 1445, 1448, 1468, 1471, 1476, 1477, 1491, 1499, 1513, 1531, 1540, 1542, 1545], [6, 9, 19, 20, 25, 42, 61, 75, 94, 106, 107, 117, 173, 178, 183, 188, 302, 323, 360, 364, 433, 464, 474, 476, 524, 562, 600, 655, 661, 698, 747, 793, 802, 839, 865, 881, 906, 926, 957, 960, 965, 1041, 1085, 1133, 1213, 1217, 1223, 1256, 1306, 1325, 1394, 1400, 1415, 1421, 1424, 1426, 1488, 1507, 1527, 1539, 1544], [66, 92, 119, 121, 161, 224, 299, 305, 375, 447, 470, 502, 523, 563, 571, 583, 636, 660, 668, 763, 812, 813, 829, 916, 934, 981, 1038, 1097, 1109, 1111, 1113, 1122, 1127, 1149, 1168, 1229, 1238, 1301, 1369, 1430, 1437, 1456, 1469, 1482, 1523], [11, 28, 85, 193, 201, 213, 248, 442, 514, 540, 623, 645, 683, 707, 716, 721, 757, 823, 893, 914, 938, 945, 964, 974, 1053, 1056, 1089, 1139, 1142, 1145, 1172, 1177, 1191, 1195, 1201, 1216, 1307, 1449, 1470, 1475], [3, 18, 21, 34, 67, 88, 146, 217, 257, 312, 336, 346, 372, 416, 418, 432, 439, 497, 511, 531, 569, 580, 666, 694, 706, 762, 891, 924, 947, 969, 1024, 1030, 1060, 1152, 1178, 1215, 1266, 1268, 1327, 1346, 1396, 1495, 1496, 1534, 1536], [2, 48, 170, 191, 288, 321, 415, 425, 472, 630, 635, 647, 732, 744, 770, 788, 822, 849, 854, 876, 895, 920, 989, 1001, 1029, 1071, 1084, 1095, 1124, 1130, 1136, 1151, 1169, 1180, 1185, 1291, 1319, 1379, 1515], [71, 157, 197, 237, 275, 370, 414, 423, 435, 446, 455, 507, 577, 579, 682, 756, 764, 821, 837, 961, 997, 1128, 1162, 1193, 1239, 1260, 1270, 1298, 1324, 1350, 1355, 1441], [7, 130, 168, 261, 295, 494, 515, 572, 595, 608, 679, 686, 900, 930, 987, 1057, 1099, 1204, 1233, 1240, 1275, 1395, 1402, 1455, 1524], [239, 318, 337, 380, 399, 528, 574, 606, 780, 782, 784, 794, 807, 808, 847, 901, 909, 1011, 1119, 1158, 1224, 1247, 1254, 1274, 1341, 1363, 1368], [17, 57, 203, 246, 260, 291, 365, 388, 454, 471, 767, 887, 948, 970, 1043, 1077, 1148, 1335, 1356, 1366, 1506, 1521], [174, 196, 285, 362, 394, 462, 581, 667, 709, 818, 836, 952, 1279, 1413, 1416, 1417, 1459], [165, 518, 519, 520, 549, 616, 659, 680, 996, 1069, 1083, 1153, 1269, 1347, 1442], [110, 385, 436, 585, 642, 1393, 1517], [114, 133, 501, 801, 910, 940, 1295, 1305], [172, 283, 341, 468, 517, 1166], [102, 274, 361, 459, 510, 622, 884, 1498], [221, 325, 411, 546, 776, 785, 846, 943, 1032, 1557], [105, 122, 156, 159, 187, 1514], [26, 39, 139, 241, 307, 513, 980, 1261], [320, 1311, 1405, 1526], [80, 132], [62, 63, 1129], [983, 1530], [228, 267, 527, 542, 1508], [176, 300], [22, 451], [373, 935], [1190], [], [138, 1080], [], [825, 1079], [87, 535, 760], [], [701], [], [], [1546], [816], [], [], [], [629]]\n"
          ]
        },
        {
          "output_type": "display_data",
          "data": {
            "text/plain": [
              "<Figure size 640x480 with 1 Axes>"
            ],
            "image/png": "[encoded data removed]"
          },
          "metadata": {}
        }
      ]
    },
    {
      "cell_type": "markdown",
      "metadata": {
        "id": "f5D9IoBtGX6R"
      },
      "source": [
        "# Dataset"
      ]
    },
    {
      "cell_type": "markdown",
      "metadata": {
        "id": "dDvAwpD4GrJu"
      },
      "source": [
        "## Reproducibility seed"
      ]
    },
    {
      "cell_type": "code",
      "execution_count": null,
      "metadata": {
        "id": "8p5d4mp9GDah"
      },
      "outputs": [],
      "source": [
        "import hashlib\n",
        "import string\n",
        "import random\n",
        "def get_reproducible_seeds(name=\"ProjectLong\",nb_seeds=100):\n",
        "    # Calculate SHA-256 hash\n",
        "    sha256_hash = hashlib.sha256(name.encode()).hexdigest()\n",
        "    # Define character sets\n",
        "    digits = string.digits\n",
        "    # Use the hash to seed the random number generator\n",
        "    hash_as_int = int(sha256_hash, 16)\n",
        "    random.seed(hash_as_int)\n",
        "    # Generate a random list of seed of desired length\n",
        "    reproducibility_seeds = [random.randint(0,10000) for _ in range(nb_seeds)]\n",
        "\n",
        "    return reproducibility_seeds"
      ]
    },
    {
      "cell_type": "code",
      "execution_count": null,
      "metadata": {
        "id": "Mn8U0p9TGJXK"
      },
      "outputs": [],
      "source": [
        "reproducibility_seed=get_reproducible_seeds()[0]"
      ]
    },
    {
      "cell_type": "markdown",
      "metadata": {
        "id": "S_mzoE-MHqLa"
      },
      "source": [
        "## Dataset"
      ]
    },
    {
      "cell_type": "code",
      "execution_count": null,
      "metadata": {
        "id": "8nhxCSLNHsd9"
      },
      "outputs": [],
      "source": [
        "from torch.utils.data import Dataset, DataLoader\n",
        "class VariableLengthDatasetWithPosID(Dataset):\n",
        "    def __init__(self, time_series, transform=None):\n",
        "        self.times_series=time_series\n",
        "    def __len__(self):\n",
        "        return len(self.times_series)\n",
        "    def __getitem__(self, idx):\n",
        "        user_dict=self.times_series[idx]\n",
        "        return  user_dict\n",
        "\n",
        "def create_dataset(list_users,split=[0.8,0.1,0.1]):\n",
        "  dataset=VariableLengthDatasetWithPosID(list_users)\n",
        "  generator = torch.Generator().manual_seed(reproducibility_seed)\n",
        "  dataset_list=torch.utils.data.random_split(dataset,[0.8,0.1,0.1],generator)\n",
        "  return dataset_list\n"
      ]
    },
    {
      "cell_type": "markdown",
      "metadata": {
        "id": "aRGgl2XnIhDQ"
      },
      "source": [
        "## Dataloader"
      ]
    },
    {
      "cell_type": "code",
      "execution_count": null,
      "metadata": {
        "id": "nke01dG-KJxO"
      },
      "outputs": [],
      "source": [
        "def collate_fn_padd(batch_dict):\n",
        "    '''\n",
        "    Padds batch of variable length\n",
        "\n",
        "    note: it converts things ToTensor manually here since the ToTensor transform\n",
        "    assume it takes in images rather than arbitrary tensors.\n",
        "    '''\n",
        "\n",
        "\n",
        "    dict_batch={key: [d[key] for d in batch_dict] for key in batch_dict[0]}\n",
        "    dict_batch[\"lengths\"] = torch.tensor([ user[\"input\"].shape[0] for user in batch_dict ])\n",
        "    if \"input\" in dict_batch:\n",
        "      dict_batch[\"input\"] = torch.nn.utils.rnn.pad_sequence(dict_batch[\"input\"],batch_first=True,padding_value=0)\n",
        "    dict_batch[\"month\"] = torch.nn.utils.rnn.pad_sequence(dict_batch[\"month\"],batch_first=True,padding_value=0)\n",
        "    dict_batch[\"day\"] = torch.nn.utils.rnn.pad_sequence(dict_batch[\"day\"],batch_first=True,padding_value=0)\n",
        "    dict_batch[\"hour\"] = torch.nn.utils.rnn.pad_sequence(dict_batch[\"hour\"],batch_first=True,padding_value=24)\n",
        "    dict_batch[\"minute\"] = torch.nn.utils.rnn.pad_sequence(dict_batch[\"minute\"],batch_first=True,padding_value=60)\n",
        "    dict_batch[\"second\"] = torch.nn.utils.rnn.pad_sequence(dict_batch[\"second\"],batch_first=True,padding_value=60)\n",
        "\n",
        "    dict_batch[\"time_target\"] = torch.nn.utils.rnn.pad_sequence(dict_batch[\"time_target\"],batch_first=True,padding_value=-1)\n",
        "    dict_batch[\"pos_id\"] = torch.nn.utils.rnn.pad_sequence(dict_batch[\"pos_id\"],batch_first=True,padding_value=len(vocab))\n",
        "    dict_batch[\"pos_id_target\"] = torch.nn.utils.rnn.pad_sequence(dict_batch[\"pos_id_target\"],batch_first=True,padding_value=len(vocab))\n",
        "    #print(dict_batch[\"input\"])\n",
        "    return dict_batch"
      ]
    },
    {
      "cell_type": "markdown",
      "metadata": {
        "id": "Z5Yl1E6gY8_P"
      },
      "source": [
        "## Instanciate"
      ]
    },
    {
      "cell_type": "code",
      "execution_count": null,
      "metadata": {
        "id": "GHpriSipY7Kz"
      },
      "outputs": [],
      "source": [
        "dataset_list=create_dataset(list_users)\n",
        "train_dataset=dataset_list[0]\n",
        "valid_dataset=dataset_list[1]\n",
        "test_dataset=dataset_list[2]\n",
        "train_dataloader=DataLoader(train_dataset,batch_size=64,collate_fn=collate_fn_padd,shuffle=True)\n",
        "valid_dataloader=DataLoader(valid_dataset,batch_size=256,collate_fn=collate_fn_padd,shuffle=False)\n",
        "test_dataloader=DataLoader(test_dataset,batch_size=256,collate_fn=collate_fn_padd,shuffle=False)"
      ]
    },
    {
      "cell_type": "markdown",
      "metadata": {
        "id": "A9HodJbvKeMe"
      },
      "source": [
        "# Model"
      ]
    },
    {
      "cell_type": "markdown",
      "metadata": {
        "id": "ptycyS7FWE4b"
      },
      "source": [
        "## Transformer Encoder followed by LSTM"
      ]
    },
    {
      "cell_type": "markdown",
      "metadata": {
        "id": "7oeWr0HDhJfo"
      },
      "source": [
        "### transformer"
      ]
    },
    {
      "cell_type": "code",
      "execution_count": null,
      "metadata": {
        "id": "l3_bACPajeQx"
      },
      "outputs": [],
      "source": [
        "def get_mask(bath_size,sequence_length,lengths,device):\n",
        "  mask=torch.zeros(bath_size,sequence_length).to(device)\n",
        "  for i, length in enumerate(lengths):\n",
        "    mask[i,length:]=1\n",
        "  return mask.bool()"
      ]
    },
    {
      "cell_type": "markdown",
      "metadata": {
        "id": "hsaggvjghDsq"
      },
      "source": [
        "#### Positional encoding"
      ]
    },
    {
      "cell_type": "code",
      "execution_count": null,
      "metadata": {
        "id": "2yFXZxqeHMwi"
      },
      "outputs": [],
      "source": [
        "from torch import nn, Tensor\n",
        "class VanillaPositionalEncoding(nn.Module):\n",
        "\n",
        "    def __init__(self, d_model: int, dropout: float = 0.1, max_len: int = 500):\n",
        "        super().__init__()\n",
        "\n",
        "        self.dropout = nn.Dropout(p=dropout)\n",
        "\n",
        "        position = torch.arange(max_len).unsqueeze(1)\n",
        "        div_term = torch.exp(torch.arange(0, d_model, 2) * (-math.log(10000.0) / d_model))\n",
        "        pe = torch.zeros(max_len, 1, d_model)\n",
        "        pe[:, 0, 0::2] = torch.sin(position * div_term)\n",
        "        pe[:, 0, 1::2] = torch.cos(position * div_term)\n",
        "        self.register_buffer('pe', pe)\n",
        "\n",
        "    def forward(self, x: Tensor) -> Tensor:\n",
        "        \"\"\"\n",
        "        Arguments:\n",
        "            x: Tensor, shape ``[seq_len, batch_size, embedding_dim]``\n",
        "        \"\"\"\n",
        "        x = (x.transpose(0,1) + self.pe[:x.transpose(0,1).size(0)]).transpose(0,1)\n",
        "        return self.dropout(x)"
      ]
    },
    {
      "cell_type": "code",
      "execution_count": null,
      "metadata": {
        "id": "dX-kk1ScG-_n"
      },
      "outputs": [],
      "source": [
        "class LearnablePositionalEncoding(nn.Module):\n",
        "\n",
        "    def __init__(self,d_model: int, dropout: float = 0.1, max_len: int = 500):\n",
        "        super().__init__()\n",
        "        self.dropout = nn.Dropout(p=dropout)\n",
        "        self.positional_embedding=nn.Embedding(num_embeddings=max_len,embedding_dim= d_model)\n",
        "    @property\n",
        "    def device(self):\n",
        "      return next(self.parameters()).device\n",
        "    def forward(self, x: Tensor) -> Tensor:\n",
        "        \"\"\"\n",
        "        Arguments:\n",
        "            x: Tensor, shape ``[batch_size,seq_len, embedding_dim]``\n",
        "        \"\"\"\n",
        "        x += self.positional_embedding(torch.arange(0,x.shape[1]).to(self.device))\n",
        "        return self.dropout(x)"
      ]
    },
    {
      "cell_type": "code",
      "execution_count": null,
      "metadata": {
        "id": "JzKYvfaWG6cH"
      },
      "outputs": [],
      "source": [
        "def get_PositionalEncoding(d_model: int, dropout: float = 0.1, max_len: int = 2000, learnable=False):\n",
        "  if learnable:\n",
        "    return LearnablePositionalEncoding(d_model, dropout, max_len)\n",
        "  else:\n",
        "    return VanillaPositionalEncoding(d_model, dropout, max_len)"
      ]
    },
    {
      "cell_type": "markdown",
      "metadata": {
        "id": "H-pr0W6xhOkZ"
      },
      "source": [
        "#### model"
      ]
    },
    {
      "cell_type": "code",
      "execution_count": null,
      "metadata": {
        "id": "8SZQnLdN4UxY"
      },
      "outputs": [],
      "source": [
        "class Encoder_Decoder_Transformer(nn.Module):\n",
        "    def __init__(self,d_model,num_layers=3,nhead=10,dropout=0.1,batch_first=True):\n",
        "      super().__init__()\n",
        "      self.transformer=torch.nn.Transformer(d_model=d_model, nhead=nhead, num_encoder_layers=num_layers, num_decoder_layers=num_layers,  dropout=dropout, batch_first=batch_first)\n",
        "    def forward(self,x,mask,src_key_padding_mask,is_causal):\n",
        "      return self.transformer(x,\n",
        "                       x,\n",
        "                       src_mask=mask,\n",
        "                       tgt_mask=mask,\n",
        "                       memory_mask=mask,\n",
        "                       src_key_padding_mask=src_key_padding_mask,\n",
        "                       tgt_key_padding_mask=src_key_padding_mask,\n",
        "                       memory_key_padding_mask=src_key_padding_mask,\n",
        "                       src_is_causal=is_causal,\n",
        "                       tgt_is_causal=is_causal,\n",
        "                       memory_is_causal=is_causal)\n",
        "\n",
        "\n",
        "\n",
        "def get_Transformer_architecture(d_model,encoder_only=False,num_layers=3,nhead=10,dropout=0.1,batch_first=True):\n",
        "  if encoder_only:\n",
        "    encoder_layer = nn.TransformerEncoderLayer(d_model=d_model, nhead=nhead,batch_first=batch_first)\n",
        "    return nn.TransformerEncoder(encoder_layer, num_layers=num_layers)\n",
        "  else:\n",
        "    return Encoder_Decoder_Transformer(d_model,num_layers,nhead,dropout,batch_first=batch_first)"
      ]
    },
    {
      "cell_type": "markdown",
      "metadata": {
        "id": "bcCkeqmkhRnT"
      },
      "source": [
        "### feature embedding"
      ]
    },
    {
      "cell_type": "code",
      "execution_count": null,
      "metadata": {
        "id": "hmqQtP0UhZqg"
      },
      "outputs": [],
      "source": [
        "class TimeStampEmbedding(nn.Module):\n",
        "  def __init__(self,embedding_dim,dropout):\n",
        "    super().__init__()\n",
        "    self.dropout = nn.Dropout(p=dropout)\n",
        "    self.month_embedding = nn.Embedding(num_embeddings=13,embedding_dim=embedding_dim)\n",
        "    self.day_embedding = nn.Embedding(num_embeddings=32,embedding_dim=embedding_dim)\n",
        "    self.hour_embedding = nn.Embedding(num_embeddings=25,embedding_dim=embedding_dim)\n",
        "    self.minute_embedding = nn.Embedding(num_embeddings=61,embedding_dim=embedding_dim)\n",
        "    self.second_embedding = nn.Embedding(num_embeddings=61,embedding_dim=embedding_dim)\n",
        "\n",
        "  def forward(self,dict_batch):\n",
        "    embedding= self.month_embedding(dict_batch['month'])\n",
        "    embedding=+ self.day_embedding(dict_batch['day'])\n",
        "    embedding=+ self.hour_embedding(dict_batch['hour'])\n",
        "    embedding=+ self.minute_embedding(dict_batch['minute'])\n",
        "    embedding=+ self.second_embedding(dict_batch['second'])\n",
        "    return self.dropout(embedding)"
      ]
    },
    {
      "cell_type": "code",
      "execution_count": null,
      "metadata": {
        "id": "mCp5Pz6uy-FG"
      },
      "outputs": [],
      "source": [
        "class StationIdEmbedding(nn.Module):\n",
        "  def __init__(self,embedding_dim,nb_of_pos_ids,dropout):\n",
        "    super().__init__()\n",
        "    self.dropout = nn.Dropout(p=dropout)\n",
        "    self.stationIdEmbedding=nn.Embedding(num_embeddings=nb_of_pos_ids,embedding_dim=embedding_dim)\n",
        "  def forward(self,dict_batch):\n",
        "    embedding=self.stationIdEmbedding(dict_batch[\"pos_id\"])\n",
        "    return self.dropout(embedding)\n"
      ]
    },
    {
      "cell_type": "markdown",
      "metadata": {
        "id": "3Bbp1dVXWQs3"
      },
      "source": [
        "#### graph_deepLearning"
      ]
    },
    {
      "cell_type": "code",
      "execution_count": null,
      "metadata": {
        "colab": {
          "base_uri": "https://localhost:8080/"
        },
        "id": "vqW174iJrhFC",
        "outputId": "6ad9be4e-f4cd-40d0-a6fb-0cd7c1b561d9"
      },
      "outputs": [
        {
          "output_type": "stream",
          "name": "stdout",
          "text": [
            "Collecting libpysal\n",
            "  Downloading libpysal-4.9.2-py3-none-any.whl (2.8 MB)\n",
            "\u001b[2K     \u001b[90m━━━━━━━━━━━━━━━━━━━━━━━━━━━━━━━━━━━━━━━━\u001b[0m \u001b[32m2.8/2.8 MB\u001b[0m \u001b[31m16.6 MB/s\u001b[0m eta \u001b[36m0:00:00\u001b[0m\n",
            "\u001b[?25hRequirement already satisfied: beautifulsoup4>=4.10 in /usr/local/lib/python3.10/dist-packages (from libpysal) (4.12.3)\n",
            "Requirement already satisfied: geopandas>=0.10.0 in /usr/local/lib/python3.10/dist-packages (from libpysal) (0.13.2)\n",
            "Requirement already satisfied: numpy>=1.22 in /usr/local/lib/python3.10/dist-packages (from libpysal) (1.25.2)\n",
            "Requirement already satisfied: packaging>=22 in /usr/local/lib/python3.10/dist-packages (from libpysal) (23.2)\n",
            "Requirement already satisfied: pandas>=1.4 in /usr/local/lib/python3.10/dist-packages (from libpysal) (1.5.3)\n",
            "Requirement already satisfied: platformdirs>=2.0.2 in /usr/local/lib/python3.10/dist-packages (from libpysal) (4.2.0)\n",
            "Requirement already satisfied: requests>=2.27 in /usr/local/lib/python3.10/dist-packages (from libpysal) (2.31.0)\n",
            "Requirement already satisfied: scipy>=1.8 in /usr/local/lib/python3.10/dist-packages (from libpysal) (1.11.4)\n",
            "Requirement already satisfied: shapely>=2.0.1 in /usr/local/lib/python3.10/dist-packages (from libpysal) (2.0.3)\n",
            "Requirement already satisfied: soupsieve>1.2 in /usr/local/lib/python3.10/dist-packages (from beautifulsoup4>=4.10->libpysal) (2.5)\n",
            "Requirement already satisfied: fiona>=1.8.19 in /usr/local/lib/python3.10/dist-packages (from geopandas>=0.10.0->libpysal) (1.9.5)\n",
            "Requirement already satisfied: pyproj>=3.0.1 in /usr/local/lib/python3.10/dist-packages (from geopandas>=0.10.0->libpysal) (3.6.1)\n",
            "Requirement already satisfied: python-dateutil>=2.8.1 in /usr/local/lib/python3.10/dist-packages (from pandas>=1.4->libpysal) (2.8.2)\n",
            "Requirement already satisfied: pytz>=2020.1 in /usr/local/lib/python3.10/dist-packages (from pandas>=1.4->libpysal) (2023.4)\n",
            "Requirement already satisfied: charset-normalizer<4,>=2 in /usr/local/lib/python3.10/dist-packages (from requests>=2.27->libpysal) (3.3.2)\n",
            "Requirement already satisfied: idna<4,>=2.5 in /usr/local/lib/python3.10/dist-packages (from requests>=2.27->libpysal) (3.6)\n",
            "Requirement already satisfied: urllib3<3,>=1.21.1 in /usr/local/lib/python3.10/dist-packages (from requests>=2.27->libpysal) (2.0.7)\n",
            "Requirement already satisfied: certifi>=2017.4.17 in /usr/local/lib/python3.10/dist-packages (from requests>=2.27->libpysal) (2024.2.2)\n",
            "Requirement already satisfied: attrs>=19.2.0 in /usr/local/lib/python3.10/dist-packages (from fiona>=1.8.19->geopandas>=0.10.0->libpysal) (23.2.0)\n",
            "Requirement already satisfied: click~=8.0 in /usr/local/lib/python3.10/dist-packages (from fiona>=1.8.19->geopandas>=0.10.0->libpysal) (8.1.7)\n",
            "Requirement already satisfied: click-plugins>=1.0 in /usr/local/lib/python3.10/dist-packages (from fiona>=1.8.19->geopandas>=0.10.0->libpysal) (1.1.1)\n",
            "Requirement already satisfied: cligj>=0.5 in /usr/local/lib/python3.10/dist-packages (from fiona>=1.8.19->geopandas>=0.10.0->libpysal) (0.7.2)\n",
            "Requirement already satisfied: six in /usr/local/lib/python3.10/dist-packages (from fiona>=1.8.19->geopandas>=0.10.0->libpysal) (1.16.0)\n",
            "Requirement already satisfied: setuptools in /usr/local/lib/python3.10/dist-packages (from fiona>=1.8.19->geopandas>=0.10.0->libpysal) (67.7.2)\n",
            "Installing collected packages: libpysal\n",
            "Successfully installed libpysal-4.9.2\n"
          ]
        }
      ],
      "source": [
        "!pip install libpysal"
      ]
    },
    {
      "cell_type": "code",
      "execution_count": null,
      "metadata": {
        "colab": {
          "base_uri": "https://localhost:8080/"
        },
        "id": "SQvAPDZyWNtg",
        "outputId": "c0fe4dde-5968-49ea-c87f-398c269f8a5e"
      },
      "outputs": [
        {
          "output_type": "stream",
          "name": "stdout",
          "text": [
            "Looking in links: https://pytorch-geometric.com/whl/torch-2.1.0+cu121.html\n",
            "Collecting torch-scatter\n",
            "  Downloading https://data.pyg.org/whl/torch-2.1.0%2Bcu121/torch_scatter-2.1.2%2Bpt21cu121-cp310-cp310-linux_x86_64.whl (10.8 MB)\n",
            "\u001b[2K     \u001b[90m━━━━━━━━━━━━━━━━━━━━━━━━━━━━━━━━━━━━━━━━\u001b[0m \u001b[32m10.8/10.8 MB\u001b[0m \u001b[31m81.0 MB/s\u001b[0m eta \u001b[36m0:00:00\u001b[0m\n",
            "\u001b[?25hInstalling collected packages: torch-scatter\n",
            "Successfully installed torch-scatter-2.1.2+pt21cu121\n",
            "Looking in links: https://pytorch-geometric.com/whl/torch-2.1.0+cu121.html\n",
            "Collecting torch-sparse\n",
            "  Downloading https://data.pyg.org/whl/torch-2.1.0%2Bcu121/torch_sparse-0.6.18%2Bpt21cu121-cp310-cp310-linux_x86_64.whl (5.0 MB)\n",
            "\u001b[2K     \u001b[90m━━━━━━━━━━━━━━━━━━━━━━━━━━━━━━━━━━━━━━━━\u001b[0m \u001b[32m5.0/5.0 MB\u001b[0m \u001b[31m56.2 MB/s\u001b[0m eta \u001b[36m0:00:00\u001b[0m\n",
            "\u001b[?25hRequirement already satisfied: scipy in /usr/local/lib/python3.10/dist-packages (from torch-sparse) (1.11.4)\n",
            "Requirement already satisfied: numpy<1.28.0,>=1.21.6 in /usr/local/lib/python3.10/dist-packages (from scipy->torch-sparse) (1.25.2)\n",
            "Installing collected packages: torch-sparse\n",
            "Successfully installed torch-sparse-0.6.18+pt21cu121\n",
            "Collecting torch-geometric\n",
            "  Downloading torch_geometric-2.5.0-py3-none-any.whl (1.1 MB)\n",
            "\u001b[2K     \u001b[90m━━━━━━━━━━━━━━━━━━━━━━━━━━━━━━━━━━━━━━━━\u001b[0m \u001b[32m1.1/1.1 MB\u001b[0m \u001b[31m10.9 MB/s\u001b[0m eta \u001b[36m0:00:00\u001b[0m\n",
            "\u001b[?25hRequirement already satisfied: tqdm in /usr/local/lib/python3.10/dist-packages (from torch-geometric) (4.66.2)\n",
            "Requirement already satisfied: numpy in /usr/local/lib/python3.10/dist-packages (from torch-geometric) (1.25.2)\n",
            "Requirement already satisfied: scipy in /usr/local/lib/python3.10/dist-packages (from torch-geometric) (1.11.4)\n",
            "Requirement already satisfied: fsspec in /usr/local/lib/python3.10/dist-packages (from torch-geometric) (2023.6.0)\n",
            "Requirement already satisfied: jinja2 in /usr/local/lib/python3.10/dist-packages (from torch-geometric) (3.1.3)\n",
            "Requirement already satisfied: aiohttp in /usr/local/lib/python3.10/dist-packages (from torch-geometric) (3.9.3)\n",
            "Requirement already satisfied: requests in /usr/local/lib/python3.10/dist-packages (from torch-geometric) (2.31.0)\n",
            "Requirement already satisfied: pyparsing in /usr/local/lib/python3.10/dist-packages (from torch-geometric) (3.1.1)\n",
            "Requirement already satisfied: scikit-learn in /usr/local/lib/python3.10/dist-packages (from torch-geometric) (1.2.2)\n",
            "Requirement already satisfied: psutil>=5.8.0 in /usr/local/lib/python3.10/dist-packages (from torch-geometric) (5.9.5)\n",
            "Requirement already satisfied: aiosignal>=1.1.2 in /usr/local/lib/python3.10/dist-packages (from aiohttp->torch-geometric) (1.3.1)\n",
            "Requirement already satisfied: attrs>=17.3.0 in /usr/local/lib/python3.10/dist-packages (from aiohttp->torch-geometric) (23.2.0)\n",
            "Requirement already satisfied: frozenlist>=1.1.1 in /usr/local/lib/python3.10/dist-packages (from aiohttp->torch-geometric) (1.4.1)\n",
            "Requirement already satisfied: multidict<7.0,>=4.5 in /usr/local/lib/python3.10/dist-packages (from aiohttp->torch-geometric) (6.0.5)\n",
            "Requirement already satisfied: yarl<2.0,>=1.0 in /usr/local/lib/python3.10/dist-packages (from aiohttp->torch-geometric) (1.9.4)\n",
            "Requirement already satisfied: async-timeout<5.0,>=4.0 in /usr/local/lib/python3.10/dist-packages (from aiohttp->torch-geometric) (4.0.3)\n",
            "Requirement already satisfied: MarkupSafe>=2.0 in /usr/local/lib/python3.10/dist-packages (from jinja2->torch-geometric) (2.1.5)\n",
            "Requirement already satisfied: charset-normalizer<4,>=2 in /usr/local/lib/python3.10/dist-packages (from requests->torch-geometric) (3.3.2)\n",
            "Requirement already satisfied: idna<4,>=2.5 in /usr/local/lib/python3.10/dist-packages (from requests->torch-geometric) (3.6)\n",
            "Requirement already satisfied: urllib3<3,>=1.21.1 in /usr/local/lib/python3.10/dist-packages (from requests->torch-geometric) (2.0.7)\n",
            "Requirement already satisfied: certifi>=2017.4.17 in /usr/local/lib/python3.10/dist-packages (from requests->torch-geometric) (2024.2.2)\n",
            "Requirement already satisfied: joblib>=1.1.1 in /usr/local/lib/python3.10/dist-packages (from scikit-learn->torch-geometric) (1.3.2)\n",
            "Requirement already satisfied: threadpoolctl>=2.0.0 in /usr/local/lib/python3.10/dist-packages (from scikit-learn->torch-geometric) (3.3.0)\n",
            "Installing collected packages: torch-geometric\n",
            "Successfully installed torch-geometric-2.5.0\n",
            "Collecting ogb\n",
            "  Downloading ogb-1.3.6-py3-none-any.whl (78 kB)\n",
            "\u001b[2K     \u001b[90m━━━━━━━━━━━━━━━━━━━━━━━━━━━━━━━━━━━━━━━━\u001b[0m \u001b[32m78.8/78.8 kB\u001b[0m \u001b[31m3.2 MB/s\u001b[0m eta \u001b[36m0:00:00\u001b[0m\n",
            "\u001b[?25hRequirement already satisfied: torch>=1.6.0 in /usr/local/lib/python3.10/dist-packages (from ogb) (2.1.0+cu121)\n",
            "Requirement already satisfied: numpy>=1.16.0 in /usr/local/lib/python3.10/dist-packages (from ogb) (1.25.2)\n",
            "Requirement already satisfied: tqdm>=4.29.0 in /usr/local/lib/python3.10/dist-packages (from ogb) (4.66.2)\n",
            "Requirement already satisfied: scikit-learn>=0.20.0 in /usr/local/lib/python3.10/dist-packages (from ogb) (1.2.2)\n",
            "Requirement already satisfied: pandas>=0.24.0 in /usr/local/lib/python3.10/dist-packages (from ogb) (1.5.3)\n",
            "Requirement already satisfied: six>=1.12.0 in /usr/local/lib/python3.10/dist-packages (from ogb) (1.16.0)\n",
            "Requirement already satisfied: urllib3>=1.24.0 in /usr/local/lib/python3.10/dist-packages (from ogb) (2.0.7)\n",
            "Collecting outdated>=0.2.0 (from ogb)\n",
            "  Downloading outdated-0.2.2-py2.py3-none-any.whl (7.5 kB)\n",
            "Requirement already satisfied: setuptools>=44 in /usr/local/lib/python3.10/dist-packages (from outdated>=0.2.0->ogb) (67.7.2)\n",
            "Collecting littleutils (from outdated>=0.2.0->ogb)\n",
            "  Downloading littleutils-0.2.2.tar.gz (6.6 kB)\n",
            "  Preparing metadata (setup.py) ... \u001b[?25l\u001b[?25hdone\n",
            "Requirement already satisfied: requests in /usr/local/lib/python3.10/dist-packages (from outdated>=0.2.0->ogb) (2.31.0)\n",
            "Requirement already satisfied: python-dateutil>=2.8.1 in /usr/local/lib/python3.10/dist-packages (from pandas>=0.24.0->ogb) (2.8.2)\n",
            "Requirement already satisfied: pytz>=2020.1 in /usr/local/lib/python3.10/dist-packages (from pandas>=0.24.0->ogb) (2023.4)\n",
            "Requirement already satisfied: scipy>=1.3.2 in /usr/local/lib/python3.10/dist-packages (from scikit-learn>=0.20.0->ogb) (1.11.4)\n",
            "Requirement already satisfied: joblib>=1.1.1 in /usr/local/lib/python3.10/dist-packages (from scikit-learn>=0.20.0->ogb) (1.3.2)\n",
            "Requirement already satisfied: threadpoolctl>=2.0.0 in /usr/local/lib/python3.10/dist-packages (from scikit-learn>=0.20.0->ogb) (3.3.0)\n",
            "Requirement already satisfied: filelock in /usr/local/lib/python3.10/dist-packages (from torch>=1.6.0->ogb) (3.13.1)\n",
            "Requirement already satisfied: typing-extensions in /usr/local/lib/python3.10/dist-packages (from torch>=1.6.0->ogb) (4.10.0)\n",
            "Requirement already satisfied: sympy in /usr/local/lib/python3.10/dist-packages (from torch>=1.6.0->ogb) (1.12)\n",
            "Requirement already satisfied: networkx in /usr/local/lib/python3.10/dist-packages (from torch>=1.6.0->ogb) (3.2.1)\n",
            "Requirement already satisfied: jinja2 in /usr/local/lib/python3.10/dist-packages (from torch>=1.6.0->ogb) (3.1.3)\n",
            "Requirement already satisfied: fsspec in /usr/local/lib/python3.10/dist-packages (from torch>=1.6.0->ogb) (2023.6.0)\n",
            "Requirement already satisfied: triton==2.1.0 in /usr/local/lib/python3.10/dist-packages (from torch>=1.6.0->ogb) (2.1.0)\n",
            "Requirement already satisfied: MarkupSafe>=2.0 in /usr/local/lib/python3.10/dist-packages (from jinja2->torch>=1.6.0->ogb) (2.1.5)\n",
            "Requirement already satisfied: charset-normalizer<4,>=2 in /usr/local/lib/python3.10/dist-packages (from requests->outdated>=0.2.0->ogb) (3.3.2)\n",
            "Requirement already satisfied: idna<4,>=2.5 in /usr/local/lib/python3.10/dist-packages (from requests->outdated>=0.2.0->ogb) (3.6)\n",
            "Requirement already satisfied: certifi>=2017.4.17 in /usr/local/lib/python3.10/dist-packages (from requests->outdated>=0.2.0->ogb) (2024.2.2)\n",
            "Requirement already satisfied: mpmath>=0.19 in /usr/local/lib/python3.10/dist-packages (from sympy->torch>=1.6.0->ogb) (1.3.0)\n",
            "Building wheels for collected packages: littleutils\n",
            "  Building wheel for littleutils (setup.py) ... \u001b[?25l\u001b[?25hdone\n",
            "  Created wheel for littleutils: filename=littleutils-0.2.2-py3-none-any.whl size=7026 sha256=3049d4ae756209f0ed6d2a1856d71ae9d30d88b08233d9124d9ba4a0cbc02455\n",
            "  Stored in directory: /root/.cache/pip/wheels/3d/fe/b0/27a9892da57472e538c7452a721a9cf463cc03cf7379889266\n",
            "Successfully built littleutils\n",
            "Installing collected packages: littleutils, outdated, ogb\n",
            "Successfully installed littleutils-0.2.2 ogb-1.3.6 outdated-0.2.2\n"
          ]
        }
      ],
      "source": [
        "import os\n",
        "import torch\n",
        "if 'IS_GRADESCOPE_ENV' not in os.environ:\n",
        "  torch_version = str(torch.__version__)\n",
        "  scatter_src = f\"https://pytorch-geometric.com/whl/torch-{torch_version}.html\"\n",
        "  sparse_src = f\"https://pytorch-geometric.com/whl/torch-{torch_version}.html\"\n",
        "  !pip install torch-scatter -f $scatter_src\n",
        "  !pip install torch-sparse -f $sparse_src\n",
        "  !pip install torch-geometric\n",
        "  !pip install ogb"
      ]
    },
    {
      "cell_type": "code",
      "execution_count": null,
      "metadata": {
        "id": "sdSTBOc3sKsV"
      },
      "outputs": [],
      "source": [
        "import torch\n",
        "import torch.nn as nn\n",
        "import torch.nn.functional as F\n",
        "import networkx as nx\n",
        "from libpysal.cg import voronoi_frames\n",
        "from libpysal import weights, examples\n",
        "from torch_geometric.utils import from_networkx\n",
        "from torch_geometric.nn import GCNConv\n",
        "import numpy as np\n",
        "def get_net(vocab):\n",
        "  x_array=[key[0] for key in vocab]\n",
        "  y_array=[key[1] for key in vocab]\n",
        "  coordinates=np.column_stack((x_array,y_array))\n",
        "  cells, generators = voronoi_frames(coordinates, clip=\"convex hull\")\n",
        "  delaunay = weights.Rook.from_dataframe(cells)\n",
        "  delaunay_graph = delaunay.to_networkx()\n",
        "  positions = dict(zip(delaunay_graph.nodes, coordinates))\n",
        "  nx.set_node_attributes(delaunay_graph,positions,\"coordinates\")\n",
        "  distance=np.linalg.norm(np.concatenate([delaunay_graph.nodes[index[0]][\"coordinates\"][None,:] for index in delaunay_graph.edges], axis=0)-np.concatenate([delaunay_graph.nodes[index[1]][\"coordinates\"][None,:] for index in delaunay_graph.edges], axis=0), axis=1)\n",
        "  nx.set_edge_attributes(delaunay_graph,dict(zip(delaunay_graph.edges,distance)),\"distance\")\n",
        "  net=from_networkx(delaunay_graph)\n",
        "  return net\n",
        "\n",
        "class GCN(nn.Module):\n",
        "  def __init__(self, hidden_dim1, hidden_dim2, output_dim,vocab,dropout,device):\n",
        "    super(GCN, self).__init__()\n",
        "    net=get_net(vocab)\n",
        "    self.dropout = nn.Dropout(p=dropout)\n",
        "    self.edge_index=edge_index = net.edge_index.long().to(device)\n",
        "    self.distance= net.distance.float().to(device)\n",
        "    self.coordinates=net.coordinates.float().to(device)\n",
        "    mean_distance=self.distance.mean()\n",
        "    std_distance=self.distance.std()\n",
        "    self.distance=(((self.distance-mean_distance)/std_distance)+1)/2\n",
        "\n",
        "    mean_coordinates=self.coordinates.mean(dim=0)\n",
        "    std_coordinates=self.coordinates.std(dim=0)\n",
        "    self.coordinates=(self.coordinates-mean_coordinates.unsqueeze(0))/std_coordinates.unsqueeze(0)\n",
        "    self.conv1 = GCNConv(2, hidden_dim1)\n",
        "    self.conv2 = GCNConv(hidden_dim1, hidden_dim2)\n",
        "    self.conv3 = GCNConv(hidden_dim2, output_dim)\n",
        "\n",
        "  @property\n",
        "  def device(self):\n",
        "    return next(self.parameters()).device\n",
        "\n",
        "  def forward(self, dic_batch):\n",
        "    x = self.conv1(self.coordinates, self.edge_index,self.distance)\n",
        "    x = F.relu(x)\n",
        "    x = F.dropout(x, p=0.5, training=self.training)\n",
        "\n",
        "    x = self.conv2(x, self.edge_index,self.distance)\n",
        "    x = F.relu(x)\n",
        "    x = F.dropout(x, p=0.5, training=self.training)\n",
        "    x = self.conv3(x, self.edge_index,self.distance)\n",
        "    x=torch.cat((x,torch.zeros(1,x.shape[1]).to(self.device)),dim=0)\n",
        "    embedding=x[dic_batch[\"pos_id\"]]\n",
        "    return self.dropout(embedding)\n"
      ]
    },
    {
      "cell_type": "markdown",
      "metadata": {
        "id": "kozXR4sW0W0Y"
      },
      "source": [
        " #### Combine feature embeddng"
      ]
    },
    {
      "cell_type": "code",
      "execution_count": null,
      "metadata": {
        "id": "I6mU1qWOjRP3"
      },
      "outputs": [],
      "source": [
        "class Feature_embedding(nn.Module):\n",
        "\n",
        "  def __init__(self,d_model,nb_of_pos_ids,use_gcn,vocab,hidden_dim1, hidden_dim2,batch_first,concatenate_features,keep_input_positions,dropout,device):\n",
        "    super().__init__()\n",
        "    self.num_features=2+use_gcn\n",
        "    self.concatenate_features=concatenate_features\n",
        "    self.embedding_dim=d_model\n",
        "    self.keep_input_positions=keep_input_positions\n",
        "    if keep_input_positions:\n",
        "      self.embedding_dim=self.embedding_dim-2\n",
        "    if self.concatenate_features:\n",
        "      self.embedding_dim=int(self.embedding_dim/self.num_features)\n",
        "\n",
        "    list_feature_embedding=[StationIdEmbedding(self.embedding_dim,nb_of_pos_ids,dropout),TimeStampEmbedding(self.embedding_dim,dropout)]\n",
        "    if use_gcn:\n",
        "      list_feature_embedding.append(GCN(hidden_dim1, hidden_dim2, self.embedding_dim, vocab, dropout,device))\n",
        "    self.list_feature_embedding=nn.ModuleList(list_feature_embedding)\n",
        "\n",
        "  @property\n",
        "  def device(self):\n",
        "    return next(self.parameters()).device\n",
        "\n",
        "  def forward(self,dic_batch):\n",
        "    if self.concatenate_features:\n",
        "      list_embeddings=[]\n",
        "      for feature_emebdding in self.list_feature_embedding:\n",
        "        list_embeddings.append(feature_emebdding(dic_batch))\n",
        "      embedding=torch.cat(list_embeddings,dim=2)\n",
        "    else:\n",
        "      embedding=torch.zeros(*dic_batch[\"pos_id\"].shape,self.embedding_dim).to(self.device)\n",
        "      for feature_emebdding in self.list_feature_embedding:\n",
        "        embedding+=feature_emebdding(dic_batch)\n",
        "    if self.keep_input_positions:\n",
        "      embedding=torch.cat((dic_batch[\"input\"],embedding),dim=2)\n",
        "    return embedding"
      ]
    },
    {
      "cell_type": "markdown",
      "metadata": {
        "id": "svMRI0xeji-7"
      },
      "source": [
        "### model"
      ]
    },
    {
      "cell_type": "code",
      "execution_count": null,
      "metadata": {
        "id": "GSt_zuJRKgBh"
      },
      "outputs": [],
      "source": [
        "from torch import nn\n",
        "from torch.nn import Embedding, LSTM\n",
        "\n",
        "\n",
        "\n",
        "class MLP(nn.Module):\n",
        "  def __init__(self,d_model):\n",
        "    super().__init__()\n",
        "    self.dim_perceptron=2*d_model\n",
        "    self.linear_perceptron_in=nn.Linear(d_model,self.dim_perceptron)\n",
        "    self.linear_perceptron_out=nn.Linear(self.dim_perceptron,d_model)\n",
        "\n",
        "  def forward(self,x):\n",
        "    return self.linear_perceptron_out(F.relu(self.linear_perceptron_in(x)))\n",
        "\n",
        "\n",
        "class Transformer_LSTM_Layer(nn.Module):\n",
        "  def __init__(self,d_model,output_regression_size,output_classfication_size,num_layers,lstm_layer_with_perceptron,lstm_layer_with_layer_norm,dropout,batch_first):\n",
        "    super().__init__()\n",
        "\n",
        "    self.lstm=LSTM(input_size=d_model, hidden_size=d_model,batch_first=batch_first,num_layers=1,dropout=dropout)\n",
        "    self.lstm_layer_with_perceptron=lstm_layer_with_perceptron\n",
        "    self.lstm_layer_with_layer_norm=lstm_layer_with_layer_norm\n",
        "    if self.lstm_layer_with_layer_norm:\n",
        "      self.layer_normalisation=torch.nn.LayerNorm(d_model)\n",
        "    if self.lstm_layer_with_perceptron:\n",
        "      self.mlp=MLP(d_model)\n",
        "    self.dropout=nn.Dropout(p=dropout)\n",
        "\n",
        "  def forward(self,x,batch_sizes,sorted_indices,unsorted_indices,lengths):\n",
        "    x=self.lstm(x)[0].data+x.data\n",
        "    x=torch.torch.nn.utils.rnn.PackedSequence(x, batch_sizes, sorted_indices, unsorted_indices)\n",
        "    if self.lstm_layer_with_layer_norm:\n",
        "      x,_=torch.nn.utils.rnn.pad_packed_sequence(x, batch_first=True, padding_value=0.0)\n",
        "      x=self.layer_normalisation(x)\n",
        "      x=self.dropout(x)\n",
        "      x=torch.nn.utils.rnn.pack_padded_sequence(x, lengths=lengths,batch_first=True, enforce_sorted=False)\n",
        "    if self.lstm_layer_with_perceptron:\n",
        "      x=x.data\n",
        "      x=self.mlp(x)+x\n",
        "      x=torch.torch.nn.utils.rnn.PackedSequence(x, batch_sizes, sorted_indices, unsorted_indices)\n",
        "      if self.layer_normalisation:\n",
        "        x,_=torch.nn.utils.rnn.pad_packed_sequence(x, batch_first=True, padding_value=0.0)\n",
        "        x=self.layer_normalisation(x)\n",
        "        x=self.dropout(x)\n",
        "        x=torch.nn.utils.rnn.pack_padded_sequence(x, lengths=lengths,batch_first=True, enforce_sorted=False)\n",
        "    return x\n",
        "\n",
        "\n",
        "\n",
        "\n",
        "\n",
        "\n",
        "class  Transformer_encoder_LSTM_decoder(nn.Module):\n",
        "  def __init__(self,d_model,nb_of_pos_ids,output_regression_size,output_classfication_size,num_layers_lstm,lstm_layer_with_perceptron,lstm_layer_with_layer_norm,num_layers_transformer,encoder_only,nhead,learnable_pos_encoding,new_station_binary_classification,use_gcn,vocab,hidden_dim1, hidden_dim2,max_len,dropout,batch_first,concatenate_features,keep_input_positions,device):\n",
        "    super().__init__()\n",
        "    self.dropout=nn.Dropout(p=dropout)\n",
        "    self.layer_normalisation=torch.nn.LayerNorm(d_model)\n",
        "    self.feature_embedding=Feature_embedding(d_model,nb_of_pos_ids,use_gcn,vocab,hidden_dim1, hidden_dim2,batch_first,concatenate_features,keep_input_positions,dropout,device)\n",
        "\n",
        "    self.num_layers_transformer=num_layers_transformer\n",
        "    if num_layers_transformer>0:\n",
        "      self.pos_encoder = get_PositionalEncoding(d_model, dropout, max_len,learnable_pos_encoding)\n",
        "      self.transformer_model=get_Transformer_architecture(d_model,encoder_only,num_layers_transformer,nhead,dropout,batch_first)\n",
        "\n",
        "    self.num_layers_lstm=num_layers_lstm\n",
        "    if num_layers_lstm>0:\n",
        "      self.transformer_lstm__list = nn.ModuleList([Transformer_LSTM_Layer(d_model,output_regression_size,output_classfication_size,num_layers_lstm,lstm_layer_with_perceptron,lstm_layer_with_layer_norm,dropout,batch_first) for layer in range(num_layers_lstm)])\n",
        "    self.linear_reg=nn.Linear(d_model,output_regression_size)\n",
        "    self.classifier=nn.Linear(d_model,output_classfication_size)\n",
        "\n",
        "    self.new_station_binary_classification=new_station_binary_classification\n",
        "    if self.new_station_binary_classification:\n",
        "      self.binary_classifier=nn.Linear(d_model,1)\n",
        "\n",
        "  @property\n",
        "  def device(self):\n",
        "    return next(self.parameters()).device\n",
        "\n",
        "\n",
        "  def forward(self,dic_batch,reg):\n",
        "    if self.num_layers_transformer>0:\n",
        "      x=self.feature_embedding(dic_batch)\n",
        "      x=self.pos_encoder(x)\n",
        "      with torch.no_grad():\n",
        "        mask_x = get_mask(x.shape[0],x.shape[1],dic_batch[\"lengths\"],self.device)\n",
        "        causal_mask=torch.nn.Transformer.generate_square_subsequent_mask(x.shape[1],device=self.device)\n",
        "      x=self.transformer_model(x,causal_mask,mask_x,is_causal=True)\n",
        "    if self.num_layers_lstm>0:\n",
        "      if self.num_layers_transformer>0:\n",
        "        x+=self.feature_embedding(dic_batch)\n",
        "      else:\n",
        "        x=self.feature_embedding(dic_batch)\n",
        "\n",
        "    x=torch.nn.utils.rnn.pack_padded_sequence(x, lengths=dic_batch[\"lengths\"],batch_first=True, enforce_sorted=False)\n",
        "    batch_sizes=x.batch_sizes\n",
        "    sorted_indices=x.sorted_indices\n",
        "    unsorted_indices=x.unsorted_indices\n",
        "    if self.num_layers_lstm>0:\n",
        "      for transformer_lstm in self.transformer_lstm__list:\n",
        "        x=transformer_lstm(x,batch_sizes,sorted_indices,unsorted_indices,dic_batch[\"lengths\"])\n",
        "    x=F.relu(x.data)\n",
        "    out={}\n",
        "    out[\"next_station\"]=torch.nn.utils.rnn.PackedSequence(self.classifier(x), batch_sizes, sorted_indices, unsorted_indices)\n",
        "    if reg:\n",
        "      out[\"time_regression\"]=torch.nn.utils.rnn.PackedSequence(torch.exp(self.linear_reg(x)), batch_sizes, sorted_indices, unsorted_indices)\n",
        "    if self.new_station_binary_classification:\n",
        "      out[\"new_station\"]=  torch.nn.utils.rnn.PackedSequence( self.binary_classifier(x), batch_sizes, sorted_indices, unsorted_indices)\n",
        "    return out\n",
        "\n"
      ]
    },
    {
      "cell_type": "markdown",
      "source": [
        "## Baselines"
      ],
      "metadata": {
        "id": "zZpbR8rG8kBn"
      }
    },
    {
      "cell_type": "code",
      "source": [
        "from torch import nn\n",
        "import torch.nn.functional as F\n",
        "class  Baseline_model(nn.Module):\n",
        "  def __init__(self,nb_of_pos_ids):\n",
        "    super().__init__()\n",
        "    self.nb_of_pos_ids=nb_of_pos_ids\n",
        "  def forward(self,dic_batch,reg):\n",
        "    out={}\n",
        "    out[\"next_station\"]=  torch.nn.utils.rnn.pack_padded_sequence(F.one_hot(dic_batch[\"pos_id\"],self.nb_of_pos_ids).float(), lengths=dic_batch[\"lengths\"],batch_first=True, enforce_sorted=False)\n",
        "    return out"
      ],
      "metadata": {
        "id": "jn0xR-ME8tRX"
      },
      "execution_count": null,
      "outputs": []
    },
    {
      "cell_type": "code",
      "source": [
        "model=Baseline_model(len(vocab)+1)\n",
        "criterion=Total_loss(False)\n",
        "evaluate(model,valid_dataloader,criterion,device,reg=False)"
      ],
      "metadata": {
        "colab": {
          "base_uri": "https://localhost:8080/"
        },
        "id": "QYH5OMnmELSa",
        "outputId": "fb668202-96cb-41cb-9f16-df7516a96334"
      },
      "execution_count": null,
      "outputs": [
        {
          "output_type": "execute_result",
          "data": {
            "text/plain": [
              "{'classification': 0.0021053161556483374,\n",
              " 'total': 0.0021053161556483374,\n",
              " 'acc': 0.044894637279486165}"
            ]
          },
          "metadata": {},
          "execution_count": 89
        }
      ]
    },
    {
      "cell_type": "markdown",
      "metadata": {
        "id": "28s2GCFETdYS"
      },
      "source": [
        "# Trainning"
      ]
    },
    {
      "cell_type": "code",
      "execution_count": null,
      "metadata": {
        "id": "_ujoc4c2mQh_",
        "cellView": "form"
      },
      "outputs": [],
      "source": [
        "# @title loss\n",
        "from torch import nn\n",
        "class Loss_next_station_classification(nn.Module):\n",
        "  def __init__(self, ) -> None:\n",
        "    super().__init__()\n",
        "    self.criterion=torch.nn.CrossEntropyLoss(ignore_index=len(vocab))\n",
        "\n",
        "  def forward(self, out, target_pos_ids, index_training_element):\n",
        "    loss_classification=self.criterion(out.data[index_training_element],target_pos_ids.data[index_training_element])\n",
        "    return loss_classification\n",
        "\n",
        "class Loss_time_regression(nn.Module):\n",
        "  def __init__(self, ) -> None:\n",
        "    super().__init__()\n",
        "    self.criterion = nn.MSELoss(reduction='none')\n",
        "  def forward(self,out,dict_batch):\n",
        "    time_targets=torch.nn.utils.rnn.pack_padded_sequence(dict_batch[\"time_target\"], lengths=dict_batch[\"lengths\"],batch_first=True, enforce_sorted=False)\n",
        "    mask_time_targets = (time_targets.data != -1)\n",
        "    loss_regression=self.criterion(out.data,time_targets.data)\n",
        "    loss_regression = (loss_regression * mask_time_targets.float()).mean()\n",
        "    return loss_regression\n",
        "\n",
        "class Loss_new_station_binary_classification(nn.Module):\n",
        "  def __init__(self, ) -> None:\n",
        "    super().__init__()\n",
        "    self.criterion =  nn.BCEWithLogitsLoss()\n",
        "  def forward(self,out,target):\n",
        "    loss_classification=self.criterion(out.data.squeeze(),target.float())\n",
        "    return loss_classification\n",
        "\n",
        "def get_repetition_labels(target_pos_ids,pos_ids):\n",
        "\n",
        "  return (target_pos_ids.data==pos_ids.data).type(torch.LongTensor)\n",
        "\n",
        "def upsampling_strategy(target, epoch, epochs_new_station_only,pourcentage_of_repeat_training_elment):\n",
        "\n",
        "    index_non_repeat =(target==0).nonzero()\n",
        "    coeff=pourcentage_of_repeat_training_elment/(1-pourcentage_of_repeat_training_elment)\n",
        "    index_for_training= index_non_repeat\n",
        "    if epoch>= epochs_new_station_only:\n",
        "      index_repeat = target.nonzero().squeeze()\n",
        "      nb_non_repeat= index_non_repeat.shape[0]\n",
        "      slice_repeat=index_repeat[torch.randperm(index_repeat.shape[0])[:int(coeff*nb_non_repeat)]].squeeze()\n",
        "      index_for_training = torch.cat((index_non_repeat.squeeze(),slice_repeat))\n",
        "    return index_for_training.squeeze()\n",
        "\n",
        "\n",
        "class Total_loss(nn.Module):\n",
        "  def __init__(self,new_station_binary_classification) -> None:\n",
        "    super().__init__()\n",
        "    self.loss_next_station_classification = Loss_next_station_classification()\n",
        "    self.loss_time_regression = Loss_time_regression()\n",
        "    self.new_station_binary_classification=new_station_binary_classification\n",
        "    if self.new_station_binary_classification:\n",
        "      self.loss_new_station_binary_classification=Loss_new_station_binary_classification()\n",
        "\n",
        "  def forward(self, out, dict_batch, upsampling,upsampling_strategy, reg=False):\n",
        "    loss={}\n",
        "    target_pos_ids=torch.nn.utils.rnn.pack_padded_sequence(dict_batch[\"pos_id_target\"], lengths=dict_batch[\"lengths\"],batch_first=True, enforce_sorted=False)\n",
        "    if self.new_station_binary_classification or upsampling:\n",
        "      pos_ids=torch.nn.utils.rnn.pack_padded_sequence(dict_batch[\"pos_id\"], lengths=dict_batch[\"lengths\"],batch_first=True, enforce_sorted=False)\n",
        "      target=get_repetition_labels(target_pos_ids,pos_ids)\n",
        "    else:\n",
        "      pos_ids=None\n",
        "      target=None\n",
        "\n",
        "    if upsampling:\n",
        "      index_training_element=upsampling_strategy(target)\n",
        "    else:\n",
        "      index_training_element=torch.arange(0,target_pos_ids.data.shape[0])\n",
        "\n",
        "    loss[\"classification\"]=self.loss_next_station_classification(out[\"next_station\"],target_pos_ids,index_training_element)\n",
        "    loss[\"total\"]=loss[\"classification\"]\n",
        "    if self.new_station_binary_classification:\n",
        "      loss[\"new_station\"]=self.loss_new_station_binary_classification(out[\"new_station\"],target)\n",
        "      loss[\"total\"]+=loss[\"new_station\"]\n",
        "\n",
        "    if reg:\n",
        "      loss[\"time_regression\"]=self.loss_time_regression(out[\"time_regression\"],dict_batch)\n",
        "      loss[\"total\"]+=loss[\"time_regression\"]\n",
        "\n",
        "    return loss\n",
        "\n",
        "\n",
        "\n"
      ]
    },
    {
      "cell_type": "code",
      "execution_count": null,
      "metadata": {
        "id": "IHCyYC32ToKU",
        "cellView": "form"
      },
      "outputs": [],
      "source": [
        "# @title evaluation\n",
        "from torch import autocast\n",
        "def evaluate(model,dataloader,upsampling,criterion,device,reg=True):\n",
        "  model.eval()\n",
        "  with torch.no_grad():\n",
        "    acc=0\n",
        "    nb_points=0\n",
        "    valid_results={}\n",
        "    for dict_batch in dataloader:\n",
        "      for key in dict_batch:\n",
        "        if key!=\"lengths\":\n",
        "          dict_batch[key]=dict_batch[key].to(device)\n",
        "      with autocast(device_type=device.type):\n",
        "        out=model(dict_batch,reg=reg)\n",
        "        valid_result=criterion(out,dict_batch,upsampling,None,reg=reg)\n",
        "        valid_results=get_sum_valid_results(valid_results,valid_result)\n",
        "        target_pos_ids=torch.nn.utils.rnn.pack_padded_sequence(dict_batch[\"pos_id_target\"], lengths=dict_batch[\"lengths\"],batch_first=True, enforce_sorted=False)\n",
        "        acc+=(out[\"next_station\"].data.argmax(dim=1)==target_pos_ids.data).sum().item()\n",
        "        nb_points+=out[\"next_station\"].data.shape[0]\n",
        "    valid_results=get_mean_valid_results(valid_results,nb_points)\n",
        "    valid_results[\"acc\"]=acc/nb_points\n",
        "\n",
        "    return valid_results"
      ]
    },
    {
      "cell_type": "code",
      "execution_count": null,
      "metadata": {
        "id": "yLu25E-eTcbT",
        "cellView": "form"
      },
      "outputs": [],
      "source": [
        "# @title training\n",
        "import numpy as np\n",
        "import torch.optim as optim\n",
        "import torch.nn as nn\n",
        "import torch.nn.functional as F\n",
        "from torch import autocast\n",
        "from torch.nn.utils.rnn import pack_padded_sequence, pad_packed_sequence\n",
        "def train(\n",
        "          epochs_classifcation_only,\n",
        "          epochs_complete_problem,\n",
        "          input_size,\n",
        "          num_heads,\n",
        "          d_model,\n",
        "          nb_of_pos_ids,\n",
        "          num_layers_lstm,\n",
        "          lstm_layer_with_perceptron,\n",
        "          lstm_layer_with_layer_norm,\n",
        "          num_layers_transformer,\n",
        "          encoder_only,\n",
        "          output_regression_size,\n",
        "          output_classfication_size,\n",
        "          nb_batchs,\n",
        "          dropout,\n",
        "          max_len,\n",
        "          weight_decay,\n",
        "          lr,\n",
        "          learnable_pos_encoding,\n",
        "          new_station_binary_classification,\n",
        "          use_gcn,\n",
        "          vocab,hidden_dim1, hidden_dim2,\n",
        "          batch_first,\n",
        "          concatenate_features,\n",
        "          keep_input_positions,\n",
        "          upsampling,\n",
        "          upsampling_strategy,\n",
        "          epochs_new_station_only,\n",
        "          pourcentage_of_repeat_training_elment,\n",
        "          save_best_model,\n",
        "          path_best_model,\n",
        "          batch_size,\n",
        "          device):\n",
        "\n",
        "  epochs=epochs_complete_problem+ epochs_classifcation_only\n",
        "  model=Transformer_encoder_LSTM_decoder(d_model=d_model,\n",
        "                                         nb_of_pos_ids=nb_of_pos_ids,\n",
        "                                         output_regression_size=output_regression_size,\n",
        "                                         output_classfication_size=output_classfication_size,\n",
        "                                         num_layers_lstm=num_layers_lstm,\n",
        "                                         lstm_layer_with_perceptron=lstm_layer_with_perceptron,\n",
        "                                         lstm_layer_with_layer_norm=lstm_layer_with_perceptron,\n",
        "                                         num_layers_transformer=num_layers_transformer,\n",
        "                                         encoder_only=encoder_only,\n",
        "                                         nhead=num_heads,\n",
        "                                         learnable_pos_encoding=learnable_pos_encoding,\n",
        "                                         new_station_binary_classification=new_station_binary_classification,\n",
        "                                         use_gcn=use_gcn,\n",
        "                                         vocab=vocab,\n",
        "                                         hidden_dim1=hidden_dim1,\n",
        "                                         hidden_dim2=hidden_dim2,\n",
        "                                         max_len=max_len,\n",
        "                                         dropout=dropout,\n",
        "                                         batch_first = batch_first,\n",
        "                                         concatenate_features = concatenate_features,\n",
        "                                         keep_input_positions = keep_input_positions,device=device\n",
        "                                         ).to(device)\n",
        "  if save_best_model:\n",
        "    os.makedirs(path_best_model,exist_ok =True)\n",
        "  optimizer_encoder = optim.Adam( model.parameters(), lr=lr, weight_decay=weight_decay)\n",
        "  criterion = Total_loss( new_station_binary_classification = new_station_binary_classification)\n",
        "  train_losses, valid_results = {},{}\n",
        "  best_results={}\n",
        "  for epoch in range(epochs):\n",
        "    reg=epoch >= epochs_classifcation_only\n",
        "    epoch_losses={}\n",
        "    model.train()\n",
        "    i=0\n",
        "    for dict_batch in train_dataloader:\n",
        "      optimizer_encoder.zero_grad()\n",
        "      i+=1\n",
        "      if i>=nb_batchs:\n",
        "        break\n",
        "      dict_batch=set_dic_to(dict_batch,device)\n",
        "      with autocast(device_type=device.type):\n",
        "        out=model(dict_batch, reg)\n",
        "        loss=criterion(out, dict_batch,upsampling,lambda target: upsampling_strategy(target,epoch,epochs_new_station_only,pourcentage_of_repeat_training_elment) ,reg)\n",
        "        loss[\"total\"].backward()\n",
        "        optimizer_encoder.step()\n",
        "      epoch_losses=update_epoch_losses(epoch_losses,loss)\n",
        "      dict_batch.clear()\n",
        "      loss.clear()\n",
        "      out.clear()\n",
        "      del out, loss,dict_batch\n",
        "    epoch_loss=get_epoch_loss(epoch_losses,batch_size)\n",
        "    train_losses=update_train_losses(train_losses,epoch_loss,epoch)\n",
        "    valid_result = evaluate(model,valid_dataloader,upsampling,criterion,device)\n",
        "    best_results = update_best(model,valid_result,best_results,save_best_model,path_best_model)\n",
        "    valid_results = update_valid_results(valid_results,valid_result)\n",
        "    print_results(epoch_loss,valid_result,epoch)\n",
        "\n",
        "  return best_results"
      ]
    },
    {
      "cell_type": "code",
      "source": [
        "# @title utils\n",
        "\n",
        "def set_dic_to(dict_batch,device):\n",
        "  for key in dict_batch:\n",
        "    if key!=\"lengths\":\n",
        "      dict_batch[key]=dict_batch[key].to(device)\n",
        "  return dict_batch\n",
        "\n",
        "def is_better(valid_result,best_result,key):\n",
        "  match key:\n",
        "    case \"acc\":\n",
        "      return valid_result>best_result\n",
        "    case _:\n",
        "      return valid_result<best_result\n",
        "\n",
        "def update_best(model,valid_result,best_results,save_best_model,path_best_model):\n",
        "  if best_results:\n",
        "    for key in valid_result:\n",
        "      if is_better(valid_result[key],best_results[key],key):\n",
        "        best_results[key]=valid_result[key]\n",
        "        if save_best_model:\n",
        "          save_model(model,path_best_model,key)\n",
        "  else:\n",
        "    for key in valid_result:\n",
        "      best_results[key]=valid_result[key]\n",
        "      if save_best_model:\n",
        "        save_model(model,path_best_model,key)\n",
        "  return best_results\n",
        "\n",
        "def save_model(model,path_best_model,key):\n",
        "  path=os.path.join(path_best_model,key)\n",
        "  torch.save(model.state_dict(), path+\".pth\")\n",
        "\n",
        "def get_sum_valid_results(valid_result,valid_result_batch):\n",
        "  if valid_result:\n",
        "    for key in valid_result_batch:\n",
        "      valid_result[key]+=valid_result_batch[key].item()\n",
        "  else:\n",
        "    for key in valid_result_batch:\n",
        "      valid_result[key]=valid_result_batch[key].item()\n",
        "  return valid_result\n",
        "\n",
        "def get_mean_valid_results(sum_valid_result,nb_element):\n",
        "  for key in sum_valid_result:\n",
        "    sum_valid_result[key]/=nb_element\n",
        "\n",
        "  return sum_valid_result\n",
        "\n",
        "def update_epoch_losses(dict_of_list,dic):\n",
        "  if dict_of_list:\n",
        "    for key in dic:\n",
        "      dict_of_list[key].append(dic[key].item())\n",
        "  else:\n",
        "    for key in dic:\n",
        "      dict_of_list[key]=[dic[key].item()]\n",
        "  return dict_of_list\n",
        "\n",
        "def update_valid_results(dict_of_list,dic):\n",
        "  if dict_of_list:\n",
        "    for key in dic:\n",
        "      dict_of_list[key].append(dic[key])\n",
        "  else:\n",
        "    for key in dic:\n",
        "      dict_of_list[key]=[dic[key]]\n",
        "  return dict_of_list\n",
        "\n",
        "def get_epoch_loss(epoch_losses,batch_size):\n",
        "\n",
        "  epoch_loss={}\n",
        "  for key in epoch_losses:\n",
        "    epoch_loss[key]=np.array(epoch_losses[key]).mean()/batch_size\n",
        "  return epoch_loss\n",
        "\n",
        "def print_results(epoch_loss,valid_result,epoch):\n",
        "\n",
        "  print(\"\\nepoch: \",epoch)\n",
        "  print(\"train :\", end=\"\\t\")\n",
        "  for key in epoch_loss:\n",
        "    print(key,epoch_loss[key], end=\"\\t\")\n",
        "  print(\"\\nvalid :\", end=\"\\t\")\n",
        "  for key in valid_result:\n",
        "    print(key,valid_result[key], end=\"\\t\")\n",
        "\n",
        "def update_train_losses(train_losses,epoch_loss,epoch):\n",
        "\n",
        "  if train_losses:\n",
        "    for key in epoch_loss:\n",
        "      if key in train_losses:\n",
        "        train_losses[key].append(epoch_loss[key])\n",
        "      else:\n",
        "        train_losses[key]=[float('nan')]*(epoch+1)+[epoch_loss[key]]\n",
        "  else:\n",
        "    for key in epoch_loss:\n",
        "      train_losses[key]=[epoch_loss[key]]\n",
        "  return train_losses"
      ],
      "metadata": {
        "cellView": "form",
        "id": "8OL2WGr7cGZW"
      },
      "execution_count": null,
      "outputs": []
    },
    {
      "cell_type": "markdown",
      "metadata": {
        "id": "QF4FEU_h1YtX"
      },
      "source": [
        "## Instance of training"
      ]
    },
    {
      "cell_type": "code",
      "execution_count": null,
      "metadata": {
        "colab": {
          "base_uri": "https://localhost:8080/",
          "height": 469
        },
        "id": "HL0AZ-YJChyE",
        "outputId": "ccfdf139-20a5-452c-fe6c-6e36be5a95fd"
      },
      "outputs": [
        {
          "output_type": "error",
          "ename": "OutOfMemoryError",
          "evalue": "CUDA out of memory. Tried to allocate 16.00 MiB. GPU 0 has a total capacty of 14.75 GiB of which 7.06 MiB is free. Process 61264 has 14.74 GiB memory in use. Of the allocated memory 13.99 GiB is allocated by PyTorch, and 604.22 MiB is reserved by PyTorch but unallocated. If reserved but unallocated memory is large try setting max_split_size_mb to avoid fragmentation.  See documentation for Memory Management and PYTORCH_CUDA_ALLOC_CONF",
          "traceback": [
            "\u001b[0;31m---------------------------------------------------------------------------\u001b[0m",
            "\u001b[0;31mOutOfMemoryError\u001b[0m                          Traceback (most recent call last)",
            "\u001b[0;32m<ipython-input-38-eb8eac0884b5>\u001b[0m in \u001b[0;36m<cell line: 2>\u001b[0;34m()\u001b[0m\n\u001b[1;32m      1\u001b[0m \u001b[0;31m# @title Titre par défaut\u001b[0m\u001b[0;34m\u001b[0m\u001b[0;34m\u001b[0m\u001b[0m\n\u001b[0;32m----> 2\u001b[0;31m model=train(\n\u001b[0m\u001b[1;32m      3\u001b[0m           \u001b[0mepochs_classifcation_only\u001b[0m\u001b[0;34m=\u001b[0m\u001b[0;36m100\u001b[0m\u001b[0;34m,\u001b[0m\u001b[0;34m\u001b[0m\u001b[0;34m\u001b[0m\u001b[0m\n\u001b[1;32m      4\u001b[0m           \u001b[0mepochs_complete_problem\u001b[0m \u001b[0;34m=\u001b[0m\u001b[0;36m100\u001b[0m\u001b[0;34m,\u001b[0m\u001b[0;34m\u001b[0m\u001b[0;34m\u001b[0m\u001b[0m\n\u001b[1;32m      5\u001b[0m           \u001b[0minput_size\u001b[0m\u001b[0;34m=\u001b[0m\u001b[0;36m2\u001b[0m\u001b[0;34m,\u001b[0m\u001b[0;34m\u001b[0m\u001b[0;34m\u001b[0m\u001b[0m\n",
            "\u001b[0;32m<ipython-input-28-d40eb1db95f0>\u001b[0m in \u001b[0;36mtrain\u001b[0;34m(epochs_classifcation_only, epochs_complete_problem, input_size, num_heads, d_model, nb_of_pos_ids, num_layers_lstm, lstm_layer_with_perceptron, lstm_layer_with_layer_norm, num_layers_transformer, encoder_only, output_regression_size, output_classfication_size, nb_batchs, dropout, max_len, weight_decay, lr, learnable_pos_encoding, new_station_binary_classification, use_gcn, vocab, hidden_dim1, hidden_dim2, batch_first, concatenate_features, keep_input_positions, upsampling, upsampling_strategy, epochs_new_station_only, pourcentage_of_repeat_training_elment, save_best_model, path_best_model, batch_size, device)\u001b[0m\n\u001b[1;32m     82\u001b[0m       \u001b[0mdict_batch\u001b[0m\u001b[0;34m=\u001b[0m\u001b[0mset_dic_to\u001b[0m\u001b[0;34m(\u001b[0m\u001b[0mdict_batch\u001b[0m\u001b[0;34m,\u001b[0m\u001b[0mdevice\u001b[0m\u001b[0;34m)\u001b[0m\u001b[0;34m\u001b[0m\u001b[0;34m\u001b[0m\u001b[0m\n\u001b[1;32m     83\u001b[0m       \u001b[0;32mwith\u001b[0m \u001b[0mautocast\u001b[0m\u001b[0;34m(\u001b[0m\u001b[0mdevice_type\u001b[0m\u001b[0;34m=\u001b[0m\u001b[0mdevice\u001b[0m\u001b[0;34m.\u001b[0m\u001b[0mtype\u001b[0m\u001b[0;34m)\u001b[0m\u001b[0;34m:\u001b[0m\u001b[0;34m\u001b[0m\u001b[0;34m\u001b[0m\u001b[0m\n\u001b[0;32m---> 84\u001b[0;31m         \u001b[0mout\u001b[0m\u001b[0;34m=\u001b[0m\u001b[0mmodel\u001b[0m\u001b[0;34m(\u001b[0m\u001b[0mdict_batch\u001b[0m\u001b[0;34m,\u001b[0m \u001b[0mreg\u001b[0m\u001b[0;34m)\u001b[0m\u001b[0;34m\u001b[0m\u001b[0;34m\u001b[0m\u001b[0m\n\u001b[0m\u001b[1;32m     85\u001b[0m         \u001b[0mloss\u001b[0m\u001b[0;34m=\u001b[0m\u001b[0mcriterion\u001b[0m\u001b[0;34m(\u001b[0m\u001b[0mout\u001b[0m\u001b[0;34m,\u001b[0m \u001b[0mdict_batch\u001b[0m\u001b[0;34m,\u001b[0m\u001b[0mupsampling\u001b[0m\u001b[0;34m,\u001b[0m\u001b[0;32mlambda\u001b[0m \u001b[0mtarget\u001b[0m\u001b[0;34m:\u001b[0m \u001b[0mupsampling_strategy\u001b[0m\u001b[0;34m(\u001b[0m\u001b[0mtarget\u001b[0m\u001b[0;34m,\u001b[0m\u001b[0mepoch\u001b[0m\u001b[0;34m,\u001b[0m\u001b[0mepochs_new_station_only\u001b[0m\u001b[0;34m,\u001b[0m\u001b[0mpourcentage_of_repeat_training_elment\u001b[0m\u001b[0;34m)\u001b[0m \u001b[0;34m,\u001b[0m\u001b[0mreg\u001b[0m\u001b[0;34m)\u001b[0m\u001b[0;34m\u001b[0m\u001b[0;34m\u001b[0m\u001b[0m\n\u001b[1;32m     86\u001b[0m         \u001b[0mloss\u001b[0m\u001b[0;34m[\u001b[0m\u001b[0;34m\"total\"\u001b[0m\u001b[0;34m]\u001b[0m\u001b[0;34m.\u001b[0m\u001b[0mbackward\u001b[0m\u001b[0;34m(\u001b[0m\u001b[0;34m)\u001b[0m\u001b[0;34m\u001b[0m\u001b[0;34m\u001b[0m\u001b[0m\n",
            "\u001b[0;32m/usr/local/lib/python3.10/dist-packages/torch/nn/modules/module.py\u001b[0m in \u001b[0;36m_wrapped_call_impl\u001b[0;34m(self, *args, **kwargs)\u001b[0m\n\u001b[1;32m   1516\u001b[0m             \u001b[0;32mreturn\u001b[0m \u001b[0mself\u001b[0m\u001b[0;34m.\u001b[0m\u001b[0m_compiled_call_impl\u001b[0m\u001b[0;34m(\u001b[0m\u001b[0;34m*\u001b[0m\u001b[0margs\u001b[0m\u001b[0;34m,\u001b[0m \u001b[0;34m**\u001b[0m\u001b[0mkwargs\u001b[0m\u001b[0;34m)\u001b[0m  \u001b[0;31m# type: ignore[misc]\u001b[0m\u001b[0;34m\u001b[0m\u001b[0;34m\u001b[0m\u001b[0m\n\u001b[1;32m   1517\u001b[0m         \u001b[0;32melse\u001b[0m\u001b[0;34m:\u001b[0m\u001b[0;34m\u001b[0m\u001b[0;34m\u001b[0m\u001b[0m\n\u001b[0;32m-> 1518\u001b[0;31m             \u001b[0;32mreturn\u001b[0m \u001b[0mself\u001b[0m\u001b[0;34m.\u001b[0m\u001b[0m_call_impl\u001b[0m\u001b[0;34m(\u001b[0m\u001b[0;34m*\u001b[0m\u001b[0margs\u001b[0m\u001b[0;34m,\u001b[0m \u001b[0;34m**\u001b[0m\u001b[0mkwargs\u001b[0m\u001b[0;34m)\u001b[0m\u001b[0;34m\u001b[0m\u001b[0;34m\u001b[0m\u001b[0m\n\u001b[0m\u001b[1;32m   1519\u001b[0m \u001b[0;34m\u001b[0m\u001b[0m\n\u001b[1;32m   1520\u001b[0m     \u001b[0;32mdef\u001b[0m \u001b[0m_call_impl\u001b[0m\u001b[0;34m(\u001b[0m\u001b[0mself\u001b[0m\u001b[0;34m,\u001b[0m \u001b[0;34m*\u001b[0m\u001b[0margs\u001b[0m\u001b[0;34m,\u001b[0m \u001b[0;34m**\u001b[0m\u001b[0mkwargs\u001b[0m\u001b[0;34m)\u001b[0m\u001b[0;34m:\u001b[0m\u001b[0;34m\u001b[0m\u001b[0;34m\u001b[0m\u001b[0m\n",
            "\u001b[0;32m/usr/local/lib/python3.10/dist-packages/torch/nn/modules/module.py\u001b[0m in \u001b[0;36m_call_impl\u001b[0;34m(self, *args, **kwargs)\u001b[0m\n\u001b[1;32m   1525\u001b[0m                 \u001b[0;32mor\u001b[0m \u001b[0m_global_backward_pre_hooks\u001b[0m \u001b[0;32mor\u001b[0m \u001b[0m_global_backward_hooks\u001b[0m\u001b[0;34m\u001b[0m\u001b[0;34m\u001b[0m\u001b[0m\n\u001b[1;32m   1526\u001b[0m                 or _global_forward_hooks or _global_forward_pre_hooks):\n\u001b[0;32m-> 1527\u001b[0;31m             \u001b[0;32mreturn\u001b[0m \u001b[0mforward_call\u001b[0m\u001b[0;34m(\u001b[0m\u001b[0;34m*\u001b[0m\u001b[0margs\u001b[0m\u001b[0;34m,\u001b[0m \u001b[0;34m**\u001b[0m\u001b[0mkwargs\u001b[0m\u001b[0;34m)\u001b[0m\u001b[0;34m\u001b[0m\u001b[0;34m\u001b[0m\u001b[0m\n\u001b[0m\u001b[1;32m   1528\u001b[0m \u001b[0;34m\u001b[0m\u001b[0m\n\u001b[1;32m   1529\u001b[0m         \u001b[0;32mtry\u001b[0m\u001b[0;34m:\u001b[0m\u001b[0;34m\u001b[0m\u001b[0;34m\u001b[0m\u001b[0m\n",
            "\u001b[0;32m<ipython-input-32-2dbafaf65fc1>\u001b[0m in \u001b[0;36mforward\u001b[0;34m(self, dic_batch, reg)\u001b[0m\n\u001b[1;32m     86\u001b[0m         \u001b[0mmask_x\u001b[0m \u001b[0;34m=\u001b[0m \u001b[0mget_mask\u001b[0m\u001b[0;34m(\u001b[0m\u001b[0mx\u001b[0m\u001b[0;34m.\u001b[0m\u001b[0mshape\u001b[0m\u001b[0;34m[\u001b[0m\u001b[0;36m0\u001b[0m\u001b[0;34m]\u001b[0m\u001b[0;34m,\u001b[0m\u001b[0mx\u001b[0m\u001b[0;34m.\u001b[0m\u001b[0mshape\u001b[0m\u001b[0;34m[\u001b[0m\u001b[0;36m1\u001b[0m\u001b[0;34m]\u001b[0m\u001b[0;34m,\u001b[0m\u001b[0mdic_batch\u001b[0m\u001b[0;34m[\u001b[0m\u001b[0;34m\"lengths\"\u001b[0m\u001b[0;34m]\u001b[0m\u001b[0;34m,\u001b[0m\u001b[0mself\u001b[0m\u001b[0;34m.\u001b[0m\u001b[0mdevice\u001b[0m\u001b[0;34m)\u001b[0m\u001b[0;34m\u001b[0m\u001b[0;34m\u001b[0m\u001b[0m\n\u001b[1;32m     87\u001b[0m         \u001b[0mcausal_mask\u001b[0m\u001b[0;34m=\u001b[0m\u001b[0mtorch\u001b[0m\u001b[0;34m.\u001b[0m\u001b[0mnn\u001b[0m\u001b[0;34m.\u001b[0m\u001b[0mTransformer\u001b[0m\u001b[0;34m.\u001b[0m\u001b[0mgenerate_square_subsequent_mask\u001b[0m\u001b[0;34m(\u001b[0m\u001b[0mx\u001b[0m\u001b[0;34m.\u001b[0m\u001b[0mshape\u001b[0m\u001b[0;34m[\u001b[0m\u001b[0;36m1\u001b[0m\u001b[0;34m]\u001b[0m\u001b[0;34m,\u001b[0m\u001b[0mdevice\u001b[0m\u001b[0;34m=\u001b[0m\u001b[0mself\u001b[0m\u001b[0;34m.\u001b[0m\u001b[0mdevice\u001b[0m\u001b[0;34m)\u001b[0m\u001b[0;34m\u001b[0m\u001b[0;34m\u001b[0m\u001b[0m\n\u001b[0;32m---> 88\u001b[0;31m       \u001b[0mx\u001b[0m\u001b[0;34m=\u001b[0m\u001b[0mself\u001b[0m\u001b[0;34m.\u001b[0m\u001b[0mtransformer_model\u001b[0m\u001b[0;34m(\u001b[0m\u001b[0mx\u001b[0m\u001b[0;34m,\u001b[0m\u001b[0mcausal_mask\u001b[0m\u001b[0;34m,\u001b[0m\u001b[0mmask_x\u001b[0m\u001b[0;34m,\u001b[0m\u001b[0mis_causal\u001b[0m\u001b[0;34m=\u001b[0m\u001b[0;32mTrue\u001b[0m\u001b[0;34m)\u001b[0m\u001b[0;34m\u001b[0m\u001b[0;34m\u001b[0m\u001b[0m\n\u001b[0m\u001b[1;32m     89\u001b[0m     \u001b[0;32mif\u001b[0m \u001b[0mself\u001b[0m\u001b[0;34m.\u001b[0m\u001b[0mnum_layers_lstm\u001b[0m\u001b[0;34m>\u001b[0m\u001b[0;36m0\u001b[0m\u001b[0;34m:\u001b[0m\u001b[0;34m\u001b[0m\u001b[0;34m\u001b[0m\u001b[0m\n\u001b[1;32m     90\u001b[0m       \u001b[0;32mif\u001b[0m \u001b[0mself\u001b[0m\u001b[0;34m.\u001b[0m\u001b[0mnum_layers_transformer\u001b[0m\u001b[0;34m>\u001b[0m\u001b[0;36m0\u001b[0m\u001b[0;34m:\u001b[0m\u001b[0;34m\u001b[0m\u001b[0;34m\u001b[0m\u001b[0m\n",
            "\u001b[0;32m/usr/local/lib/python3.10/dist-packages/torch/nn/modules/module.py\u001b[0m in \u001b[0;36m_wrapped_call_impl\u001b[0;34m(self, *args, **kwargs)\u001b[0m\n\u001b[1;32m   1516\u001b[0m             \u001b[0;32mreturn\u001b[0m \u001b[0mself\u001b[0m\u001b[0;34m.\u001b[0m\u001b[0m_compiled_call_impl\u001b[0m\u001b[0;34m(\u001b[0m\u001b[0;34m*\u001b[0m\u001b[0margs\u001b[0m\u001b[0;34m,\u001b[0m \u001b[0;34m**\u001b[0m\u001b[0mkwargs\u001b[0m\u001b[0;34m)\u001b[0m  \u001b[0;31m# type: ignore[misc]\u001b[0m\u001b[0;34m\u001b[0m\u001b[0;34m\u001b[0m\u001b[0m\n\u001b[1;32m   1517\u001b[0m         \u001b[0;32melse\u001b[0m\u001b[0;34m:\u001b[0m\u001b[0;34m\u001b[0m\u001b[0;34m\u001b[0m\u001b[0m\n\u001b[0;32m-> 1518\u001b[0;31m             \u001b[0;32mreturn\u001b[0m \u001b[0mself\u001b[0m\u001b[0;34m.\u001b[0m\u001b[0m_call_impl\u001b[0m\u001b[0;34m(\u001b[0m\u001b[0;34m*\u001b[0m\u001b[0margs\u001b[0m\u001b[0;34m,\u001b[0m \u001b[0;34m**\u001b[0m\u001b[0mkwargs\u001b[0m\u001b[0;34m)\u001b[0m\u001b[0;34m\u001b[0m\u001b[0;34m\u001b[0m\u001b[0m\n\u001b[0m\u001b[1;32m   1519\u001b[0m \u001b[0;34m\u001b[0m\u001b[0m\n\u001b[1;32m   1520\u001b[0m     \u001b[0;32mdef\u001b[0m \u001b[0m_call_impl\u001b[0m\u001b[0;34m(\u001b[0m\u001b[0mself\u001b[0m\u001b[0;34m,\u001b[0m \u001b[0;34m*\u001b[0m\u001b[0margs\u001b[0m\u001b[0;34m,\u001b[0m \u001b[0;34m**\u001b[0m\u001b[0mkwargs\u001b[0m\u001b[0;34m)\u001b[0m\u001b[0;34m:\u001b[0m\u001b[0;34m\u001b[0m\u001b[0;34m\u001b[0m\u001b[0m\n",
            "\u001b[0;32m/usr/local/lib/python3.10/dist-packages/torch/nn/modules/module.py\u001b[0m in \u001b[0;36m_call_impl\u001b[0;34m(self, *args, **kwargs)\u001b[0m\n\u001b[1;32m   1525\u001b[0m                 \u001b[0;32mor\u001b[0m \u001b[0m_global_backward_pre_hooks\u001b[0m \u001b[0;32mor\u001b[0m \u001b[0m_global_backward_hooks\u001b[0m\u001b[0;34m\u001b[0m\u001b[0;34m\u001b[0m\u001b[0m\n\u001b[1;32m   1526\u001b[0m                 or _global_forward_hooks or _global_forward_pre_hooks):\n\u001b[0;32m-> 1527\u001b[0;31m             \u001b[0;32mreturn\u001b[0m \u001b[0mforward_call\u001b[0m\u001b[0;34m(\u001b[0m\u001b[0;34m*\u001b[0m\u001b[0margs\u001b[0m\u001b[0;34m,\u001b[0m \u001b[0;34m**\u001b[0m\u001b[0mkwargs\u001b[0m\u001b[0;34m)\u001b[0m\u001b[0;34m\u001b[0m\u001b[0;34m\u001b[0m\u001b[0m\n\u001b[0m\u001b[1;32m   1528\u001b[0m \u001b[0;34m\u001b[0m\u001b[0m\n\u001b[1;32m   1529\u001b[0m         \u001b[0;32mtry\u001b[0m\u001b[0;34m:\u001b[0m\u001b[0;34m\u001b[0m\u001b[0;34m\u001b[0m\u001b[0m\n",
            "\u001b[0;32m<ipython-input-18-a8f6ed0bd9ad>\u001b[0m in \u001b[0;36mforward\u001b[0;34m(self, x, mask, src_key_padding_mask, is_causal)\u001b[0m\n\u001b[1;32m      4\u001b[0m       \u001b[0mself\u001b[0m\u001b[0;34m.\u001b[0m\u001b[0mtransformer\u001b[0m\u001b[0;34m=\u001b[0m\u001b[0mtorch\u001b[0m\u001b[0;34m.\u001b[0m\u001b[0mnn\u001b[0m\u001b[0;34m.\u001b[0m\u001b[0mTransformer\u001b[0m\u001b[0;34m(\u001b[0m\u001b[0md_model\u001b[0m\u001b[0;34m=\u001b[0m\u001b[0md_model\u001b[0m\u001b[0;34m,\u001b[0m \u001b[0mnhead\u001b[0m\u001b[0;34m=\u001b[0m\u001b[0mnhead\u001b[0m\u001b[0;34m,\u001b[0m \u001b[0mnum_encoder_layers\u001b[0m\u001b[0;34m=\u001b[0m\u001b[0mnum_layers\u001b[0m\u001b[0;34m,\u001b[0m \u001b[0mnum_decoder_layers\u001b[0m\u001b[0;34m=\u001b[0m\u001b[0mnum_layers\u001b[0m\u001b[0;34m,\u001b[0m  \u001b[0mdropout\u001b[0m\u001b[0;34m=\u001b[0m\u001b[0mdropout\u001b[0m\u001b[0;34m,\u001b[0m \u001b[0mbatch_first\u001b[0m\u001b[0;34m=\u001b[0m\u001b[0mbatch_first\u001b[0m\u001b[0;34m)\u001b[0m\u001b[0;34m\u001b[0m\u001b[0;34m\u001b[0m\u001b[0m\n\u001b[1;32m      5\u001b[0m     \u001b[0;32mdef\u001b[0m \u001b[0mforward\u001b[0m\u001b[0;34m(\u001b[0m\u001b[0mself\u001b[0m\u001b[0;34m,\u001b[0m\u001b[0mx\u001b[0m\u001b[0;34m,\u001b[0m\u001b[0mmask\u001b[0m\u001b[0;34m,\u001b[0m\u001b[0msrc_key_padding_mask\u001b[0m\u001b[0;34m,\u001b[0m\u001b[0mis_causal\u001b[0m\u001b[0;34m)\u001b[0m\u001b[0;34m:\u001b[0m\u001b[0;34m\u001b[0m\u001b[0;34m\u001b[0m\u001b[0m\n\u001b[0;32m----> 6\u001b[0;31m       return self.transformer(x,\n\u001b[0m\u001b[1;32m      7\u001b[0m                        \u001b[0mx\u001b[0m\u001b[0;34m,\u001b[0m\u001b[0;34m\u001b[0m\u001b[0;34m\u001b[0m\u001b[0m\n\u001b[1;32m      8\u001b[0m                        \u001b[0msrc_mask\u001b[0m\u001b[0;34m=\u001b[0m\u001b[0mmask\u001b[0m\u001b[0;34m,\u001b[0m\u001b[0;34m\u001b[0m\u001b[0;34m\u001b[0m\u001b[0m\n",
            "\u001b[0;32m/usr/local/lib/python3.10/dist-packages/torch/nn/modules/module.py\u001b[0m in \u001b[0;36m_wrapped_call_impl\u001b[0;34m(self, *args, **kwargs)\u001b[0m\n\u001b[1;32m   1516\u001b[0m             \u001b[0;32mreturn\u001b[0m \u001b[0mself\u001b[0m\u001b[0;34m.\u001b[0m\u001b[0m_compiled_call_impl\u001b[0m\u001b[0;34m(\u001b[0m\u001b[0;34m*\u001b[0m\u001b[0margs\u001b[0m\u001b[0;34m,\u001b[0m \u001b[0;34m**\u001b[0m\u001b[0mkwargs\u001b[0m\u001b[0;34m)\u001b[0m  \u001b[0;31m# type: ignore[misc]\u001b[0m\u001b[0;34m\u001b[0m\u001b[0;34m\u001b[0m\u001b[0m\n\u001b[1;32m   1517\u001b[0m         \u001b[0;32melse\u001b[0m\u001b[0;34m:\u001b[0m\u001b[0;34m\u001b[0m\u001b[0;34m\u001b[0m\u001b[0m\n\u001b[0;32m-> 1518\u001b[0;31m             \u001b[0;32mreturn\u001b[0m \u001b[0mself\u001b[0m\u001b[0;34m.\u001b[0m\u001b[0m_call_impl\u001b[0m\u001b[0;34m(\u001b[0m\u001b[0;34m*\u001b[0m\u001b[0margs\u001b[0m\u001b[0;34m,\u001b[0m \u001b[0;34m**\u001b[0m\u001b[0mkwargs\u001b[0m\u001b[0;34m)\u001b[0m\u001b[0;34m\u001b[0m\u001b[0;34m\u001b[0m\u001b[0m\n\u001b[0m\u001b[1;32m   1519\u001b[0m \u001b[0;34m\u001b[0m\u001b[0m\n\u001b[1;32m   1520\u001b[0m     \u001b[0;32mdef\u001b[0m \u001b[0m_call_impl\u001b[0m\u001b[0;34m(\u001b[0m\u001b[0mself\u001b[0m\u001b[0;34m,\u001b[0m \u001b[0;34m*\u001b[0m\u001b[0margs\u001b[0m\u001b[0;34m,\u001b[0m \u001b[0;34m**\u001b[0m\u001b[0mkwargs\u001b[0m\u001b[0;34m)\u001b[0m\u001b[0;34m:\u001b[0m\u001b[0;34m\u001b[0m\u001b[0;34m\u001b[0m\u001b[0m\n",
            "\u001b[0;32m/usr/local/lib/python3.10/dist-packages/torch/nn/modules/module.py\u001b[0m in \u001b[0;36m_call_impl\u001b[0;34m(self, *args, **kwargs)\u001b[0m\n\u001b[1;32m   1525\u001b[0m                 \u001b[0;32mor\u001b[0m \u001b[0m_global_backward_pre_hooks\u001b[0m \u001b[0;32mor\u001b[0m \u001b[0m_global_backward_hooks\u001b[0m\u001b[0;34m\u001b[0m\u001b[0;34m\u001b[0m\u001b[0m\n\u001b[1;32m   1526\u001b[0m                 or _global_forward_hooks or _global_forward_pre_hooks):\n\u001b[0;32m-> 1527\u001b[0;31m             \u001b[0;32mreturn\u001b[0m \u001b[0mforward_call\u001b[0m\u001b[0;34m(\u001b[0m\u001b[0;34m*\u001b[0m\u001b[0margs\u001b[0m\u001b[0;34m,\u001b[0m \u001b[0;34m**\u001b[0m\u001b[0mkwargs\u001b[0m\u001b[0;34m)\u001b[0m\u001b[0;34m\u001b[0m\u001b[0;34m\u001b[0m\u001b[0m\n\u001b[0m\u001b[1;32m   1528\u001b[0m \u001b[0;34m\u001b[0m\u001b[0m\n\u001b[1;32m   1529\u001b[0m         \u001b[0;32mtry\u001b[0m\u001b[0;34m:\u001b[0m\u001b[0;34m\u001b[0m\u001b[0;34m\u001b[0m\u001b[0m\n",
            "\u001b[0;32m/usr/local/lib/python3.10/dist-packages/torch/nn/modules/transformer.py\u001b[0m in \u001b[0;36mforward\u001b[0;34m(self, src, tgt, src_mask, tgt_mask, memory_mask, src_key_padding_mask, tgt_key_padding_mask, memory_key_padding_mask, src_is_causal, tgt_is_causal, memory_is_causal)\u001b[0m\n\u001b[1;32m    204\u001b[0m         memory = self.encoder(src, mask=src_mask, src_key_padding_mask=src_key_padding_mask,\n\u001b[1;32m    205\u001b[0m                               is_causal=src_is_causal)\n\u001b[0;32m--> 206\u001b[0;31m         output = self.decoder(tgt, memory, tgt_mask=tgt_mask, memory_mask=memory_mask,\n\u001b[0m\u001b[1;32m    207\u001b[0m                               \u001b[0mtgt_key_padding_mask\u001b[0m\u001b[0;34m=\u001b[0m\u001b[0mtgt_key_padding_mask\u001b[0m\u001b[0;34m,\u001b[0m\u001b[0;34m\u001b[0m\u001b[0;34m\u001b[0m\u001b[0m\n\u001b[1;32m    208\u001b[0m                               \u001b[0mmemory_key_padding_mask\u001b[0m\u001b[0;34m=\u001b[0m\u001b[0mmemory_key_padding_mask\u001b[0m\u001b[0;34m,\u001b[0m\u001b[0;34m\u001b[0m\u001b[0;34m\u001b[0m\u001b[0m\n",
            "\u001b[0;32m/usr/local/lib/python3.10/dist-packages/torch/nn/modules/module.py\u001b[0m in \u001b[0;36m_wrapped_call_impl\u001b[0;34m(self, *args, **kwargs)\u001b[0m\n\u001b[1;32m   1516\u001b[0m             \u001b[0;32mreturn\u001b[0m \u001b[0mself\u001b[0m\u001b[0;34m.\u001b[0m\u001b[0m_compiled_call_impl\u001b[0m\u001b[0;34m(\u001b[0m\u001b[0;34m*\u001b[0m\u001b[0margs\u001b[0m\u001b[0;34m,\u001b[0m \u001b[0;34m**\u001b[0m\u001b[0mkwargs\u001b[0m\u001b[0;34m)\u001b[0m  \u001b[0;31m# type: ignore[misc]\u001b[0m\u001b[0;34m\u001b[0m\u001b[0;34m\u001b[0m\u001b[0m\n\u001b[1;32m   1517\u001b[0m         \u001b[0;32melse\u001b[0m\u001b[0;34m:\u001b[0m\u001b[0;34m\u001b[0m\u001b[0;34m\u001b[0m\u001b[0m\n\u001b[0;32m-> 1518\u001b[0;31m             \u001b[0;32mreturn\u001b[0m \u001b[0mself\u001b[0m\u001b[0;34m.\u001b[0m\u001b[0m_call_impl\u001b[0m\u001b[0;34m(\u001b[0m\u001b[0;34m*\u001b[0m\u001b[0margs\u001b[0m\u001b[0;34m,\u001b[0m \u001b[0;34m**\u001b[0m\u001b[0mkwargs\u001b[0m\u001b[0;34m)\u001b[0m\u001b[0;34m\u001b[0m\u001b[0;34m\u001b[0m\u001b[0m\n\u001b[0m\u001b[1;32m   1519\u001b[0m \u001b[0;34m\u001b[0m\u001b[0m\n\u001b[1;32m   1520\u001b[0m     \u001b[0;32mdef\u001b[0m \u001b[0m_call_impl\u001b[0m\u001b[0;34m(\u001b[0m\u001b[0mself\u001b[0m\u001b[0;34m,\u001b[0m \u001b[0;34m*\u001b[0m\u001b[0margs\u001b[0m\u001b[0;34m,\u001b[0m \u001b[0;34m**\u001b[0m\u001b[0mkwargs\u001b[0m\u001b[0;34m)\u001b[0m\u001b[0;34m:\u001b[0m\u001b[0;34m\u001b[0m\u001b[0;34m\u001b[0m\u001b[0m\n",
            "\u001b[0;32m/usr/local/lib/python3.10/dist-packages/torch/nn/modules/module.py\u001b[0m in \u001b[0;36m_call_impl\u001b[0;34m(self, *args, **kwargs)\u001b[0m\n\u001b[1;32m   1525\u001b[0m                 \u001b[0;32mor\u001b[0m \u001b[0m_global_backward_pre_hooks\u001b[0m \u001b[0;32mor\u001b[0m \u001b[0m_global_backward_hooks\u001b[0m\u001b[0;34m\u001b[0m\u001b[0;34m\u001b[0m\u001b[0m\n\u001b[1;32m   1526\u001b[0m                 or _global_forward_hooks or _global_forward_pre_hooks):\n\u001b[0;32m-> 1527\u001b[0;31m             \u001b[0;32mreturn\u001b[0m \u001b[0mforward_call\u001b[0m\u001b[0;34m(\u001b[0m\u001b[0;34m*\u001b[0m\u001b[0margs\u001b[0m\u001b[0;34m,\u001b[0m \u001b[0;34m**\u001b[0m\u001b[0mkwargs\u001b[0m\u001b[0;34m)\u001b[0m\u001b[0;34m\u001b[0m\u001b[0;34m\u001b[0m\u001b[0m\n\u001b[0m\u001b[1;32m   1528\u001b[0m \u001b[0;34m\u001b[0m\u001b[0m\n\u001b[1;32m   1529\u001b[0m         \u001b[0;32mtry\u001b[0m\u001b[0;34m:\u001b[0m\u001b[0;34m\u001b[0m\u001b[0;34m\u001b[0m\u001b[0m\n",
            "\u001b[0;32m/usr/local/lib/python3.10/dist-packages/torch/nn/modules/transformer.py\u001b[0m in \u001b[0;36mforward\u001b[0;34m(self, tgt, memory, tgt_mask, memory_mask, tgt_key_padding_mask, memory_key_padding_mask, tgt_is_causal, memory_is_causal)\u001b[0m\n\u001b[1;32m    458\u001b[0m \u001b[0;34m\u001b[0m\u001b[0m\n\u001b[1;32m    459\u001b[0m         \u001b[0;32mfor\u001b[0m \u001b[0mmod\u001b[0m \u001b[0;32min\u001b[0m \u001b[0mself\u001b[0m\u001b[0;34m.\u001b[0m\u001b[0mlayers\u001b[0m\u001b[0;34m:\u001b[0m\u001b[0;34m\u001b[0m\u001b[0;34m\u001b[0m\u001b[0m\n\u001b[0;32m--> 460\u001b[0;31m             output = mod(output, memory, tgt_mask=tgt_mask,\n\u001b[0m\u001b[1;32m    461\u001b[0m                          \u001b[0mmemory_mask\u001b[0m\u001b[0;34m=\u001b[0m\u001b[0mmemory_mask\u001b[0m\u001b[0;34m,\u001b[0m\u001b[0;34m\u001b[0m\u001b[0;34m\u001b[0m\u001b[0m\n\u001b[1;32m    462\u001b[0m                          \u001b[0mtgt_key_padding_mask\u001b[0m\u001b[0;34m=\u001b[0m\u001b[0mtgt_key_padding_mask\u001b[0m\u001b[0;34m,\u001b[0m\u001b[0;34m\u001b[0m\u001b[0;34m\u001b[0m\u001b[0m\n",
            "\u001b[0;32m/usr/local/lib/python3.10/dist-packages/torch/nn/modules/module.py\u001b[0m in \u001b[0;36m_wrapped_call_impl\u001b[0;34m(self, *args, **kwargs)\u001b[0m\n\u001b[1;32m   1516\u001b[0m             \u001b[0;32mreturn\u001b[0m \u001b[0mself\u001b[0m\u001b[0;34m.\u001b[0m\u001b[0m_compiled_call_impl\u001b[0m\u001b[0;34m(\u001b[0m\u001b[0;34m*\u001b[0m\u001b[0margs\u001b[0m\u001b[0;34m,\u001b[0m \u001b[0;34m**\u001b[0m\u001b[0mkwargs\u001b[0m\u001b[0;34m)\u001b[0m  \u001b[0;31m# type: ignore[misc]\u001b[0m\u001b[0;34m\u001b[0m\u001b[0;34m\u001b[0m\u001b[0m\n\u001b[1;32m   1517\u001b[0m         \u001b[0;32melse\u001b[0m\u001b[0;34m:\u001b[0m\u001b[0;34m\u001b[0m\u001b[0;34m\u001b[0m\u001b[0m\n\u001b[0;32m-> 1518\u001b[0;31m             \u001b[0;32mreturn\u001b[0m \u001b[0mself\u001b[0m\u001b[0;34m.\u001b[0m\u001b[0m_call_impl\u001b[0m\u001b[0;34m(\u001b[0m\u001b[0;34m*\u001b[0m\u001b[0margs\u001b[0m\u001b[0;34m,\u001b[0m \u001b[0;34m**\u001b[0m\u001b[0mkwargs\u001b[0m\u001b[0;34m)\u001b[0m\u001b[0;34m\u001b[0m\u001b[0;34m\u001b[0m\u001b[0m\n\u001b[0m\u001b[1;32m   1519\u001b[0m \u001b[0;34m\u001b[0m\u001b[0m\n\u001b[1;32m   1520\u001b[0m     \u001b[0;32mdef\u001b[0m \u001b[0m_call_impl\u001b[0m\u001b[0;34m(\u001b[0m\u001b[0mself\u001b[0m\u001b[0;34m,\u001b[0m \u001b[0;34m*\u001b[0m\u001b[0margs\u001b[0m\u001b[0;34m,\u001b[0m \u001b[0;34m**\u001b[0m\u001b[0mkwargs\u001b[0m\u001b[0;34m)\u001b[0m\u001b[0;34m:\u001b[0m\u001b[0;34m\u001b[0m\u001b[0;34m\u001b[0m\u001b[0m\n",
            "\u001b[0;32m/usr/local/lib/python3.10/dist-packages/torch/nn/modules/module.py\u001b[0m in \u001b[0;36m_call_impl\u001b[0;34m(self, *args, **kwargs)\u001b[0m\n\u001b[1;32m   1525\u001b[0m                 \u001b[0;32mor\u001b[0m \u001b[0m_global_backward_pre_hooks\u001b[0m \u001b[0;32mor\u001b[0m \u001b[0m_global_backward_hooks\u001b[0m\u001b[0;34m\u001b[0m\u001b[0;34m\u001b[0m\u001b[0m\n\u001b[1;32m   1526\u001b[0m                 or _global_forward_hooks or _global_forward_pre_hooks):\n\u001b[0;32m-> 1527\u001b[0;31m             \u001b[0;32mreturn\u001b[0m \u001b[0mforward_call\u001b[0m\u001b[0;34m(\u001b[0m\u001b[0;34m*\u001b[0m\u001b[0margs\u001b[0m\u001b[0;34m,\u001b[0m \u001b[0;34m**\u001b[0m\u001b[0mkwargs\u001b[0m\u001b[0;34m)\u001b[0m\u001b[0;34m\u001b[0m\u001b[0;34m\u001b[0m\u001b[0m\n\u001b[0m\u001b[1;32m   1528\u001b[0m \u001b[0;34m\u001b[0m\u001b[0m\n\u001b[1;32m   1529\u001b[0m         \u001b[0;32mtry\u001b[0m\u001b[0;34m:\u001b[0m\u001b[0;34m\u001b[0m\u001b[0;34m\u001b[0m\u001b[0m\n",
            "\u001b[0;32m/usr/local/lib/python3.10/dist-packages/torch/nn/modules/transformer.py\u001b[0m in \u001b[0;36mforward\u001b[0;34m(self, tgt, memory, tgt_mask, memory_mask, tgt_key_padding_mask, memory_key_padding_mask, tgt_is_causal, memory_is_causal)\u001b[0m\n\u001b[1;32m    845\u001b[0m         \u001b[0;32melse\u001b[0m\u001b[0;34m:\u001b[0m\u001b[0;34m\u001b[0m\u001b[0;34m\u001b[0m\u001b[0m\n\u001b[1;32m    846\u001b[0m             \u001b[0mx\u001b[0m \u001b[0;34m=\u001b[0m \u001b[0mself\u001b[0m\u001b[0;34m.\u001b[0m\u001b[0mnorm1\u001b[0m\u001b[0;34m(\u001b[0m\u001b[0mx\u001b[0m \u001b[0;34m+\u001b[0m \u001b[0mself\u001b[0m\u001b[0;34m.\u001b[0m\u001b[0m_sa_block\u001b[0m\u001b[0;34m(\u001b[0m\u001b[0mx\u001b[0m\u001b[0;34m,\u001b[0m \u001b[0mtgt_mask\u001b[0m\u001b[0;34m,\u001b[0m \u001b[0mtgt_key_padding_mask\u001b[0m\u001b[0;34m,\u001b[0m \u001b[0mtgt_is_causal\u001b[0m\u001b[0;34m)\u001b[0m\u001b[0;34m)\u001b[0m\u001b[0;34m\u001b[0m\u001b[0;34m\u001b[0m\u001b[0m\n\u001b[0;32m--> 847\u001b[0;31m             \u001b[0mx\u001b[0m \u001b[0;34m=\u001b[0m \u001b[0mself\u001b[0m\u001b[0;34m.\u001b[0m\u001b[0mnorm2\u001b[0m\u001b[0;34m(\u001b[0m\u001b[0mx\u001b[0m \u001b[0;34m+\u001b[0m \u001b[0mself\u001b[0m\u001b[0;34m.\u001b[0m\u001b[0m_mha_block\u001b[0m\u001b[0;34m(\u001b[0m\u001b[0mx\u001b[0m\u001b[0;34m,\u001b[0m \u001b[0mmemory\u001b[0m\u001b[0;34m,\u001b[0m \u001b[0mmemory_mask\u001b[0m\u001b[0;34m,\u001b[0m \u001b[0mmemory_key_padding_mask\u001b[0m\u001b[0;34m,\u001b[0m \u001b[0mmemory_is_causal\u001b[0m\u001b[0;34m)\u001b[0m\u001b[0;34m)\u001b[0m\u001b[0;34m\u001b[0m\u001b[0;34m\u001b[0m\u001b[0m\n\u001b[0m\u001b[1;32m    848\u001b[0m             \u001b[0mx\u001b[0m \u001b[0;34m=\u001b[0m \u001b[0mself\u001b[0m\u001b[0;34m.\u001b[0m\u001b[0mnorm3\u001b[0m\u001b[0;34m(\u001b[0m\u001b[0mx\u001b[0m \u001b[0;34m+\u001b[0m \u001b[0mself\u001b[0m\u001b[0;34m.\u001b[0m\u001b[0m_ff_block\u001b[0m\u001b[0;34m(\u001b[0m\u001b[0mx\u001b[0m\u001b[0;34m)\u001b[0m\u001b[0;34m)\u001b[0m\u001b[0;34m\u001b[0m\u001b[0;34m\u001b[0m\u001b[0m\n\u001b[1;32m    849\u001b[0m \u001b[0;34m\u001b[0m\u001b[0m\n",
            "\u001b[0;32m/usr/local/lib/python3.10/dist-packages/torch/nn/modules/transformer.py\u001b[0m in \u001b[0;36m_mha_block\u001b[0;34m(self, x, mem, attn_mask, key_padding_mask, is_causal)\u001b[0m\n\u001b[1;32m    863\u001b[0m     def _mha_block(self, x: Tensor, mem: Tensor,\n\u001b[1;32m    864\u001b[0m                    attn_mask: Optional[Tensor], key_padding_mask: Optional[Tensor], is_causal: bool = False) -> Tensor:\n\u001b[0;32m--> 865\u001b[0;31m         x = self.multihead_attn(x, mem, mem,\n\u001b[0m\u001b[1;32m    866\u001b[0m                                 \u001b[0mattn_mask\u001b[0m\u001b[0;34m=\u001b[0m\u001b[0mattn_mask\u001b[0m\u001b[0;34m,\u001b[0m\u001b[0;34m\u001b[0m\u001b[0;34m\u001b[0m\u001b[0m\n\u001b[1;32m    867\u001b[0m                                 \u001b[0mkey_padding_mask\u001b[0m\u001b[0;34m=\u001b[0m\u001b[0mkey_padding_mask\u001b[0m\u001b[0;34m,\u001b[0m\u001b[0;34m\u001b[0m\u001b[0;34m\u001b[0m\u001b[0m\n",
            "\u001b[0;32m/usr/local/lib/python3.10/dist-packages/torch/nn/modules/module.py\u001b[0m in \u001b[0;36m_wrapped_call_impl\u001b[0;34m(self, *args, **kwargs)\u001b[0m\n\u001b[1;32m   1516\u001b[0m             \u001b[0;32mreturn\u001b[0m \u001b[0mself\u001b[0m\u001b[0;34m.\u001b[0m\u001b[0m_compiled_call_impl\u001b[0m\u001b[0;34m(\u001b[0m\u001b[0;34m*\u001b[0m\u001b[0margs\u001b[0m\u001b[0;34m,\u001b[0m \u001b[0;34m**\u001b[0m\u001b[0mkwargs\u001b[0m\u001b[0;34m)\u001b[0m  \u001b[0;31m# type: ignore[misc]\u001b[0m\u001b[0;34m\u001b[0m\u001b[0;34m\u001b[0m\u001b[0m\n\u001b[1;32m   1517\u001b[0m         \u001b[0;32melse\u001b[0m\u001b[0;34m:\u001b[0m\u001b[0;34m\u001b[0m\u001b[0;34m\u001b[0m\u001b[0m\n\u001b[0;32m-> 1518\u001b[0;31m             \u001b[0;32mreturn\u001b[0m \u001b[0mself\u001b[0m\u001b[0;34m.\u001b[0m\u001b[0m_call_impl\u001b[0m\u001b[0;34m(\u001b[0m\u001b[0;34m*\u001b[0m\u001b[0margs\u001b[0m\u001b[0;34m,\u001b[0m \u001b[0;34m**\u001b[0m\u001b[0mkwargs\u001b[0m\u001b[0;34m)\u001b[0m\u001b[0;34m\u001b[0m\u001b[0;34m\u001b[0m\u001b[0m\n\u001b[0m\u001b[1;32m   1519\u001b[0m \u001b[0;34m\u001b[0m\u001b[0m\n\u001b[1;32m   1520\u001b[0m     \u001b[0;32mdef\u001b[0m \u001b[0m_call_impl\u001b[0m\u001b[0;34m(\u001b[0m\u001b[0mself\u001b[0m\u001b[0;34m,\u001b[0m \u001b[0;34m*\u001b[0m\u001b[0margs\u001b[0m\u001b[0;34m,\u001b[0m \u001b[0;34m**\u001b[0m\u001b[0mkwargs\u001b[0m\u001b[0;34m)\u001b[0m\u001b[0;34m:\u001b[0m\u001b[0;34m\u001b[0m\u001b[0;34m\u001b[0m\u001b[0m\n",
            "\u001b[0;32m/usr/local/lib/python3.10/dist-packages/torch/nn/modules/module.py\u001b[0m in \u001b[0;36m_call_impl\u001b[0;34m(self, *args, **kwargs)\u001b[0m\n\u001b[1;32m   1525\u001b[0m                 \u001b[0;32mor\u001b[0m \u001b[0m_global_backward_pre_hooks\u001b[0m \u001b[0;32mor\u001b[0m \u001b[0m_global_backward_hooks\u001b[0m\u001b[0;34m\u001b[0m\u001b[0;34m\u001b[0m\u001b[0m\n\u001b[1;32m   1526\u001b[0m                 or _global_forward_hooks or _global_forward_pre_hooks):\n\u001b[0;32m-> 1527\u001b[0;31m             \u001b[0;32mreturn\u001b[0m \u001b[0mforward_call\u001b[0m\u001b[0;34m(\u001b[0m\u001b[0;34m*\u001b[0m\u001b[0margs\u001b[0m\u001b[0;34m,\u001b[0m \u001b[0;34m**\u001b[0m\u001b[0mkwargs\u001b[0m\u001b[0;34m)\u001b[0m\u001b[0;34m\u001b[0m\u001b[0;34m\u001b[0m\u001b[0m\n\u001b[0m\u001b[1;32m   1528\u001b[0m \u001b[0;34m\u001b[0m\u001b[0m\n\u001b[1;32m   1529\u001b[0m         \u001b[0;32mtry\u001b[0m\u001b[0;34m:\u001b[0m\u001b[0;34m\u001b[0m\u001b[0;34m\u001b[0m\u001b[0m\n",
            "\u001b[0;32m/usr/local/lib/python3.10/dist-packages/torch/nn/modules/activation.py\u001b[0m in \u001b[0;36mforward\u001b[0;34m(self, query, key, value, key_padding_mask, need_weights, attn_mask, average_attn_weights, is_causal)\u001b[0m\n\u001b[1;32m   1239\u001b[0m                 is_causal=is_causal)\n\u001b[1;32m   1240\u001b[0m         \u001b[0;32melse\u001b[0m\u001b[0;34m:\u001b[0m\u001b[0;34m\u001b[0m\u001b[0;34m\u001b[0m\u001b[0m\n\u001b[0;32m-> 1241\u001b[0;31m             attn_output, attn_output_weights = F.multi_head_attention_forward(\n\u001b[0m\u001b[1;32m   1242\u001b[0m                 \u001b[0mquery\u001b[0m\u001b[0;34m,\u001b[0m \u001b[0mkey\u001b[0m\u001b[0;34m,\u001b[0m \u001b[0mvalue\u001b[0m\u001b[0;34m,\u001b[0m \u001b[0mself\u001b[0m\u001b[0;34m.\u001b[0m\u001b[0membed_dim\u001b[0m\u001b[0;34m,\u001b[0m \u001b[0mself\u001b[0m\u001b[0;34m.\u001b[0m\u001b[0mnum_heads\u001b[0m\u001b[0;34m,\u001b[0m\u001b[0;34m\u001b[0m\u001b[0;34m\u001b[0m\u001b[0m\n\u001b[1;32m   1243\u001b[0m                 \u001b[0mself\u001b[0m\u001b[0;34m.\u001b[0m\u001b[0min_proj_weight\u001b[0m\u001b[0;34m,\u001b[0m \u001b[0mself\u001b[0m\u001b[0;34m.\u001b[0m\u001b[0min_proj_bias\u001b[0m\u001b[0;34m,\u001b[0m\u001b[0;34m\u001b[0m\u001b[0;34m\u001b[0m\u001b[0m\n",
            "\u001b[0;32m/usr/local/lib/python3.10/dist-packages/torch/nn/functional.py\u001b[0m in \u001b[0;36mmulti_head_attention_forward\u001b[0;34m(query, key, value, embed_dim_to_check, num_heads, in_proj_weight, in_proj_bias, bias_k, bias_v, add_zero_attn, dropout_p, out_proj_weight, out_proj_bias, training, key_padding_mask, need_weights, attn_mask, use_separate_proj_weight, q_proj_weight, k_proj_weight, v_proj_weight, static_k, static_v, average_attn_weights, is_causal)\u001b[0m\n\u001b[1;32m   5438\u001b[0m         \u001b[0mv\u001b[0m \u001b[0;34m=\u001b[0m \u001b[0mv\u001b[0m\u001b[0;34m.\u001b[0m\u001b[0mview\u001b[0m\u001b[0;34m(\u001b[0m\u001b[0mbsz\u001b[0m\u001b[0;34m,\u001b[0m \u001b[0mnum_heads\u001b[0m\u001b[0;34m,\u001b[0m \u001b[0msrc_len\u001b[0m\u001b[0;34m,\u001b[0m \u001b[0mhead_dim\u001b[0m\u001b[0;34m)\u001b[0m\u001b[0;34m\u001b[0m\u001b[0;34m\u001b[0m\u001b[0m\n\u001b[1;32m   5439\u001b[0m \u001b[0;34m\u001b[0m\u001b[0m\n\u001b[0;32m-> 5440\u001b[0;31m         \u001b[0mattn_output\u001b[0m \u001b[0;34m=\u001b[0m \u001b[0mscaled_dot_product_attention\u001b[0m\u001b[0;34m(\u001b[0m\u001b[0mq\u001b[0m\u001b[0;34m,\u001b[0m \u001b[0mk\u001b[0m\u001b[0;34m,\u001b[0m \u001b[0mv\u001b[0m\u001b[0;34m,\u001b[0m \u001b[0mattn_mask\u001b[0m\u001b[0;34m,\u001b[0m \u001b[0mdropout_p\u001b[0m\u001b[0;34m,\u001b[0m \u001b[0mis_causal\u001b[0m\u001b[0;34m)\u001b[0m\u001b[0;34m\u001b[0m\u001b[0;34m\u001b[0m\u001b[0m\n\u001b[0m\u001b[1;32m   5441\u001b[0m         \u001b[0mattn_output\u001b[0m \u001b[0;34m=\u001b[0m \u001b[0mattn_output\u001b[0m\u001b[0;34m.\u001b[0m\u001b[0mpermute\u001b[0m\u001b[0;34m(\u001b[0m\u001b[0;36m2\u001b[0m\u001b[0;34m,\u001b[0m \u001b[0;36m0\u001b[0m\u001b[0;34m,\u001b[0m \u001b[0;36m1\u001b[0m\u001b[0;34m,\u001b[0m \u001b[0;36m3\u001b[0m\u001b[0;34m)\u001b[0m\u001b[0;34m.\u001b[0m\u001b[0mcontiguous\u001b[0m\u001b[0;34m(\u001b[0m\u001b[0;34m)\u001b[0m\u001b[0;34m.\u001b[0m\u001b[0mview\u001b[0m\u001b[0;34m(\u001b[0m\u001b[0mbsz\u001b[0m \u001b[0;34m*\u001b[0m \u001b[0mtgt_len\u001b[0m\u001b[0;34m,\u001b[0m \u001b[0membed_dim\u001b[0m\u001b[0;34m)\u001b[0m\u001b[0;34m\u001b[0m\u001b[0;34m\u001b[0m\u001b[0m\n\u001b[1;32m   5442\u001b[0m \u001b[0;34m\u001b[0m\u001b[0m\n",
            "\u001b[0;31mOutOfMemoryError\u001b[0m: CUDA out of memory. Tried to allocate 16.00 MiB. GPU 0 has a total capacty of 14.75 GiB of which 7.06 MiB is free. Process 61264 has 14.74 GiB memory in use. Of the allocated memory 13.99 GiB is allocated by PyTorch, and 604.22 MiB is reserved by PyTorch but unallocated. If reserved but unallocated memory is large try setting max_split_size_mb to avoid fragmentation.  See documentation for Memory Management and PYTORCH_CUDA_ALLOC_CONF"
          ]
        }
      ],
      "source": [
        "# @title Titre par défaut\n",
        "model=train(\n",
        "          epochs_classifcation_only=100,\n",
        "          epochs_complete_problem =100,\n",
        "          input_size=2,\n",
        "          num_heads=12,\n",
        "          d_model=1200,\n",
        "          nb_of_pos_ids=len(vocab)+1,\n",
        "          num_layers_lstm=2,\n",
        "          lstm_layer_with_perceptron=False,\n",
        "          lstm_layer_with_layer_norm=False,\n",
        "          num_layers_transformer=6,\n",
        "          encoder_only=False,\n",
        "          output_regression_size=2,\n",
        "          output_classfication_size=len(vocab)+1,\n",
        "          nb_batchs=100,\n",
        "          dropout=0.1,\n",
        "          max_len=100,\n",
        "          weight_decay=0,\n",
        "          lr=1e-3,\n",
        "          learnable_pos_encoding=True,\n",
        "          new_station_binary_classification=False,\n",
        "          use_gcn=False,\n",
        "          vocab=vocab, hidden_dim1=128, hidden_dim2=256,\n",
        "          batch_first= True,\n",
        "          concatenate_features = True,\n",
        "          keep_input_positions = False,\n",
        "          upsampling=False,\n",
        "          upsampling_strategy=upsampling_strategy,\n",
        "          epochs_new_station_only=0,\n",
        "          pourcentage_of_repeat_training_elment=0.1,\n",
        "          save_best_model=True,\n",
        "          path_best_model=\"test_0.5\",\n",
        "          device=device,\n",
        "          batch_size=64\n",
        "          )"
      ]
    },
    {
      "cell_type": "code",
      "source": [
        "def evaluate_repeat(model,dataloader,device,reg=True):\n",
        "  model.eval()\n",
        "  with torch.no_grad():\n",
        "    acc=0\n",
        "    nb_points=0\n",
        "    repeat=0\n",
        "    not_repeat=0\n",
        "    correct_not_repeat=0\n",
        "    correct_repeat=0\n",
        "    incorrect_not_repeat_as_repeat=0\n",
        "    incorrect_not_repeat=0\n",
        "    valid_results={}\n",
        "    for dict_batch in dataloader:\n",
        "      for key in dict_batch:\n",
        "        if key!=\"lengths\":\n",
        "          dict_batch[key]=dict_batch[key].to(device)\n",
        "      with autocast(device_type=device.type):\n",
        "        out=model(dict_batch,reg=reg)\n",
        "        target_pos_ids=torch.nn.utils.rnn.pack_padded_sequence(dict_batch[\"pos_id_target\"], lengths=dict_batch[\"lengths\"],batch_first=True, enforce_sorted=False)\n",
        "        acc+=(out[\"next_station\"].data.argmax(dim=1)==target_pos_ids.data).sum().item()\n",
        "        nb_points+=out[\"next_station\"].data.shape[0]\n",
        "        pred=out[\"next_station\"].data.argmax(dim=1)\n",
        "        pos_ids=torch.nn.utils.rnn.pack_padded_sequence(dict_batch[\"pos_id\"], lengths=dict_batch[\"lengths\"],batch_first=True, enforce_sorted=False)\n",
        "        for i in range(len(target_pos_ids.data)):\n",
        "          if target_pos_ids.data[i]==pos_ids.data[i]:\n",
        "            repeat+=1\n",
        "\n",
        "            if target_pos_ids.data[i]==pred[i]:\n",
        "              correct_repeat+=1\n",
        "          else:\n",
        "            not_repeat+=1\n",
        "            if target_pos_ids.data[i]==pred[i]:\n",
        "              correct_not_repeat+=1\n",
        "            if target_pos_ids.data[i]!=pred[i]:\n",
        "              incorrect_not_repeat+=1\n",
        "\n",
        "          if pred[i]==pos_ids.data[i] and target_pos_ids.data[i]!=pos_ids.data[i]:\n",
        "            incorrect_not_repeat_as_repeat+=1\n",
        "    print(nb_points,\"repeat: \",repeat,\" not_repeat: \",not_repeat,\" correct_repeat/repeat: \",correct_repeat/repeat,\" correct_not_repeat/not_repeat: \",correct_not_repeat/not_repeat,incorrect_not_repeat_as_repeat/incorrect_not_repeat)\n",
        "    return valid_results"
      ],
      "metadata": {
        "id": "HClPVCKb59Zl"
      },
      "execution_count": null,
      "outputs": []
    },
    {
      "cell_type": "code",
      "source": [
        "model=Transformer_encoder_LSTM_decoder(d_model=768,\n",
        "                                         nb_of_pos_ids=len(vocab)+1,\n",
        "                                         output_regression_size=2,\n",
        "                                         output_classfication_size=len(vocab)+1,\n",
        "                                         num_layers_lstm=0,\n",
        "                                         num_layers_transformer=6,\n",
        "                                         encoder_only=False,\n",
        "                                         nhead=12,\n",
        "                                         learnable_pos_encoding=True,\n",
        "                                         new_station_binary_classification=False,\n",
        "                                         use_gcn=True,\n",
        "                                         vocab=vocab,\n",
        "                                         hidden_dim1=128,\n",
        "                                         hidden_dim2=256,\n",
        "                                         max_len=100,\n",
        "                                         dropout=0.1,\n",
        "                                         batch_first = True,\n",
        "                                         concatenate_features = False,\n",
        "                                         keep_input_positions = False,device=device\n",
        "                                         ).to(device)\n",
        "\n",
        "model.load_state_dict(torch.load(\"test_0.5/acc.pth\"))\n",
        "evaluate_repeat(model,test_dataloader,device)"
      ],
      "metadata": {
        "colab": {
          "base_uri": "https://localhost:8080/"
        },
        "id": "nKyqswVm-Flq",
        "outputId": "4f8a2d24-1d1d-4d5e-da84-30957736cbd9"
      },
      "execution_count": null,
      "outputs": [
        {
          "output_type": "stream",
          "name": "stderr",
          "text": [
            "<ipython-input-18-cfd962976380>:15: FutureWarning: `use_index` defaults to False but will default to True in future. Set True/False directly to control this behavior and silence this warning\n",
            "  delaunay = weights.Rook.from_dataframe(cells)\n",
            "/usr/local/lib/python3.10/dist-packages/torch/nn/functional.py:5076: UserWarning: Support for mismatched src_key_padding_mask and mask is deprecated. Use same type for both instead.\n",
            "  warnings.warn(\n",
            "/usr/local/lib/python3.10/dist-packages/torch/nn/functional.py:5076: UserWarning: Support for mismatched key_padding_mask and attn_mask is deprecated. Use same type for both instead.\n",
            "  warnings.warn(\n"
          ]
        },
        {
          "output_type": "stream",
          "name": "stdout",
          "text": [
            "163887 repeat:  118156  not_repeat:  45731  correct_repeat/repeat:  0.6509191238701378  correct_not_repeat/not_repeat:  0.2762021385930769 0.4746223564954683\n"
          ]
        },
        {
          "output_type": "execute_result",
          "data": {
            "text/plain": [
              "{}"
            ]
          },
          "metadata": {},
          "execution_count": 47
        }
      ]
    },
    {
      "cell_type": "code",
      "source": [
        "model=Transformer_encoder_LSTM_decoder(d_model=600,\n",
        "                                         nb_of_pos_ids=len(vocab)+1,\n",
        "                                         output_regression_size=2,\n",
        "                                         output_classfication_size=len(vocab)+1,\n",
        "                                         num_layers_lstm=12,\n",
        "                                         num_layers_transformer=0,\n",
        "                                         encoder_only=False,\n",
        "                                         nhead=12,\n",
        "                                         learnable_pos_encoding=True,\n",
        "                                         new_station_binary_classification=False,\n",
        "                                         use_gcn=True,\n",
        "                                         vocab=vocab,\n",
        "                                         hidden_dim1=128,\n",
        "                                         hidden_dim2=256,\n",
        "                                         max_len=100,\n",
        "                                         dropout=0.1,\n",
        "                                         batch_first = True,\n",
        "                                         concatenate_features = False,\n",
        "                                         keep_input_positions = False,device=device\n",
        "                                         ).to(device)\n",
        "\n",
        "model.load_state_dict(torch.load(\"test_0.5/acc.pth\"))\n",
        "evaluate_repeat(model,test_dataloader,device)"
      ],
      "metadata": {
        "colab": {
          "base_uri": "https://localhost:8080/"
        },
        "id": "ufqL-c1e27Vm",
        "outputId": "5e436410-45a5-4c71-da92-f5b40a030112"
      },
      "execution_count": null,
      "outputs": [
        {
          "output_type": "stream",
          "name": "stderr",
          "text": [
            "<ipython-input-18-cfd962976380>:15: FutureWarning: `use_index` defaults to False but will default to True in future. Set True/False directly to control this behavior and silence this warning\n",
            "  delaunay = weights.Rook.from_dataframe(cells)\n",
            "/usr/local/lib/python3.10/dist-packages/torch/nn/modules/rnn.py:82: UserWarning: dropout option adds dropout after all but last recurrent layer, so non-zero dropout expects num_layers greater than 1, but got dropout=0.1 and num_layers=1\n",
            "  warnings.warn(\"dropout option adds dropout after all but last \"\n"
          ]
        },
        {
          "output_type": "stream",
          "name": "stdout",
          "text": [
            "163887 repeat:  118156  not_repeat:  45731  correct_repeat/repeat:  0.572683570872406  correct_not_repeat/not_repeat:  0.24545712973693992 0.38929461542920074\n"
          ]
        },
        {
          "output_type": "execute_result",
          "data": {
            "text/plain": [
              "{}"
            ]
          },
          "metadata": {},
          "execution_count": 45
        }
      ]
    },
    {
      "cell_type": "code",
      "source": [
        "model=Transformer_encoder_LSTM_decoder(d_model=600,\n",
        "                                         nb_of_pos_ids=len(vocab)+1,\n",
        "                                         output_regression_size=2,\n",
        "                                         output_classfication_size=len(vocab)+1,\n",
        "                                         num_layers_lstm=10,\n",
        "                                         num_layers_transformer=0,\n",
        "                                         encoder_only=False,\n",
        "                                         nhead=12,\n",
        "                                         learnable_pos_encoding=True,\n",
        "                                         new_station_binary_classification=False,\n",
        "                                         use_gcn=True,\n",
        "                                         vocab=vocab,\n",
        "                                         hidden_dim1=128,\n",
        "                                         hidden_dim2=256,\n",
        "                                         max_len=100,\n",
        "                                         dropout=0.1,\n",
        "                                         batch_first = True,\n",
        "                                         concatenate_features = False,\n",
        "                                         keep_input_positions = False,device=device\n",
        "                                         ).to(device)\n",
        "\n",
        "model.load_state_dict(torch.load(\"test_0.5/acc.pth\"))\n",
        "evaluate_repeat(model,test_dataloader,device)"
      ],
      "metadata": {
        "colab": {
          "base_uri": "https://localhost:8080/"
        },
        "id": "RqLMoo9hpA82",
        "outputId": "cc34ad4e-47d5-4efd-d99e-5c06837a607e"
      },
      "execution_count": null,
      "outputs": [
        {
          "output_type": "stream",
          "name": "stderr",
          "text": [
            "<ipython-input-18-cfd962976380>:15: FutureWarning: `use_index` defaults to False but will default to True in future. Set True/False directly to control this behavior and silence this warning\n",
            "  delaunay = weights.Rook.from_dataframe(cells)\n",
            "/usr/local/lib/python3.10/dist-packages/torch/nn/modules/rnn.py:82: UserWarning: dropout option adds dropout after all but last recurrent layer, so non-zero dropout expects num_layers greater than 1, but got dropout=0.1 and num_layers=1\n",
            "  warnings.warn(\"dropout option adds dropout after all but last \"\n"
          ]
        },
        {
          "output_type": "stream",
          "name": "stdout",
          "text": [
            "163887 repeat:  118156  not_repeat:  45731  correct_repeat/repeat:  0.5703307491790515  correct_not_repeat/not_repeat:  0.22293411471430757 0.40792435839711844\n"
          ]
        },
        {
          "output_type": "execute_result",
          "data": {
            "text/plain": [
              "{}"
            ]
          },
          "metadata": {},
          "execution_count": 42
        }
      ]
    },
    {
      "cell_type": "code",
      "source": [
        "model=Transformer_encoder_LSTM_decoder(d_model=600,\n",
        "                                         nb_of_pos_ids=len(vocab)+1,\n",
        "                                         output_regression_size=2,\n",
        "                                         output_classfication_size=len(vocab)+1,\n",
        "                                         num_layers_lstm=2,\n",
        "                                         num_layers_transformer=0,\n",
        "                                         encoder_only=False,\n",
        "                                         nhead=12,\n",
        "                                         learnable_pos_encoding=True,\n",
        "                                         new_station_binary_classification=False,\n",
        "                                         use_gcn=True,\n",
        "                                         vocab=vocab,\n",
        "                                         hidden_dim1=128,\n",
        "                                         hidden_dim2=256,\n",
        "                                         max_len=100,\n",
        "                                         dropout=0.1,\n",
        "                                         batch_first = True,\n",
        "                                         concatenate_features = False,\n",
        "                                         keep_input_positions = False,device=device\n",
        "                                         ).to(device)\n",
        "\n",
        "model.load_state_dict(torch.load(\"test_0.5/acc.pth\"))\n",
        "evaluate_repeat(model,test_dataloader,device)"
      ],
      "metadata": {
        "colab": {
          "base_uri": "https://localhost:8080/"
        },
        "id": "CYc14HpTkU2z",
        "outputId": "36544e2a-7d0b-4787-df90-4160a18680cb"
      },
      "execution_count": null,
      "outputs": [
        {
          "output_type": "stream",
          "name": "stderr",
          "text": [
            "<ipython-input-18-cfd962976380>:15: FutureWarning: `use_index` defaults to False but will default to True in future. Set True/False directly to control this behavior and silence this warning\n",
            "  delaunay = weights.Rook.from_dataframe(cells)\n",
            "/usr/local/lib/python3.10/dist-packages/torch/nn/modules/rnn.py:82: UserWarning: dropout option adds dropout after all but last recurrent layer, so non-zero dropout expects num_layers greater than 1, but got dropout=0.1 and num_layers=1\n",
            "  warnings.warn(\"dropout option adds dropout after all but last \"\n"
          ]
        },
        {
          "output_type": "stream",
          "name": "stdout",
          "text": [
            "163887 repeat:  118156  not_repeat:  45731  correct_repeat/repeat:  0.44894038389925184  correct_not_repeat/not_repeat:  0.29502962979160746 0.2873538261112317\n"
          ]
        },
        {
          "output_type": "execute_result",
          "data": {
            "text/plain": [
              "{}"
            ]
          },
          "metadata": {},
          "execution_count": 39
        }
      ]
    },
    {
      "cell_type": "code",
      "source": [
        "model=Transformer_encoder_LSTM_decoder(d_model=888,\n",
        "                                         nb_of_pos_ids=len(vocab)+1,\n",
        "                                         output_regression_size=2,\n",
        "                                         output_classfication_size=len(vocab)+1,\n",
        "                                         num_layers_lstm=2,\n",
        "                                         num_layers_transformer=5,\n",
        "                                         encoder_only=False,\n",
        "                                         nhead=12,\n",
        "                                         learnable_pos_encoding=True,\n",
        "                                         new_station_binary_classification=False,\n",
        "                                         use_gcn=True,\n",
        "                                         vocab=vocab,\n",
        "                                         hidden_dim1=128,\n",
        "                                         hidden_dim2=256,\n",
        "                                         max_len=100,\n",
        "                                         dropout=0.1,\n",
        "                                         batch_first = True,\n",
        "                                         concatenate_features = False,\n",
        "                                         keep_input_positions = False,device=device\n",
        "                                         ).to(device)\n",
        "\n",
        "model.load_state_dict(torch.load(\"test/acc.pth\"))\n",
        "evaluate_repeat(model,test_dataloader,device)"
      ],
      "metadata": {
        "colab": {
          "base_uri": "https://localhost:8080/",
          "height": 465
        },
        "id": "tI1PRax29Fqw",
        "outputId": "d9d5ea9f-4378-49ec-be25-2fe2ce5e37f1"
      },
      "execution_count": null,
      "outputs": [
        {
          "output_type": "stream",
          "name": "stderr",
          "text": [
            "<ipython-input-18-cfd962976380>:15: FutureWarning: `use_index` defaults to False but will default to True in future. Set True/False directly to control this behavior and silence this warning\n",
            "  delaunay = weights.Rook.from_dataframe(cells)\n",
            "/usr/local/lib/python3.10/dist-packages/torch/nn/modules/rnn.py:82: UserWarning: dropout option adds dropout after all but last recurrent layer, so non-zero dropout expects num_layers greater than 1, but got dropout=0.1 and num_layers=1\n",
            "  warnings.warn(\"dropout option adds dropout after all but last \"\n",
            "/usr/local/lib/python3.10/dist-packages/torch/nn/functional.py:5076: UserWarning: Support for mismatched src_key_padding_mask and mask is deprecated. Use same type for both instead.\n",
            "  warnings.warn(\n",
            "/usr/local/lib/python3.10/dist-packages/torch/nn/functional.py:5076: UserWarning: Support for mismatched key_padding_mask and attn_mask is deprecated. Use same type for both instead.\n",
            "  warnings.warn(\n"
          ]
        },
        {
          "output_type": "error",
          "ename": "KeyboardInterrupt",
          "evalue": "",
          "traceback": [
            "\u001b[0;31m---------------------------------------------------------------------------\u001b[0m",
            "\u001b[0;31mKeyboardInterrupt\u001b[0m                         Traceback (most recent call last)",
            "\u001b[0;32m<ipython-input-38-d5fdb97ca0b4>\u001b[0m in \u001b[0;36m<cell line: 23>\u001b[0;34m()\u001b[0m\n\u001b[1;32m     21\u001b[0m \u001b[0;34m\u001b[0m\u001b[0m\n\u001b[1;32m     22\u001b[0m \u001b[0mmodel\u001b[0m\u001b[0;34m.\u001b[0m\u001b[0mload_state_dict\u001b[0m\u001b[0;34m(\u001b[0m\u001b[0mtorch\u001b[0m\u001b[0;34m.\u001b[0m\u001b[0mload\u001b[0m\u001b[0;34m(\u001b[0m\u001b[0;34m\"test/acc.pth\"\u001b[0m\u001b[0;34m)\u001b[0m\u001b[0;34m)\u001b[0m\u001b[0;34m\u001b[0m\u001b[0;34m\u001b[0m\u001b[0m\n\u001b[0;32m---> 23\u001b[0;31m \u001b[0mevaluate_repeat\u001b[0m\u001b[0;34m(\u001b[0m\u001b[0mmodel\u001b[0m\u001b[0;34m,\u001b[0m\u001b[0mtest_dataloader\u001b[0m\u001b[0;34m,\u001b[0m\u001b[0mdevice\u001b[0m\u001b[0;34m)\u001b[0m\u001b[0;34m\u001b[0m\u001b[0;34m\u001b[0m\u001b[0m\n\u001b[0m",
            "\u001b[0;32m<ipython-input-34-17df1714a1da>\u001b[0m in \u001b[0;36mevaluate_repeat\u001b[0;34m(model, dataloader, device, reg)\u001b[0m\n\u001b[1;32m     23\u001b[0m         \u001b[0mpos_ids\u001b[0m\u001b[0;34m=\u001b[0m\u001b[0mtorch\u001b[0m\u001b[0;34m.\u001b[0m\u001b[0mnn\u001b[0m\u001b[0;34m.\u001b[0m\u001b[0mutils\u001b[0m\u001b[0;34m.\u001b[0m\u001b[0mrnn\u001b[0m\u001b[0;34m.\u001b[0m\u001b[0mpack_padded_sequence\u001b[0m\u001b[0;34m(\u001b[0m\u001b[0mdict_batch\u001b[0m\u001b[0;34m[\u001b[0m\u001b[0;34m\"pos_id\"\u001b[0m\u001b[0;34m]\u001b[0m\u001b[0;34m,\u001b[0m \u001b[0mlengths\u001b[0m\u001b[0;34m=\u001b[0m\u001b[0mdict_batch\u001b[0m\u001b[0;34m[\u001b[0m\u001b[0;34m\"lengths\"\u001b[0m\u001b[0;34m]\u001b[0m\u001b[0;34m,\u001b[0m\u001b[0mbatch_first\u001b[0m\u001b[0;34m=\u001b[0m\u001b[0;32mTrue\u001b[0m\u001b[0;34m,\u001b[0m \u001b[0menforce_sorted\u001b[0m\u001b[0;34m=\u001b[0m\u001b[0;32mFalse\u001b[0m\u001b[0;34m)\u001b[0m\u001b[0;34m\u001b[0m\u001b[0;34m\u001b[0m\u001b[0m\n\u001b[1;32m     24\u001b[0m         \u001b[0;32mfor\u001b[0m \u001b[0mi\u001b[0m \u001b[0;32min\u001b[0m \u001b[0mrange\u001b[0m\u001b[0;34m(\u001b[0m\u001b[0mlen\u001b[0m\u001b[0;34m(\u001b[0m\u001b[0mtarget_pos_ids\u001b[0m\u001b[0;34m.\u001b[0m\u001b[0mdata\u001b[0m\u001b[0;34m)\u001b[0m\u001b[0;34m)\u001b[0m\u001b[0;34m:\u001b[0m\u001b[0;34m\u001b[0m\u001b[0;34m\u001b[0m\u001b[0m\n\u001b[0;32m---> 25\u001b[0;31m           \u001b[0;32mif\u001b[0m \u001b[0mtarget_pos_ids\u001b[0m\u001b[0;34m.\u001b[0m\u001b[0mdata\u001b[0m\u001b[0;34m[\u001b[0m\u001b[0mi\u001b[0m\u001b[0;34m]\u001b[0m\u001b[0;34m==\u001b[0m\u001b[0mpos_ids\u001b[0m\u001b[0;34m.\u001b[0m\u001b[0mdata\u001b[0m\u001b[0;34m[\u001b[0m\u001b[0mi\u001b[0m\u001b[0;34m]\u001b[0m\u001b[0;34m:\u001b[0m\u001b[0;34m\u001b[0m\u001b[0;34m\u001b[0m\u001b[0m\n\u001b[0m\u001b[1;32m     26\u001b[0m             \u001b[0mrepeat\u001b[0m\u001b[0;34m+=\u001b[0m\u001b[0;36m1\u001b[0m\u001b[0;34m\u001b[0m\u001b[0;34m\u001b[0m\u001b[0m\n\u001b[1;32m     27\u001b[0m \u001b[0;34m\u001b[0m\u001b[0m\n",
            "\u001b[0;31mKeyboardInterrupt\u001b[0m: "
          ]
        }
      ]
    },
    {
      "cell_type": "code",
      "source": [
        "model=Transformer_encoder_LSTM_decoder(d_model=1008,\n",
        "                                         nb_of_pos_ids=len(vocab)+1,\n",
        "                                         output_regression_size=2,\n",
        "                                         output_classfication_size=len(vocab)+1,\n",
        "                                         num_layers_lstm=6,\n",
        "                                         num_layers_transformer=6,\n",
        "                                         encoder_only=False,\n",
        "                                         nhead=12,\n",
        "                                         learnable_pos_encoding=True,\n",
        "                                         new_station_binary_classification=False,\n",
        "                                         use_gcn=True,\n",
        "                                         vocab=vocab,\n",
        "                                         hidden_dim1=128,\n",
        "                                         hidden_dim2=256,\n",
        "                                         max_len=100,\n",
        "                                         dropout=0.1,\n",
        "                                         batch_first = True,\n",
        "                                         concatenate_features = False,\n",
        "                                         keep_input_positions = False,device=device\n",
        "                                         ).to(device)\n",
        "\n",
        "model.load_state_dict(torch.load(\"test_0.5/acc.pth\"))\n",
        "evaluate_repeat(model,test_dataloader,device)"
      ],
      "metadata": {
        "colab": {
          "base_uri": "https://localhost:8080/"
        },
        "id": "ucdMSE-0T3-s",
        "outputId": "4f766291-2702-431e-d059-241a1a1ccfb8"
      },
      "execution_count": null,
      "outputs": [
        {
          "output_type": "stream",
          "name": "stderr",
          "text": [
            "<ipython-input-19-cfd962976380>:15: FutureWarning: `use_index` defaults to False but will default to True in future. Set True/False directly to control this behavior and silence this warning\n",
            "  delaunay = weights.Rook.from_dataframe(cells)\n",
            "/usr/local/lib/python3.10/dist-packages/torch/nn/modules/rnn.py:82: UserWarning: dropout option adds dropout after all but last recurrent layer, so non-zero dropout expects num_layers greater than 1, but got dropout=0.1 and num_layers=1\n",
            "  warnings.warn(\"dropout option adds dropout after all but last \"\n",
            "/usr/local/lib/python3.10/dist-packages/torch/nn/functional.py:5076: UserWarning: Support for mismatched src_key_padding_mask and mask is deprecated. Use same type for both instead.\n",
            "  warnings.warn(\n",
            "/usr/local/lib/python3.10/dist-packages/torch/nn/functional.py:5076: UserWarning: Support for mismatched key_padding_mask and attn_mask is deprecated. Use same type for both instead.\n",
            "  warnings.warn(\n"
          ]
        },
        {
          "output_type": "stream",
          "name": "stdout",
          "text": [
            "163887 repeat:  118156  not_repeat:  45731  correct_repeat/repeat:  0.7462507193879279  correct_not_repeat/not_repeat:  0.23080623646979073 0.5669490561746645\n"
          ]
        },
        {
          "output_type": "execute_result",
          "data": {
            "text/plain": [
              "{}"
            ]
          },
          "metadata": {},
          "execution_count": 40
        }
      ]
    },
    {
      "cell_type": "code",
      "source": [
        "model=Transformer_encoder_LSTM_decoder(d_model=1008,\n",
        "                                         nb_of_pos_ids=len(vocab)+1,\n",
        "                                         output_regression_size=2,\n",
        "                                         output_classfication_size=len(vocab)+1,\n",
        "                                         num_layers_lstm=2,\n",
        "                                         num_layers_transformer=0,\n",
        "                                         encoder_only=False,\n",
        "                                         nhead=12,\n",
        "                                         learnable_pos_encoding=True,\n",
        "                                         new_station_binary_classification=False,\n",
        "                                         use_gcn=True,\n",
        "                                         vocab=vocab,\n",
        "                                         hidden_dim1=128,\n",
        "                                         hidden_dim2=256,\n",
        "                                         max_len=100,\n",
        "                                         dropout=0.1,\n",
        "                                         batch_first = True,\n",
        "                                         concatenate_features = False,\n",
        "                                         keep_input_positions = False,device=device\n",
        "                                         ).to(device)\n",
        "\n",
        "model.load_state_dict(torch.load(\"test_0.5/acc.pth\"))\n",
        "evaluate_repeat(model,test_dataloader,device)"
      ],
      "metadata": {
        "colab": {
          "base_uri": "https://localhost:8080/"
        },
        "id": "OEt-Bw9FgvDq",
        "outputId": "70b7fed7-4cc6-495a-de11-57721bf5d02d"
      },
      "execution_count": null,
      "outputs": [
        {
          "output_type": "stream",
          "name": "stderr",
          "text": [
            "<ipython-input-18-cfd962976380>:15: FutureWarning: `use_index` defaults to False but will default to True in future. Set True/False directly to control this behavior and silence this warning\n",
            "  delaunay = weights.Rook.from_dataframe(cells)\n",
            "/usr/local/lib/python3.10/dist-packages/torch/nn/modules/rnn.py:82: UserWarning: dropout option adds dropout after all but last recurrent layer, so non-zero dropout expects num_layers greater than 1, but got dropout=0.1 and num_layers=1\n",
            "  warnings.warn(\"dropout option adds dropout after all but last \"\n"
          ]
        },
        {
          "output_type": "stream",
          "name": "stdout",
          "text": [
            "163887 repeat:  118156  not_repeat:  45731  correct_repeat/repeat:  0.4839957344527574  correct_not_repeat/not_repeat:  0.35011261507511315 0.2974764468371467\n"
          ]
        },
        {
          "output_type": "execute_result",
          "data": {
            "text/plain": [
              "{}"
            ]
          },
          "metadata": {},
          "execution_count": 35
        }
      ]
    },
    {
      "cell_type": "code",
      "source": [
        "model=Transformer_encoder_LSTM_decoder(d_model=1008,\n",
        "                                         nb_of_pos_ids=len(vocab)+1,\n",
        "                                         output_regression_size=2,\n",
        "                                         output_classfication_size=len(vocab)+1,\n",
        "                                         num_layers_lstm=6,\n",
        "                                         num_layers_transformer=6,\n",
        "                                         encoder_only=False,\n",
        "                                         nhead=12,\n",
        "                                         learnable_pos_encoding=True,\n",
        "                                         new_station_binary_classification=False,\n",
        "                                         use_gcn=True,\n",
        "                                         vocab=vocab,\n",
        "                                         hidden_dim1=128,\n",
        "                                         hidden_dim2=256,\n",
        "                                         max_len=100,\n",
        "                                         dropout=0.1,\n",
        "                                         batch_first = True,\n",
        "                                         concatenate_features = False,\n",
        "                                         keep_input_positions = False,device=device\n",
        "                                         ).to(device)\n",
        "\n",
        "model.load_state_dict(torch.load(\"test_0.5/acc.pth\"))\n",
        "evaluate_repeat(model,test_dataloader,device)"
      ],
      "metadata": {
        "colab": {
          "base_uri": "https://localhost:8080/"
        },
        "id": "KkaphByRZOIo",
        "outputId": "13cfb863-5bb6-43a5-f104-7ce207f93c1e"
      },
      "execution_count": null,
      "outputs": [
        {
          "output_type": "stream",
          "name": "stderr",
          "text": [
            "<ipython-input-19-cfd962976380>:15: FutureWarning: `use_index` defaults to False but will default to True in future. Set True/False directly to control this behavior and silence this warning\n",
            "  delaunay = weights.Rook.from_dataframe(cells)\n",
            "/usr/local/lib/python3.10/dist-packages/torch/nn/modules/rnn.py:82: UserWarning: dropout option adds dropout after all but last recurrent layer, so non-zero dropout expects num_layers greater than 1, but got dropout=0.1 and num_layers=1\n",
            "  warnings.warn(\"dropout option adds dropout after all but last \"\n",
            "/usr/local/lib/python3.10/dist-packages/torch/nn/functional.py:5076: UserWarning: Support for mismatched src_key_padding_mask and mask is deprecated. Use same type for both instead.\n",
            "  warnings.warn(\n",
            "/usr/local/lib/python3.10/dist-packages/torch/nn/functional.py:5076: UserWarning: Support for mismatched key_padding_mask and attn_mask is deprecated. Use same type for both instead.\n",
            "  warnings.warn(\n"
          ]
        },
        {
          "output_type": "stream",
          "name": "stdout",
          "text": [
            "163887 repeat:  118156  not_repeat:  45731  correct_repeat/repeat:  0.6290835844138258  correct_not_repeat/not_repeat:  0.26852681988148086 0.44345460524349045\n"
          ]
        },
        {
          "output_type": "execute_result",
          "data": {
            "text/plain": [
              "{}"
            ]
          },
          "metadata": {},
          "execution_count": 42
        }
      ]
    },
    {
      "cell_type": "code",
      "source": [
        "model=Transformer_encoder_LSTM_decoder(d_model=888,\n",
        "                                         nb_of_pos_ids=len(vocab)+1,\n",
        "                                         output_regression_size=2,\n",
        "                                         output_classfication_size=len(vocab)+1,\n",
        "                                         num_layers_lstm=2,\n",
        "                                         num_layers_transformer=5,\n",
        "                                         encoder_only=False,\n",
        "                                         nhead=12,\n",
        "                                         learnable_pos_encoding=True,\n",
        "                                         new_station_binary_classification=False,\n",
        "                                         use_gcn=True,\n",
        "                                         vocab=vocab,\n",
        "                                         hidden_dim1=128,\n",
        "                                         hidden_dim2=256,\n",
        "                                         max_len=100,\n",
        "                                         dropout=0.1,\n",
        "                                         batch_first = True,\n",
        "                                         concatenate_features = False,\n",
        "                                         keep_input_positions = False,device=device\n",
        "                                         ).to(device)\n",
        "\n",
        "model.load_state_dict(torch.load(\"test/acc.pth\"))\n",
        "evaluate_repeat(model,test_dataloader,device)"
      ],
      "metadata": {
        "colab": {
          "base_uri": "https://localhost:8080/"
        },
        "id": "aGE1rXtIIEpE",
        "outputId": "775055f6-3dae-4158-fdc4-078b4adba7b5"
      },
      "execution_count": null,
      "outputs": [
        {
          "output_type": "stream",
          "name": "stderr",
          "text": [
            "<ipython-input-19-cfd962976380>:15: FutureWarning: `use_index` defaults to False but will default to True in future. Set True/False directly to control this behavior and silence this warning\n",
            "  delaunay = weights.Rook.from_dataframe(cells)\n",
            "/usr/local/lib/python3.10/dist-packages/torch/nn/modules/rnn.py:82: UserWarning: dropout option adds dropout after all but last recurrent layer, so non-zero dropout expects num_layers greater than 1, but got dropout=0.1 and num_layers=1\n",
            "  warnings.warn(\"dropout option adds dropout after all but last \"\n",
            "/usr/local/lib/python3.10/dist-packages/torch/nn/functional.py:5076: UserWarning: Support for mismatched src_key_padding_mask and mask is deprecated. Use same type for both instead.\n",
            "  warnings.warn(\n",
            "/usr/local/lib/python3.10/dist-packages/torch/nn/functional.py:5076: UserWarning: Support for mismatched key_padding_mask and attn_mask is deprecated. Use same type for both instead.\n",
            "  warnings.warn(\n"
          ]
        },
        {
          "output_type": "stream",
          "name": "stdout",
          "text": [
            "163887 repeat:  118156  not_repeat:  45731  correct_repeat/repeat:  0.5781001387995531  correct_not_repeat/not_repeat:  0.3046073779274453 0.4137291280148423\n"
          ]
        },
        {
          "output_type": "execute_result",
          "data": {
            "text/plain": [
              "{}"
            ]
          },
          "metadata": {},
          "execution_count": 36
        }
      ]
    },
    {
      "cell_type": "code",
      "source": [
        "model=Transformer_encoder_LSTM_decoder(d_model=888,\n",
        "                                         nb_of_pos_ids=len(vocab)+1,\n",
        "                                         output_regression_size=2,\n",
        "                                         output_classfication_size=len(vocab)+1,\n",
        "                                         num_layers_lstm=3,\n",
        "                                         num_layers_transformer=6,\n",
        "                                         encoder_only=False,\n",
        "                                         nhead=12,\n",
        "                                         learnable_pos_encoding=True,\n",
        "                                         new_station_binary_classification=False,\n",
        "                                         use_gcn=True,\n",
        "                                         vocab=vocab,\n",
        "                                         hidden_dim1=128,\n",
        "                                         hidden_dim2=256,\n",
        "                                         max_len=100,\n",
        "                                         dropout=0.1,\n",
        "                                         batch_first = True,\n",
        "                                         concatenate_features = False,\n",
        "                                         keep_input_positions = False,device=device\n",
        "                                         ).to(device)\n",
        "\n",
        "model.load_state_dict(torch.load(\"test/acc.pth\"))\n",
        "evaluate_repeat(model,test_dataloader,device)"
      ],
      "metadata": {
        "colab": {
          "base_uri": "https://localhost:8080/",
          "height": 788
        },
        "id": "QPBs0PUrKUra",
        "outputId": "196fe7cd-25e3-479d-8c4b-b6a83ccd3977"
      },
      "execution_count": null,
      "outputs": [
        {
          "output_type": "stream",
          "name": "stderr",
          "text": [
            "<ipython-input-19-cfd962976380>:15: FutureWarning: `use_index` defaults to False but will default to True in future. Set True/False directly to control this behavior and silence this warning\n",
            "  delaunay = weights.Rook.from_dataframe(cells)\n",
            "/usr/local/lib/python3.10/dist-packages/torch/nn/modules/rnn.py:82: UserWarning: dropout option adds dropout after all but last recurrent layer, so non-zero dropout expects num_layers greater than 1, but got dropout=0.1 and num_layers=1\n",
            "  warnings.warn(\"dropout option adds dropout after all but last \"\n"
          ]
        },
        {
          "output_type": "error",
          "ename": "RuntimeError",
          "evalue": "Error(s) in loading state_dict for Transformer_encoder_LSTM_decoder:\n\tMissing key(s) in state_dict: \"transformer_model.transformer.encoder.layers.5.self_attn.in_proj_weight\", \"transformer_model.transformer.encoder.layers.5.self_attn.in_proj_bias\", \"transformer_model.transformer.encoder.layers.5.self_attn.out_proj.weight\", \"transformer_model.transformer.encoder.layers.5.self_attn.out_proj.bias\", \"transformer_model.transformer.encoder.layers.5.linear1.weight\", \"transformer_model.transformer.encoder.layers.5.linear1.bias\", \"transformer_model.transformer.encoder.layers.5.linear2.weight\", \"transformer_model.transformer.encoder.layers.5.linear2.bias\", \"transformer_model.transformer.encoder.layers.5.norm1.weight\", \"transformer_model.transformer.encoder.layers.5.norm1.bias\", \"transformer_model.transformer.encoder.layers.5.norm2.weight\", \"transformer_model.transformer.encoder.layers.5.norm2.bias\", \"transformer_model.transformer.decoder.layers.5.self_attn.in_proj_weight\", \"transformer_model.transformer.decoder.layers.5.self_attn.in_proj_bias\", \"transformer_model.transformer.decoder.layers.5.self_attn.out_proj.weight\", \"transformer_model.transformer.decoder.layers.5.self_attn.out_proj.bias\", \"transformer_model.transformer.decoder.layers.5.multihead_attn.in_proj_weight\", \"transformer_model.transformer.decoder.layers.5.multihead_attn.in_proj_bias\", \"transformer_model.transformer.decoder.layers.5.multihead_attn.out_proj.weight\", \"transformer_model.transformer.decoder.layers.5.multihead_attn.out_proj.bias\", \"transformer_model.transformer.decoder.layers.5.linear1.weight\", \"transformer_model.transformer.decoder.layers.5.linear1.bias\", \"transformer_model.transformer.decoder.layers.5.linear2.weight\", \"transformer_model.transformer.decoder.layers.5.linear2.bias\", \"transformer_model.transformer.decoder.layers.5.norm1.weight\", \"transformer_model.transformer.decoder.layers.5.norm1.bias\", \"transformer_model.transformer.decoder.layers.5.norm2.weight\", \"transformer_model.transformer.decoder.layers.5.norm2.bias\", \"transformer_model.transformer.decoder.layers.5.norm3.weight\", \"transformer_model.transformer.decoder.layers.5.norm3.bias\", \"transformer_lstm__list.2.layer_normalisation.weight\", \"transformer_lstm__list.2.layer_normalisation.bias\", \"transformer_lstm__list.2.lstm.weight_ih_l0\", \"transformer_lstm__list.2.lstm.weight_hh_l0\", \"transformer_lstm__list.2.lstm.bias_ih_l0\", \"transformer_lstm__list.2.lstm.bias_hh_l0\", \"transformer_lstm__list.2.mlp.linear_perceptron_in.weight\", \"transformer_lstm__list.2.mlp.linear_perceptron_in.bias\", \"transformer_lstm__list.2.mlp.linear_perceptron_out.weight\", \"transformer_lstm__list.2.mlp.linear_perceptron_out.bias\". ",
          "traceback": [
            "\u001b[0;31m---------------------------------------------------------------------------\u001b[0m",
            "\u001b[0;31mRuntimeError\u001b[0m                              Traceback (most recent call last)",
            "\u001b[0;32m<ipython-input-33-10bf83ce1050>\u001b[0m in \u001b[0;36m<cell line: 22>\u001b[0;34m()\u001b[0m\n\u001b[1;32m     20\u001b[0m                                          ).to(device)\n\u001b[1;32m     21\u001b[0m \u001b[0;34m\u001b[0m\u001b[0m\n\u001b[0;32m---> 22\u001b[0;31m \u001b[0mmodel\u001b[0m\u001b[0;34m.\u001b[0m\u001b[0mload_state_dict\u001b[0m\u001b[0;34m(\u001b[0m\u001b[0mtorch\u001b[0m\u001b[0;34m.\u001b[0m\u001b[0mload\u001b[0m\u001b[0;34m(\u001b[0m\u001b[0;34m\"test/acc.pth\"\u001b[0m\u001b[0;34m)\u001b[0m\u001b[0;34m)\u001b[0m\u001b[0;34m\u001b[0m\u001b[0;34m\u001b[0m\u001b[0m\n\u001b[0m\u001b[1;32m     23\u001b[0m \u001b[0mevaluate_repeat\u001b[0m\u001b[0;34m(\u001b[0m\u001b[0mmodel\u001b[0m\u001b[0;34m,\u001b[0m\u001b[0mtest_dataloader\u001b[0m\u001b[0;34m,\u001b[0m\u001b[0mdevice\u001b[0m\u001b[0;34m)\u001b[0m\u001b[0;34m\u001b[0m\u001b[0;34m\u001b[0m\u001b[0m\n",
            "\u001b[0;32m/usr/local/lib/python3.10/dist-packages/torch/nn/modules/module.py\u001b[0m in \u001b[0;36mload_state_dict\u001b[0;34m(self, state_dict, strict, assign)\u001b[0m\n\u001b[1;32m   2150\u001b[0m \u001b[0;34m\u001b[0m\u001b[0m\n\u001b[1;32m   2151\u001b[0m         \u001b[0;32mif\u001b[0m \u001b[0mlen\u001b[0m\u001b[0;34m(\u001b[0m\u001b[0merror_msgs\u001b[0m\u001b[0;34m)\u001b[0m \u001b[0;34m>\u001b[0m \u001b[0;36m0\u001b[0m\u001b[0;34m:\u001b[0m\u001b[0;34m\u001b[0m\u001b[0;34m\u001b[0m\u001b[0m\n\u001b[0;32m-> 2152\u001b[0;31m             raise RuntimeError('Error(s) in loading state_dict for {}:\\n\\t{}'.format(\n\u001b[0m\u001b[1;32m   2153\u001b[0m                                self.__class__.__name__, \"\\n\\t\".join(error_msgs)))\n\u001b[1;32m   2154\u001b[0m         \u001b[0;32mreturn\u001b[0m \u001b[0m_IncompatibleKeys\u001b[0m\u001b[0;34m(\u001b[0m\u001b[0mmissing_keys\u001b[0m\u001b[0;34m,\u001b[0m \u001b[0munexpected_keys\u001b[0m\u001b[0;34m)\u001b[0m\u001b[0;34m\u001b[0m\u001b[0;34m\u001b[0m\u001b[0m\n",
            "\u001b[0;31mRuntimeError\u001b[0m: Error(s) in loading state_dict for Transformer_encoder_LSTM_decoder:\n\tMissing key(s) in state_dict: \"transformer_model.transformer.encoder.layers.5.self_attn.in_proj_weight\", \"transformer_model.transformer.encoder.layers.5.self_attn.in_proj_bias\", \"transformer_model.transformer.encoder.layers.5.self_attn.out_proj.weight\", \"transformer_model.transformer.encoder.layers.5.self_attn.out_proj.bias\", \"transformer_model.transformer.encoder.layers.5.linear1.weight\", \"transformer_model.transformer.encoder.layers.5.linear1.bias\", \"transformer_model.transformer.encoder.layers.5.linear2.weight\", \"transformer_model.transformer.encoder.layers.5.linear2.bias\", \"transformer_model.transformer.encoder.layers.5.norm1.weight\", \"transformer_model.transformer.encoder.layers.5.norm1.bias\", \"transformer_model.transformer.encoder.layers.5.norm2.weight\", \"transformer_model.transformer.encoder.layers.5.norm2.bias\", \"transformer_model.transformer.decoder.layers.5.self_attn.in_proj_weight\", \"transformer_model.transformer.decoder.layers.5.self_attn.in_proj_bias\", \"transformer_model.transformer.decoder.layers.5.self_attn.out_proj.weight\", \"transformer_model.transformer.decoder.layers.5.self_attn.out_proj.bias\", \"transformer_model.transformer.decoder.layers.5.multihead_attn.in_proj_weight\", \"transformer_model.transformer.decoder.layers.5.multihead_attn.in_proj_bias\", \"transformer_model.transformer.decoder.layers.5.multihead_attn.out_proj.weight\", \"transformer_model.transformer.decoder.layers.5.multihead_attn.out_proj.bias\", \"transformer_model.transformer.decoder.layers.5...."
          ]
        }
      ]
    },
    {
      "cell_type": "code",
      "execution_count": null,
      "metadata": {
        "colab": {
          "base_uri": "https://localhost:8080/"
        },
        "id": "e7cIy9KQFjv8",
        "outputId": "3ea5d475-a56f-4118-d568-2c020806ed64"
      },
      "outputs": [
        {
          "name": "stdout",
          "output_type": "stream",
          "text": [
            "163887 repeat:  118156  not_repeat:  45731  correct_repeat/repeat:  0.8564101696062832  correct_not_repeat/not_repeat:  0.09422492401215805 0.8021341316208778\n"
          ]
        },
        {
          "data": {
            "text/plain": [
              "(0.643730131126935, 2.2387092113494873, 4.385555267333984)"
            ]
          },
          "execution_count": 54,
          "metadata": {},
          "output_type": "execute_result"
        }
      ],
      "source": [
        "criterion_classification=torch.nn.CrossEntropyLoss(ignore_index=len(vocab))\n",
        "criterion_regression=mse_loss = nn.MSELoss(reduction='none')\n",
        "evaluate(model,test_dataloader,criterion_classification,criterion_regression)"
      ]
    },
    {
      "cell_type": "code",
      "execution_count": null,
      "metadata": {
        "colab": {
          "base_uri": "https://localhost:8080/"
        },
        "id": "K06MhCDWcaF9",
        "outputId": "4a84b9d7-b594-41b9-bca7-acacf62010b3"
      },
      "outputs": [
        {
          "name": "stdout",
          "output_type": "stream",
          "text": [
            "163887 repeat:  118156  not_repeat:  45731  correct_repeat/repeat:  0.6269508107925116  correct_not_repeat/not_repeat:  0.24020904856661782 0.4275024463247568\n"
          ]
        },
        {
          "data": {
            "text/plain": [
              "(0.5190344566683142, 3.329756021499634, 2.0473709106445312)"
            ]
          },
          "execution_count": 32,
          "metadata": {},
          "output_type": "execute_result"
        }
      ],
      "source": [
        "criterion_classification=torch.nn.CrossEntropyLoss(ignore_index=len(vocab))\n",
        "criterion_regression=mse_loss = nn.MSELoss(reduction='none')\n",
        "evaluate(model,test_dataloader,criterion_classification,criterion_regression)"
      ]
    },
    {
      "cell_type": "code",
      "execution_count": null,
      "metadata": {
        "colab": {
          "base_uri": "https://localhost:8080/"
        },
        "id": "vonRxU5b96oc",
        "outputId": "baba1be5-861e-44f1-95fb-808d9cd6b5b3"
      },
      "outputs": [
        {
          "name": "stdout",
          "output_type": "stream",
          "text": [
            "163887 repeat:  118156  not_repeat:  45731  correct_repeat/repeat:  0.7019025694844104  correct_not_repeat/not_repeat:  0.2555815529946863 0.5174044590664747\n"
          ]
        },
        {
          "data": {
            "text/plain": [
              "(0.5773612306040138, 2.5278093814849854, 2.7385761737823486)"
            ]
          },
          "execution_count": 43,
          "metadata": {},
          "output_type": "execute_result"
        }
      ],
      "source": [
        "criterion_classification=torch.nn.CrossEntropyLoss(ignore_index=len(vocab))\n",
        "criterion_regression=mse_loss = nn.MSELoss(reduction='none')\n",
        "evaluate(model,test_dataloader,criterion_classification,criterion_regression)"
      ]
    },
    {
      "cell_type": "code",
      "execution_count": null,
      "metadata": {
        "colab": {
          "base_uri": "https://localhost:8080/"
        },
        "id": "vz2zFYSsAroq",
        "outputId": "10b15668-6b3b-44d9-eb4f-c28a02cbd09d"
      },
      "outputs": [
        {
          "name": "stdout",
          "output_type": "stream",
          "text": [
            "163887 repeat:  118156  not_repeat:  45731  correct_repeat/repeat:  0.7179745421307424  correct_not_repeat/not_repeat:  0.2436203013273272 0.5562012142237641\n"
          ]
        },
        {
          "data": {
            "text/plain": [
              "(0.5856108172094187, 2.1441447734832764, 1.2037302255630493)"
            ]
          },
          "execution_count": 57,
          "metadata": {},
          "output_type": "execute_result"
        }
      ],
      "source": [
        "criterion_classification=torch.nn.CrossEntropyLoss(ignore_index=len(vocab))\n",
        "criterion_regression=mse_loss = nn.MSELoss(reduction='none')\n",
        "evaluate(model,test_dataloader,criterion_classification,criterion_regression)"
      ]
    },
    {
      "cell_type": "code",
      "execution_count": null,
      "metadata": {
        "id": "dNlGehwEQtfH",
        "colab": {
          "base_uri": "https://localhost:8080/"
        },
        "outputId": "378de12f-1ebf-44f6-b4b6-e57d19a2bb65"
      },
      "outputs": [
        {
          "output_type": "stream",
          "name": "stdout",
          "text": [
            "163887 repeat:  118156  not_repeat:  45731  correct_repeat/repeat:  0.8789227800534886  correct_not_repeat/not_repeat:  0.11254947409853272 0.8136211314803864\n"
          ]
        },
        {
          "output_type": "execute_result",
          "data": {
            "text/plain": [
              "(0.6650741059388481, 1.82258939743042, 2.1341636180877686)"
            ]
          },
          "metadata": {},
          "execution_count": 69
        }
      ],
      "source": [
        "criterion_classification=torch.nn.CrossEntropyLoss(ignore_index=len(vocab))\n",
        "criterion_regression=mse_loss = nn.MSELoss(reduction='none')\n",
        "evaluate(model,test_dataloader,criterion_classification,criterion_regression)"
      ]
    },
    {
      "cell_type": "code",
      "source": [
        "criterion_classification=torch.nn.CrossEntropyLoss(ignore_index=len(vocab))\n",
        "criterion_regression=mse_loss = nn.MSELoss(reduction='none')\n",
        "evaluate(model,test_dataloader,criterion_classification,criterion_regression)"
      ],
      "metadata": {
        "colab": {
          "base_uri": "https://localhost:8080/"
        },
        "id": "ejz7LOwNTZ-k",
        "outputId": "5d16ae15-48ea-4ff8-a2e7-718c1be73c7d"
      },
      "execution_count": null,
      "outputs": [
        {
          "output_type": "stream",
          "name": "stdout",
          "text": [
            "163887 repeat:  118156  not_repeat:  45731  correct_repeat/repeat:  0.8187565591252243  correct_not_repeat/not_repeat:  0.1462683956178522 0.7372573126376722\n"
          ]
        },
        {
          "output_type": "execute_result",
          "data": {
            "text/plain": [
              "(0.6311055788439596, 2.027265787124634, 2.6414260864257812)"
            ]
          },
          "metadata": {},
          "execution_count": 80
        }
      ]
    },
    {
      "cell_type": "code",
      "source": [
        "criterion_classification=torch.nn.CrossEntropyLoss(ignore_index=len(vocab))\n",
        "criterion_regression=mse_loss = nn.MSELoss(reduction='none')\n",
        "evaluate(model,test_dataloader,criterion_classification,criterion_regression)\n"
      ],
      "metadata": {
        "colab": {
          "base_uri": "https://localhost:8080/"
        },
        "id": "LN9yHv6HjJ-N",
        "outputId": "ba6f7b9e-b88f-407c-d22b-1e6913f0e56b"
      },
      "execution_count": null,
      "outputs": [
        {
          "output_type": "stream",
          "name": "stdout",
          "text": [
            "163887 repeat:  118156  not_repeat:  45731  correct_repeat/repeat:  0.3789143166661024  correct_not_repeat/not_repeat:  0.3284642802475345 0.28316509280364704\n"
          ]
        },
        {
          "output_type": "execute_result",
          "data": {
            "text/plain": [
              "(0.3648367472709855, 2.700303077697754, 3.602348566055298)"
            ]
          },
          "metadata": {},
          "execution_count": 93
        }
      ]
    },
    {
      "cell_type": "code",
      "source": [
        "criterion_classification=torch.nn.CrossEntropyLoss(ignore_index=len(vocab))\n",
        "criterion_regression=mse_loss = nn.MSELoss(reduction='none')\n",
        "evaluate(model,test_dataloader,criterion_classification,criterion_regression)"
      ],
      "metadata": {
        "colab": {
          "base_uri": "https://localhost:8080/"
        },
        "id": "PkLWBTILrc94",
        "outputId": "c04e1913-1724-4df4-e563-1801d24ca813"
      },
      "execution_count": null,
      "outputs": [
        {
          "output_type": "stream",
          "name": "stderr",
          "text": [
            "/usr/local/lib/python3.10/dist-packages/torch/nn/functional.py:5076: UserWarning: Support for mismatched src_key_padding_mask and mask is deprecated. Use same type for both instead.\n",
            "  warnings.warn(\n",
            "/usr/local/lib/python3.10/dist-packages/torch/nn/functional.py:5076: UserWarning: Support for mismatched key_padding_mask and attn_mask is deprecated. Use same type for both instead.\n",
            "  warnings.warn(\n"
          ]
        },
        {
          "output_type": "stream",
          "name": "stdout",
          "text": [
            "163887 repeat:  118156  not_repeat:  45731  correct_repeat/repeat:  0.4562527506009005  correct_not_repeat/not_repeat:  0.30379829874702063 0.3240153275959545\n"
          ]
        },
        {
          "output_type": "execute_result",
          "data": {
            "text/plain": [
              "(0.4137118868488654, 2.806699752807617, 3.5753602981567383)"
            ]
          },
          "metadata": {},
          "execution_count": 118
        }
      ]
    },
    {
      "cell_type": "code",
      "execution_count": null,
      "metadata": {
        "colab": {
          "base_uri": "https://localhost:8080/"
        },
        "id": "EtscCJTUkD0R",
        "outputId": "d2e3c16a-065e-4503-fa5c-4f991dea2ff0"
      },
      "outputs": [
        {
          "output_type": "execute_result",
          "data": {
            "text/plain": [
              "7411692032"
            ]
          },
          "metadata": {},
          "execution_count": 40
        }
      ],
      "source": [
        "import gc\n",
        "torch.cuda.empty_cache()\n",
        "gc.collect()\n",
        "torch.cuda.memory_allocated()"
      ]
    },
    {
      "cell_type": "code",
      "source": [
        "if None:\n",
        "  print(1)"
      ],
      "metadata": {
        "id": "42I-z2ls4-Ij"
      },
      "execution_count": null,
      "outputs": []
    },
    {
      "cell_type": "markdown",
      "source": [
        "# Decision tree classifier"
      ],
      "metadata": {
        "id": "wIjYebkGJ8i8"
      }
    },
    {
      "cell_type": "code",
      "source": [
        "# list_users"
      ],
      "metadata": {
        "id": "iec_zdeKwrBL"
      },
      "execution_count": null,
      "outputs": []
    },
    {
      "cell_type": "code",
      "source": [
        "all_inputs,pos_id_targets=inputs_for_classification(list_users, pos_id=True, user_id=True, date_time=True, time_to_end=True, time_to_end_and_target=False, delete_data_less_nb_min=True, nb_min=5)"
      ],
      "metadata": {
        "id": "MAQ_RqjZz4Mo"
      },
      "execution_count": 6,
      "outputs": []
    },
    {
      "cell_type": "code",
      "source": [
        "inputs, outputs = inputs_outputs_for_classification(all_inputs,pos_id_targets)\n",
        "# outputs = get_x_y_target_from_outputs(outputs, vocab)\n",
        "print(inputs[0])\n",
        "outputs[0]\n",
        "print(list_users1[0])\n",
        "print(list_users2[0])"
      ],
      "metadata": {
        "id": "PjrSYgChroTj",
        "outputId": "32182c35-5125-4708-80af-3f590bfcc72e",
        "colab": {
          "base_uri": "https://localhost:8080/"
        }
      },
      "execution_count": 7,
      "outputs": [
        {
          "output_type": "stream",
          "name": "stdout",
          "text": [
            "len of the dataset\n",
            "67085 67085\n",
            "tensor([0.0000e+00, 5.7183e-02, 8.8420e-02, 4.0500e+02, 9.0000e+00, 1.7000e+01,\n",
            "        2.3000e+01, 2.9000e+01, 2.4000e+01, 1.0267e+00])\n",
            "{'pos_id': tensor([604]), 'month': tensor([9]), 'day': tensor([24]), 'hour': tensor([18]), 'minute': tensor([11]), 'second': tensor([1]), 'pos_id_target': tensor([604]), 'input': tensor([[0.1300, 0.1295]]), 'time_target': tensor([[-0.5447,  0.3086]])}\n",
            "{'pos_id': tensor([276, 198, 405, 276, 405]), 'month': tensor([9, 9, 9, 9, 9]), 'day': tensor([ 8, 12, 12, 13, 14]), 'hour': tensor([12, 20, 20, 10,  3]), 'minute': tensor([36, 38, 40, 57, 39]), 'second': tensor([23, 51, 28, 38, 21]), 'pos_id_target': tensor([198, 405, 276, 405, 405]), 'input': tensor([[0.0589, 0.0930],\n",
            "        [0.0580, 0.0901],\n",
            "        [0.0513, 0.0848],\n",
            "        [0.0589, 0.0930],\n",
            "        [0.0513, 0.0848]]), 'time_target': tensor([[-0.6675,  0.2957],\n",
            "        [-0.6564,  0.3187],\n",
            "        [ 1.7115,  0.2037],\n",
            "        [-0.6651,  0.2340],\n",
            "        [-0.6234,  0.3201]])}\n"
          ]
        }
      ]
    },
    {
      "cell_type": "code",
      "source": [
        "import seaborn as sns\n",
        "import pandas as pd\n",
        "\n",
        "def get_correlation(inputs):\n",
        "    df = pd.DataFrame(inputs)\n",
        "    corr = df.corr()\n",
        "    sns.heatmap(corr, annot=True, cmap='coolwarm', fmt='.2f', linewidths=2)\n",
        "    return corr\n",
        "\n",
        "corr = get_correlation(inputs)"
      ],
      "metadata": {
        "id": "kQqvIv24gzeW",
        "outputId": "e0d6e00a-316d-4e5b-e0e4-bc0b68b412bb",
        "colab": {
          "base_uri": "https://localhost:8080/",
          "height": 435
        }
      },
      "execution_count": 8,
      "outputs": [
        {
          "output_type": "display_data",
          "data": {
            "text/plain": [
              "<Figure size 640x480 with 2 Axes>"
            ],
            "image/png": "[encoded data removed]"
          },
          "metadata": {}
        }
      ]
    },
    {
      "cell_type": "code",
      "source": [
        "import numpy as np\n",
        "from sklearn.tree import DecisionTreeClassifier\n",
        "from sklearn.model_selection import train_test_split\n",
        "from sklearn import metrics\n",
        "from sklearn import preprocessing\n",
        "from sklearn import tree\n",
        "from sklearn.model_selection import GridSearchCV\n",
        "from sklearn.model_selection import cross_val_score"
      ],
      "metadata": {
        "id": "ExA8oZy4KjUW"
      },
      "execution_count": 9,
      "outputs": []
    },
    {
      "cell_type": "code",
      "source": [
        "#Do cross validation\n",
        "X_train, X_test, y_train, y_test = train_test_split(inputs, outputs, test_size=0.15, random_state=1)"
      ],
      "metadata": {
        "id": "DCa_zL0Oe3hI"
      },
      "execution_count": 10,
      "outputs": []
    },
    {
      "cell_type": "code",
      "source": [
        "from sklearn.metrics import f1_score\n",
        "\n",
        "#got best decision tree classifier\n",
        "# 'criterion': ['gini', 'entropy'],\n",
        "parameters = { 'criterion': ['gini', 'entropy'], 'max_depth': [ i for i in range(5,50,10)], 'min_samples_split': [ i for i in range(5,40,10)], 'splitter':['best', 'random']}\n",
        "best_score = -1\n",
        "# for criterion in parameters['criterion']:\n",
        "for criterion in parameters['criterion']:\n",
        "  for max_depth in parameters['max_depth']:\n",
        "    for min_samples_split in parameters['min_samples_split']:\n",
        "      for splitter in parameters['splitter']:\n",
        "        clf = DecisionTreeClassifier(criterion=criterion, max_depth=max_depth, min_samples_split=min_samples_split, splitter=splitter, random_state=12)\n",
        "        clf.fit(X_train, y_train)\n",
        "        y_pred = clf.predict(X_test)\n",
        "        score = f1_score(y_test, y_pred, average='weighted')\n",
        "        print(score)\n",
        "        if score > best_score:\n",
        "          best_score = score\n",
        "          best_parameters = {'criterion': criterion, 'max_depth': max_depth, 'min_samples_split': min_samples_split, 'splitter':splitter}"
      ],
      "metadata": {
        "id": "gLpUTDQXKkg4",
        "colab": {
          "base_uri": "https://localhost:8080/"
        },
        "outputId": "9f7def85-f797-4ecf-8f28-c81e2bd8785d"
      },
      "execution_count": 11,
      "outputs": [
        {
          "output_type": "stream",
          "name": "stdout",
          "text": [
            "0.014641973770076026\n",
            "0.005361314728962395\n",
            "0.01463536515802652\n",
            "0.004197506335050218\n",
            "0.01463536515802652\n",
            "0.004900703612929171\n",
            "0.01463536515802652\n",
            "0.004900703612929171\n",
            "0.2643063347035141\n",
            "0.23567731138510478\n",
            "0.27188562991236326\n",
            "0.2349521699723383\n",
            "0.2725680517141168\n",
            "0.24280935424517808\n",
            "0.27182991746055796\n",
            "0.20049915670189158\n",
            "0.29781107947001095\n",
            "0.31455047740357844\n",
            "0.32314382719006784\n",
            "0.34861043037874057\n",
            "0.3270308995393475\n",
            "0.3167626556819343\n",
            "0.327315233359562\n",
            "0.3010756474258258\n",
            "0.29634409716911964\n",
            "0.31511528450605614\n",
            "0.3233575576763776\n",
            "0.35061676119617036\n",
            "0.3274664182826994\n",
            "0.3156284113179177\n",
            "0.3272968938332389\n",
            "0.3136489293413735\n",
            "0.29442642529487734\n",
            "0.31511528450605614\n",
            "0.32356430182990215\n",
            "0.35061676119617036\n",
            "0.3274664182826994\n",
            "0.3156284113179177\n",
            "0.3272968938332389\n",
            "0.3136489293413735\n",
            "0.012318865337938948\n",
            "0.004283624188623537\n",
            "0.012318865337938948\n",
            "0.004283624188623537\n",
            "0.012318865337938948\n",
            "0.004283624188623537\n",
            "0.012318865337938948\n",
            "0.004283624188623537\n",
            "0.3115807314738316\n",
            "0.2993659387646265\n",
            "0.3268807611781579\n",
            "0.3029151734616861\n",
            "0.3233271539628124\n",
            "0.27508279029262817\n",
            "0.3138434936704621\n",
            "0.24636309615124993\n",
            "0.29635877606926353\n",
            "0.3284490448841918\n",
            "0.32601968339056503\n",
            "0.3479610080350992\n",
            "0.32387629364228365\n",
            "0.32164582360201394\n",
            "0.3146414025037305\n",
            "0.28513734746915603\n",
            "0.29635877606926353\n",
            "0.3315340329053372\n",
            "0.32601968339056503\n",
            "0.3204386808806417\n",
            "0.32387629364228365\n",
            "0.32164582360201394\n",
            "0.3146414025037305\n",
            "0.28513734746915603\n",
            "0.29635877606926353\n",
            "0.3315340329053372\n",
            "0.32601968339056503\n",
            "0.3204386808806417\n",
            "0.32387629364228365\n",
            "0.32164582360201394\n",
            "0.3146414025037305\n",
            "0.28513734746915603\n"
          ]
        }
      ]
    },
    {
      "cell_type": "code",
      "source": [
        "print(\"best score: \",best_score)\n",
        "print(best_parameters)\n",
        "cv_scores = cross_val_score(clf, X_train, y_train, cv=5)\n",
        "print(\"cross score: \",cv_scores)"
      ],
      "metadata": {
        "id": "6OCspM3UK62N",
        "colab": {
          "base_uri": "https://localhost:8080/"
        },
        "outputId": "5336db6b-9e87-4f10-cb8d-8d7f56b2b83e"
      },
      "execution_count": 49,
      "outputs": [
        {
          "output_type": "stream",
          "name": "stdout",
          "text": [
            "best score:  0.6807267331679286\n",
            "{'criterion': 'entropy', 'max_depth': 15, 'min_samples_split': 35, 'splitter': 'best'}\n"
          ]
        },
        {
          "output_type": "stream",
          "name": "stderr",
          "text": [
            "/usr/local/lib/python3.10/dist-packages/sklearn/model_selection/_split.py:700: UserWarning: The least populated class in y has only 1 members, which is less than n_splits=5.\n",
            "  warnings.warn(\n"
          ]
        },
        {
          "output_type": "stream",
          "name": "stdout",
          "text": [
            "cross score:  [0.67047553 0.67142358 0.67007634 0.65748503 0.66706587]\n"
          ]
        }
      ]
    },
    {
      "cell_type": "code",
      "source": [
        "from sklearn.ensemble import RandomForestClassifier\n",
        "from sklearn.model_selection import GridSearchCV\n",
        "parameters = { 'n_estimators': [ i for i in range(50,150,30)], 'max_depth': [ i for i in range(10,30,10)], 'min_samples_split': [ i for i in range(20,40,10)]}\n",
        "\n",
        "clf = RandomForestClassifier()\n",
        "clf = GridSearchCV(clf, parameters, cv=5)\n",
        "clf.fit(X_train, y_train)\n",
        "print(clf.best_params_)\n",
        "print(clf.best_score_)\n",
        "print(clf.best_estimator_)\n",
        "print(clf.best_index_)\n"
      ],
      "metadata": {
        "id": "wVnwYXsOe_3L",
        "outputId": "b3b36769-3aa9-415d-c7b7-c0ecaa48df27",
        "colab": {
          "base_uri": "https://localhost:8080/"
        }
      },
      "execution_count": null,
      "outputs": [
        {
          "output_type": "stream",
          "name": "stderr",
          "text": [
            "/usr/local/lib/python3.10/dist-packages/sklearn/model_selection/_split.py:700: UserWarning: The least populated class in y has only 1 members, which is less than n_splits=5.\n",
            "  warnings.warn(\n"
          ]
        }
      ]
    },
    {
      "cell_type": "code",
      "source": [
        "from sklearn.metrics import accuracy_score\n",
        "from sklearn.ensemble import RandomForestClassifier\n",
        "from sklearn.svm import SVC\n",
        "from sklearn.tree import DecisionTreeRegressor\n",
        "\n",
        "# Créer un modèle d'arbre de décision\n",
        "model = RandomForestClassifier(n_estimators=10, min_samples_leaf = 5, max_features = 0.7, random_state=42)\n",
        "# model = DecisionTreeClassifier(criterion='entropy')\n",
        "# model = SVC(random_state=42)\n",
        "# Entraîner le modèle sur les données d'entraînement\n",
        "model.fit(X_train, y_train)\n",
        "\n",
        "# Faire des prédictions sur l'ensemble de test\n",
        "# y_pred = model.predict(X_test)\n",
        "\n",
        "# Calculer l'exactitude\n",
        "accuracy = model.score(X_test, y_test)\n",
        "print(\"Exactitude :\", accuracy)\n",
        "print(model.get_params())\n",
        "cv_scores = cross_val_score(model, X_train, y_train, cv=5)\n",
        "print(\"cross score: \",cv_scores)"
      ],
      "metadata": {
        "id": "6lIeX2pDQx9r"
      },
      "execution_count": null,
      "outputs": []
    },
    {
      "cell_type": "code",
      "source": [
        "# pip install catboost\n",
        "from sklearn.ensemble import GradientBoostingClassifier\n",
        "\n",
        "# Créer un modèle d'arbre de décision\n",
        "# model = RandomForestClassifier(n_estimators=50, min_samples_leaf = 5, max_features = 0.7, random_state=42)\n",
        "model = GradientBoostingClassifier(n_estimators=20, learning_rate=0.1, max_depth=10)\n",
        "# model = SVC(random_state=42)\n",
        "# Entraîner le modèle sur les données d'entraînement\n",
        "model.fit(X_train, y_train)\n",
        "\n",
        "# Faire des prédictions sur l'ensemble de test\n",
        "y_pred = model.predict(X_test)\n",
        "\n",
        "# Calculer l'exactitude\n",
        "accuracy = accuracy_score(y_test, y_pred)\n",
        "print(\"Exactitude :\", accuracy)\n",
        "print(model.get_params())\n",
        "cv_scores = cross_val_score(model, X_train, y_train, cv=5)\n",
        "print(\"cross score: \",cv_scores)"
      ],
      "metadata": {
        "id": "0a_EcGZkqiFK"
      },
      "execution_count": null,
      "outputs": []
    },
    {
      "cell_type": "code",
      "source": [
        "from sklearn.neighbors import KNeighborsClassifier\n",
        "from catboost import CatBoostClassifier\n",
        "from sklearn.metrics import accuracy_score\n",
        "\n",
        "inputs = [inp.tolist() for inp in inputs]\n",
        "outputs = [inp.tolist() for inp in outputs]\n",
        "#Do cross validation\n",
        "X_train, X_test, y_train, y_test = train_test_split(inputs, outputs, test_size=0.25, random_state=1)\n",
        "# Créer un modèle d'arbre de décision\n",
        "# model = KNeighborsClassifier(n_neighbors=5, metric='l2')\n",
        "# model = DecisionTreeClassifier(criterion='entropy')\n",
        "model = CatBoostClassifier(iterations=50, learning_rate=0.1, loss_function='MultiClass')\n",
        "# Entraîner le modèle sur les données d'entraînement\n",
        "model.fit(X_train, y_train)\n",
        "\n",
        "# Faire des prédictions sur l'ensemble de test\n",
        "y_pred = model.predict(X_test)\n",
        "\n",
        "# Calculer l'exactitude\n",
        "accuracy = accuracy_score(y_test, y_pred)\n",
        "print(\"Exactitude :\", accuracy)\n",
        "print(model.get_params())\n",
        "cv_scores = cross_val_score(model, X_train, y_train, cv=5)\n",
        "print(\"cross score: \",cv_scores)"
      ],
      "metadata": {
        "colab": {
          "base_uri": "https://localhost:8080/"
        },
        "id": "YUXy-DJKpyPx",
        "outputId": "c9670685-cd2a-47e3-b00e-a782fc7b5e95"
      },
      "execution_count": null,
      "outputs": [
        {
          "output_type": "stream",
          "name": "stdout",
          "text": [
            "0:\tlearn: 7.2019131\ttotal: 3m 33s\tremaining: 2h 54m 33s\n",
            "1:\tlearn: 6.8811740\ttotal: 7m 2s\tremaining: 2h 48m 54s\n"
          ]
        }
      ]
    },
    {
      "cell_type": "code",
      "source": [],
      "metadata": {
        "id": "rOmBJAknRSHx"
      },
      "execution_count": null,
      "outputs": []
    },
    {
      "cell_type": "code",
      "source": [
        "#Create a dictionary with the number of data for each class\n",
        "class_count={}\n",
        "print(vocab)\n",
        "pos_ids = [i[3] for i in inputs]\n",
        "for pos_id in pos_ids:\n",
        "    if pos_id.item() in class_count:\n",
        "      class_count[pos_id.item()]+=1\n",
        "    else:\n",
        "      class_count[pos_id.item()]=1\n",
        "print(class_count)\n",
        "print(len(class_count))\n",
        "print(max(class_count.keys()))\n",
        "\n",
        "\n",
        "import matplotlib.pyplot as plt\n",
        "\n",
        "#See the tendency of the number of connections for each class\n",
        "print(\"min number of connections for each class\"\n",
        "      ,min(class_count.values())\n",
        "      ,min(class_count,key=class_count.get))\n",
        "print(\"max number of connections for each class\"\n",
        "      ,max(class_count.values())\n",
        "      ,max(class_count,key=class_count.get))\n",
        "\n",
        "plt.plot(list(class_count.values()))\n",
        "plt.show()"
      ],
      "metadata": {
        "id": "Q2UOJ4O63xDu",
        "outputId": "af831a4f-a8d9-4cca-e2aa-ef50bee5352b",
        "colab": {
          "base_uri": "https://localhost:8080/",
          "height": 554
        }
      },
      "execution_count": 16,
      "outputs": [
        {
          "output_type": "stream",
          "name": "stdout",
          "text": [
            "{(31.32719, 121.53013): 1, (31.11794, 121.457471): 2, (31.245393, 121.705496): 3, (31.094914, 121.43682): 4, (31.155344, 121.2025): 5, (31.044667, 121.46191): 6, (31.112344, 121.480257): 7, (31.128227, 121.45441): 8, (31.118723, 121.248449): 9, (31.125695, 121.46401): 10, (30.824719, 121.471519): 11, (31.146551, 121.235394): 12, (30.832601, 121.445485): 13, (31.298668, 121.541944): 14, (30.950067, 121.449083): 15, (31.130891, 121.472384): 16, (31.01217, 121.265575): 17, (31.130862, 121.091425): 18, (31.25821, 121.479271): 19, (31.225831, 121.412695): 20, (31.264503, 121.715846): 21, (31.121127, 121.243829): 22, (31.019691, 121.249497): 23, (31.205813, 121.413544): 24, (31.214115, 121.406884): 25, (31.287632, 121.458734): 26, (31.294609, 121.526886): 27, (31.121152, 121.141999): 28, (31.327299, 121.452936): 29, (31.109998, 121.164842): 30, (31.260742, 121.399188): 31, (31.198372, 121.355749): 32, (31.177169, 121.445517): 33, (31.138371, 121.416975): 34, (31.137509, 121.40768): 35, (31.22258, 121.428599): 36, (31.174203, 121.431404): 37, (31.24708, 121.419525): 38, (31.159523, 121.435774): 39, (31.123394, 121.278015): 40, (31.268894, 121.692432): 41, (31.236862, 121.355595): 42, (31.08532, 121.237002): 43, (30.967774, 121.447499): 44, (31.183323, 121.447822): 45, (30.83237, 121.439654): 46, (31.219114, 121.423499): 47, (31.323457, 121.57815): 48, (30.910085, 121.504947): 49, (31.243446, 121.675041): 50, (31.024911, 121.255017): 51, (31.260555, 121.410883): 52, (31.213849, 121.43028): 53, (31.247569, 121.41575): 54, (31.08111, 121.263537): 55, (31.333408, 121.552846): 56, (31.228847, 121.338653): 57, (30.858416, 121.035215): 58, (30.801265, 121.395878): 59, (31.148773, 121.387158): 60, (31.096325, 121.341209): 61, (31.218005, 121.430759): 62, (31.106089, 121.039819): 63, (31.290887, 121.435064): 64, (31.33775, 121.306733): 65, (31.071955, 121.234457): 66, (31.088099, 121.430111): 67, (31.246059, 121.362706): 68, (31.242808, 121.420927): 69, (31.241274, 121.36272): 70, (31.19458, 121.436178): 71, (31.141982, 121.459872): 72, (30.824298, 121.363989): 73, (31.319806, 121.526248): 74, (31.075231, 121.436269): 75, (31.154909, 121.436989): 76, (31.162868, 121.448422): 77, (31.151421, 121.279419): 78, (31.149628, 121.43924): 79, (31.284953, 121.489071): 80, (31.00816, 121.274391): 81, (31.243013, 121.416207): 82, (31.157362, 121.221594): 83, (31.338059, 121.289933): 84, (31.32712, 121.254377): 85, (31.268263, 121.394134): 86, (31.22135, 121.391319): 87, (34.689694, 112.407126): 88, (31.224226, 121.43839): 89, (31.216659, 121.391301): 90, (30.98383, 121.235077): 91, (31.145641, 121.449009): 92, (31.339114, 121.321261): 93, (31.284385, 121.511361): 94, (31.285861, 121.507007): 95, (31.30685, 121.519579): 96, (31.267266, 121.385292): 97, (31.304576, 121.522177): 98, (31.295347, 121.515155): 99, (31.099085, 121.386207): 100, (31.263495, 121.496653): 101, (31.201259, 121.40143): 102, (31.193409, 121.393885): 103, (31.182189, 121.394088): 104, (31.326648, 121.304442): 105, (31.209913, 121.425292): 106, (31.208108, 121.41483): 107, (31.213701, 121.41802): 108, (31.134917, 121.334281): 109, (31.117005, 121.271194): 110, (31.123621, 121.266561): 111, (31.331055, 121.52962): 112, (31.274336, 121.39328): 113, (31.255248, 121.416487): 114, (31.156874, 121.348458): 115, (31.254111, 121.408424): 116, (31.220649, 121.35994): 117, (31.147903, 121.403379): 118, (31.16807, 121.488657): 119, (30.779826, 121.376806): 120, (31.441487, 121.179013): 121, (31.220334, 121.367655): 122, (31.312672, 121.593011): 123, (30.970389, 121.451558): 124, (31.323113, 121.616609): 125, (31.327041, 121.661258): 126, (31.323598, 121.638883): 127, (31.209479, 121.702069): 128, (31.07195, 121.150279): 129, (31.18713, 121.451332): 130, (31.074013, 121.407487): 131, (31.186057, 121.44872): 132, (30.832683, 121.481868): 133, (31.250271, 121.406561): 134, (30.960682, 121.447242): 135, (31.102, 121.462298): 136, (31.112806, 121.462647): 137, (31.241362, 121.395822): 138, (31.252495, 121.390194): 139, (31.150662, 121.434931): 140, (31.340851, 121.63262): 141, (31.311329, 121.495756): 142, (31.30647, 121.492925): 143, (31.300084, 121.504034): 144, (31.318646, 121.53899): 145, (30.975655, 121.228194): 146, (31.311942, 121.54204): 147, (31.295335, 121.555781): 148, (31.134254, 121.280533): 149, (31.212113, 121.444193): 150, (31.116021, 121.287621): 151, (31.27795, 121.538718): 152, (31.324066, 121.536866): 153, (31.036404, 121.272345): 154, (30.892415, 121.023553): 155, (31.019246, 121.250749): 156, (31.166007, 121.457766): 157, (31.177858, 121.346956): 158, (46.247857, 128.762232): 159, (31.285944, 121.44442): 160, (31.219533, 121.427561): 161, (31.157151, 121.431115): 162, (31.24448, 121.37062): 163, (31.229334, 121.368291): 164, (30.938138, 121.327668): 165, (30.941447, 121.293964): 166, (31.245624, 121.522839): 167, (31.246527, 121.534982): 168, (31.236856, 121.40554): 169, (30.986462, 121.409757): 170, (30.997412, 121.247239): 171, (30.948712, 121.365593): 172, (31.198836, 121.215066): 173, (31.344675, 121.443963): 174, (31.157536, 121.203337): 175, (31.222168, 121.378951): 176, (31.224373, 121.364172): 177, (30.919796, 121.459621): 178, (31.18026, 121.406339): 179, (31.155848, 121.383402): 180, (31.249162, 121.487899): 181, (31.202075, 121.187355): 182, (31.224385, 121.143509): 183, (31.184319, 121.230946): 184, (31.381763, 121.301878): 185, (30.790922, 121.348126): 186, (31.248587, 121.277434): 187, (31.243338, 121.253922): 188, (31.247155, 121.23112): 189, (31.254166, 121.224476): 190, (31.213728, 121.386102): 191, (31.245814, 121.411472): 192, (31.219437, 121.374523): 193, (30.731903, 121.334173): 194, (31.253394, 121.389864): 195, (31.252264, 121.38269): 196, (31.246106, 121.443663): 197, (31.245663, 121.449725): 198, (31.380359, 121.304458): 199, (30.898697, 121.172576): 200, (31.38417, 121.344688): 201, (31.217237, 121.432824): 202, (31.228927, 121.486896): 203, (31.171686, 121.441221): 204, (31.313444, 121.309439): 205, (31.31724, 121.237444): 206, (31.371973, 121.278978): 207, (31.176813, 121.439114): 208, (31.150193, 121.45419): 209, (31.217372, 121.460724): 210, (30.800042, 121.417303): 211, (31.142941, 121.443942): 212, (31.134786, 121.444969): 213, (30.903508, 121.331287): 214, (31.188512, 121.437591): 215, (31.299749, 121.170321): 216, (31.415595, 121.188844): 217, (31.164195, 121.330502): 218, (31.098558, 121.377147): 219, (30.893975, 121.016922): 220, (31.17023, 121.337413): 221, (31.232877, 121.48753): 222, (31.162463, 121.364262): 223, (31.163393, 121.381735): 224, (31.134548, 121.39095): 225, (31.150797, 121.728702): 226, (31.251584, 121.4917): 227, (30.860668, 121.470193): 228, (31.00153, 121.235235): 229, (31.227933, 121.45361): 230, (31.166058, 121.403691): 231, (30.74139, 121.380141): 232, (31.224552, 121.482535): 233, (31.242867, 121.490229): 234, (30.797557, 121.356113): 235, (31.011886, 121.234971): 236, (30.746286, 121.344028): 237, (31.081475, 121.523285): 238, (31.284292, 121.273506): 239, (31.223175, 121.184646): 240, (31.165339, 121.427732): 241, (31.08093, 121.159291): 242, (31.159704, 121.457647): 243, (31.199721, 121.325753): 244, (31.161635, 121.286602): 245, (39.612987, 118.20604): 246, (31.19868, 121.485666): 247, (31.19382, 121.49524): 248, (31.364503, 121.391608): 249, (31.260709, 121.087935): 250, (31.176489, 121.188906): 251, (31.111821, 121.385462): 252, (31.269521, 121.153127): 253, (31.01613, 121.203009): 254, (31.143297, 121.132883): 255, (31.275929, 121.473484): 256, (31.139657, 121.298915): 257, (31.237435, 121.455917): 258, (31.254042, 121.464758): 259, (31.25423, 121.461072): 260, (31.318258, 121.167266): 261, (31.207205, 121.482691): 262, (31.38336, 121.420672): 263, (31.232002, 121.359292): 264, (31.315825, 121.532151): 265, (31.182198, 121.390214): 266, (31.175621, 121.317835): 267, (31.216526, 121.326846): 268, (30.873326, 121.284335): 269, (31.207679, 121.489691): 270, (31.203978, 121.423912): 271, (31.2355, 121.417315): 272, (31.254308, 121.459288): 273, (31.25393, 121.455087): 274, (31.251986, 121.456773): 275, (31.246345, 121.45371): 276, (31.06623, 121.321933): 277, (30.939279, 121.074396): 278, (30.814573, 121.352883): 279, (31.102445, 121.413911): 280, (30.852446, 121.262447): 281, (30.89659, 121.281933): 282, (30.934254, 121.279662): 283, (31.087306, 121.275545): 284, (31.207247, 121.572933): 285, (31.109806, 121.242241): 286, (31.175318, 121.181299): 287, (31.17665, 121.132941): 288, (31.215347, 121.134685): 289, (31.239726, 121.139516): 290, (31.252877, 121.148181): 291, (30.8406, 121.251681): 292, (31.265326, 121.394456): 293, (31.280857, 121.169253): 294, (31.274169, 121.221302): 295, (31.275331, 121.286529): 296, (31.273019, 121.307617): 297, (31.257553, 121.311711): 298, (31.247519, 121.322265): 299, (30.718108, 121.283169): 300, (31.231687, 121.32576): 301, (31.236104, 121.375177): 302, (31.28711, 121.226904): 303, (31.277484, 121.382842): 304, (31.22714, 121.391029): 305, (31.096053, 121.518157): 306, (31.144812, 121.119606): 307, (31.054254, 121.087156): 308, (31.262331, 121.563212): 309, (31.068626, 121.108326): 310, (31.058092, 121.235964): 311, (31.011339, 121.296295): 312, (31.240478, 121.526884): 313, (31.30092, 121.16892): 314, (30.799332, 121.268825): 315, (30.807278, 121.304136): 316, (31.258656, 121.472538): 317, (31.255942, 121.38141): 318, (31.228017, 121.444777): 319, (30.741272, 121.3348): 320, (31.024417, 121.471297): 321, (31.240869, 121.481603): 322, (30.716044, 121.291037): 323, (31.229057, 121.452254): 324, (31.349748, 121.506246): 325, (31.030356, 121.535809): 326, (26.215115, 109.744661): 327, (31.224731, 121.43464): 328, (31.16691, 121.115166): 329, (31.236138, 121.463199): 330, (31.230395, 121.46599): 331, (31.237872, 121.470259): 332, (31.154675, 121.81374): 333, (30.963494, 121.160188): 334, (31.148785, 121.115114): 335, (31.206547, 121.306923): 336, (31.387989, 121.396749): 337, (31.217074, 121.510123): 338, (31.230933, 121.347295): 339, (31.122623, 121.433813): 340, (31.256071, 121.462096): 341, (31.286066, 121.474323): 342, (31.237022, 121.546184): 343, (31.25563, 121.508513): 344, (31.430745, 121.187414): 345, (31.382812, 121.242351): 346, (31.36124, 121.451839): 347, (31.321039, 121.453913): 348, (31.131416, 121.429704): 349, (31.256971, 121.509351): 350, (31.188696, 121.181232): 351, (31.230201, 121.308739): 352, (31.255173, 121.403569): 353, (31.214561, 121.298904): 354, (31.232729, 121.566935): 355, (31.218022, 121.504024): 356, (31.467705, 121.201637): 357, (31.1634, 121.396418): 358, (31.210887, 121.315496): 359, (31.162395, 121.353836): 360, (31.132833, 121.17281): 361, (31.318661, 121.194317): 362, (31.255905, 121.430231): 363, (31.239025, 121.551622): 364, (30.771941, 121.373524): 365, (30.978506, 121.447689): 366, (31.374842, 121.264224): 367, (31.239655, 121.478097): 368, (31.234499, 121.463079): 369, (31.334449, 121.536876): 370, (31.124664, 121.323455): 371, (31.051898, 121.769904): 372, (30.915122, 121.560642): 373, (30.922611, 121.473581): 374, (31.120822, 121.29001): 375, (31.224126, 121.547664): 376, (31.223981, 121.478274): 377, (31.185228, 121.1697): 378, (31.152177, 121.172752): 379, (30.766975, 121.362906): 380, (31.156454, 121.815297): 381, (31.406426, 121.476433): 382, (31.258677, 121.392956): 383, (31.099642, 121.449578): 384, (31.204179, 121.538588): 385, (31.235929, 121.449652): 386, (31.260959, 121.562594): 387, (31.178088, 121.413515): 388, (31.413754, 121.202263): 389, (31.054506, 121.460002): 390, (31.257756, 121.601633): 391, (31.359545, 121.18156): 392, (30.999098, 121.447826): 393, (31.042021, 121.204506): 394, (31.348418, 121.427796): 395, (31.284148, 121.481157): 396, (31.203987, 121.520591): 397, (31.059304, 121.53566): 398, (31.285698, 121.612262): 399, (31.370992, 121.177459): 400, (31.038201, 121.216468): 401, (31.174661, 121.52822): 402, (31.208384, 121.466365): 403, (31.127837, 121.380654): 404, (31.240601, 121.442307): 405, (31.155403, 121.57642): 406, (31.253601, 121.4782): 407, (31.272774, 121.436412): 408, (31.246097, 121.39928): 409, (29.526266, 119.910488): 410, (31.167279, 121.113649): 411, (30.954604, 121.333773): 412, (31.217476, 121.494788): 413, (31.163705, 121.503747): 414, (31.25901, 121.65797): 415, (31.10366, 121.420217): 416, (31.078365, 121.404647): 417, (31.11674, 121.586334): 418, (31.387987, 121.495216): 419, (31.190168, 121.467092): 420, (31.03333, 121.427385): 421, (31.05815, 120.970188): 422, (31.056648, 121.404326): 423, (31.303976, 121.474504): 424, (31.297281, 121.505124): 425, (30.920156, 121.488943): 426, (31.270626, 121.5908): 427, (31.281813, 121.354285): 428, (31.122449, 121.582926): 429, (31.13756, 121.339005): 430, (31.307198, 121.511929): 431, (31.057696, 121.207516): 432, (31.288777, 121.390078): 433, (31.16872, 121.768142): 434, (30.715526, 121.351073): 435, (31.227167, 121.633295): 436, (30.860242, 121.79388): 437, (31.171101, 121.507145): 438, (31.198048, 121.604048): 439, (31.344291, 121.487858): 440, (30.947965, 121.640593): 441, (31.279012, 121.514374): 442, (31.261563, 121.376836): 443, (31.23423, 121.119889): 444, (31.31394, 121.382812): 445, (31.136777, 121.546762): 446, (30.967591, 121.656531): 447, (30.926464, 121.682732): 448, (31.292519, 121.549839): 449, (31.038291, 121.194794): 450, (31.337262, 121.473928): 451, (31.242039, 121.687875): 452, (31.307268, 121.521916): 453, (31.297527, 121.376): 454, (31.039301, 121.593594): 455, (31.324464, 121.387532): 456, (31.280262, 121.364633): 457, (31.214683, 121.551574): 458, (31.353347, 121.441038): 459, (31.01294, 121.637001): 460, (31.202395, 121.6278): 461, (31.145654, 121.375598): 462, (31.274564, 121.51979): 463, (31.045068, 121.232113): 464, (31.068209, 121.373076): 465, (31.16346, 121.405127): 466, (31.355465, 121.412867): 467, (31.221052, 121.503967): 468, (31.120753, 121.381579): 469, (31.291242, 121.489761): 470, (31.112548, 121.538798): 471, (31.316181, 121.405014): 472, (30.723654, 121.330778): 473, (30.718302, 121.314644): 474, (31.209182, 121.752433): 475, (31.186628, 121.372116): 476, (31.109649, 121.402441): 477, (31.214209, 121.659493): 478, (31.235682, 121.487831): 479, (31.031203, 121.65009): 480, (31.17762, 121.511042): 481, (31.204999, 121.471193): 482, (31.306306, 121.28988): 483, (31.259633, 121.594477): 484, (30.874727, 121.250912): 485, (30.843004, 121.438792): 486, (31.373432, 121.490334): 487, (31.215381, 121.439262): 488, (31.19143, 121.411411): 489, (31.294057, 121.171316): 490, (30.912905, 121.801126): 491, (31.292008, 121.36941): 492, (30.974035, 121.554233): 493, (31.183857, 121.637321): 494, (31.042056, 121.720903): 495, (30.872829, 121.424028): 496, (31.242991, 121.515376): 497, (31.317294, 121.460019): 498, (31.242627, 121.730079): 499, (31.444014, 121.25661): 500, (31.152157, 121.514858): 501, (31.17255, 121.363745): 502, (38.052584, 114.484137): 503, (31.127539, 121.389284): 504, (30.751838, 121.360056): 505, (31.318369, 121.407014): 506, (31.211574, 121.366182): 507, (31.025227, 121.44251): 508, (31.382497, 121.548578): 509, (31.232548, 121.478971): 510, (31.25007, 121.546845): 511, (31.260217, 121.525816): 512, (31.127879, 121.452728): 513, (30.955208, 121.732358): 514, (31.201647, 121.420098): 515, (31.266743, 121.481644): 516, (31.032565, 121.409407): 517, (30.939177, 121.223182): 518, (30.865062, 121.662776): 519, (31.378285, 121.436137): 520, (31.367578, 121.31858): 521, (31.030308, 121.650922): 522, (31.181485, 121.520026): 523, (30.816155, 121.298392): 524, (31.015959, 121.227509): 525, (31.174748, 121.39247): 526, (31.246387, 121.458214): 527, (31.305269, 121.397452): 528, (31.319501, 121.584673): 529, (31.274417, 121.257132): 530, (30.936752, 121.470783): 531, (31.236728, 121.42407): 532, (31.140855, 121.360032): 533, (31.327488, 121.437837): 534, (31.163459, 121.574025): 535, (31.211641, 121.474534): 536, (36.406412, 102.003965): 537, (30.872205, 121.530081): 538, (31.124501, 121.32791): 539, (31.305522, 121.483135): 540, (31.412982, 121.496282): 541, (31.157241, 121.418919): 542, (31.202883, 121.476296): 543, (31.312825, 121.491112): 544, (31.3065, 121.429743): 545, (46.777465, 131.812182): 546, (31.220416, 121.529149): 547, (31.119287, 121.204986): 548, (31.26604, 121.399004): 549, (30.834815, 121.197836): 550, (31.283403, 121.541263): 551, (31.213015, 121.547755): 552, (31.288667, 121.527375): 553, (31.017385, 121.715431): 554, (31.294194, 121.316828): 555, (31.127217, 121.335543): 556, (31.233973, 121.41641): 557, (31.288583, 121.428686): 558, (30.993883, 121.129758): 559, (31.105808, 121.038742): 560, (31.146311, 121.399951): 561, (30.734301, 121.25722): 562, (31.158559, 121.319801): 563, (30.866245, 121.343018): 564, (31.200882, 121.446511): 565, (31.321416, 121.215): 566, (31.221591, 121.351862): 567, (31.217512, 121.533844): 568, (31.488248, 121.349833): 569, (31.360292, 121.583955): 570, (31.234004, 121.276012): 571, (31.341175, 121.618019): 572, (31.215428, 121.660427): 573, (31.167947, 121.670231): 574, (26.139329, 103.078562): 575, (31.303478, 121.55082): 576, (31.209905, 121.37472): 577, (31.189335, 121.781953): 578, (31.211591, 121.499553): 579, (31.092058, 121.38753): 580, (22.522803, 114.218796): 581, (31.370388, 121.187891): 582, (31.205839, 121.462046): 583, (31.193646, 121.449596): 584, (31.313065, 121.417971): 585, (31.406017, 121.240101): 586, (31.256807, 121.518545): 587, (31.184888, 121.510295): 588, (30.889897, 121.320413): 589, (31.343106, 121.455682): 590, (31.379455, 121.372876): 591, (31.211485, 121.403238): 592, (31.273982, 121.512661): 593, (31.178359, 121.279284): 594, (30.738649, 121.382934): 595, (31.036987, 121.386554): 596, (31.111396, 121.379353): 597, (31.210843, 121.491168): 598, (30.898527, 121.22367): 599, (31.301057, 121.388942): 600, (31.395915, 121.363062): 601, (31.180466, 121.441251): 602, (31.021462, 121.321255): 603, (31.294393, 121.497298): 604, (31.337218, 121.465181): 605, (31.070388, 121.520258): 606, (31.256559, 121.43557): 607, (30.887807, 121.346419): 608, (31.034322, 121.601024): 609, (31.382771, 121.291756): 610, (30.831962, 121.534676): 611, (30.900529, 121.246804): 612, (31.010124, 121.538644): 613, (31.405231, 121.506638): 614, (35.379598, 116.072359): 615, (31.045313, 121.844791): 616, (31.149689, 121.531301): 617, (31.146522, 121.352501): 618, (31.114131, 121.394475): 619, (31.190389, 121.457678): 620, (31.078791, 121.422082): 621, (31.039193, 121.604274): 622, (31.300693, 121.496182): 623, (31.306089, 121.474725): 624, (31.221662, 121.539905): 625, (31.272151, 121.375814): 626, (31.244859, 121.489305): 627, (31.325382, 121.553285): 628, (31.243738, 121.486223): 629, (31.354948, 121.496863): 630, (31.015452, 121.154814): 631, (31.196266, 121.537132): 632, (30.994999, 121.264867): 633, (31.263651, 121.573401): 634, (30.808567, 121.29074): 635, (31.304918, 121.497837): 636, (31.200224, 121.316463): 637, (31.33167, 121.440751): 638, (31.069676, 121.773361): 639, (31.217516, 121.452872): 640, (31.267654, 121.473299): 641, (31.069946, 121.719641): 642, (31.262746, 121.517701): 643, (31.346801, 121.577398): 644, (31.151539, 121.41109): 645, (30.919514, 121.45936): 646, (31.273183, 121.488391): 647, (31.251239, 121.428578): 648, (31.232639, 121.705254): 649, (31.268642, 121.332479): 650, (31.166046, 121.642137): 651, (31.045516, 121.216817): 652, (31.174053, 121.282683): 653, (31.040378, 121.255563): 654, (31.331242, 121.225906): 655, (31.10888, 121.390919): 656, (31.296656, 121.483976): 657, (31.095884, 121.350551): 658, (31.216359, 121.397227): 659, (31.460409, 121.401649): 660, (30.935314, 121.733322): 661, (31.33876, 121.437747): 662, (31.358014, 121.37617): 663, (30.894923, 121.319564): 664, (31.319077, 121.331853): 665, (31.132785, 121.413457): 666, (31.2317, 121.546506): 667, (31.208346, 121.544892): 668, (31.177646, 121.555355): 669, (31.108567, 121.766873): 670, (31.4163, 121.496785): 671, (31.020065, 121.23311): 672, (31.002479, 121.390889): 673, (31.237944, 121.693732): 674, (30.847557, 121.226776): 675, (31.018376, 121.40507): 676, (30.988441, 121.87486): 677, (31.021822, 121.590566): 678, (31.211107, 121.59082): 679, (31.26484, 121.498029): 680, (31.190185, 121.443475): 681, (30.747024, 121.287991): 682, (41.835279, 123.498927): 683, (31.250332, 121.594504): 684, (31.147783, 121.366475): 685, (31.205759, 121.26316): 686, (31.219945, 121.285654): 687, (31.129955, 121.336848): 688, (31.226966, 121.53174): 689, (31.168241, 121.437559): 690, (31.228755, 121.523626): 691, (31.086916, 121.387535): 692, (30.908378, 121.634574): 693, (31.218201, 121.487151): 694, (31.160199, 121.557134): 695, (31.301602, 121.487289): 696, (31.192975, 121.449755): 697, (31.282237, 121.42091): 698, (31.042149, 121.539262): 699, (30.823953, 121.528367): 700, (31.121363, 121.369095): 701, (31.270369, 121.443633): 702, (31.277512, 121.287969): 703, (31.223665, 121.458791): 704, (31.054594, 121.339133): 705, (30.894639, 121.21016): 706, (31.186465, 121.429887): 707, (31.192915, 121.682688): 708, (31.227795, 121.254172): 709, (31.069757, 121.399847): 710, (31.140979, 121.586245): 711, (31.27975, 121.497791): 712, (31.145387, 121.61623): 713, (31.462643, 121.331794): 714, (30.908583, 121.656169): 715, (31.219455, 121.098597): 716, (31.314038, 121.509762): 717, (31.371694, 121.443832): 718, (31.116535, 121.678055): 719, (31.290434, 121.425041): 720, (31.155384, 121.771585): 721, (31.004198, 121.067198): 722, (31.007639, 121.416247): 723, (31.217682, 121.499709): 724, (31.414938, 121.486809): 725, (31.270279, 121.531241): 726, (30.918282, 121.639066): 727, (31.104981, 121.360938): 728, (31.492475, 121.328439): 729, (31.025763, 121.541983): 730, (31.180753, 121.749174): 731, (30.97935, 121.815249): 732, (31.120714, 121.42693): 733, (31.155297, 121.573504): 734, (31.158202, 121.389411): 735, (31.368461, 121.372259): 736, (31.327049, 121.443238): 737, (31.21351, 121.3728): 738, (30.829105, 121.180127): 739, (31.133956, 121.526289): 740, (31.264146, 121.532591): 741, (31.121932, 121.33481): 742, (31.356238, 121.568226): 743, (31.262941, 121.602924): 744, (31.085146, 121.589124): 745, (31.214958, 121.527054): 746, (30.899117, 121.175731): 747, (31.183064, 121.407773): 748, (31.209025, 121.616514): 749, (31.294155, 121.418063): 750, (31.223114, 121.522857): 751, (31.214767, 121.444427): 752, (31.355737, 121.403678): 753, (31.210582, 121.529652): 754, (31.203031, 121.443586): 755, (31.233201, 121.469528): 756, (31.252404, 121.435035): 757, (31.120864, 121.389141): 758, (34.638922, 119.467017): 759, (31.213659, 121.504661): 760, (31.215246, 121.604329): 761, (31.388641, 121.444174): 762, (30.86683, 121.83302): 763, (31.078561, 121.564629): 764, (31.140384, 121.620758): 765, (31.224117, 121.4732): 766, (31.278892, 121.710661): 767, (31.045101, 121.223676): 768, (30.442177, 120.618727): 769, (31.253346, 121.448039): 770, (31.201237, 121.669336): 771, (31.106732, 121.290566): 772, (31.228014, 121.477667): 773, (31.077825, 121.33981): 774, (31.367392, 121.276877): 775, (31.260835, 121.366953): 776, (31.366638, 121.43543): 777, (31.455174, 121.413981): 778, (31.244229, 121.475231): 779, (31.39034, 121.272165): 780, (30.935874, 121.692581): 781, (31.180763, 121.476049): 782, (31.292718, 121.410291): 783, (31.225207, 121.452948): 784, (30.719644, 121.345988): 785, (31.299261, 121.578516): 786, (31.125764, 121.562057): 787, (31.188821, 121.387044): 788, (31.141245, 121.500503): 789, (31.114038, 121.415096): 790, (31.010331, 121.381275): 791, (31.069261, 121.375484): 792, (31.24822, 121.296297): 793, (31.181381, 121.688934): 794, (31.131231, 121.398758): 795, (30.92643, 121.782514): 796, (31.162282, 121.426688): 797, (30.920347, 121.057024): 798, (31.254534, 121.34772): 799, (31.247628, 121.510061): 800, (31.403259, 121.447841): 801, (31.318974, 121.412838): 802, (31.05799, 121.626154): 803, (31.283959, 121.416644): 804, (31.176978, 121.499522): 805, (31.19979, 121.389906): 806, (31.301307, 121.33124): 807, (31.144212, 121.50825): 808, (30.92668, 121.466784): 809, (31.436901, 121.294601): 810, (31.039158, 121.239632): 811, (30.932475, 121.692651): 812, (30.901978, 121.452316): 813, (31.327484, 121.406697): 814, (31.21852, 121.44019): 815, (30.853798, 121.344272): 816, (30.966714, 121.771375): 817, (31.276178, 121.553996): 818, (31.221001, 121.731159): 819, (31.327319, 121.462047): 820, (31.270362, 121.612773): 821, (30.987088, 121.588932): 822, (31.210891, 121.3779): 823, (31.072213, 121.658885): 824, (31.176807, 121.251063): 825, (31.195139, 121.385973): 826, (31.08906, 121.722984): 827, (31.145439, 121.417433): 828, (31.060038, 121.195223): 829, (31.324905, 121.29416): 830, (31.19232, 121.142889): 831, (31.019533, 121.388705): 832, (31.221777, 121.558508): 833, (31.103853, 121.810034): 834, (31.122978, 121.704554): 835, (31.276317, 121.524794): 836, (31.067235, 121.762108): 837, (31.082701, 121.448694): 838, (31.468523, 121.425585): 839, (31.17605, 121.431225): 840, (31.182483, 121.5762): 841, (31.150483, 121.491401): 842, (31.155342, 121.8105): 843, (31.483764, 121.274813): 844, (31.073134, 121.317814): 845, (31.219239, 121.418564): 846, (31.179835, 121.429502): 847, (31.307911, 121.518921): 848, (31.150398, 121.537521): 849, (24.284812, 102.999068): 850, (31.251883, 121.418603): 851, (31.221325, 121.448881): 852, (30.910136, 121.843044): 853, (31.357773, 121.508693): 854, (31.007327, 121.431151): 855, (31.045834, 121.408322): 856, (31.210033, 121.405714): 857, (30.844397, 121.528845): 858, (30.758612, 121.320541): 859, (30.933365, 121.873737): 860, (31.209644, 121.56447): 861, (31.337749, 121.579688): 862, (31.244102, 121.437744): 863, (30.984047, 121.726879): 864, (31.312291, 121.46631): 865, (31.113744, 121.341878): 866, (31.326619, 121.493433): 867, (30.716187, 121.349498): 868, (31.32899, 121.323419): 869, (31.441726, 121.246593): 870, (31.197656, 121.463533): 871, (31.197909, 121.426542): 872, (31.20172, 121.743118): 873, (31.200248, 121.474414): 874, (31.28386, 121.530324): 875, (31.312117, 121.474859): 876, (31.265705, 121.420959): 877, (31.208589, 121.524447): 878, (31.300493, 121.323029): 879, (31.125467, 121.581832): 880, (31.194792, 121.466884): 881, (31.033659, 121.577846): 882, (31.28023, 121.543164): 883, (31.212718, 121.447853): 884, (31.201251, 121.561484): 885, (30.904757, 121.467941): 886, (31.233629, 121.532011): 887, (31.168519, 121.804669): 888, (31.227165, 121.480195): 889, (31.359311, 121.310645): 890, (31.286632, 121.552094): 891, (31.280339, 121.402957): 892, (30.87706, 121.856429): 893, (31.260465, 121.461228): 894, (31.158843, 121.127268): 895, (31.241762, 121.50497): 896, (31.132311, 121.362691): 897, (31.19332, 121.430385): 898, (31.139721, 121.673912): 899, (31.268862, 121.434292): 900, (31.27431, 121.448589): 901, (31.333313, 121.333805): 902, (31.410089, 121.244982): 903, (31.291143, 121.472012): 904, (31.346682, 121.49352): 905, (31.175781, 121.643301): 906, (31.339206, 121.453188): 907, (31.12408, 121.716759): 908, (30.838141, 121.189035): 909, (31.149677, 121.729053): 910, (31.1744, 121.285083): 911, (31.395973, 121.258897): 912, (31.219647, 121.446669): 913, (31.194928, 121.366998): 914, (31.155349, 121.375527): 915, (31.225266, 121.444323): 916, (31.23543, 121.447652): 917, (31.240412, 121.147662): 918, (30.996346, 121.297687): 919, (31.402222, 121.493387): 920, (31.273242, 121.499598): 921, (31.2077, 121.669382): 922, (31.254124, 121.605142): 923, (31.333315, 121.188402): 924, (31.195907, 121.410659): 925, (31.22121, 121.411568): 926, (31.423181, 121.387917): 927, (31.190301, 121.566862): 928, (31.173163, 121.356571): 929, (30.741693, 121.367052): 930, (31.19206, 121.438501): 931, (31.163432, 121.354451): 932, (31.420016, 121.44113): 933, (30.956624, 121.334663): 934, (31.166408, 121.569203): 935, (31.109666, 121.052906): 936, (31.260429, 121.426787): 937, (31.2114, 121.476689): 938, (31.198952, 121.70244): 939, (31.166365, 121.419792): 940, (31.266666, 121.598298): 941, (31.04139, 121.741651): 942, (31.23936, 121.488752): 943, (31.111607, 121.324796): 944, (31.170097, 121.608906): 945, (30.960195, 121.398632): 946, (31.211598, 121.439406): 947, (30.730296, 121.342643): 948, (31.3397, 121.298473): 949, (31.157677, 121.424531): 950, (31.280348, 121.592755): 951, (30.991472, 121.430726): 952, (31.201303, 121.434409): 953, (31.260903, 121.618966): 954, (31.116903, 121.595022): 955, (31.163339, 121.469291): 956, (31.178278, 121.606216): 957, (31.337091, 121.543621): 958, (31.052639, 121.761696): 959, (31.43737, 121.432451): 960, (31.046945, 121.764826): 961, (31.023064, 121.534267): 962, (31.173856, 121.350522): 963, (31.292717, 121.482235): 964, (31.285741, 121.626244): 965, (31.192275, 121.462826): 966, (31.308964, 121.403345): 967, (31.215081, 121.481286): 968, (31.241014, 121.48529): 969, (31.311405, 121.553882): 970, (31.224452, 121.511537): 971, (31.228726, 121.482748): 972, (31.048845, 121.231719): 973, (31.160355, 121.454785): 974, (31.276349, 121.39526): 975, (31.48259, 121.348661): 976, (31.236935, 121.106513): 977, (31.276268, 121.683198): 978, (31.312069, 121.172955): 979, (31.22622, 121.506261): 980, (31.263762, 121.481215): 981, (31.206089, 121.105074): 982, (31.343386, 121.208271): 983, (31.262048, 121.458128): 984, (31.222119, 121.454078): 985, (31.13264, 121.32443): 986, (31.172757, 121.425965): 987, (31.191847, 121.381117): 988, (31.297689, 121.447357): 989, (31.33454, 121.46611): 990, (30.855412, 121.569454): 991, (31.395438, 121.472743): 992, (31.031459, 121.300841): 993, (30.909885, 121.195459): 994, (31.414397, 121.481621): 995, (31.273451, 121.681542): 996, (30.900013, 121.049649): 997, (31.152182, 121.564661): 998, (31.080824, 121.390896): 999, (31.058407, 121.330724): 1000, (31.148848, 121.314851): 1001, (31.232857, 121.475333): 1002, (31.204614, 121.432408): 1003, (31.423448, 121.433415): 1004, (30.7653, 121.292527): 1005, (30.910239, 121.419143): 1006, (31.323091, 121.364299): 1007, (31.370654, 121.459272): 1008, (31.26338, 121.517162): 1009, (31.385543, 121.469415): 1010, (31.242893, 121.465382): 1011, (31.218812, 121.401309): 1012, (31.035335, 121.117893): 1013, (31.26338, 121.433161): 1014, (31.400853, 121.483671): 1015, (31.204036, 121.437644): 1016, (31.187254, 121.536259): 1017, (31.217261, 121.391532): 1018, (31.298177, 121.473198): 1019, (31.198093, 121.126168): 1020, (31.29099, 121.697503): 1021, (31.247688, 121.528106): 1022, (31.282271, 121.524511): 1023, (31.284042, 121.583676): 1024, (30.919334, 121.475563): 1025, (30.750457, 121.376839): 1026, (30.972355, 121.610007): 1027, (31.309342, 121.580807): 1028, (31.231585, 121.517218): 1029, (31.221876, 121.687381): 1030, (31.059755, 121.389723): 1031, (31.361645, 121.475443): 1032, (31.159304, 121.358718): 1033, (31.26748, 121.57859): 1034, (31.248146, 121.441241): 1035, (30.93817, 121.865652): 1036, (31.122643, 121.734179): 1037, (31.264477, 121.44249): 1038, (31.378631, 121.277965): 1039, (31.049556, 121.600672): 1040, (31.023902, 121.350511): 1041, (30.91796, 121.543057): 1042, (30.998611, 121.216212): 1043, (31.25037, 121.488549): 1044, (31.3691, 121.415317): 1045, (31.370457, 121.470415): 1046, (31.219133, 121.524846): 1047, (31.194194, 121.456589): 1048, (31.051247, 121.480621): 1049, (30.895699, 121.478289): 1050, (31.360977, 121.444195): 1051, (31.335151, 121.590721): 1052, (31.013227, 121.552205): 1053, (31.4193, 121.285094): 1054, (31.311631, 121.354326): 1055, (31.356305, 121.293716): 1056, (31.023331, 121.315006): 1057, (31.296619, 121.497055): 1058, (31.057069, 121.599172): 1059, (31.074814, 121.713455): 1060, (31.142865, 121.330843): 1061, (31.215664, 121.46829): 1062, (31.013082, 121.391811): 1063, (31.291293, 121.559335): 1064, (30.963144, 121.39936): 1065, (31.100465, 121.401931): 1066, (31.016895, 121.42971): 1067, (31.301132, 121.177821): 1068, (30.97533, 121.271449): 1069, (31.396351, 121.44222): 1070, (31.115176, 121.36579): 1071, (31.224855, 121.480154): 1072, (31.434069, 121.448741): 1073, (30.929412, 121.460403): 1074, (31.316557, 121.516135): 1075, (31.23593, 121.220028): 1076, (31.009423, 121.245898): 1077, (31.132602, 121.095863): 1078, (31.048503, 121.141872): 1079, (31.390234, 121.254572): 1080, (30.889117, 121.319998): 1081, (31.262756, 121.625447): 1082, (30.893492, 121.315973): 1083, (31.224718, 121.344451): 1084, (31.233761, 121.670586): 1085, (31.284675, 121.516006): 1086, (31.250674, 121.47282): 1087, (31.273276, 121.1303): 1088, (31.041762, 120.928733): 1089, (31.217323, 121.753758): 1090, (31.124812, 121.508263): 1091, (31.23301, 121.442524): 1092, (31.256232, 121.498254): 1093, (31.100034, 121.663489): 1094, (31.185812, 121.457923): 1095, (31.240874, 121.518086): 1096, (31.251894, 121.464026): 1097, (31.266257, 121.506521): 1098, (31.047441, 121.470836): 1099, (31.235247, 121.383101): 1100, (31.497375, 121.324955): 1101, (30.985081, 121.691229): 1102, (31.17247, 121.404203): 1103, (31.364407, 121.561457): 1104, (31.334186, 121.50238): 1105, (30.895162, 121.094602): 1106, (31.232407, 121.652986): 1107, (31.24641, 121.548541): 1108, (31.037985, 121.752781): 1109, (31.159756, 121.525433): 1110, (30.866289, 121.103027): 1111, (31.223107, 121.454329): 1112, (31.195613, 121.40425): 1113, (30.957633, 121.343012): 1114, (31.234259, 121.52572): 1115, (31.285059, 121.406807): 1116, (31.159569, 121.145966): 1117, (31.357217, 121.439635): 1118, (30.739639, 121.373695): 1119, (31.098701, 121.582178): 1120, (31.252105, 121.56398): 1121, (30.943662, 121.155665): 1122, (30.774911, 121.259927): 1123, (30.763589, 121.264689): 1124, (31.299073, 121.552202): 1125, (31.352538, 121.490272): 1126, (31.157022, 121.498865): 1127, (31.168125, 121.503534): 1128, (31.046524, 121.749155): 1129, (31.032045, 121.783775): 1130, (31.038911, 121.226883): 1131, (31.231508, 121.577691): 1132, (31.420118, 121.349715): 1133, (31.150287, 121.471783): 1134, (31.459469, 121.412299): 1135, (31.168922, 121.412651): 1136, (31.202103, 121.445912): 1137, (31.398623, 121.409041): 1138, (30.802409, 121.205114): 1139, (31.308192, 121.667576): 1140, (31.16584, 121.530742): 1141, (31.113159, 121.06421): 1142, (31.197114, 121.442853): 1143, (31.278161, 121.486144): 1144, (30.830149, 121.35652): 1145, (31.090076, 121.406999): 1146, (31.235461, 121.498056): 1147, (30.903899, 121.906187): 1148, (31.223117, 121.504741): 1149, (31.269517, 121.498812): 1150, (31.206201, 121.085991): 1151, (31.154923, 121.36045): 1152, (30.946702, 121.624426): 1153, (31.241036, 121.374063): 1154, (31.299799, 121.530915): 1155, (31.213582, 121.38377): 1156, (30.850119, 121.499982): 1157, (31.278008, 121.492049): 1158, (31.235154, 121.533056): 1159, (30.85108, 121.855994): 1160, (31.171916, 121.718029): 1161, (31.318281, 121.447698): 1162, (31.225275, 121.47164): 1163, (31.396687, 121.378844): 1164, (30.827125, 121.329382): 1165, (31.200811, 121.444401): 1166, (30.72456, 121.344043): 1167, (31.168296, 121.588625): 1168, (31.242157, 121.568785): 1169, (31.182725, 121.41492): 1170, (31.258255, 121.471554): 1171, (31.005717, 121.202014): 1172, (31.267826, 121.521146): 1173, (31.410197, 121.500761): 1174, (31.209704, 121.368486): 1175, (31.168938, 121.54333): 1176, (31.225653, 121.480878): 1177, (31.380093, 121.517779): 1178, (31.326138, 121.48973): 1179, (31.181785, 121.529159): 1180, (31.230287, 121.557116): 1181, (31.311763, 121.21253): 1182, (31.302901, 121.553485): 1183, (31.248482, 121.53958): 1184, (31.072138, 121.661831): 1185, (31.283201, 121.665402): 1186, (31.228852, 121.541643): 1187, (25.222206, 117.086322): 1188, (31.30446, 121.426575): 1189, (31.206194, 121.456569): 1190, (31.012212, 121.413472): 1191, (31.300338, 121.526827): 1192, (31.224154, 121.43807): 1193, (31.281567, 121.557955): 1194, (31.209182, 121.535827): 1195, (31.288233, 121.304952): 1196, (31.206668, 121.449678): 1197, (31.270493, 121.353356): 1198, (31.294885, 121.244609): 1199, (31.267478, 121.5468): 1200, (31.066368, 121.2082): 1201, (31.292462, 121.271212): 1202, (31.222233, 121.623547): 1203, (31.207139, 121.449578): 1204, (30.977517, 121.669761): 1205, (31.266232, 121.402951): 1206, (31.225092, 121.38464): 1207, (31.242948, 121.608734): 1208, (31.278808, 121.419722): 1209, (31.271455, 121.513192): 1210, (31.268106, 121.49354): 1211, (31.018176, 121.418004): 1212, (31.20694, 121.459659): 1213, (31.156928, 121.121902): 1214, (30.719537, 121.355948): 1215, (31.29092, 121.359453): 1216, (31.259319, 121.494159): 1217, (31.235072, 121.518805): 1218, (31.32755, 121.15343): 1219, (31.244559, 121.724977): 1220, (31.235453, 121.653548): 1221, (31.268663, 121.428101): 1222, (30.989121, 121.127308): 1223, (31.022923, 121.806437): 1224, (31.24143, 121.475172): 1225, (31.262004, 121.350318): 1226, (31.459342, 121.319364): 1227, (31.248195, 121.490929): 1228, (31.415226, 121.349387): 1229, (31.252974, 121.502684): 1230, (31.351256, 121.519123): 1231, (31.00948, 121.4998): 1232, (31.249796, 121.582523): 1233, (31.281363, 121.459935): 1234, (31.19124, 121.507961): 1235, (30.705762, 121.33512): 1236, (31.082614, 121.523874): 1237, (30.929919, 121.206039): 1238, (31.260814, 121.490337): 1239, (31.356868, 121.555161): 1240, (31.240453, 121.511773): 1241, (31.255025, 121.199554): 1242, (31.053362, 121.431405): 1243, (31.201064, 121.438699): 1244, (31.112899, 121.367429): 1245, (31.250986, 121.460075): 1246, (31.426865, 121.351198): 1247, (31.320121, 121.459018): 1248, (31.234796, 121.533464): 1249, (31.110093, 121.371253): 1250, (31.248715, 121.481228): 1251, (31.19706, 121.095538): 1252, (31.274535, 121.48034): 1253, (31.178033, 121.487803): 1254, (31.119755, 121.577952): 1255, (31.371366, 121.236234): 1256, (31.232893, 121.380242): 1257, (31.282514, 121.343407): 1258, (31.312494, 121.157796): 1259, (30.763912, 121.333802): 1260, (31.279562, 121.467095): 1261, (31.019982, 121.244295): 1262, (31.335141, 121.413142): 1263, (31.050708, 121.217094): 1264, (31.226242, 121.450105): 1265, (31.143965, 121.573343): 1266, (31.193643, 121.402511): 1267, (31.161896, 121.135143): 1268, (31.277766, 121.433047): 1269, (31.207348, 121.70185): 1270, (31.203552, 121.371544): 1271, (31.239319, 121.265377): 1272, (31.19107, 121.554321): 1273, (31.409644, 121.303936): 1274, (31.04822, 121.231928): 1275, (30.733903, 121.341904): 1276, (31.236009, 121.478941): 1277, (30.80226, 121.311879): 1278, (31.289509, 121.447288): 1279, (31.230748, 121.485488): 1280, (31.196135, 121.558528): 1281, (31.270809, 121.543999): 1282, (31.216752, 121.476401): 1283, (31.233248, 121.479537): 1284, (31.002291, 121.873286): 1285, (31.13107, 121.298444): 1286, (30.94602, 121.106186): 1287, (30.739797, 121.32739): 1288, (31.225318, 121.437806): 1289, (31.281917, 121.435906): 1290, (31.289282, 121.378597): 1291, (31.086136, 121.507054): 1292, (30.993467, 121.234309): 1293, (31.134484, 121.42764): 1294, (31.238801, 121.386263): 1295, (30.983141, 121.540945): 1296, (31.204349, 121.693531): 1297, (31.218716, 121.568667): 1298, (31.281994, 121.631556): 1299, (31.189701, 121.543143): 1300, (31.164838, 121.410811): 1301, (30.897085, 121.617832): 1302, (31.051731, 121.423756): 1303, (31.180175, 121.422303): 1304, (31.267542, 121.685192): 1305, (31.324375, 121.433451): 1306, (31.262448, 121.504717): 1307, (31.155148, 121.597536): 1308, (30.93561, 121.517165): 1309, (31.236991, 121.441554): 1310, (31.214719, 121.624972): 1311, (31.242967, 121.51048): 1312, (31.221346, 121.201454): 1313, (30.915722, 121.763195): 1314, (31.265, 121.48958): 1315, (31.2716, 121.465223): 1316, (31.410741, 121.442349): 1317, (31.328439, 121.384246): 1318, (31.137582, 121.083916): 1319, (31.234382, 121.531106): 1320, (31.088801, 121.536584): 1321, (31.344366, 121.51915): 1322, (31.10114, 121.181649): 1323, (31.244931, 121.50832): 1324, (30.993594, 121.348984): 1325, (31.15228, 121.118001): 1326, (31.22278, 121.450373): 1327, (31.254912, 121.371838): 1328, (31.453478, 121.256429): 1329, (35.24116, 113.276351): 1330, (31.180824, 121.525363): 1331, (31.223004, 121.465956): 1332, (31.080002, 121.798389): 1333, (30.796356, 121.199264): 1334, (31.287814, 121.355886): 1335, (31.456258, 121.413525): 1336, (31.187859, 121.444801): 1337, (31.256426, 121.61001): 1338, (31.397648, 121.28551): 1339, (31.040309, 121.308498): 1340, (31.203473, 121.445984): 1341, (31.116086, 121.488253): 1342, (30.90618, 121.178287): 1343, (31.24256, 121.490511): 1344, (31.396658, 121.496972): 1345, (31.425786, 121.422506): 1346, (31.182371, 121.526439): 1347, (31.240686, 121.480699): 1348, (31.286022, 121.497436): 1349, (31.298752, 121.491919): 1350, (31.310425, 121.439368): 1351, (31.242514, 121.493696): 1352, (30.876032, 121.466173): 1353, (31.279322, 121.466136): 1354, (31.250339, 121.440196): 1355, (31.326418, 121.501541): 1356, (31.341417, 121.271089): 1357, (31.258483, 121.368346): 1358, (31.244555, 121.5099): 1359, (31.254981, 121.623923): 1360, (31.081917, 121.062248): 1361, (41.677262, 125.960124): 1362, (31.177067, 121.370844): 1363, (31.299874, 121.298501): 1364, (31.035151, 121.544702): 1365, (31.313954, 121.499987): 1366, (31.222609, 121.378494): 1367, (31.231119, 121.484436): 1368, (31.301749, 121.457406): 1369, (31.211634, 121.520845): 1370, (31.235177, 121.451385): 1371, (31.235847, 121.536101): 1372, (31.063923, 121.353076): 1373, (31.265054, 121.456413): 1374, (31.216371, 121.601926): 1375, (31.238742, 121.530031): 1376, (31.289489, 121.341656): 1377, (31.242584, 121.449606): 1378, (30.978325, 121.70767): 1379, (31.253405, 121.091261): 1380, (31.025516, 121.30169): 1381, (31.116103, 121.43571): 1382, (31.188514, 121.49841): 1383, (31.255582, 121.363523): 1384, (31.25879, 121.627202): 1385, (31.082557, 121.430065): 1386, (31.312192, 121.456456): 1387, (31.232518, 121.465177): 1388, (30.781368, 121.418953): 1389, (30.77648, 121.358227): 1390, (31.129482, 121.192266): 1391, (31.261924, 121.568031): 1392, (31.337637, 121.446597): 1393, (31.246512, 121.514772): 1394, (31.293561, 121.362372): 1395, (31.345443, 121.596458): 1396, (31.24018, 121.506063): 1397, (31.236381, 121.484201): 1398, (31.126777, 121.367557): 1399, (31.171972, 121.140685): 1400, (31.317417, 121.48383): 1401, (31.143774, 121.519955): 1402, (31.201321, 121.404211): 1403, (31.19183, 121.59097): 1404, (31.246371, 121.513215): 1405, (31.073706, 121.680729): 1406, (31.231815, 121.464062): 1407, (31.108876, 121.345256): 1408, (31.143754, 121.434357): 1409, (31.242841, 121.391309): 1410, (31.296405, 121.392803): 1411, (31.109271, 121.617421): 1412, (31.211492, 121.571765): 1413, (31.200432, 121.447381): 1414, (31.389487, 121.259676): 1415, (31.195642, 121.446626): 1416, (31.280389, 121.467635): 1417, (31.094143, 121.488864): 1418, (31.211337, 121.413801): 1419, (31.176379, 121.397706): 1420, (31.216686, 121.493011): 1421, (31.444231, 121.225828): 1422, (31.42718, 121.33925): 1423, (31.036623, 121.377512): 1424, (31.015724, 121.40907): 1425, (31.065995, 121.314532): 1426, (31.180897, 121.463904): 1427, (31.057816, 121.413943): 1428, (31.236405, 121.432864): 1429, (31.110606, 121.517194): 1430, (31.234168, 121.473173): 1431, (31.275472, 121.436799): 1432, (31.116791, 121.166516): 1433, (31.184883, 121.430689): 1434, (31.280867, 121.656939): 1435, (31.473557, 121.331298): 1436, (31.271086, 121.549327): 1437, (31.342417, 121.40922): 1438, (31.178962, 121.388264): 1439, (31.238593, 121.450062): 1440, (31.148334, 121.420448): 1441, (31.201965, 121.452457): 1442, (31.162714, 121.772242): 1443, (31.227544, 121.537532): 1444, (31.19907, 121.517372): 1445, (31.317624, 121.405225): 1446, (31.13623, 121.77848): 1447, (31.152045, 121.420017): 1448, (31.255293, 121.49343): 1449, (31.087507, 121.398717): 1450, (31.229645, 121.481533): 1451, (31.054947, 120.995325): 1452, (31.246038, 121.531441): 1453, (31.137143, 121.545715): 1454, (31.203981, 121.483421): 1455, (31.197512, 121.470198): 1456, (31.070433, 121.467199): 1457, (31.281772, 121.484273): 1458, (31.219947, 121.467027): 1459, (31.240412, 121.45723): 1460, (31.207251, 121.407122): 1461, (31.203742, 121.461251): 1462, (31.230277, 121.448573): 1463, (31.291587, 121.511561): 1464, (31.402193, 121.367083): 1465, (31.254643, 121.569349): 1466, (31.303373, 121.4429): 1467, (31.266813, 121.512658): 1468, (31.150587, 121.499019): 1469, (31.276567, 121.483483): 1470, (31.241242, 121.517216): 1471, (31.113675, 121.383752): 1472, (31.242837, 121.455083): 1473, (31.016211, 121.412788): 1474, (31.020849, 121.759757): 1475, (31.353624, 121.155902): 1476, (31.305114, 121.41898): 1477, (31.051162, 121.311884): 1478, (31.319422, 121.469372): 1479, (31.236177, 121.493181): 1480, (31.236926, 121.454604): 1481, (31.185044, 121.414303): 1482, (31.436148, 121.224416): 1483, (30.882016, 121.532008): 1484, (31.225477, 121.448153): 1485, (30.941552, 121.1676): 1486, (31.299183, 121.628904): 1487, (31.242365, 121.503571): 1488, (30.935837, 121.561311): 1489, (31.120602, 121.581473): 1490, (28.738742, 120.640606): 1491, (31.195887, 121.591747): 1492, (31.310235, 121.437455): 1493, (31.221705, 121.642288): 1494, (31.370243, 121.576881): 1495, (31.10346, 121.419988): 1496, (31.188258, 121.301297): 1497, (31.197573, 121.454035): 1498, (31.250767, 121.458177): 1499, (31.18078, 121.423677): 1500, (31.236828, 121.514196): 1501, (31.248657, 121.537875): 1502, (31.201279, 121.709485): 1503, (31.258321, 121.496097): 1504, (31.232095, 121.20583): 1505, (31.277632, 121.380997): 1506, (31.19927, 121.6228): 1507, (31.204763, 121.526768): 1508, (31.158515, 121.1384): 1509, (31.196602, 121.461665): 1510, (31.026816, 121.426094): 1511, (31.193686, 121.423417): 1512, (31.227762, 121.495598): 1513, (31.146285, 121.518893): 1514, (31.238561, 121.455041): 1515, (31.087224, 121.466989): 1516, (31.023241, 121.226517): 1517, (31.203513, 121.422001): 1518, (31.242261, 121.507912): 1519, (31.245242, 121.479617): 1520, (31.247009, 121.47942): 1521, (31.176998, 121.423586): 1522, (31.228047, 121.425893): 1523, (31.184951, 121.409317): 1524, (31.121996, 121.393805): 1525, (30.781759, 121.168333): 1526, (31.239437, 121.470556): 1527, (31.191674, 121.699103): 1528, (30.960478, 121.057529): 1529, (31.042348, 121.28911): 1530, (31.207125, 121.299924): 1531, (30.990942, 121.12541): 1532, (30.981236, 121.488197): 1533, (31.231468, 121.537215): 1534, (31.299291, 121.454034): 1535, (31.239763, 121.540092): 1536, (31.272659, 121.601779): 1537, (31.230109, 121.434393): 1538, (31.143681, 121.353698): 1539, (31.244701, 121.514543): 1540, (31.26905, 121.627732): 1541, (31.241739, 121.537288): 1542, (31.301877, 121.353206): 1543, (31.073061, 120.970637): 1544, (31.192397, 121.384407): 1545, (31.307142, 121.362041): 1546, (31.330908, 121.45516): 1547, (31.233516, 121.491431): 1548, (31.301954, 121.54744): 1549, (31.161027, 121.722478): 1550, (31.220809, 121.305363): 1551, (31.219656, 121.49234): 1552, (31.293762, 121.442609): 1553, (31.214741, 121.427168): 1554, (31.217315, 121.635295): 1555, (31.360948, 121.595293): 1556, (31.154875, 121.131226): 1557, (31.195131, 121.418788): 1558, (30.948258, 121.324472): 1559, (31.364338, 121.251014): 1560, (31.245569, 121.5156): 1561, (31.213397, 121.413655): 1562, (31.250428, 121.460956): 1563, (31.241223, 121.45891): 1564, (31.201009, 121.610969): 1565, (31.301105, 121.430139): 1566, (31.231068, 121.4021): 1567, (30.94469, 121.299291): 1568, (31.144653, 121.478451): 1569, (31.273045, 121.546148): 1570, (31.304538, 121.526838): 1571, (31.210354, 121.595268): 1572, (31.233674, 121.498294): 1573, (31.429482, 121.184088): 1574, (31.238815, 121.559352): 1575, (31.206958, 121.591146): 1576, (31.050344, 121.770082): 1577, (30.914669, 121.471638): 1578, (31.203019, 121.443614): 1579, (31.198113, 121.590353): 1580, (31.180043, 121.609028): 1581, (30.844717, 121.528288): 1582, (31.139255, 121.409759): 1583, (31.070388, 121.532962): 1584, (31.304081, 121.326517): 1585, (31.239474, 121.495166): 1586, (31.420803, 121.280523): 1587, (31.310089, 121.640057): 1588, (31.315501, 121.535127): 1589, (31.318389, 121.653955): 1590, (30.945561, 121.150834): 1591, (31.193771, 121.546521): 1592, (30.948533, 121.465504): 1593, (31.25863, 121.490496): 1594, (31.169796, 121.52847): 1595, (30.879349, 121.094749): 1596, (31.105352, 121.438535): 1597, (31.243213, 121.504331): 1598, (31.306637, 121.523563): 1599, (31.310614, 121.476617): 1600, (31.259739, 121.488421): 1601, (31.269951, 121.336766): 1602, (31.294215, 121.527852): 1603, (30.932543, 121.716591): 1604, (30.73407, 121.350673): 1605, (31.106759, 121.398956): 1606, (31.195877, 121.597043): 1607, (31.239726, 121.510008): 1608, (31.236531, 121.491325): 1609, (31.23271, 121.455345): 1610, (30.965531, 121.208487): 1611, (31.22656, 121.490417): 1612, (31.273966, 121.429374): 1613, (31.247971, 121.513421): 1614, (31.101868, 121.461669): 1615, (31.198799, 121.383701): 1616, (31.209934, 121.604472): 1617, (31.177291, 121.405153): 1618, (31.294834, 121.431554): 1619, (31.216472, 121.413336): 1620, (31.475425, 121.356951): 1621, (31.207094, 121.713617): 1622, (30.89577, 121.697282): 1623, (31.243039, 121.478897): 1624, (31.358748, 121.52806): 1625, (31.258629, 121.491056): 1626, (31.253808, 121.483756): 1627, (31.262032, 121.117499): 1628, (31.217968, 121.41467): 1629, (31.365408, 121.245027): 1630, (31.317584, 121.626266): 1631, (31.236599, 121.469857): 1632, (31.226773, 121.480316): 1633, (30.810888, 121.234763): 1634, (31.222272, 121.438997): 1635, (31.087108, 121.371206): 1636, (31.387389, 121.431922): 1637, (31.300545, 121.170082): 1638, (31.200783, 121.446011): 1639, (31.1171, 121.391692): 1640, (31.228956, 121.535003): 1641, (31.291192, 121.65263): 1642, (31.175943, 121.424363): 1643, (29.263844, 115.023159): 1644, (31.195709, 121.424093): 1645, (30.993285, 121.36769): 1646, (31.309645, 121.4911): 1647, (31.187384, 121.470686): 1648, (31.252241, 121.57094): 1649, (31.463063, 121.345403): 1650, (31.184347, 121.441392): 1651, (31.232268, 121.541982): 1652, (31.276718, 121.371696): 1653, (31.276315, 121.564096): 1654, (30.9269, 121.467678): 1655, (31.384186, 121.484871): 1656, (31.043159, 121.420296): 1657, (31.251358, 121.485526): 1658, (31.211617, 121.486703): 1659, (31.053198, 120.907525): 1660, (31.194364, 121.400164): 1661, (31.27369, 121.537119): 1662, (31.22132, 121.438917): 1663, (31.224854, 121.476992): 1664, (39.084494, 117.236165): 1665, (30.956486, 121.40597): 1666, (30.953548, 121.636227): 1667, (31.222328, 121.461659): 1668, (31.492988, 121.292044): 1669, (31.168853, 121.394657): 1670, (31.437104, 121.31285): 1671, (31.233112, 121.442667): 1672, (31.195623, 121.398393): 1673, (31.047975, 121.785062): 1674, (30.815977, 121.436091): 1675, (31.383625, 121.268069): 1676, (31.250826, 121.578689): 1677, (31.216788, 121.299974): 1678, (31.397749, 121.267217): 1679, (31.4189, 121.295725): 1680, (31.282066, 121.49415): 1681, (31.427978, 121.433301): 1682, (31.202912, 121.712449): 1683, (31.307215, 121.486962): 1684, (31.260348, 121.542138): 1685, (31.156365, 121.41831): 1686, (31.21882, 121.436387): 1687, (47.35092, 130.301233): 1688, (31.103599, 121.416145): 1689, (31.188332, 121.405187): 1690, (31.239454, 121.46057): 1691, (31.276982, 121.460649): 1692, (31.169703, 121.412163): 1693, (31.248117, 121.466399): 1694, (31.289793, 121.455017): 1695, (31.214059, 121.37764): 1696, (31.271472, 121.494721): 1697, (30.831429, 121.242309): 1698, (30.992078, 121.31207): 1699, (31.00953, 121.052076): 1700, (31.187829, 121.452956): 1701, (31.052253, 121.347624): 1702, (31.204343, 121.407018): 1703, (31.23537, 121.522706): 1704, (31.08705, 121.503604): 1705, (31.184426, 121.15811): 1706, (31.296226, 121.494005): 1707, (30.935029, 121.186594): 1708, (31.263678, 121.468663): 1709, (31.20901, 121.478403): 1710, (31.244292, 121.495265): 1711, (31.355364, 121.537096): 1712, (31.231035, 121.555602): 1713, (31.213061, 121.483541): 1714, (31.342336, 121.605688): 1715, (31.370336, 121.265507): 1716, (31.402828, 121.48779): 1717, (31.248429, 121.463698): 1718, (31.291773, 121.203129): 1719, (31.286501, 121.363758): 1720, (31.339843, 121.232133): 1721, (31.30048, 121.469206): 1722, (31.251161, 121.489743): 1723, (30.897457, 121.36324): 1724, (30.838466, 121.228977): 1725, (30.933573, 121.55651): 1726, (31.405792, 121.489703): 1727, (31.20414, 121.406657): 1728, (30.891109, 121.903749): 1729, (30.889377, 121.176142): 1730, (31.260888, 121.340352): 1731, (31.119806, 121.071074): 1732, (31.03732, 121.18963): 1733, (30.930023, 121.011969): 1734, (31.214193, 121.376945): 1735, (30.995864, 121.568444): 1736, (31.099126, 121.813976): 1737, (31.280452, 121.480426): 1738, (31.058805, 121.593285): 1739, (30.747936, 121.348822): 1740, (31.243709, 121.197504): 1741, (31.332214, 121.21858): 1742, (30.889354, 121.488288): 1743, (31.224539, 121.550163): 1744, (31.248325, 121.158122): 1745, (31.265321, 121.503333): 1746, (31.211395, 121.465744): 1747, (31.126339, 121.573213): 1748, (31.355885, 121.375057): 1749, (31.172866, 121.434994): 1750, (30.897459, 121.151158): 1751, (31.239804, 121.545118): 1752, (31.237635, 121.476519): 1753, (31.24583, 121.392643): 1754, (31.28915, 121.229167): 1755, (31.17939, 121.754087): 1756, (31.229203, 121.449776): 1757, (31.317284, 121.46298): 1758, (31.135275, 121.765517): 1759, (31.234787, 121.498324): 1760, (31.456227, 121.359857): 1761, (30.919873, 121.464262): 1762, (31.320829, 121.389518): 1763, (30.969483, 121.53972): 1764, (31.27688, 121.420858): 1765, (30.903117, 121.146985): 1766, (31.294598, 121.206157): 1767, (31.275801, 121.484797): 1768, (31.284086, 121.212427): 1769, (31.035283, 121.246093): 1770, (31.40369, 121.255993): 1771, (31.229071, 121.452449): 1772, (31.233452, 121.480931): 1773, (31.242078, 121.331128): 1774, (30.99055, 121.126163): 1775, (31.030657, 121.236586): 1776, (31.260165, 121.541462): 1777, (31.301584, 121.490912): 1778, (31.273767, 121.222048): 1779, (30.956973, 121.097333): 1780, (31.269535, 121.4975): 1781, (31.098359, 121.073778): 1782, (31.401391, 121.463758): 1783, (30.852916, 121.364997): 1784, (31.318438, 121.497035): 1785, (31.469563, 121.384552): 1786, (30.770905, 121.407376): 1787, (31.188181, 121.442033): 1788, (30.736314, 121.354852): 1789, (30.736093, 121.355957): 1790, (30.891482, 121.739107): 1791, (31.267673, 121.346341): 1792, (31.23909, 121.474138): 1793, (30.869886, 121.901843): 1794, (31.245183, 121.484965): 1795, (31.169494, 121.302234): 1796, (31.301233, 121.167693): 1797, (31.229191, 121.453189): 1798, (31.225831, 121.36681): 1799, (30.945306, 121.729327): 1800, (31.248836, 121.463246): 1801, (31.229094, 121.480266): 1802, (31.000658, 121.659325): 1803, (31.253206, 121.459958): 1804, (31.292661, 121.305822): 1805, (30.912581, 121.465142): 1806, (30.983162, 121.054057): 1807, (31.23095, 121.537305): 1808, (30.898595, 121.030128): 1809, (31.216528, 121.439617): 1810, (31.273024, 121.42572): 1811, (31.142218, 121.413767): 1812, (30.798179, 121.426469): 1813, (31.218516, 121.463689): 1814, (31.270785, 121.465575): 1815, (31.174304, 121.436093): 1816, (31.200428, 121.437655): 1817, (31.237789, 121.461058): 1818, (31.18674, 121.380533): 1819, (31.216092, 121.508679): 1820, (31.235982, 121.466191): 1821, (30.866941, 121.595653): 1822, (31.237221, 121.467334): 1823, (30.880562, 121.486561): 1824, (30.918205, 121.509992): 1825, (31.166663, 121.412681): 1826, (31.200249, 121.443811): 1827, (31.039411, 121.819385): 1828, (31.267858, 121.495135): 1829, (31.233617, 121.523688): 1830, (31.231663, 121.428471): 1831, (31.198273, 121.445101): 1832, (31.191818, 121.538713): 1833, (31.431346, 121.222574): 1834, (31.052986, 121.506423): 1835, (31.161066, 121.354642): 1836, (31.203911, 121.590509): 1837, (31.010467, 121.237408): 1838, (31.230671, 121.552848): 1839, (31.232395, 121.564673): 1840, (31.052413, 121.218957): 1841, (31.376717, 121.539395): 1842, (31.292699, 121.478195): 1843, (30.905367, 121.832974): 1844, (31.056596, 121.721736): 1845, (31.27495, 121.506381): 1846, (31.11447, 121.460831): 1847, (30.9152, 121.664095): 1848, (31.365012, 121.504701): 1849, (31.2676, 121.541803): 1850, (31.265604, 121.567367): 1851, (31.233051, 121.455285): 1852, (31.197573, 121.37641): 1853, (31.210579, 121.384648): 1854, (31.397562, 121.15864): 1855, (31.217249, 121.504369): 1856, (31.217162, 121.411803): 1857, (31.271819, 121.546358): 1858, (31.294378, 121.567937): 1859, (31.384742, 121.277311): 1860, (31.224758, 121.446392): 1861, (31.28823, 121.512731): 1862, (31.288572, 121.534233): 1863, (30.891157, 121.186557): 1864, (30.990721, 121.803969): 1865, (31.211846, 121.475732): 1866, (31.308523, 121.423052): 1867, (31.044697, 121.22462): 1868, (31.062583, 121.44986): 1869, (31.302288, 121.510464): 1870, (30.831909, 121.397355): 1871, (31.358732, 121.508333): 1872, (31.256595, 121.493953): 1873, (31.189, 121.431937): 1874, (31.113501, 121.393037): 1875, (31.178085, 121.409564): 1876, (31.456615, 121.221022): 1877, (30.893084, 121.252519): 1878, (31.024958, 120.918706): 1879, (31.289799, 121.455117): 1880, (31.199522, 121.44697): 1881, (31.25372, 121.437778): 1882, (31.227254, 121.402789): 1883, (31.286253, 121.531109): 1884, (31.233659, 121.565806): 1885, (31.302355, 121.515812): 1886, (31.042415, 121.482986): 1887, (31.312979, 121.545236): 1888, (30.874563, 121.067902): 1889, (31.262045, 121.446891): 1890, (31.292709, 121.497635): 1891, (31.42225, 121.355698): 1892, (30.982046, 121.207872): 1893, (31.115773, 120.907942): 1894, (31.257724, 121.595342): 1895, (31.258903, 121.441965): 1896, (31.181629, 121.510713): 1897, (31.235454, 121.172523): 1898, (31.055129, 121.770244): 1899, (31.294508, 121.537685): 1900, (30.977355, 121.74808): 1901, (30.844718, 121.256228): 1902, (31.250734, 121.487731): 1903, (31.171648, 121.110276): 1904, (31.09599, 121.238111): 1905, (31.391131, 121.251789): 1906, (31.266413, 121.351003): 1907, (30.87366, 121.082631): 1908, (31.180581, 121.527653): 1909, (31.314684, 121.522729): 1910, (31.269929, 121.453419): 1911, (30.900531, 121.399787): 1912, (31.240587, 121.402322): 1913, (31.571904, 121.158978): 1914, (32.902077, 109.42358): 1915, (31.19622, 121.468181): 1916, (31.2798, 121.459715): 1917, (31.486771, 121.360405): 1918, (31.038725, 121.464203): 1919, (31.392798, 121.246646): 1920, (31.193811, 121.373792): 1921, (31.27328, 121.47376): 1922, (31.305433, 121.435633): 1923, (31.236055, 121.434759): 1924, (31.037068, 121.686977): 1925, (31.19053, 121.445372): 1926, (30.841016, 121.482504): 1927, (31.223648, 121.467523): 1928, (31.012926, 121.423939): 1929, (31.175983, 121.381611): 1930, (31.501733, 121.334549): 1931, (31.240405, 121.569186): 1932, (31.407391, 121.490586): 1933, (31.225269, 121.491889): 1934, (31.270144, 121.354637): 1935, (31.057607, 121.030715): 1936, (31.038964, 121.2261): 1937, (31.02877, 121.456878): 1938, (31.036429, 121.324198): 1939, (31.241188, 121.483341): 1940, (31.159771, 121.58896): 1941, (31.220434, 121.408625): 1942, (31.058968, 121.787072): 1943, (31.021245, 121.226791): 1944, (31.230363, 121.5056): 1945, (31.41351, 121.367585): 1946, (31.21535, 121.46606): 1947, (30.855815, 121.311882): 1948, (31.242864, 121.426322): 1949, (30.915686, 121.462098): 1950, (31.092304, 120.912151): 1951, (31.09201, 121.395696): 1952, (31.452354, 121.33861): 1953, (31.272162, 121.459351): 1954, (31.239094, 121.519821): 1955, (31.156341, 121.512599): 1956, (31.240661, 121.512436): 1957, (31.23787, 121.543207): 1958, (31.251746, 121.488779): 1959, (31.190103, 121.485774): 1960, (31.253657, 121.443859): 1961, (31.29992, 121.669771): 1962, (31.365913, 121.177965): 1963, (31.203194, 121.46865): 1964, (31.355417, 121.263102): 1965, (31.255256, 121.500499): 1966, (34.798608, 116.090395): 1967, (31.217655, 121.534591): 1968, (31.152563, 121.460663): 1969, (31.243974, 121.555758): 1970, (30.900763, 121.246509): 1971, (31.46933, 121.246736): 1972, (31.160324, 121.508559): 1973, (31.25495, 121.739898): 1974, (31.302086, 121.510034): 1975, (31.213903, 121.410198): 1976, (31.293519, 121.22306): 1977, (31.395694, 121.391302): 1978, (31.233431, 121.471698): 1979, (31.303224, 121.308726): 1980, (31.302, 121.670498): 1981, (31.150303, 121.430423): 1982, (31.189366, 121.443482): 1983, (31.230665, 121.449046): 1984, (31.344797, 121.500999): 1985, (31.062883, 121.744224): 1986, (31.281993, 121.464732): 1987, (31.302746, 121.376994): 1988, (31.19565, 121.439802): 1989, (31.265902, 121.537589): 1990, (31.259353, 121.427018): 1991, (30.92405, 121.648972): 1992, (31.221319, 121.166272): 1993, (31.292867, 121.42296): 1994, (30.884387, 121.408648): 1995, (31.206573, 121.701043): 1996, (31.184327, 121.381012): 1997, (31.314113, 121.110731): 1998, (31.10221, 121.277743): 1999, (31.264302, 121.428277): 2000, (30.949238, 121.021134): 2001, (31.25142, 121.449186): 2002, (30.940039, 121.548407): 2003, (31.223017, 121.465143): 2004, (31.234496, 121.521516): 2005, (31.212027, 121.491516): 2006, (31.184979, 121.31046): 2007, (31.300119, 121.532041): 2008, (30.95485, 121.328077): 2009, (30.953524, 121.483682): 2010, (31.198912, 121.444187): 2011, (30.88883, 121.130607): 2012, (30.814394, 121.18284): 2013, (31.30835, 121.657013): 2014, (31.369006, 121.25552): 2015, (31.242152, 121.609858): 2016, (31.209904, 121.234203): 2017, (31.187712, 121.432106): 2018, (31.318695, 121.410448): 2019, (31.30361, 121.492602): 2020, (31.246271, 121.425156): 2021, (31.236842, 121.433815): 2022, (31.252485, 121.549613): 2023, (30.79706, 121.431713): 2024, (31.273901, 121.616429): 2025, (31.307339, 121.534119): 2026, (31.165863, 121.398738): 2027, (31.183039, 121.434356): 2028, (31.154497, 121.501351): 2029, (31.244249, 121.675329): 2030, (31.21759, 121.40829): 2031, (30.904648, 121.173227): 2032, (31.182633, 121.439015): 2033, (31.450256, 121.254671): 2034, (30.903041, 121.922883): 2035, (30.795602, 121.152307): 2036, (31.241233, 121.484727): 2037, (31.328545, 121.538592): 2038, (31.065206, 121.803371): 2039, (31.348473, 121.384381): 2040, (30.846647, 121.431405): 2041, (31.256151, 121.557845): 2042, (30.828106, 121.187081): 2043, (31.295004, 121.516367): 2044, (31.299376, 121.670896): 2045, (30.873376, 121.040678): 2046, (30.880213, 121.907656): 2047, (30.88378, 121.573239): 2048, (31.274536, 121.097082): 2049, (31.18458, 121.420921): 2050, (31.194567, 121.453929): 2051, (31.227666, 121.431017): 2052, (31.264874, 121.459338): 2053, (30.866409, 121.188512): 2054, (31.185065, 121.503655): 2055, (31.189723, 121.356104): 2056, (31.260816, 121.36983): 2057, (31.169078, 121.433389): 2058, (31.036007, 121.46539): 2059, (31.256767, 121.438713): 2060, (31.281665, 121.42621): 2061, (31.054324, 121.793035): 2062, (31.046753, 121.062205): 2063, (31.239615, 121.489026): 2064, (31.25867, 121.428896): 2065, (31.091117, 121.549904): 2066, (31.217729, 121.472441): 2067, (30.976182, 121.750557): 2068, (31.233708, 121.454373): 2069, (31.258982, 121.494994): 2070, (31.272257, 121.513471): 2071, (31.018041, 121.055413): 2072, (31.151008, 121.324166): 2073, (31.244865, 121.549508): 2074, (31.108792, 121.061126): 2075, (31.201959, 121.61095): 2076, (30.999472, 121.378674): 2077, (31.249226, 121.448568): 2078, (30.929541, 121.616421): 2079, (31.192182, 121.466139): 2080, (31.193515, 121.531662): 2081, (31.23475, 121.523857): 2082, (31.186698, 121.44855): 2083, (31.113798, 121.382691): 2084, (31.223367, 121.46595): 2085, (31.188877, 121.43412): 2086, (31.278028, 121.583992): 2087, (31.099755, 121.009542): 2088, (31.254745, 121.556081): 2089, (31.265413, 121.564718): 2090, (30.877822, 121.548349): 2091, (31.240285, 121.546323): 2092, (31.243532, 121.330166): 2093, (31.211021, 121.569582): 2094, (31.362367, 121.461011): 2095, (31.261655, 121.474716): 2096, (31.25079, 121.48933): 2097, (31.241054, 121.449606): 2098, (31.194107, 121.399831): 2099, (31.259763, 121.089338): 2100, (31.20367, 121.543991): 2101, (30.749894, 121.270796): 2102, (31.203422, 121.526246): 2103, (31.250112, 121.449922): 2104, (31.18851, 121.403115): 2105, (31.23301, 121.556388): 2106, (31.224841, 121.440899): 2107, (30.934396, 121.369499): 2108, (31.230406, 121.482326): 2109, (31.305124, 121.454071): 2110, (31.168501, 121.402505): 2111, (31.195321, 121.445546): 2112, (31.255872, 121.493382): 2113, (31.17255, 121.405133): 2114, (31.223134, 121.43817): 2115, (30.940804, 121.073937): 2116, (30.773575, 121.14093): 2117, (31.201966, 121.545756): 2118, (30.796696, 121.200272): 2119, (31.199535, 121.456715): 2120, (31.226998, 121.556375): 2121, (31.261062, 121.500145): 2122, (31.327657, 121.544364): 2123, (31.268538, 121.49713): 2124, (31.299851, 121.163211): 2125, (31.308902, 121.502016): 2126, (31.233059, 121.458379): 2127, (31.212793, 121.494061): 2128, (31.243869, 121.440506): 2129, (30.811433, 121.309343): 2130, (31.486, 121.243442): 2131, (31.0887, 121.513069): 2132, (31.284348, 121.564303): 2133, (31.245005, 121.517227): 2134, (31.432457, 121.359456): 2135, (31.267571, 121.5032): 2136, (31.240588, 121.379145): 2137, (31.209424, 121.530284): 2138, (30.86245, 121.124035): 2139, (31.338453, 121.449399): 2140, (31.161442, 121.507559): 2141, (31.447176, 121.385936): 2142, (31.233679, 121.494765): 2143, (31.152749, 121.182589): 2144, (31.278997, 121.510278): 2145, (31.215311, 121.523574): 2146, (30.979419, 121.022464): 2147, (31.216146, 121.472933): 2148, (31.301967, 121.515226): 2149, (31.238774, 121.496149): 2150, (31.246871, 121.409978): 2151, (30.967758, 121.08302): 2152, (31.293848, 121.528021): 2153, (31.222617, 121.460214): 2154, (31.200779, 121.533917): 2155, (31.303333, 121.455058): 2156, (31.231328, 121.487479): 2157, (31.299613, 121.442959): 2158, (31.170967, 121.40072): 2159, (31.294657, 121.341816): 2160, (31.043246, 120.924071): 2161, (31.177836, 121.408499): 2162, (31.209454, 121.524245): 2163, (31.228542, 121.538488): 2164, (31.182122, 121.377455): 2165, (31.267888, 121.46753): 2166, (30.806653, 121.257345): 2167, (31.421831, 121.349166): 2168, (31.259098, 121.373134): 2169, (31.234916, 121.447878): 2170, (31.246109, 121.496577): 2171, (31.197034, 121.391103): 2172, (31.232527, 121.530359): 2173, (31.332113, 121.451373): 2174, (31.234238, 121.521932): 2175, (31.232853, 121.486408): 2176, (31.378141, 121.503801): 2177, (31.058917, 121.770251): 2178, (31.28627, 121.599397): 2179, (30.916416, 121.467057): 2180, (31.236197, 121.485283): 2181, (31.242512, 121.481432): 2182, (31.126179, 121.378046): 2183, (30.975316, 121.349759): 2184, (31.294781, 121.494788): 2185, (31.039155, 121.241352): 2186, (30.87528, 121.057676): 2187, (31.21309, 121.531691): 2188, (31.2419, 121.506952): 2189, (31.246176, 121.494923): 2190, (31.060659, 121.399957): 2191, (30.874287, 121.67603): 2192, (31.419608, 121.431596): 2193, (31.348925, 121.178176): 2194, (31.218928, 121.402968): 2195, (31.030806, 121.396875): 2196, (31.24478, 121.505751): 2197, (31.172778, 121.53453): 2198, (31.283289, 121.510576): 2199, (31.311026, 121.456026): 2200, (31.045842, 121.756555): 2201, (31.233011, 121.523809): 2202, (31.237696, 121.382534): 2203, (31.234225, 121.525481): 2204, (31.25841, 121.392912): 2205, (31.343354, 121.59331): 2206, (31.264003, 121.489834): 2207, (31.054051, 121.741771): 2208, (31.237955, 121.493402): 2209, (31.276616, 121.593917): 2210, (31.045319, 121.846169): 2211, (30.867598, 121.198612): 2212, (31.283733, 121.149832): 2213, (31.206761, 121.399923): 2214, (31.297887, 121.62077): 2215, (31.244568, 121.441817): 2216, (31.200719, 121.519009): 2217, (31.382369, 121.258579): 2218, (31.238616, 121.477514): 2219, (31.234709, 121.436318): 2220, (31.041182, 121.739041): 2221, (31.006332, 121.579916): 2222, (31.210101, 121.414922): 2223, (31.244479, 121.429372): 2224, (30.97167, 121.185692): 2225, (31.39714, 121.507729): 2226, (31.163201, 121.11139): 2227, (31.243266, 121.443875): 2228, (31.250363, 121.465343): 2229, (31.307358, 121.524928): 2230, (31.003024, 121.254796): 2231, (31.220424, 121.383546): 2232, (31.15702, 121.106352): 2233, (30.735473, 121.352751): 2234, (31.228906, 121.451142): 2235, (30.948124, 121.381501): 2236, (31.373346, 121.135761): 2237, (31.129363, 121.425144): 2238, (31.37273, 121.546117): 2239, (30.841553, 121.161299): 2240, (30.889225, 121.177092): 2241, (30.793053, 121.176224): 2242, (31.29711, 121.519384): 2243, (31.139017, 121.545465): 2244, (31.260723, 121.490166): 2245, (31.24453, 121.518623): 2246, (31.340297, 121.26652): 2247, (31.030606, 121.225475): 2248, (31.294157, 121.432501): 2249, (31.236743, 121.36086): 2250, (31.375832, 121.389413): 2251, (31.386162, 121.255053): 2252, (31.227908, 121.451169): 2253, (31.238839, 121.438593): 2254, (31.283793, 121.518888): 2255, (31.149062, 121.392526): 2256, (31.111358, 121.020928): 2257, (31.075694, 121.505294): 2258, (31.206458, 121.562768): 2259, (31.061709, 121.771457): 2260, (31.243292, 121.518833): 2261, (30.259244, 120.219375): 2262, (31.260365, 121.454262): 2263, (31.234867, 121.46325): 2264, (31.261499, 121.457989): 2265, (31.270302, 121.398224): 2266, (31.242363, 121.480168): 2267, (31.233107, 121.417598): 2268, (31.254617, 121.493846): 2269, (30.923134, 121.481921): 2270, (31.111061, 121.395692): 2271, (31.264645, 121.446818): 2272, (31.256537, 121.625952): 2273, (31.245215, 121.601813): 2274, (31.198673, 121.479377): 2275, (30.918549, 121.476398): 2276, (30.867838, 121.737782): 2277, (31.219856, 121.568149): 2278, (31.139021, 121.323325): 2279, (31.203252, 121.441646): 2280, (31.278753, 121.505741): 2281, (31.063518, 121.215539): 2282, (31.424101, 121.362592): 2283, (31.239492, 121.486003): 2284, (30.940176, 121.086747): 2285, (30.929761, 121.587992): 2286, (31.336058, 121.274257): 2287, (31.391154, 121.246483): 2288, (30.975236, 121.195313): 2289, (30.85104, 121.524116): 2290, (31.246573, 121.495702): 2291, (31.085713, 120.966216): 2292, (31.238199, 121.484427): 2293, (31.174217, 121.289644): 2294, (31.198149, 121.443929): 2295, (31.285798, 121.546427): 2296, (31.233644, 121.525549): 2297, (30.875057, 121.324697): 2298, (31.289846, 121.462957): 2299, (31.217073, 121.524494): 2300, (31.038799, 121.216584): 2301, (31.404161, 121.47109): 2302, (31.236576, 121.465894): 2303, (31.242132, 121.488632): 2304, (31.239149, 121.488022): 2305, (31.190483, 121.434806): 2306, (31.242355, 121.490982): 2307, (31.190828, 121.420662): 2308, (31.373175, 121.438741): 2309, (30.802978, 121.397313): 2310, (31.278711, 121.514214): 2311, (30.7834, 121.299618): 2312, (31.199167, 121.433919): 2313, (30.846072, 121.32313): 2314, (31.261132, 121.093167): 2315, (31.253373, 121.458187): 2316, (31.209857, 121.644884): 2317, (31.195619, 121.518297): 2318, (31.251005, 121.418683): 2319, (31.26153, 121.582783): 2320, (31.045964, 121.420076): 2321, (31.277147, 121.514954): 2322, (31.2146, 121.522908): 2323, (31.185189, 121.445449): 2324, (31.216683, 121.469647): 2325, (31.186202, 121.54793): 2326, (31.063443, 121.227299): 2327, (31.258454, 121.440744): 2328, (30.978588, 121.581677): 2329, (31.146112, 121.504322): 2330, (30.924981, 121.710847): 2331, (31.278478, 121.420747): 2332, (31.183859, 121.415119): 2333, (31.247955, 121.495452): 2334, (31.288102, 121.122551): 2335, (31.18158, 121.295188): 2336, (31.186176, 121.53911): 2337, (31.287524, 121.51338): 2338, (31.253467, 121.447489): 2339, (31.267263, 121.086225): 2340, (30.881092, 121.162611): 2341, (31.198953, 121.516066): 2342, (31.258551, 121.584794): 2343, (31.039725, 121.225427): 2344, (31.256113, 121.510151): 2345, (31.269868, 121.533249): 2346, (31.138666, 121.398483): 2347, (31.290912, 121.498587): 2348, (31.250978, 121.44639): 2349, (31.235908, 121.57067): 2350, (31.178673, 121.521509): 2351, (30.889117, 121.317123): 2352, (31.2754, 121.485024): 2353, (31.201817, 121.452116): 2354, (31.087196, 121.505435): 2355, (31.246573, 121.509144): 2356, (30.899462, 121.164967): 2357, (31.119557, 121.036331): 2358, (31.238275, 121.393667): 2359, (31.317512, 121.404518): 2360, (31.107362, 121.020176): 2361, (31.243689, 121.515122): 2362, (31.173828, 121.781108): 2363, (31.242283, 121.504967): 2364, (31.404925, 121.473328): 2365, (31.030352, 120.990008): 2366, (31.156954, 121.146623): 2367, (31.218016, 121.568018): 2368, (31.280091, 121.519684): 2369, (31.012479, 121.240994): 2370, (31.251313, 121.488307): 2371, (31.180526, 121.349428): 2372, (30.975347, 121.032558): 2373, (31.19248, 121.596297): 2374, (31.257123, 121.503291): 2375, (31.265918, 121.428644): 2376, (31.197152, 121.444999): 2377, (31.223446, 121.432052): 2378, (31.231369, 121.403139): 2379, (28.812629, 115.952954): 2380, (31.213332, 121.619545): 2381, (31.012108, 121.074488): 2382, (31.211534, 121.510558): 2383, (31.0233, 121.247714): 2384, (31.212328, 121.407081): 2385, (31.295646, 121.498045): 2386, (31.350403, 121.599242): 2387, (31.24062, 121.428563): 2388, (31.152571, 121.412981): 2389, (31.248135, 121.539233): 2390, (31.223411, 121.428559): 2391, (31.188068, 121.699562): 2392, (31.193331, 121.599017): 2393, (31.236173, 121.466734): 2394, (31.228627, 121.480756): 2395, (31.240865, 121.426827): 2396, (31.50595, 121.282812): 2397, (31.299734, 121.531717): 2398, (31.238385, 121.521449): 2399, (31.234885, 121.529933): 2400, (31.202262, 121.564812): 2401, (31.214641, 121.525998): 2402, (31.31764, 121.496784): 2403, (31.229148, 121.495962): 2404, (31.177248, 121.51249): 2405, (31.417324, 121.491388): 2406, (31.243061, 121.517168): 2407, (31.140348, 121.210964): 2408, (31.249918, 121.47846): 2409, (31.216651, 121.604749): 2410, (31.193608, 121.448072): 2411, (31.298712, 121.617334): 2412, (31.044065, 121.537499): 2413, (31.191702, 121.449143): 2414, (30.991693, 121.639711): 2415, (31.210632, 121.477007): 2416, (31.235341, 121.477273): 2417, (30.90387, 121.433071): 2418, (31.209545, 121.412006): 2419, (31.241577, 121.485099): 2420, (30.918525, 121.74387): 2421, (31.235508, 121.479001): 2422, (30.918528, 121.113765): 2423, (31.290316, 121.457814): 2424, (31.240806, 121.481992): 2425, (31.27523, 121.515265): 2426, (31.128344, 121.629697): 2427, (31.039424, 121.225364): 2428, (31.430211, 121.28239): 2429, (31.223297, 121.430839): 2430, (31.179594, 121.55951): 2431, (31.307614, 121.526541): 2432, (31.320837, 121.542217): 2433, (31.239862, 121.490491): 2434, (31.263474, 121.48934): 2435, (31.268884, 121.44402): 2436, (31.084634, 120.989297): 2437, (31.258441, 121.461361): 2438, (31.228282, 121.556676): 2439, (31.251614, 121.464007): 2440, (31.410799, 121.48934): 2441, (31.249356, 121.410275): 2442, (31.243463, 121.4907): 2443, (30.956183, 121.908274): 2444, (31.192395, 121.748164): 2445, (31.222697, 121.444861): 2446, (31.252347, 121.459317): 2447, (31.142588, 121.756503): 2448, (31.226286, 121.600124): 2449, (31.159536, 121.1442): 2450, (31.103957, 121.456645): 2451, (31.213212, 121.470589): 2452, (31.242296, 121.490613): 2453, (31.239604, 121.543386): 2454, (31.3038, 121.450721): 2455, (31.276741, 121.514196): 2456, (30.983966, 121.737727): 2457, (31.225488, 121.445983): 2458, (31.195442, 121.754406): 2459, (31.236693, 121.467316): 2460, (31.194719, 121.448676): 2461, (31.25003, 121.406481): 2462, (31.010877, 121.240031): 2463, (31.225878, 121.466952): 2464, (31.231401, 121.497622): 2465, (31.242082, 121.522779): 2466, (31.200179, 121.551597): 2467, (31.17216, 121.347748): 2468, (31.154462, 121.123826): 2469, (31.215893, 121.558154): 2470, (31.267528, 121.490264): 2471, (31.214342, 121.376038): 2472, (31.139656, 121.378972): 2473, (30.910821, 121.465194): 2474, (31.32589, 121.477565): 2475, (31.243189, 121.515482): 2476, (31.24595, 121.403327): 2477, (30.902744, 121.173518): 2478, (31.326671, 121.481254): 2479, (30.721392, 121.345766): 2480, (30.879413, 121.704723): 2481, (31.23811, 121.493447): 2482, (31.30379, 121.455146): 2483, (31.234528, 121.528657): 2484, (31.304036, 121.448053): 2485, (31.21138, 121.728982): 2486, (31.180994, 121.377204): 2487, (31.012788, 121.228073): 2488, (30.908341, 121.870538): 2489, (31.136936, 121.325876): 2490, (31.229818, 121.462466): 2491, (31.154144, 121.118793): 2492, (31.292275, 121.524795): 2493, (31.201121, 121.445016): 2494, (31.217217, 121.558644): 2495, (30.735389, 121.358248): 2496, (31.37219, 121.448243): 2497, (31.235043, 121.523389): 2498, (31.233185, 121.481944): 2499, (31.325552, 121.473746): 2500, (31.235414, 121.461313): 2501, (31.241234, 121.460559): 2502, (31.200865, 121.448273): 2503, (31.333953, 121.449114): 2504, (31.191178, 121.46648): 2505, (31.304737, 121.522227): 2506, (31.204322, 121.455438): 2507, (31.034225, 121.254609): 2508, (31.237961, 121.477253): 2509, (31.212572, 121.537172): 2510, (31.230981, 121.542285): 2511, (31.272769, 121.57809): 2512, (31.289072, 121.481426): 2513, (30.901446, 121.904248): 2514, (31.348039, 121.147744): 2515, (31.332279, 121.286543): 2516, (31.234737, 121.513936): 2517, (31.21176, 121.45331): 2518, (31.415037, 121.260851): 2519, (31.197367, 121.479142): 2520, (30.990222, 121.082742): 2521, (31.227348, 121.350438): 2522, (31.264433, 121.541398): 2523, (31.287554, 121.539): 2524, (31.014893, 121.047477): 2525, (31.251094, 121.416046): 2526, (31.237596, 121.488614): 2527, (31.27726, 121.460289): 2528, (31.286523, 121.538876): 2529, (31.247703, 121.536476): 2530, (31.195086, 121.440792): 2531, (30.962059, 121.244644): 2532, (31.242608, 121.419862): 2533, (31.177667, 121.410757): 2534, (31.234845, 121.530708): 2535, (31.233983, 121.455055): 2536, (31.245938, 121.422548): 2537, (31.216555, 121.409176): 2538, (31.123026, 120.926117): 2539, (31.202226, 121.399589): 2540, (31.241765, 121.496726): 2541, (31.216462, 121.677078): 2542, (31.21245, 121.637072): 2543, (31.233151, 121.530498): 2544, (31.239575, 121.50749): 2545, (31.255167, 121.491376): 2546, (31.250145, 121.450312): 2547, (31.234093, 121.475011): 2548, (31.252588, 121.463263): 2549, (31.412391, 121.491247): 2550, (31.156361, 121.131706): 2551, (31.228956, 121.481687): 2552, (31.126748, 120.934108): 2553, (35.522852, 102.0076): 2554, (31.249854, 121.497793): 2555, (31.098201, 121.323149): 2556, (31.252686, 121.491508): 2557, (31.263879, 121.49436): 2558, (31.085245, 121.533086): 2559, (31.234688, 121.502656): 2560, (31.235631, 121.567852): 2561, (31.209881, 121.416504): 2562, (31.169908, 121.418183): 2563, (31.316634, 121.657988): 2564, (30.901012, 121.167878): 2565, (31.204601, 121.484087): 2566, (31.111986, 121.38521): 2567, (31.210053, 121.464569): 2568, (31.198268, 121.383605): 2569, (31.231339, 121.543694): 2570, (30.898128, 121.536836): 2571, (31.271321, 121.521621): 2572, (31.233733, 121.49619): 2573, (31.221688, 121.462858): 2574, (31.231316, 121.54242): 2575, (31.1917, 121.440205): 2576, (31.22626, 121.551311): 2577, (31.257486, 121.491309): 2578, (31.210579, 121.453849): 2579, (31.350476, 121.519951): 2580, (31.189816, 121.430881): 2581, (31.210598, 121.449688): 2582, (31.258745, 121.370293): 2583, (31.22978, 121.540987): 2584, (31.155379, 121.765101): 2585, (30.837343, 121.275733): 2586, (31.169488, 121.349667): 2587, (31.237479, 121.462941): 2588, (31.236742, 121.385193): 2589, (31.217037, 121.43649): 2590, (31.264405, 121.489289): 2591, (31.262782, 121.215761): 2592, (31.247026, 121.448423): 2593, (31.2106, 121.411728): 2594, (31.106411, 121.450195): 2595, (31.012822, 121.051558): 2596, (31.216682, 121.468605): 2597, (30.730943, 121.320069): 2598, (31.17446, 121.798555): 2599, (31.165389, 121.119468): 2600, (31.262311, 121.449241): 2601, (31.192457, 121.443575): 2602, (31.225663, 121.452017): 2603, (31.241184, 121.516051): 2604, (31.307814, 121.504168): 2605, (31.428157, 121.260412): 2606, (31.263574, 121.586365): 2607, (31.23423, 121.436418): 2608, (31.278145, 121.452159): 2609, (31.143835, 120.935676): 2610, (31.039823, 121.280347): 2611, (31.216154, 121.557057): 2612, (31.410254, 121.496122): 2613, (31.315405, 121.532388): 2614, (31.236431, 121.460781): 2615, (31.236369, 121.476308): 2616, (31.270571, 121.476897): 2617, (31.200668, 121.480775): 2618, (31.24672, 121.38645): 2619, (31.265994, 121.519353): 2620, (31.162111, 121.566673): 2621, (31.245488, 121.513767): 2622, (31.226708, 121.481109): 2623, (31.230405, 121.534439): 2624, (31.280003, 121.361419): 2625, (31.377094, 121.500868): 2626, (31.101299, 120.918138): 2627, (31.251619, 121.486701): 2628, (31.376534, 121.563363): 2629, (34.556383, 118.79231): 2630, (31.348329, 121.593744): 2631, (31.241131, 121.487911): 2632, (31.259841, 121.618221): 2633, (31.223721, 121.482534): 2634, (31.246782, 121.528695): 2635, (31.060813, 121.789941): 2636, (31.213561, 121.634923): 2637, (31.15562, 121.130864): 2638, (31.234221, 121.462296): 2639, (30.772261, 121.378192): 2640, (31.23522, 121.498835): 2641, (30.730789, 121.343497): 2642, (31.257157, 121.398524): 2643, (31.23976, 121.482648): 2644, (31.244438, 121.531412): 2645, (31.254863, 121.509673): 2646, (31.244007, 121.482838): 2647, (31.167412, 121.436492): 2648, (31.188145, 121.432275): 2649, (31.266108, 121.341404): 2650, (31.231749, 121.486203): 2651, (31.237667, 121.434224): 2652, (31.279258, 121.474153): 2653, (31.212716, 121.419839): 2654, (31.290878, 121.429094): 2655, (30.891706, 121.171358): 2656, (31.266483, 121.545252): 2657, (31.246433, 121.443184): 2658, (31.224551, 121.547983): 2659, (31.203225, 121.399229): 2660, (31.168688, 121.487892): 2661, (31.298418, 121.539277): 2662, (31.224391, 121.489143): 2663, (31.266646, 121.609157): 2664, (31.06954, 120.928583): 2665, (31.359987, 121.417748): 2666, (31.177098, 121.525845): 2667, (31.288044, 121.356098): 2668, (31.1823, 121.394288): 2669, (31.289528, 121.412608): 2670, (31.228895, 121.46357): 2671, (31.227864, 121.638217): 2672, (31.282019, 121.494747): 2673, (31.231701, 121.454022): 2674, (31.294732, 121.496831): 2675, (31.256654, 121.599709): 2676, (31.228634, 121.536498): 2677, (31.234888, 121.447606): 2678, (31.243738, 121.475784): 2679, (31.192935, 121.39968): 2680, (31.315817, 121.359172): 2681, (31.238392, 121.428006): 2682, (31.249067, 121.543826): 2683, (31.25316, 121.459116): 2684, (31.19708, 121.382863): 2685, (31.238453, 121.377045): 2686, (31.174223, 121.436719): 2687, (31.208476, 121.466867): 2688, (31.265578, 121.48973): 2689, (30.921604, 121.471336): 2690, (31.285418, 121.47179): 2691, (31.21684, 121.593486): 2692, (31.23626, 121.493692): 2693, (31.240905, 121.489425): 2694, (31.237926, 121.46594): 2695, (31.290758, 121.514018): 2696, (31.259135, 121.616618): 2697, (31.264332, 121.379318): 2698, (31.317987, 120.619907): 2699, (31.167195, 121.389325): 2700, (31.299433, 121.524696): 2701}\n",
            "{405.0: 121, 197.0: 18, 276.0: 23, 1378.0: 38, 198.0: 39, 1691.0: 6, 780.0: 178, 1679.0: 86, 1415.0: 17, 1339.0: 48, 1422.0: 20, 1080.0: 163, 1505.0: 100, 1304.0: 52, 872.0: 15, 847.0: 129, 271.0: 7, 24.0: 79, 1522.0: 91, 707.0: 93, 1558.0: 31, 953.0: 6, 843.0: 17, 1739.0: 9, 321.0: 84, 204.0: 94, 898.0: 77, 45.0: 50, 2308.0: 2, 2414.0: 1, 681.0: 27, 272.0: 23, 1410.0: 24, 138.0: 91, 1659.0: 4, 694.0: 273, 1714.0: 3, 766.0: 13, 1961.0: 2, 741.0: 259, 174.0: 106, 512.0: 63, 1777.0: 52, 1990.0: 5, 1222.0: 12, 612.0: 255, 59.0: 109, 1813.0: 155, 749.0: 399, 552.0: 68, 1375.0: 9, 1203.0: 92, 461.0: 101, 439.0: 160, 922.0: 78, 573.0: 92, 668.0: 149, 885.0: 26, 1281.0: 34, 1523.0: 8, 1100.0: 80, 385.0: 7, 1154.0: 11, 2203.0: 12, 409.0: 23, 169.0: 9, 1249.0: 40, 833.0: 20, 456.0: 161, 718.0: 23, 762.0: 115, 777.0: 17, 520.0: 56, 1008.0: 52, 2309.0: 3, 233.0: 2, 1188.0: 66, 829.0: 20, 242.0: 32, 1323.0: 80, 1890.0: 1, 1261.0: 7, 1600.0: 72, 697.0: 27, 602.0: 4, 614.0: 172, 920.0: 28, 1684.0: 278, 421.0: 109, 1067.0: 98, 676.0: 63, 423.0: 33, 774.0: 182, 61.0: 56, 658.0: 29, 619.0: 301, 1875.0: 37, 338.0: 50, 1551.0: 25, 1084.0: 9, 1190.0: 20, 403.0: 161, 1283.0: 10, 981.0: 26, 547.0: 67, 691.0: 52, 689.0: 131, 861.0: 40, 941.0: 71, 588.0: 185, 248.0: 241, 1967.0: 5, 744.0: 43, 746.0: 22, 2402.0: 1, 484.0: 299, 755.0: 27, 759.0: 45, 1235.0: 6, 684.0: 372, 2055.0: 2, 2042.0: 76, 1850.0: 16, 831.0: 59, 288.0: 108, 982.0: 1, 1468.0: 15, 943.0: 7, 1352.0: 13, 1417.0: 43, 544.0: 367, 593.0: 30, 724.0: 64, 1820.0: 2, 921.0: 44, 666.0: 449, 140.0: 33, 1409.0: 190, 469.0: 80, 34.0: 248, 795.0: 426, 730.0: 25, 701.0: 22, 1071.0: 26, 1294.0: 49, 212.0: 16, 656.0: 35, 252.0: 375, 758.0: 306, 35.0: 138, 597.0: 38, 205.0: 56, 1575.0: 10, 1932.0: 5, 2306.0: 13, 2347.0: 5, 561.0: 647, 404.0: 47, 60.0: 96, 735.0: 101, 1454.0: 4, 118.0: 51, 645.0: 149, 2256.0: 13, 596.0: 167, 1496.0: 1, 104.0: 251, 806.0: 3, 1767.0: 7, 190.0: 7, 22.0: 127, 2191.0: 10, 1424.0: 8, 856.0: 255, 2100.0: 11, 1031.0: 49, 838.0: 324, 929.0: 18, 539.0: 145, 986.0: 108, 430.0: 332, 556.0: 182, 1033.0: 33, 566.0: 307, 392.0: 186, 924.0: 51, 425.0: 97, 99.0: 226, 636.0: 34, 144.0: 42, 1886.0: 16, 431.0: 166, 453.0: 331, 1092.0: 19, 1429.0: 3, 1644.0: 42, 1538.0: 145, 1253.0: 60, 1870.0: 7, 98.0: 28, 2221.0: 8, 637.0: 7, 354.0: 172, 336.0: 16, 670.0: 361, 1447.0: 5, 796.0: 30, 864.0: 41, 1901.0: 16, 834.0: 7, 372.0: 363, 1061.0: 264, 845.0: 408, 688.0: 337, 944.0: 57, 563.0: 241, 1167.0: 151, 194.0: 263, 1236.0: 108, 1605.0: 279, 232.0: 667, 1086.0: 65, 1023.0: 63, 1388.0: 11, 553.0: 25, 665.0: 168, 1543.0: 5, 704.0: 5, 1619.0: 10, 1155.0: 1, 260.0: 14, 1166.0: 19, 109.0: 2, 742.0: 443, 257.0: 215, 1656.0: 144, 541.0: 566, 1933.0: 4, 2550.0: 14, 419.0: 11, 546.0: 19, 618.0: 422, 685.0: 45, 462.0: 44, 286.0: 147, 115.0: 23, 533.0: 213, 1152.0: 133, 915.0: 5, 180.0: 103, 43.0: 27, 40.0: 247, 154.0: 17, 1532.0: 31, 1530.0: 4, 410.0: 203, 1059.0: 7, 2084.0: 2, 1136.0: 61, 466.0: 24, 1272.0: 46, 299.0: 109, 1218.0: 71, 543.0: 8, 1000.0: 63, 698.0: 47, 227.0: 8, 407.0: 5, 96.0: 55, 187.0: 52, 830.0: 83, 783.0: 68, 1116.0: 15, 1882.0: 9, 101.0: 5, 1470.0: 15, 384.0: 539, 4.0: 1005, 1597.0: 190, 1629.0: 65, 1315.0: 10, 1211.0: 1, 1692.0: 53, 1553.0: 11, 804.0: 29, 64.0: 38, 160.0: 4, 1234.0: 34, 1743.0: 25, 1302.0: 37, 313.0: 129, 1096.0: 39, 896.0: 36, 1662.0: 64, 867.0: 25, 808.0: 18, 878.0: 24, 325.0: 28, 168.0: 44, 595.0: 239, 1120.0: 329, 238.0: 89, 1835.0: 38, 745.0: 14, 2066.0: 3, 1584.0: 196, 613.0: 5, 2413.0: 13, 398.0: 109, 606.0: 472, 1490.0: 23, 1887.0: 59, 764.0: 19, 471.0: 147, 16.0: 36, 1321.0: 3, 386.0: 217, 151.0: 131, 580.0: 101, 1450.0: 28, 999.0: 95, 705.0: 28, 1270.0: 78, 1297.0: 214, 575.0: 115, 708.0: 188, 445.0: 447, 555.0: 42, 2252.0: 3, 1585.0: 63, 807.0: 33, 582.0: 83, 135.0: 21, 133.0: 95, 1675.0: 7, 211.0: 39, 11.0: 317, 13.0: 437, 46.0: 27, 6.0: 17, 1197.0: 3, 1112.0: 10, 2098.0: 2, 1915.0: 125, 393.0: 544, 757.0: 186, 416.0: 220, 1157.0: 57, 621.0: 334, 231.0: 7, 363.0: 93, 47.0: 25, 176.0: 8, 164.0: 76, 1774.0: 4, 70.0: 15, 799.0: 22, 244.0: 53, 628.0: 12, 727.0: 264, 693.0: 173, 715.0: 642, 1848.0: 84, 1309.0: 12, 1489.0: 3, 1610.0: 26, 1501.0: 7, 917.0: 158, 1893.0: 11, 1611.0: 4, 44.0: 512, 8.0: 193, 1225.0: 29, 1577.0: 30, 916.0: 65, 1964.0: 4, 2429.0: 57, 810.0: 400, 500.0: 79, 1587.0: 8, 1054.0: 21, 1227.0: 5, 1400.0: 51, 1286.0: 72, 213.0: 82, 1606.0: 274, 280.0: 46, 349.0: 144, 733.0: 347, 389.0: 36, 217.0: 50, 1877.0: 3, 346.0: 290, 912.0: 28, 1920.0: 28, 1613.0: 23, 900.0: 3, 157.0: 57, 33.0: 87, 1427.0: 1, 77.0: 46, 181.0: 26, 92.0: 18, 243.0: 13, 974.0: 1, 1014.0: 2, 1392.0: 76, 818.0: 66, 1851.0: 25, 387.0: 31, 236.0: 125, 100.0: 47, 17.0: 67, 1083.0: 18, 1145.0: 225, 1165.0: 214, 282.0: 49, 279.0: 186, 816.0: 256, 564.0: 427, 1948.0: 11, 589.0: 175, 1081.0: 84, 855.0: 63, 1929.0: 26, 517.0: 82, 1212.0: 134, 1243.0: 79, 1146.0: 42, 790.0: 114, 1191.0: 140, 1528.0: 18, 604.0: 597, 590.0: 58, 1046.0: 77, 1032.0: 14, 2177.0: 1, 29.0: 33, 1547.0: 4, 509.0: 2, 2497.0: 1, 534.0: 131, 1010.0: 20, 565.0: 81, 1360.0: 24, 679.0: 144, 1338.0: 46, 576.0: 103, 449.0: 6, 1200.0: 35, 391.0: 164, 428.0: 22, 1921.0: 4, 255.0: 63, 68.0: 2, 1363.0: 37, 914.0: 6, 902.0: 9, 2194.0: 5, 983.0: 235, 1256.0: 16, 1963.0: 17, 1066.0: 186, 2363.0: 1, 710.0: 217, 417.0: 204, 692.0: 250, 792.0: 114, 832.0: 263, 1063.0: 13, 1582.0: 38, 858.0: 36, 1325.0: 63, 1425.0: 221, 2184.0: 2, 2196.0: 8, 791.0: 37, 751.0: 54, 625.0: 11, 2077.0: 28, 673.0: 22, 458.0: 34, 669.0: 17, 1833.0: 9, 341.0: 16, 883.0: 60, 152.0: 314, 510.0: 7, 889.0: 2, 972.0: 103, 891.0: 26, 726.0: 115, 1805.0: 46, 1364.0: 9, 1914.0: 2, 635.0: 200, 1124.0: 35, 315.0: 148, 1634.0: 42, 54.0: 33, 38.0: 130, 851.0: 164, 648.0: 269, 1201.0: 399, 1264.0: 48, 654.0: 344, 1838.0: 15, 1770.0: 60, 973.0: 135, 1262.0: 13, 435.0: 394, 562.0: 23, 320.0: 241, 1276.0: 32, 237.0: 47, 1260.0: 10, 1215.0: 148, 474.0: 7, 473.0: 244, 882.0: 18, 622.0: 207, 609.0: 98, 803.0: 32, 824.0: 37, 455.0: 14, 1040.0: 6, 1406.0: 59, 460.0: 8, 739.0: 355, 550.0: 258, 2240.0: 24, 2043.0: 18, 2013.0: 23, 2341.0: 2, 1139.0: 180, 1751.0: 30, 1334.0: 34, 747.0: 34, 909.0: 3, 1109.0: 122, 1130.0: 111, 1475.0: 173, 1986.0: 54, 961.0: 177, 1102.0: 6, 754.0: 44, 1195.0: 107, 574.0: 39, 959.0: 226, 1448.0: 17, 828.0: 114, 797.0: 58, 532.0: 7, 987.0: 147, 542.0: 171, 381.0: 15, 292.0: 20, 753.0: 10, 467.0: 52, 395.0: 663, 1181.0: 432, 1187.0: 15, 1108.0: 38, 1277.0: 12, 2213.0: 27, 314.0: 5, 1517.0: 30, 672.0: 45, 1733.0: 25, 343.0: 130, 355.0: 237, 364.0: 60, 2074.0: 3, 110.0: 133, 1020.0: 82, 111.0: 9, 1511.0: 163, 1399.0: 4, 931.0: 17, 162.0: 3, 1939.0: 7, 1001.0: 141, 594.0: 8, 360.0: 12, 536.0: 4, 1710.0: 13, 1947.0: 1, 537.0: 238, 373.0: 99, 538.0: 67, 1824.0: 114, 1667.0: 43, 1995.0: 95, 1273.0: 6, 1463.0: 14, 202.0: 4, 888.0: 5, 498.0: 22, 540.0: 259, 876.0: 26, 399.0: 25, 667.0: 21, 821.0: 58, 332.0: 17, 2394.0: 1, 1772.0: 8, 1398.0: 25, 815.0: 35, 703.0: 82, 1258.0: 18, 1196.0: 80, 1377.0: 63, 650.0: 21, 298.0: 46, 1280.0: 80, 894.0: 50, 121.0: 8, 2376.0: 1, 259.0: 40, 203.0: 1, 1832.0: 1, 481.0: 103, 521.0: 511, 506.0: 171, 472.0: 104, 1387.0: 26, 1162.0: 154, 188.0: 23, 173.0: 131, 2017.0: 70, 709.0: 18, 433.0: 201, 1493.0: 7, 199.0: 80, 1274.0: 7, 1680.0: 4, 74.0: 12, 717.0: 353, 142.0: 343, 1785.0: 46, 1366.0: 11, 2369.0: 5, 1503.0: 41, 2353.0: 3, 1985.0: 24, 2455.0: 11, 131.0: 87, 1869.0: 70, 75.0: 274, 67.0: 238, 1303.0: 129, 220.0: 5, 1780.0: 3, 525.0: 98, 2289.0: 6, 261.0: 42, 221.0: 20, 465.0: 202, 2392.0: 2, 1401.0: 259, 1479.0: 116, 1917.0: 7, 605.0: 80, 696.0: 213, 1179.0: 38, 1488.0: 11, 1103.0: 5, 773.0: 9, 1248.0: 22, 147.0: 44, 624.0: 199, 990.0: 28, 342.0: 6, 1440.0: 24, 451.0: 10, 230.0: 99, 494.0: 333, 992.0: 25, 1637.0: 14, 801.0: 25, 263.0: 6, 964.0: 11, 725.0: 34, 1591.0: 18, 1708.0: 22, 994.0: 32, 1069.0: 12, 1776.0: 39, 1568.0: 7, 490.0: 16, 1357.0: 8, 1638.0: 10, 722.0: 164, 1782.0: 76, 1361.0: 238, 2358.0: 32, 560.0: 177, 305.0: 11, 1645.0: 53, 1868.0: 7, 768.0: 68, 1725.0: 61, 316.0: 12, 2130.0: 13, 317.0: 9, 868.0: 222, 1789.0: 22, 186.0: 7, 2314.0: 6, 809.0: 76, 235.0: 16, 664.0: 73, 930.0: 262, 2229.0: 8, 269.0: 88, 1699.0: 8, 2264.0: 5, 1002.0: 11, 1330.0: 163, 452.0: 28, 1057.0: 9, 1730.0: 15, 784.0: 43, 2004.0: 4, 79.0: 90, 2120.0: 2, 848.0: 348, 1144.0: 1, 470.0: 123, 153.0: 25, 1676.0: 16, 206.0: 17, 655.0: 40, 400.0: 40, 1906.0: 12, 1630.0: 23, 870.0: 49, 653.0: 100, 1259.0: 5, 1608.0: 25, 291.0: 15, 579.0: 38, 312.0: 87, 603.0: 90, 1041.0: 53, 1702.0: 11, 189.0: 20, 1076.0: 20, 1316.0: 10, 2109.0: 7, 1087.0: 163, 1923.0: 7, 1966.0: 12, 1369.0: 12, 545.0: 4, 1521.0: 6, 377.0: 5, 277.0: 213, 836.0: 88, 136.0: 357, 348.0: 90, 447.0: 408, 1800.0: 5, 819.0: 14, 1205.0: 38, 254.0: 82, 1172.0: 27, 1043.0: 130, 1131.0: 17, 401.0: 26, 146.0: 15, 365.0: 69, 1390.0: 7, 951.0: 57, 1374.0: 55, 191.0: 183, 1018.0: 1, 339.0: 72, 2298.0: 64, 429.0: 28, 1052.0: 3, 955.0: 58, 935.0: 225, 1184.0: 34, 928.0: 353, 946.0: 338, 646.0: 87, 897.0: 36, 1822.0: 10, 2068.0: 44, 991.0: 31, 480.0: 359, 519.0: 475, 1992.0: 12, 996.0: 5, 414.0: 71, 1438.0: 159, 737.0: 161, 219.0: 97, 2001.0: 3, 1349.0: 95, 290.0: 169, 444.0: 11, 1434.0: 21, 814.0: 159, 967.0: 111, 1746.0: 8, 585.0: 8, 370.0: 214, 112.0: 11, 145.0: 49, 647.0: 4, 80.0: 40, 934.0: 232, 822.0: 152, 2329.0: 1, 1113.0: 6, 925.0: 1, 1257.0: 14, 1736.0: 25, 1717.0: 2, 695.0: 19, 1421.0: 6, 2083.0: 3, 1149.0: 5, 1826.0: 4, 356.0: 9, 55.0: 275, 226.0: 93, 150.0: 144, 1449.0: 42, 1171.0: 4, 779.0: 18, 599.0: 52, 1971.0: 84, 706.0: 176, 256.0: 325, 1062.0: 26, 1738.0: 20, 2067.0: 7, 450.0: 97, 559.0: 114, 1079.0: 50, 1013.0: 21, 652.0: 41, 156.0: 3, 432.0: 149, 631.0: 47, 1223.0: 19, 581.0: 150, 662.0: 25, 820.0: 231, 1050.0: 154, 886.0: 23, 1353.0: 14, 1927.0: 11, 1578.0: 163, 1762.0: 84, 1328.0: 75, 163.0: 116, 195.0: 11, 139.0: 28, 383.0: 17, 293.0: 5, 1186.0: 30, 852.0: 16, 1327.0: 5, 1478.0: 6, 985.0: 6, 1206.0: 10, 975.0: 11, 1332.0: 29, 1305.0: 14, 7.0: 74, 2.0: 4, 2589.0: 3, 1698.0: 64, 2167.0: 37, 1902.0: 54, 675.0: 111, 281.0: 2, 1903.0: 16, 1911.0: 31, 382.0: 99, 995.0: 221, 2192.0: 7, 1373.0: 3, 1988.0: 113, 1980.0: 62, 879.0: 17, 1878.0: 14, 644.0: 98, 497.0: 108, 1396.0: 59, 570.0: 22, 1962.0: 7, 1556.0: 2, 862.0: 1, 375.0: 59, 1749.0: 23, 436.0: 10, 224.0: 175, 1070.0: 6, 1842.0: 2, 223.0: 9, 225.0: 255, 1843.0: 5, 2054.0: 11, 149.0: 422, 1473.0: 11, 1376.0: 4, 1132.0: 23, 1460.0: 7, 1515.0: 113, 1331.0: 22, 2278.0: 1, 1298.0: 6, 1885.0: 3, 18.0: 74, 83.0: 18, 623.0: 282, 2348.0: 1, 102.0: 150, 712.0: 335, 108.0: 312, 443.0: 28, 776.0: 20, 1942.0: 6, 105.0: 932, 1039.0: 2, 207.0: 24, 367.0: 14, 1056.0: 3, 775.0: 16, 952.0: 149, 30.0: 183, 586.0: 6, 134.0: 146, 196.0: 275, 192.0: 26, 3.0: 114, 674.0: 32, 649.0: 7, 1107.0: 4, 1085.0: 6, 475.0: 1, 1030.0: 5, 2237.0: 10, 397.0: 62, 805.0: 31, 1804.0: 70, 273.0: 45, 607.0: 8, 1355.0: 15, 177.0: 14, 193.0: 54, 57.0: 164, 1486.0: 28, 524.0: 52, 310.0: 79, 66.0: 34, 1275.0: 56, 548.0: 149, 129.0: 217, 1643.0: 6, 1213.0: 17, 249.0: 2, 663.0: 2, 371.0: 215, 1639.0: 4, 1414.0: 5, 1341.0: 22, 143.0: 12, 1763.0: 39, 1442.0: 42, 874.0: 2, 1408.0: 136, 1051.0: 6, 2625.0: 1, 411.0: 46, 895.0: 138, 2227.0: 8, 1904.0: 13, 2059.0: 26, 1919.0: 53, 1099.0: 10, 608.0: 169, 1724.0: 88, 214.0: 152, 1214.0: 14, 1326.0: 204, 335.0: 27, 1319.0: 3, 940.0: 31, 892.0: 49, 31.0: 7, 549.0: 20, 1216.0: 83, 489.0: 84, 2188.0: 2, 528.0: 231, 583.0: 67, 86.0: 2, 87.0: 4, 2169.0: 11, 1462.0: 3, 1660.0: 10, 2367.0: 8, 1557.0: 81, 329.0: 9, 2490.0: 2, 903.0: 13, 2519.0: 29, 124.0: 21, 366.0: 147, 939.0: 254, 1443.0: 79, 721.0: 51, 1683.0: 28, 1037.0: 60, 434.0: 4, 1161.0: 8, 910.0: 422, 2473.0: 4, 2271.0: 2, 82.0: 27, 2061.0: 2, 302.0: 12, 117.0: 9, 711.0: 6, 1571.0: 1, 1207.0: 2, 331.0: 14, 2464.0: 3, 97.0: 316, 2698.0: 4, 505.0: 43, 2480.0: 2, 120.0: 3, 958.0: 24, 56.0: 16, 1625.0: 3, 1240.0: 1, 615.0: 82, 1034.0: 93, 2115.0: 128, 89.0: 31, 1029.0: 44, 1561.0: 2, 969.0: 7, 501.0: 135, 1115.0: 48, 554.0: 164, 1047.0: 1, 887.0: 24, 27.0: 48, 875.0: 76, 1892.0: 78, 1946.0: 8, 984.0: 46, 2283.0: 7, 337.0: 28, 95.0: 11, 459.0: 39, 442.0: 290, 241.0: 95, 208.0: 40, 1.0: 207, 980.0: 16, 1356.0: 117, 523.0: 355, 402.0: 480, 1110.0: 20, 1254.0: 6, 247.0: 1, 1230.0: 2, 728.0: 219, 842.0: 5, 1428.0: 72, 1640.0: 3, 1459.0: 6, 1354.0: 2, 39.0: 12, 1247.0: 15, 1336.0: 71, 1845.0: 10, 642.0: 479, 957.0: 5, 427.0: 86, 616.0: 62, 1169.0: 58, 1649.0: 4, 218.0: 46, 267.0: 4, 103.0: 57, 1545.0: 17, 881.0: 5, 2036.0: 6, 1809.0: 13, 155.0: 23, 508.0: 199, 901.0: 7, 770.0: 11, 2447.0: 14, 1168.0: 57, 841.0: 235, 998.0: 5, 406.0: 203, 945.0: 20, 535.0: 21, 1288.0: 11, 1790.0: 173, 2234.0: 2, 2262.0: 12, 52.0: 17, 1119.0: 46, 1389.0: 48, 477.0: 107, 1474.0: 80, 476.0: 18, 789.0: 7, 890.0: 141, 179.0: 30, 251.0: 13, 970.0: 25, 483.0: 154, 84.0: 67, 426.0: 33, 2048.0: 47, 1413.0: 2, 1025.0: 246, 2091.0: 17, 1741.0: 4, 1872.0: 4, 2690.0: 2, 551.0: 43, 2346.0: 1, 529.0: 3, 503.0: 190, 2494.0: 2, 1244.0: 15, 14.0: 29, 785.0: 33, 1089.0: 7, 1204.0: 3, 1646.0: 21, 1439.0: 4, 1344.0: 5, 1836.0: 3, 963.0: 12, 1866.0: 5, 468.0: 8, 344.0: 14, 1711.0: 4, 557.0: 17, 408.0: 15, 340.0: 48, 69.0: 21, 1097.0: 17, 629.0: 8, 234.0: 5, 1382.0: 144, 1420.0: 16, 526.0: 8, 2106.0: 5, 1329.0: 71, 492.0: 61, 1395.0: 32, 1335.0: 16, 1720.0: 17, 2668.0: 2, 1170.0: 17, 1477.0: 27, 750.0: 1, 1546.0: 29, 1003.0: 10, 1534.0: 28, 1300.0: 23, 793.0: 8, 294.0: 18, 85.0: 14, 514.0: 249, 661.0: 93, 1379.0: 8, 817.0: 11, 1411.0: 11, 567.0: 5, 201.0: 9, 185.0: 103, 1245.0: 2, 2148.0: 29, 1346.0: 320, 1135.0: 1, 927.0: 243, 960.0: 43, 1677.0: 30, 2138.0: 2, 1466.0: 2, 756.0: 22, 1445.0: 1, 2217.0: 1, 328.0: 11, 2052.0: 1, 36.0: 120, 1026.0: 11, 1787.0: 37, 2493.0: 2, 627.0: 5, 905.0: 14, 300.0: 21, 1943.0: 18, 1674.0: 95, 968.0: 20, 1899.0: 69, 630.0: 382, 1015.0: 10, 440.0: 77, 1849.0: 1, 1009.0: 107, 270.0: 25, 438.0: 13, 19.0: 7, 971.0: 237, 322.0: 10, 262.0: 8, 1217.0: 160, 1896.0: 5, 330.0: 10, 948.0: 40, 611.0: 9, 1467.0: 9, 23.0: 10, 51.0: 32, 988.0: 31, 826.0: 34, 788.0: 151, 2102.0: 45, 2073.0: 30, 499.0: 198, 1974.0: 19, 1220.0: 128, 128.0: 17, 993.0: 66, 866.0: 59, 311.0: 24, 2344.0: 4, 811.0: 23, 171.0: 14, 91.0: 8, 1082.0: 191, 1221.0: 5, 1642.0: 3, 1604.0: 3, 441.0: 188, 2415.0: 6, 962.0: 9, 1533.0: 4, 522.0: 68, 200.0: 16, 2312.0: 3, 1060.0: 41, 827.0: 345, 495.0: 229, 137.0: 35, 1615.0: 2, 2065.0: 3, 1202.0: 104, 1182.0: 168, 601.0: 373, 1229.0: 240, 2168.0: 26, 1090.0: 11, 266.0: 8, 1953.0: 16, 1682.0: 30, 933.0: 26, 1242.0: 170, 1779.0: 105, 743.0: 1, 1524.0: 21, 283.0: 6, 166.0: 5, 2532.0: 9, 657.0: 122, 1019.0: 319, 424.0: 58, 396.0: 81, 634.0: 68, 1570.0: 2, 1208.0: 7, 2149.0: 2, 1121.0: 14, 1194.0: 11, 1024.0: 32, 1158.0: 23, 2528.0: 40, 904.0: 33, 965.0: 72, 454.0: 27, 265.0: 8, 1589.0: 8, 572.0: 3, 761.0: 26, 1791.0: 13, 37.0: 11, 1147.0: 185, 1174.0: 91, 1727.0: 23, 1783.0: 8, 1913.0: 3, 353.0: 27, 1960.0: 5, 1537.0: 3, 640.0: 19, 1622.0: 10, 731.0: 2, 2542.0: 7, 678.0: 12, 58.0: 39, 268.0: 3, 25.0: 26, 1371.0: 11, 1088.0: 87, 2335.0: 7, 1159.0: 5, 2125.0: 4, 65.0: 271, 1423.0: 143, 2135.0: 4, 1465.0: 24, 1978.0: 13, 1671.0: 5, 1133.0: 93, 2185.0: 6, 1709.0: 2, 1011.0: 3, 2053.0: 2, 1499.0: 2, 638.0: 272, 274.0: 1, 504.0: 54, 600.0: 71, 1291.0: 56, 700.0: 3, 326.0: 202, 78.0: 57, 911.0: 238, 63.0: 14, 837.0: 155, 1549.0: 153, 1192.0: 24, 1654.0: 30, 148.0: 8, 2008.0: 50, 222.0: 15, 479.0: 4, 2286.0: 2, 507.0: 47, 1150.0: 82, 1781.0: 6, 1350.0: 30, 1290.0: 10, 1811.0: 7, 1209.0: 8, 558.0: 9, 297.0: 68, 1716.0: 9, 1742.0: 4, 1975.0: 1, 502.0: 7, 592.0: 7, 323.0: 2, 1224.0: 36, 2127.0: 17, 1118.0: 16, 239.0: 240, 1232.0: 54, 1007.0: 92, 2087.0: 2, 1164.0: 9, 736.0: 2, 1177.0: 2, 2016.0: 1, 1074.0: 195, 73.0: 23, 415.0: 6, 2675.0: 2, 932.0: 25, 1700.0: 3, 2147.0: 136, 2373.0: 4, 380.0: 30, 610.0: 236, 287.0: 277, 379.0: 25, 361.0: 27, 378.0: 7, 351.0: 37, 28.0: 151, 307.0: 12, 1391.0: 12, 284.0: 36, 1255.0: 4, 1173.0: 1, 587.0: 41, 175.0: 153, 825.0: 16, 184.0: 63, 1806.0: 10, 2024.0: 5, 1825.0: 4, 15.0: 16, 289.0: 14, 250.0: 12, 1311.0: 29, 285.0: 4, 511.0: 93, 376.0: 10, 1581.0: 3, 2456.0: 4, 2322.0: 2, 1703.0: 2, 1853.0: 1, 1857.0: 9, 1810.0: 1, 333.0: 11, 1472.0: 3, 1695.0: 64, 116.0: 12, 1048.0: 12, 72.0: 156, 1569.0: 1, 10.0: 11, 209.0: 9, 871.0: 10, 2097.0: 2, 2272.0: 20, 1269.0: 66, 1925.0: 78, 639.0: 111, 2439.0: 2, 1160.0: 31, 1333.0: 19, 159.0: 79, 5.0: 2, 12.0: 4, 1045.0: 20, 686.0: 4, 1651.0: 2, 1412.0: 338, 713.0: 13, 20.0: 4, 1831.0: 2, 53.0: 14, 2378.0: 7, 659.0: 3, 1012.0: 1, 926.0: 26, 319.0: 266, 947.0: 37, 106.0: 5, 488.0: 12, 119.0: 4, 215.0: 7, 1337.0: 1, 1126.0: 44, 1697.0: 4, 989.0: 5, 720.0: 9, 702.0: 15, 752.0: 21, 913.0: 26, 2080.0: 5, 632.0: 32, 880.0: 11, 2081.0: 2, 1383.0: 5, 1897.0: 1, 906.0: 100, 1308.0: 1, 869.0: 38, 93.0: 807, 1855.0: 10, 1219.0: 3, 1950.0: 12, 71.0: 150, 48.0: 7, 1370.0: 18, 2133.0: 1, 760.0: 65, 1004.0: 172, 374.0: 43, 598.0: 212, 2006.0: 5, 1176.0: 10, 413.0: 18, 2186.0: 3, 394.0: 21, 2428.0: 3, 1143.0: 26, 1744.0: 24, 1731.0: 2, 296.0: 8, 1792.0: 7, 1652.0: 27, 2310.0: 2, 857.0: 55, 1123.0: 55, 1005.0: 14, 1592.0: 2, 1180.0: 6, 1125.0: 16, 1653.0: 17, 2488.0: 8, 1006.0: 10, 1912.0: 9, 1105.0: 29, 1231.0: 1, 626.0: 44, 81.0: 90, 633.0: 14, 1576.0: 3, 1512.0: 1, 446.0: 58, 1973.0: 6, 1748.0: 42, 787.0: 4, 1292.0: 3, 1134.0: 1, 1803.0: 4, 942.0: 79, 765.0: 135, 418.0: 3, 1345.0: 162, 908.0: 74, 359.0: 196, 358.0: 3, 327.0: 4, 161.0: 1, 1844.0: 9, 1129.0: 30, 2201.0: 104, 1550.0: 10, 2350.0: 2, 158.0: 390, 1021.0: 2, 2090.0: 56, 1263.0: 42, 1658.0: 6, 9.0: 36, 240.0: 11, 2408.0: 1, 2157.0: 34, 1548.0: 1, 1362.0: 5, 1372.0: 70, 2343.0: 5, 2176.0: 1, 2243.0: 1, 671.0: 20, 457.0: 15, 699.0: 6, 569.0: 100, 2233.0: 10, 2450.0: 1, 1306.0: 19, 2586.0: 18, 865.0: 6, 641.0: 44, 976.0: 98, 1621.0: 17, 493.0: 109, 1860.0: 59, 1965.0: 1, 2393.0: 1, 1594.0: 2, 2403.0: 3, 530.0: 177, 1122.0: 19, 515.0: 421, 107.0: 14, 1068.0: 5, 318.0: 113, 1358.0: 39, 1865.0: 40, 732.0: 3, 167.0: 5, 2136.0: 1, 183.0: 8, 2270.0: 4, 357.0: 3, 716.0: 285, 1151.0: 28, 1252.0: 148, 977.0: 24, 1156.0: 1, 304.0: 6, 1044.0: 9, 2145.0: 3, 308.0: 34, 1347.0: 21, 309.0: 3, 324.0: 7, 253.0: 7, 835.0: 14, 719.0: 1, 2208.0: 25, 42.0: 6, 853.0: 26, 1036.0: 38, 1807.0: 58, 2521.0: 1, 2382.0: 3, 1704.0: 6, 2399.0: 2, 1657.0: 6, 2331.0: 3, 1238.0: 264, 518.0: 258, 1976.0: 4, 2695.0: 1, 877.0: 1, 1734.0: 2, 412.0: 5, 295.0: 15, 345.0: 5, 2212.0: 2, 1017.0: 2, 1761.0: 58, 1650.0: 45, 1655.0: 34, 2571.0: 2, 778.0: 40, 839.0: 62, 1786.0: 8, 388.0: 33, 1693.0: 4, 1301.0: 4, 1266.0: 123, 918.0: 8, 1993.0: 7, 687.0: 31, 216.0: 47, 2568.0: 1, 1278.0: 14, 1485.0: 6, 1498.0: 9, 1760.0: 1, 2417.0: 2, 786.0: 651, 2123.0: 1, 2179.0: 32, 1127.0: 2, 1318.0: 3, 1994.0: 1, 1183.0: 2, 907.0: 7, 1073.0: 6, 2249.0: 2, 1766.0: 5, 2032.0: 30, 1343.0: 24, 2241.0: 23, 2034.0: 2, 1138.0: 49, 884.0: 5, 1881.0: 2, 513.0: 66, 1922.0: 15, 1596.0: 65, 1871.0: 97, 1784.0: 9, 486.0: 1, 487.0: 54, 1077.0: 33, 1093.0: 1, 2122.0: 1, 1504.0: 2, 620.0: 26, 2041.0: 1, 1064.0: 23, 2287.0: 5, 1991.0: 2, 859.0: 12, 2060.0: 1, 1828.0: 21, 2062.0: 26, 1484.0: 3, 2296.0: 7, 1142.0: 7, 50.0: 11, 899.0: 7, 794.0: 3, 2116.0: 5, 1573.0: 6, 2607.0: 1, 1812.0: 15, 1393.0: 1, 1239.0: 10, 1307.0: 6, 1706.0: 12, 2251.0: 1, 2040.0: 2, 1987.0: 1, 1446.0: 3, 2039.0: 4, 229.0: 3, 1128.0: 2, 860.0: 1, 2444.0: 1, 2023.0: 86, 2667.0: 4, 1856.0: 17, 2683.0: 4, 1163.0: 2, 2356.0: 1, 1670.0: 4, 369.0: 7, 516.0: 61, 2257.0: 15, 2361.0: 15, 2075.0: 1, 2316.0: 1, 578.0: 3, 1038.0: 19, 1889.0: 6, 1834.0: 26, 246.0: 4, 2088.0: 6, 2383.0: 2, 1404.0: 15, 740.0: 106, 1402.0: 46, 1141.0: 7, 1514.0: 3, 591.0: 37, 769.0: 3, 1647.0: 2, 1471.0: 196, 1955.0: 1, 680.0: 2, 1519.0: 5, 1098.0: 2, 32.0: 4, 1198.0: 2, 1935.0: 1, 2030.0: 3, 390.0: 4, 823.0: 3, 182.0: 105, 1628.0: 7, 1745.0: 1, 301.0: 12, 94.0: 86, 734.0: 1, 949.0: 5, 2685.0: 2, 782.0: 11, 210.0: 28, 2151.0: 3, 771.0: 14, 683.0: 7, 2152.0: 1, 1542.0: 2, 306.0: 33, 1509.0: 2, 2549.0: 2, 2440.0: 1, 1359.0: 2, 2139.0: 11, 1111.0: 1, 1989.0: 12, 863.0: 19, 88.0: 22, 1035.0: 1, 950.0: 12, 2379.0: 2, 264.0: 5, 531.0: 21, 966.0: 4, 437.0: 21, 1525.0: 52, 873.0: 1, 303.0: 1, 1199.0: 97, 464.0: 1, 2198.0: 1, 1880.0: 5, 114.0: 24, 2000.0: 4, 463.0: 71, 1516.0: 1, 1574.0: 1, 2642.0: 1, 347.0: 6, 1981.0: 1, 1603.0: 2, 1284.0: 4, 1314.0: 118, 2421.0: 6, 123.0: 27, 2144.0: 55, 1310.0: 2, 1342.0: 5, 2108.0: 11, 1381.0: 81, 1340.0: 12, 1432.0: 3, 849.0: 9, 2554.0: 2, 2565.0: 3, 1322.0: 3, 568.0: 1, 802.0: 4, 1433.0: 18, 893.0: 3, 763.0: 1, 491.0: 1, 2357.0: 61, 2636.0: 4, 122.0: 2, 1750.0: 6, 840.0: 17, 1491.0: 17, 1884.0: 1, 1228.0: 4, 368.0: 12, 1185.0: 22, 1719.0: 1, 2163.0: 1, 2282.0: 2, 2056.0: 2, 798.0: 2, 2294.0: 1, 448.0: 46, 781.0: 53, 1042.0: 2, 125.0: 10, 478.0: 4, 165.0: 12, 170.0: 2, 1713.0: 45, 2103.0: 4, 1476.0: 2, 228.0: 9, 1529.0: 9, 1661.0: 2, 682.0: 27, 923.0: 4, 748.0: 29, 1827.0: 3, 1452.0: 93, 1879.0: 2, 2419.0: 2, 1563.0: 5, 2460.0: 2, 2292.0: 1, 1951.0: 1, 422.0: 2, 1894.0: 1, 1801.0: 2, 1544.0: 1, 2418.0: 2, 1764.0: 138, 49.0: 24, 1296.0: 50, 2003.0: 16, 178.0: 80, 1614.0: 25, 936.0: 1, 1055.0: 29, 1669.0: 9, 1075.0: 4, 2126.0: 1, 2216.0: 1, 850.0: 2, 1689.0: 24, 1193.0: 2, 2183.0: 17, 1049.0: 44, 2451.0: 1, 1769.0: 4, 1058.0: 17, 1279.0: 4, 1094.0: 3, 2332.0: 4, 1226.0: 142, 2441.0: 1, 2057.0: 29, 1616.0: 2, 1930.0: 2, 2121.0: 6, 571.0: 10, 2267.0: 4, 1983.0: 2, 2105.0: 160, 1380.0: 1, 2049.0: 1, 978.0: 2, 937.0: 136, 21.0: 1, 1715.0: 4, 979.0: 1, 1909.0: 1, 1968.0: 1, 1788.0: 1, 1819.0: 11, 2248.0: 1, 278.0: 1, 2079.0: 23, 1867.0: 1, 1623.0: 14, 1106.0: 8, 1027.0: 21, 1635.0: 5, 2205.0: 1, 1541.0: 46, 690.0: 2, 1313.0: 1, 1444.0: 1, 1482.0: 173, 2349.0: 1, 2365.0: 49, 1696.0: 3, 2235.0: 8, 90.0: 2, 2506.0: 2, 2012.0: 30, 2544.0: 3, 1940.0: 1, 2334.0: 1, 2255.0: 1, 172.0: 1, 1295.0: 1, 2276.0: 6, 2211.0: 5, 1435.0: 21, 812.0: 222, 1775.0: 4, 997.0: 1, 1065.0: 3, 1189.0: 3, 76.0: 1, 2224.0: 10, 2671.0: 2, 1531.0: 5, 1944.0: 14, 113.0: 2, 1583.0: 52, 2681.0: 2, 1934.0: 2, 723.0: 1, 1153.0: 1, 2352.0: 25, 1510.0: 1, 1053.0: 4, 1237.0: 2, 2173.0: 5, 1483.0: 8, 1668.0: 26, 2337.0: 2, 617.0: 2, 1091.0: 1, 2564.0: 1, 2470.0: 2, 1095.0: 3, 130.0: 1, 1665.0: 3, 2385.0: 2, 1567.0: 33, 919.0: 63, 1293.0: 4}\n",
            "1972\n",
            "2698.0\n",
            "min number of connections for each class 1 2414.0\n",
            "max number of connections for each class 1005 4.0\n"
          ]
        },
        {
          "output_type": "display_data",
          "data": {
            "text/plain": [
              "<Figure size 640x480 with 1 Axes>"
            ],
            "image/png": "[encoded data removed]"
          },
          "metadata": {}
        }
      ]
    },
    {
      "cell_type": "markdown",
      "source": [
        "# XGBoost Approach"
      ],
      "metadata": {
        "id": "la6oh-00LxD4"
      }
    },
    {
      "cell_type": "code",
      "source": [
        "import xgboost as xgb\n",
        "from sklearn.preprocessing import LabelEncoder"
      ],
      "metadata": {
        "id": "oEoCaV7OLBmY"
      },
      "execution_count": null,
      "outputs": []
    },
    {
      "cell_type": "code",
      "source": [
        "\n",
        "# inputs = [inp.tolist() for inp in inputs]\n",
        "# outputs = [out.tolist() for out in outputs]\n",
        "print(inputs[0])\n",
        "print(outputs[0])\n",
        "X_train, X_test, y_train, y_test = train_test_split(inputs, outputs, test_size=0.3, random_state=1)\n",
        "label_encoder = LabelEncoder()\n",
        "y_train_encoded = label_encoder.fit_transform(y_train)\n",
        "y_test_encoded = label_encoder.fit_transform(y_test)"
      ],
      "metadata": {
        "id": "zINuSgqbMD8X",
        "colab": {
          "base_uri": "https://localhost:8080/"
        },
        "outputId": "08f314d3-430f-4a83-ef0e-8e6141045b9e"
      },
      "execution_count": null,
      "outputs": [
        {
          "output_type": "stream",
          "name": "stdout",
          "text": [
            "tensor([ 0.0000e+00, -2.6449e-02,  8.2146e-02,  5.2800e+02,  6.0000e+00,\n",
            "         1.0000e+00,  2.0000e+00,  3.7000e+01,  7.0000e+00, -2.7597e-01,\n",
            "         2.6717e-01])\n",
            "tensor(874)\n"
          ]
        }
      ]
    },
    {
      "cell_type": "code",
      "source": [
        "parameters = {'max_depth': 3, 'colsample_bytree': 0.8, 'eta': 0.01, 'subsample': 1.0, 'alpha': 0, 'lambda': 1, 'min_child_weight': 5}\n",
        "\n",
        "# model = xgb.XGBRegressor(**parameters)\n",
        "model = xgb.XGBClassifier(max_depth=3, eta=0.01, subsample=1.0, alpha=0, min_child_weight=5,  colsample_bytree=0.8, gpu_id=0)\n",
        "print(model)\n",
        "\n",
        "model.fit(X_train, y_train_encoded)\n",
        "\n",
        "score = model.score(X_test, y_test_encoded)\n",
        "print(\"score: \",score)\n",
        "# cv_scores = cross_val_score(model, X_train, y_train_encoded, cv=5)\n",
        "# print(\"cross score: \",cv_scores)\n",
        "\n",
        "#Predict the next position\n",
        "y_pred = model.predict(X_test)\n",
        "\n",
        "#Evaluate the model\n",
        "print(\"Accuracy:\", metrics.accuracy_score(y_test_encoded, y_pred))"
      ],
      "metadata": {
        "id": "eZLG_8xU2vif",
        "outputId": "ab21783a-d4a8-415d-8ef3-9eec5c5651b5",
        "colab": {
          "base_uri": "https://localhost:8080/"
        }
      },
      "execution_count": null,
      "outputs": [
        {
          "output_type": "stream",
          "name": "stdout",
          "text": [
            "XGBClassifier(alpha=0, base_score=None, booster=None, callbacks=None,\n",
            "              colsample_bylevel=None, colsample_bynode=None,\n",
            "              colsample_bytree=0.8, device=None, early_stopping_rounds=None,\n",
            "              enable_categorical=False, eta=0.01, eval_metric=None,\n",
            "              feature_types=None, gamma=None, gpu_id=0, grow_policy=None,\n",
            "              importance_type=None, interaction_constraints=None,\n",
            "              learning_rate=None, max_bin=None, max_cat_threshold=None,\n",
            "              max_cat_to_onehot=None, max_delta_step=None, max_depth=3,\n",
            "              max_leaves=None, min_child_weight=5, missing=nan,\n",
            "              monotone_constraints=None, multi_strategy=None, n_estimators=None, ...)\n"
          ]
        },
        {
          "output_type": "stream",
          "name": "stderr",
          "text": [
            "/usr/local/lib/python3.10/dist-packages/xgboost/core.py:160: UserWarning: [10:47:53] WARNING: /workspace/src/common/error_msg.cc:45: `gpu_id` is deprecated since2.0.0, use `device` instead. E.g. device=cpu/cuda/cuda:0\n",
            "  warnings.warn(smsg, UserWarning)\n",
            "/usr/local/lib/python3.10/dist-packages/xgboost/core.py:160: UserWarning: [10:47:53] WARNING: /workspace/src/context.cc:44: No visible GPU is found, setting device to CPU.\n",
            "  warnings.warn(smsg, UserWarning)\n"
          ]
        },
        {
          "output_type": "stream",
          "name": "stdout",
          "text": [
            "score:  0.006807481867922127\n",
            "Accuracy: 0.006807481867922127\n"
          ]
        }
      ]
    },
    {
      "cell_type": "code",
      "source": [
        "#Encode the target\n",
        "\n",
        "\n",
        "#go to GPU\n",
        "# X_train = X_train.to('cuda')\n",
        "# X_test = X_test.to('cuda')\n",
        "# y_train_encoded = torch.tensor(y_train_encoded).to('cuda')\n",
        "# y_test_encoded = torch.tensor(y_test_encoded).to('cuda')\n",
        "#Search for the best parameters\n",
        "# 'max_depth': [3, 4, 5, 6, 7, 8, 9, 10],\n",
        "# 'learning_rate': [0.05, 0.1, 0.15, 0.2],\n",
        "# 'n_estimators': [100, 200, 300, 400, 500],\n",
        "# 'gamma': [0, 0.1, 0.2, 0.3, 0.4],\n",
        "# 'min_child_weight': [1, 2, 3, 4, 5]\n",
        "# parameters = {'max_depth': [30, 40, 50, 60, 70, 80, 90, 100], 'learning_rate': [0.05, 0.1, 0.15, 0.2], 'n_estimators': [50, 70, 100, 130, 170], 'gamma': [0, 0.1, 0.2, 0.3, 0.4], 'min_child_weight': [5, 10, 20, 30, 40]}\n",
        "parameters = {'max_depth': [10, 20], 'learning_rate': [0.1, 0.2], 'n_estimators': [50, 70, 100], 'gamma': [0.2, 0.3, 0.4], 'min_child_weight': [10, 5]}\n",
        "# parameters = {'max_depth': [10, 20], 'learning_rate': [0.1, 0.2], 'n_estimators': [30, 50, 10], 'gamma': [0.2], 'min_child_weight': [10, 5]}\n",
        "\n",
        "best_score = -1\n",
        "\n",
        "for max_depth in parameters['max_depth']:\n",
        "    for learning_rate in parameters['learning_rate']:\n",
        "        for n_estimators in parameters['n_estimators']:\n",
        "            for gamma in parameters['gamma']:\n",
        "                for min_child_weight in parameters['min_child_weight']:\n",
        "                    model = xgb.XGBClassifier(max_depth=max_depth, learning_rate=learning_rate, n_estimators=n_estimators, gamma=gamma, min_child_weight=min_child_weight, eta = 0.005,  gpu_id=0) #, gpu_id=0\n",
        "                    model.fit(X_train, y_train_encoded)\n",
        "                    score = model.score(X_test, y_test_encoded)\n",
        "                    print(score)\n",
        "                    if score > best_score:\n",
        "                        best_score = score\n",
        "                        best_parameters = {'max_depth': max_depth, 'learning_rate': learning_rate, 'n_estimators': n_estimators, 'gamma': gamma, 'min_child_weight': min_child_weight}\n",
        "\n",
        "print(\"best score: \",best_score)\n",
        "print(best_parameters)\n",
        "# cv_scores = cross_val_score(model, X_train, y_train_encoded, cv=5)\n",
        "print(\"cross score: \",cv_scores)\n",
        "\n",
        "#Predict the next position\n",
        "y_pred = model.predict(X_test)\n",
        "\n",
        "#Evaluate the model\n",
        "print(\"Accuracy:\", metrics.accuracy_score(y_test_encoded, y_pred))"
      ],
      "metadata": {
        "id": "R-25EdbFMF0i",
        "outputId": "0eda04ad-07db-43a3-f4e3-756241d9f1bf",
        "colab": {
          "base_uri": "https://localhost:8080/",
          "height": 1000
        }
      },
      "execution_count": null,
      "outputs": [
        {
          "output_type": "stream",
          "name": "stderr",
          "text": [
            "/usr/local/lib/python3.10/dist-packages/xgboost/core.py:160: UserWarning: [12:07:09] WARNING: /workspace/src/common/error_msg.cc:45: `gpu_id` is deprecated since2.0.0, use `device` instead. E.g. device=cpu/cuda/cuda:0\n",
            "  warnings.warn(smsg, UserWarning)\n",
            "/usr/local/lib/python3.10/dist-packages/xgboost/core.py:160: UserWarning: [12:07:09] WARNING: /workspace/src/context.cc:44: No visible GPU is found, setting device to CPU.\n",
            "  warnings.warn(smsg, UserWarning)\n"
          ]
        },
        {
          "output_type": "stream",
          "name": "stdout",
          "text": [
            "0.008525257666369766\n"
          ]
        },
        {
          "output_type": "stream",
          "name": "stderr",
          "text": [
            "/usr/local/lib/python3.10/dist-packages/xgboost/core.py:160: UserWarning: [12:15:00] WARNING: /workspace/src/context.cc:44: No visible GPU is found, setting device to CPU.\n",
            "  warnings.warn(smsg, UserWarning)\n"
          ]
        },
        {
          "output_type": "stream",
          "name": "stdout",
          "text": [
            "0.010115790813080545\n"
          ]
        },
        {
          "output_type": "stream",
          "name": "stderr",
          "text": [
            "/usr/local/lib/python3.10/dist-packages/xgboost/core.py:160: UserWarning: [12:23:17] WARNING: /workspace/src/context.cc:44: No visible GPU is found, setting device to CPU.\n",
            "  warnings.warn(smsg, UserWarning)\n"
          ]
        },
        {
          "output_type": "stream",
          "name": "stdout",
          "text": [
            "0.008270772362896042\n"
          ]
        },
        {
          "output_type": "stream",
          "name": "stderr",
          "text": [
            "/usr/local/lib/python3.10/dist-packages/xgboost/core.py:160: UserWarning: [12:30:51] WARNING: /workspace/src/context.cc:44: No visible GPU is found, setting device to CPU.\n",
            "  warnings.warn(smsg, UserWarning)\n"
          ]
        },
        {
          "output_type": "stream",
          "name": "stdout",
          "text": [
            "0.009861305509606821\n"
          ]
        },
        {
          "output_type": "stream",
          "name": "stderr",
          "text": [
            "/usr/local/lib/python3.10/dist-packages/xgboost/core.py:160: UserWarning: [12:39:51] WARNING: /workspace/src/context.cc:44: No visible GPU is found, setting device to CPU.\n",
            "  warnings.warn(smsg, UserWarning)\n"
          ]
        },
        {
          "output_type": "stream",
          "name": "stdout",
          "text": [
            "0.008461636340501335\n"
          ]
        },
        {
          "output_type": "stream",
          "name": "stderr",
          "text": [
            "/usr/local/lib/python3.10/dist-packages/xgboost/core.py:160: UserWarning: [12:47:34] WARNING: /workspace/src/context.cc:44: No visible GPU is found, setting device to CPU.\n",
            "  warnings.warn(smsg, UserWarning)\n"
          ]
        },
        {
          "output_type": "stream",
          "name": "stdout",
          "text": [
            "0.009861305509606821\n"
          ]
        },
        {
          "output_type": "stream",
          "name": "stderr",
          "text": [
            "/usr/local/lib/python3.10/dist-packages/xgboost/core.py:160: UserWarning: [12:55:51] WARNING: /workspace/src/context.cc:44: No visible GPU is found, setting device to CPU.\n",
            "  warnings.warn(smsg, UserWarning)\n"
          ]
        },
        {
          "output_type": "stream",
          "name": "stdout",
          "text": [
            "0.009161470925054078\n"
          ]
        },
        {
          "output_type": "stream",
          "name": "stderr",
          "text": [
            "/usr/local/lib/python3.10/dist-packages/xgboost/core.py:160: UserWarning: [13:06:18] WARNING: /workspace/src/context.cc:44: No visible GPU is found, setting device to CPU.\n",
            "  warnings.warn(smsg, UserWarning)\n"
          ]
        },
        {
          "output_type": "stream",
          "name": "stdout",
          "text": [
            "0.010115790813080545\n"
          ]
        },
        {
          "output_type": "stream",
          "name": "stderr",
          "text": [
            "/usr/local/lib/python3.10/dist-packages/xgboost/core.py:160: UserWarning: [13:18:16] WARNING: /workspace/src/context.cc:44: No visible GPU is found, setting device to CPU.\n",
            "  warnings.warn(smsg, UserWarning)\n"
          ]
        },
        {
          "output_type": "stream",
          "name": "stdout",
          "text": [
            "0.009352334902659371\n"
          ]
        },
        {
          "output_type": "stream",
          "name": "stderr",
          "text": [
            "/usr/local/lib/python3.10/dist-packages/xgboost/core.py:160: UserWarning: [13:28:58] WARNING: /workspace/src/context.cc:44: No visible GPU is found, setting device to CPU.\n",
            "  warnings.warn(smsg, UserWarning)\n"
          ]
        },
        {
          "output_type": "stream",
          "name": "stdout",
          "text": [
            "0.0104338974424227\n"
          ]
        },
        {
          "output_type": "stream",
          "name": "stderr",
          "text": [
            "/usr/local/lib/python3.10/dist-packages/xgboost/core.py:160: UserWarning: [13:41:21] WARNING: /workspace/src/context.cc:44: No visible GPU is found, setting device to CPU.\n",
            "  warnings.warn(smsg, UserWarning)\n"
          ]
        },
        {
          "output_type": "error",
          "ename": "KeyboardInterrupt",
          "evalue": "",
          "traceback": [
            "\u001b[0;31m---------------------------------------------------------------------------\u001b[0m",
            "\u001b[0;31mKeyboardInterrupt\u001b[0m                         Traceback (most recent call last)",
            "\u001b[0;32m<ipython-input-10-fd5e016d6aca>\u001b[0m in \u001b[0;36m<cell line: 21>\u001b[0;34m()\u001b[0m\n\u001b[1;32m     25\u001b[0m                 \u001b[0;32mfor\u001b[0m \u001b[0mmin_child_weight\u001b[0m \u001b[0;32min\u001b[0m \u001b[0mparameters\u001b[0m\u001b[0;34m[\u001b[0m\u001b[0;34m'min_child_weight'\u001b[0m\u001b[0;34m]\u001b[0m\u001b[0;34m:\u001b[0m\u001b[0;34m\u001b[0m\u001b[0;34m\u001b[0m\u001b[0m\n\u001b[1;32m     26\u001b[0m                     \u001b[0mmodel\u001b[0m \u001b[0;34m=\u001b[0m \u001b[0mxgb\u001b[0m\u001b[0;34m.\u001b[0m\u001b[0mXGBClassifier\u001b[0m\u001b[0;34m(\u001b[0m\u001b[0mmax_depth\u001b[0m\u001b[0;34m=\u001b[0m\u001b[0mmax_depth\u001b[0m\u001b[0;34m,\u001b[0m \u001b[0mlearning_rate\u001b[0m\u001b[0;34m=\u001b[0m\u001b[0mlearning_rate\u001b[0m\u001b[0;34m,\u001b[0m \u001b[0mn_estimators\u001b[0m\u001b[0;34m=\u001b[0m\u001b[0mn_estimators\u001b[0m\u001b[0;34m,\u001b[0m \u001b[0mgamma\u001b[0m\u001b[0;34m=\u001b[0m\u001b[0mgamma\u001b[0m\u001b[0;34m,\u001b[0m \u001b[0mmin_child_weight\u001b[0m\u001b[0;34m=\u001b[0m\u001b[0mmin_child_weight\u001b[0m\u001b[0;34m,\u001b[0m \u001b[0meta\u001b[0m \u001b[0;34m=\u001b[0m \u001b[0;36m0.005\u001b[0m\u001b[0;34m,\u001b[0m  \u001b[0mgpu_id\u001b[0m\u001b[0;34m=\u001b[0m\u001b[0;36m0\u001b[0m\u001b[0;34m)\u001b[0m \u001b[0;31m#, gpu_id=0\u001b[0m\u001b[0;34m\u001b[0m\u001b[0;34m\u001b[0m\u001b[0m\n\u001b[0;32m---> 27\u001b[0;31m                     \u001b[0mmodel\u001b[0m\u001b[0;34m.\u001b[0m\u001b[0mfit\u001b[0m\u001b[0;34m(\u001b[0m\u001b[0mX_train\u001b[0m\u001b[0;34m,\u001b[0m \u001b[0my_train_encoded\u001b[0m\u001b[0;34m)\u001b[0m\u001b[0;34m\u001b[0m\u001b[0;34m\u001b[0m\u001b[0m\n\u001b[0m\u001b[1;32m     28\u001b[0m                     \u001b[0mscore\u001b[0m \u001b[0;34m=\u001b[0m \u001b[0mmodel\u001b[0m\u001b[0;34m.\u001b[0m\u001b[0mscore\u001b[0m\u001b[0;34m(\u001b[0m\u001b[0mX_test\u001b[0m\u001b[0;34m,\u001b[0m \u001b[0my_test_encoded\u001b[0m\u001b[0;34m)\u001b[0m\u001b[0;34m\u001b[0m\u001b[0;34m\u001b[0m\u001b[0m\n\u001b[1;32m     29\u001b[0m                     \u001b[0mprint\u001b[0m\u001b[0;34m(\u001b[0m\u001b[0mscore\u001b[0m\u001b[0;34m)\u001b[0m\u001b[0;34m\u001b[0m\u001b[0;34m\u001b[0m\u001b[0m\n",
            "\u001b[0;32m/usr/local/lib/python3.10/dist-packages/xgboost/core.py\u001b[0m in \u001b[0;36minner_f\u001b[0;34m(*args, **kwargs)\u001b[0m\n\u001b[1;32m    728\u001b[0m             \u001b[0;32mfor\u001b[0m \u001b[0mk\u001b[0m\u001b[0;34m,\u001b[0m \u001b[0marg\u001b[0m \u001b[0;32min\u001b[0m \u001b[0mzip\u001b[0m\u001b[0;34m(\u001b[0m\u001b[0msig\u001b[0m\u001b[0;34m.\u001b[0m\u001b[0mparameters\u001b[0m\u001b[0;34m,\u001b[0m \u001b[0margs\u001b[0m\u001b[0;34m)\u001b[0m\u001b[0;34m:\u001b[0m\u001b[0;34m\u001b[0m\u001b[0;34m\u001b[0m\u001b[0m\n\u001b[1;32m    729\u001b[0m                 \u001b[0mkwargs\u001b[0m\u001b[0;34m[\u001b[0m\u001b[0mk\u001b[0m\u001b[0;34m]\u001b[0m \u001b[0;34m=\u001b[0m \u001b[0marg\u001b[0m\u001b[0;34m\u001b[0m\u001b[0;34m\u001b[0m\u001b[0m\n\u001b[0;32m--> 730\u001b[0;31m             \u001b[0;32mreturn\u001b[0m \u001b[0mfunc\u001b[0m\u001b[0;34m(\u001b[0m\u001b[0;34m**\u001b[0m\u001b[0mkwargs\u001b[0m\u001b[0;34m)\u001b[0m\u001b[0;34m\u001b[0m\u001b[0;34m\u001b[0m\u001b[0m\n\u001b[0m\u001b[1;32m    731\u001b[0m \u001b[0;34m\u001b[0m\u001b[0m\n\u001b[1;32m    732\u001b[0m         \u001b[0;32mreturn\u001b[0m \u001b[0minner_f\u001b[0m\u001b[0;34m\u001b[0m\u001b[0;34m\u001b[0m\u001b[0m\n",
            "\u001b[0;32m/usr/local/lib/python3.10/dist-packages/xgboost/sklearn.py\u001b[0m in \u001b[0;36mfit\u001b[0;34m(self, X, y, sample_weight, base_margin, eval_set, eval_metric, early_stopping_rounds, verbose, xgb_model, sample_weight_eval_set, base_margin_eval_set, feature_weights, callbacks)\u001b[0m\n\u001b[1;32m   1517\u001b[0m             )\n\u001b[1;32m   1518\u001b[0m \u001b[0;34m\u001b[0m\u001b[0m\n\u001b[0;32m-> 1519\u001b[0;31m             self._Booster = train(\n\u001b[0m\u001b[1;32m   1520\u001b[0m                 \u001b[0mparams\u001b[0m\u001b[0;34m,\u001b[0m\u001b[0;34m\u001b[0m\u001b[0;34m\u001b[0m\u001b[0m\n\u001b[1;32m   1521\u001b[0m                 \u001b[0mtrain_dmatrix\u001b[0m\u001b[0;34m,\u001b[0m\u001b[0;34m\u001b[0m\u001b[0;34m\u001b[0m\u001b[0m\n",
            "\u001b[0;32m/usr/local/lib/python3.10/dist-packages/xgboost/core.py\u001b[0m in \u001b[0;36minner_f\u001b[0;34m(*args, **kwargs)\u001b[0m\n\u001b[1;32m    728\u001b[0m             \u001b[0;32mfor\u001b[0m \u001b[0mk\u001b[0m\u001b[0;34m,\u001b[0m \u001b[0marg\u001b[0m \u001b[0;32min\u001b[0m \u001b[0mzip\u001b[0m\u001b[0;34m(\u001b[0m\u001b[0msig\u001b[0m\u001b[0;34m.\u001b[0m\u001b[0mparameters\u001b[0m\u001b[0;34m,\u001b[0m \u001b[0margs\u001b[0m\u001b[0;34m)\u001b[0m\u001b[0;34m:\u001b[0m\u001b[0;34m\u001b[0m\u001b[0;34m\u001b[0m\u001b[0m\n\u001b[1;32m    729\u001b[0m                 \u001b[0mkwargs\u001b[0m\u001b[0;34m[\u001b[0m\u001b[0mk\u001b[0m\u001b[0;34m]\u001b[0m \u001b[0;34m=\u001b[0m \u001b[0marg\u001b[0m\u001b[0;34m\u001b[0m\u001b[0;34m\u001b[0m\u001b[0m\n\u001b[0;32m--> 730\u001b[0;31m             \u001b[0;32mreturn\u001b[0m \u001b[0mfunc\u001b[0m\u001b[0;34m(\u001b[0m\u001b[0;34m**\u001b[0m\u001b[0mkwargs\u001b[0m\u001b[0;34m)\u001b[0m\u001b[0;34m\u001b[0m\u001b[0;34m\u001b[0m\u001b[0m\n\u001b[0m\u001b[1;32m    731\u001b[0m \u001b[0;34m\u001b[0m\u001b[0m\n\u001b[1;32m    732\u001b[0m         \u001b[0;32mreturn\u001b[0m \u001b[0minner_f\u001b[0m\u001b[0;34m\u001b[0m\u001b[0;34m\u001b[0m\u001b[0m\n",
            "\u001b[0;32m/usr/local/lib/python3.10/dist-packages/xgboost/training.py\u001b[0m in \u001b[0;36mtrain\u001b[0;34m(params, dtrain, num_boost_round, evals, obj, feval, maximize, early_stopping_rounds, evals_result, verbose_eval, xgb_model, callbacks, custom_metric)\u001b[0m\n\u001b[1;32m    179\u001b[0m         \u001b[0;32mif\u001b[0m \u001b[0mcb_container\u001b[0m\u001b[0;34m.\u001b[0m\u001b[0mbefore_iteration\u001b[0m\u001b[0;34m(\u001b[0m\u001b[0mbst\u001b[0m\u001b[0;34m,\u001b[0m \u001b[0mi\u001b[0m\u001b[0;34m,\u001b[0m \u001b[0mdtrain\u001b[0m\u001b[0;34m,\u001b[0m \u001b[0mevals\u001b[0m\u001b[0;34m)\u001b[0m\u001b[0;34m:\u001b[0m\u001b[0;34m\u001b[0m\u001b[0;34m\u001b[0m\u001b[0m\n\u001b[1;32m    180\u001b[0m             \u001b[0;32mbreak\u001b[0m\u001b[0;34m\u001b[0m\u001b[0;34m\u001b[0m\u001b[0m\n\u001b[0;32m--> 181\u001b[0;31m         \u001b[0mbst\u001b[0m\u001b[0;34m.\u001b[0m\u001b[0mupdate\u001b[0m\u001b[0;34m(\u001b[0m\u001b[0mdtrain\u001b[0m\u001b[0;34m,\u001b[0m \u001b[0mi\u001b[0m\u001b[0;34m,\u001b[0m \u001b[0mobj\u001b[0m\u001b[0;34m)\u001b[0m\u001b[0;34m\u001b[0m\u001b[0;34m\u001b[0m\u001b[0m\n\u001b[0m\u001b[1;32m    182\u001b[0m         \u001b[0;32mif\u001b[0m \u001b[0mcb_container\u001b[0m\u001b[0;34m.\u001b[0m\u001b[0mafter_iteration\u001b[0m\u001b[0;34m(\u001b[0m\u001b[0mbst\u001b[0m\u001b[0;34m,\u001b[0m \u001b[0mi\u001b[0m\u001b[0;34m,\u001b[0m \u001b[0mdtrain\u001b[0m\u001b[0;34m,\u001b[0m \u001b[0mevals\u001b[0m\u001b[0;34m)\u001b[0m\u001b[0;34m:\u001b[0m\u001b[0;34m\u001b[0m\u001b[0;34m\u001b[0m\u001b[0m\n\u001b[1;32m    183\u001b[0m             \u001b[0;32mbreak\u001b[0m\u001b[0;34m\u001b[0m\u001b[0;34m\u001b[0m\u001b[0m\n",
            "\u001b[0;32m/usr/local/lib/python3.10/dist-packages/xgboost/core.py\u001b[0m in \u001b[0;36mupdate\u001b[0;34m(self, dtrain, iteration, fobj)\u001b[0m\n\u001b[1;32m   2049\u001b[0m         \u001b[0;32mif\u001b[0m \u001b[0mfobj\u001b[0m \u001b[0;32mis\u001b[0m \u001b[0;32mNone\u001b[0m\u001b[0;34m:\u001b[0m\u001b[0;34m\u001b[0m\u001b[0;34m\u001b[0m\u001b[0m\n\u001b[1;32m   2050\u001b[0m             _check_call(\n\u001b[0;32m-> 2051\u001b[0;31m                 _LIB.XGBoosterUpdateOneIter(\n\u001b[0m\u001b[1;32m   2052\u001b[0m                     \u001b[0mself\u001b[0m\u001b[0;34m.\u001b[0m\u001b[0mhandle\u001b[0m\u001b[0;34m,\u001b[0m \u001b[0mctypes\u001b[0m\u001b[0;34m.\u001b[0m\u001b[0mc_int\u001b[0m\u001b[0;34m(\u001b[0m\u001b[0miteration\u001b[0m\u001b[0;34m)\u001b[0m\u001b[0;34m,\u001b[0m \u001b[0mdtrain\u001b[0m\u001b[0;34m.\u001b[0m\u001b[0mhandle\u001b[0m\u001b[0;34m\u001b[0m\u001b[0;34m\u001b[0m\u001b[0m\n\u001b[1;32m   2053\u001b[0m                 )\n",
            "\u001b[0;31mKeyboardInterrupt\u001b[0m: "
          ]
        }
      ]
    },
    {
      "cell_type": "markdown",
      "source": [
        "# GRU"
      ],
      "metadata": {
        "id": "HKtluODb1CLv"
      }
    },
    {
      "cell_type": "code",
      "source": [
        "import numpy as np\n",
        "from sklearn.preprocessing import MinMaxScaler\n",
        "from tensorflow.keras.preprocessing.sequence import pad_sequences\n",
        "from sklearn.model_selection import train_test_split\n",
        "\n",
        "# Séparation des données par utilisateur et organisation en séquences temporelles\n",
        "user_sequences = {}\n",
        "for entry in inputs_with_pos_id_user_id_target:\n",
        "    user_id, position, time = entry[0], entry[1::2], entry[2::2]\n",
        "    if user_id not in user_sequences:\n",
        "        user_sequences[user_id] = []\n",
        "    user_sequences[user_id].append((position, time))\n",
        "\n",
        "# Normalisation des données\n",
        "scaler = MinMaxScaler()\n",
        "for user_id, sequences in user_sequences.items():\n",
        "    positions = [pos for seq in sequences for pos in seq[0]]\n",
        "    times = [time for seq in sequences for time in seq[1]]\n",
        "    positions_scaled = scaler.fit_transform(np.array(positions).reshape(-1, 1))\n",
        "    times_scaled = scaler.fit_transform(np.array(times).reshape(-1, 1))\n",
        "    user_sequences[user_id] = [(positions_scaled[i], times_scaled[i]) for i in range(len(positions_scaled))]\n",
        "\n",
        "# Padding des séquences\n",
        "max_sequence_length = max(len(seq) for seq in user_sequences.values())\n",
        "for user_id, sequences in user_sequences.items():\n",
        "    padded_sequences = pad_sequences(sequences, maxlen=max_sequence_length, padding='post', dtype='float32')\n",
        "\n",
        "# Encodage des séquences (si nécessaire)\n",
        "\n",
        "# Fractionnement des données\n",
        "train_data, val_data, test_data = {}, {}, {}\n",
        "for user_id, sequences in user_sequences.items():\n",
        "    train_size = int(0.7 * len(sequences))\n",
        "    val_size = int(0.15 * len(sequences))\n",
        "    train_data[user_id] = sequences[:train_size]\n",
        "    val_data[user_id] = sequences[train_size:train_size+val_size]\n",
        "    test_data[user_id] = sequences[train_size+val_size:]\n"
      ],
      "metadata": {
        "id": "t24nQ6zkMSyD"
      },
      "execution_count": null,
      "outputs": []
    }
  ],
  "metadata": {
    "colab": {
      "collapsed_sections": [
        "f5D9IoBtGX6R",
        "dDvAwpD4GrJu",
        "S_mzoE-MHqLa",
        "ptycyS7FWE4b",
        "3Bbp1dVXWQs3",
        "zZpbR8rG8kBn"
      ],
      "machine_shape": "hm",
      "provenance": [],
      "gpuType": "T4",
      "include_colab_link": true
    },
    "kernelspec": {
      "display_name": "Python 3",
      "name": "python3"
    },
    "language_info": {
      "name": "python"
    }
  },
  "nbformat": 4,
  "nbformat_minor": 0
}